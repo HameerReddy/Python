{
 "cells": [
  {
   "cell_type": "code",
   "execution_count": 11,
   "id": "0a8b8348",
   "metadata": {},
   "outputs": [
    {
     "name": "stdout",
     "output_type": "stream",
     "text": [
      "[10, 20, 30, 40, 50, 60, 70, 80, 90, 20]\n"
     ]
    }
   ],
   "source": [
    "'''79. l=[10,20,30,[40,50,60],70,[80,90,20]]. \n",
    "    Convert this list as single dimensional list\n",
    "'''\n",
    "l=[10,20,30,[40,50,60],70,[80,90,20]]\n",
    "l1 = []\n",
    "val = -1\n",
    "for i in l:\n",
    "    if type(i) is list:\n",
    "        for j in i:\n",
    "            l1.append(j)\n",
    "    else:\n",
    "        l1.append(i)\n",
    "print(l1)"
   ]
  },
  {
   "cell_type": "code",
   "execution_count": 5,
   "id": "bc4956d5",
   "metadata": {},
   "outputs": [],
   "source": [
    "l1.insert?\n"
   ]
  },
  {
   "cell_type": "code",
   "execution_count": 3,
   "id": "9de10cc5",
   "metadata": {},
   "outputs": [
    {
     "name": "stdout",
     "output_type": "stream",
     "text": [
      "['__add__', '__class__', '__contains__', '__delattr__', '__delitem__', '__dir__', '__doc__', '__eq__', '__format__', '__ge__', '__getattribute__', '__getitem__', '__gt__', '__hash__', '__iadd__', '__imul__', '__init__', '__init_subclass__', '__iter__', '__le__', '__len__', '__lt__', '__mul__', '__ne__', '__new__', '__reduce__', '__reduce_ex__', '__repr__', '__reversed__', '__rmul__', '__setattr__', '__setitem__', '__sizeof__', '__str__', '__subclasshook__', 'append', 'clear', 'copy', 'count', 'extend', 'index', 'insert', 'pop', 'remove', 'reverse', 'sort']\n"
     ]
    }
   ],
   "source": [
    "print(dir(l))"
   ]
  },
  {
   "cell_type": "code",
   "execution_count": 19,
   "id": "0cb641b8",
   "metadata": {},
   "outputs": [
    {
     "name": "stdout",
     "output_type": "stream",
     "text": [
      "Enter a string: Google\n",
      "{'G': 1, 'o': 2, 'g': 1, 'l': 1, 'e': 1}\n",
      "Count of 'G' is: '1'\n",
      "Count of 'o' is: '2'\n",
      "Count of 'g' is: '1'\n",
      "Count of 'l' is: '1'\n",
      "Count of 'e' is: '1'\n"
     ]
    }
   ],
   "source": [
    "'''80. input: \"Google\" print count of each character\n",
    "'''\n",
    "s = input(\"Enter a string: \")\n",
    "d = dict()\n",
    "for i in s:\n",
    "    d[i] = s.count(i)    \n",
    "print(d)\n",
    "for i in d:\n",
    "    print(f\"Count of '{i}' is: '{d[i]}'\")"
   ]
  },
  {
   "cell_type": "code",
   "execution_count": 20,
   "id": "5d5f9354",
   "metadata": {},
   "outputs": [
    {
     "data": {
      "text/plain": [
       "'81. Convert n dimensional list to single dimensional list.\\n'"
      ]
     },
     "execution_count": 20,
     "metadata": {},
     "output_type": "execute_result"
    }
   ],
   "source": [
    "'''81. Convert n dimensional list to single dimensional list.\n",
    "'''\n",
    "\n",
    "\n"
   ]
  },
  {
   "cell_type": "code",
   "execution_count": 21,
   "id": "c837eb5b",
   "metadata": {},
   "outputs": [],
   "source": [
    "'''82. l=[1,2,3] just make it as a string.\n",
    "'''\n",
    "l=[1,2,3] \n",
    "\n",
    "\n"
   ]
  },
  {
   "cell_type": "code",
   "execution_count": 22,
   "id": "4bbff3e4",
   "metadata": {},
   "outputs": [
    {
     "data": {
      "text/plain": [
       "'83. \\n'"
      ]
     },
     "execution_count": 22,
     "metadata": {},
     "output_type": "execute_result"
    }
   ],
   "source": [
    "'''83. \n",
    "'''\n",
    "\n",
    "\n"
   ]
  },
  {
   "cell_type": "code",
   "execution_count": 23,
   "id": "bd3c4527",
   "metadata": {},
   "outputs": [
    {
     "data": {
      "text/plain": [
       "'84. \\n'"
      ]
     },
     "execution_count": 23,
     "metadata": {},
     "output_type": "execute_result"
    }
   ],
   "source": [
    "'''84. \n",
    "'''\n",
    "\n",
    "\n"
   ]
  },
  {
   "cell_type": "code",
   "execution_count": 24,
   "id": "6b50ff69",
   "metadata": {},
   "outputs": [
    {
     "data": {
      "text/plain": [
       "'85. \\n'"
      ]
     },
     "execution_count": 24,
     "metadata": {},
     "output_type": "execute_result"
    }
   ],
   "source": [
    "'''85. \n",
    "'''\n",
    "\n",
    "\n"
   ]
  },
  {
   "cell_type": "code",
   "execution_count": null,
   "id": "a8873aef",
   "metadata": {},
   "outputs": [],
   "source": []
  }
 ],
 "metadata": {
  "kernelspec": {
   "display_name": "Python 3",
   "language": "python",
   "name": "python3"
  },
  "language_info": {
   "codemirror_mode": {
    "name": "ipython",
    "version": 3
   },
   "file_extension": ".py",
   "mimetype": "text/x-python",
   "name": "python",
   "nbconvert_exporter": "python",
   "pygments_lexer": "ipython3",
   "version": "3.8.8"
  }
 },
 "nbformat": 4,
 "nbformat_minor": 5
}
