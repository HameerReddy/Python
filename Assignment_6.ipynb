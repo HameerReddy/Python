{
 "cells": [
  {
   "cell_type": "code",
   "execution_count": 2,
   "id": "4526f4d8",
   "metadata": {},
   "outputs": [
    {
     "name": "stdout",
     "output_type": "stream",
     "text": [
      "enter the hard disk size in Giga Bytes (GB): 1\n",
      "In the standard of a kilobyte being 1,024 bytes\n",
      "The distance in Mega Bytes (MB) is:  1024.0\n",
      "The distance in Kilo Bytes (KB) is:  1048576.0\n",
      "The distance in Tera Bytes (TB) is:  0.0009765625\n",
      "The distance in Bytes (PB)is:  9.5367431640625e-07\n",
      "In the standard of a kilobyte being 1,000 bytes\n",
      "The distance in Mega Bytes (MB) is:  1000.0\n",
      "The distance in Kilo Bytes (KB) is:  1000000.0\n",
      "The distance in Tera Bytes (TB) is:  0.001\n",
      "The distance in Bytes (PB)is:  1e-06\n"
     ]
    }
   ],
   "source": [
    "d= float(input(\"enter the hard disk size in Giga Bytes (GB): \"))\n",
    "print(\"In the standard of a kilobyte being 1,024 bytes\")\n",
    "mb=d*1024 # in Mega Bytes (MB) \n",
    "print(\"The distance in Mega Bytes (MB) is: \", mb)\n",
    "kb=d*1024*1024 # in Kilo Bytes (KB) \n",
    "print(\"The distance in Kilo Bytes (KB) is: \", kb)\n",
    "tb=d/1024 # in Tera Bytes (TB) \n",
    "print(\"The distance in Tera Bytes (TB) is: \", tb)\n",
    "pb=(d/1024)/1024 ## in Mega Bytes (PB) \n",
    "print(\"The distance in Bytes (PB)is: \", pb)\n",
    "\n",
    "\n",
    "print(\"In the standard of a kilobyte being 1,000 bytes\")\n",
    "mb=d*1000 # in Mega Bytes (MB) \n",
    "print(\"The distance in Mega Bytes (MB) is: \", mb)\n",
    "kb=d*1000*1000 # in Kilo Bytes (KB) \n",
    "print(\"The distance in Kilo Bytes (KB) is: \", kb)\n",
    "tb=d/1000 # in Tera Bytes (TB) \n",
    "print(\"The distance in Tera Bytes (TB) is: \", tb)\n",
    "pb=(d/1000)/1000 ## in Mega Bytes (PB) \n",
    "print(\"The distance in Bytes (PB)is: \", pb)\n"
   ]
  },
  {
   "cell_type": "code",
   "execution_count": null,
   "id": "963935f9",
   "metadata": {},
   "outputs": [],
   "source": []
  }
 ],
 "metadata": {
  "kernelspec": {
   "display_name": "Python 3",
   "language": "python",
   "name": "python3"
  },
  "language_info": {
   "codemirror_mode": {
    "name": "ipython",
    "version": 3
   },
   "file_extension": ".py",
   "mimetype": "text/x-python",
   "name": "python",
   "nbconvert_exporter": "python",
   "pygments_lexer": "ipython3",
   "version": "3.8.8"
  }
 },
 "nbformat": 4,
 "nbformat_minor": 5
}
