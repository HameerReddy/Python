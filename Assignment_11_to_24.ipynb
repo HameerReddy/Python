{
 "cells": [
  {
   "cell_type": "code",
   "execution_count": 2,
   "id": "46f2a0cc",
   "metadata": {},
   "outputs": [
    {
     "name": "stdout",
     "output_type": "stream",
     "text": [
      "Kinds of mobiles available in the store are as follows: \n",
      " \t1. Android\n",
      " \t2. Windows\n",
      "\t3. Mac\n",
      " \t4. All other tabs\n",
      "Enter the option: \n",
      " \t1-> For Android device.\n",
      " \t2-> For Windows device\n",
      " \t3-> For Mac device\n",
      " \t4-> For all other devices\n",
      "Please enter an option from the above list:a\n",
      "Sorry. We are not providing service for the given selection.\n"
     ]
    }
   ],
   "source": [
    "# Class assignment\n",
    "\"\"\"\n",
    "Print a Menu\n",
    "Kinds of mobiles available in the store\n",
    "    1. Android\n",
    "    2. Windows\n",
    "    2. Mac\n",
    "    4. All tabs\n",
    "Enter an option: 1-> goto second floor; 2-> goto first floor; 3-> goto third floor; 4-> select in the ground floor;\n",
    "if they enter any other number or char: We are not providing service for the selection\n",
    "\"\"\"\n",
    "print(\"Kinds of mobiles available in the store are as follows: \\n \\t1. Android\\n \\t2. Windows\\n\\t3. Mac\\n \\t4. All other tabs\\nEnter the option: \\n \\t1-> For Android device.\\n \\t2-> For Windows device\\n \\t3-> For Mac device\\n \\t4-> For all other devices\")\n",
    "s= input(\"Please enter an option from the above list:\")\n",
    "if s in [\"1\", \"2\", \"3\", \"4\"]:\n",
    "    if s == \"1\":\n",
    "        print(\"Please goto first floor.\")\n",
    "    elif s == \"2\":\n",
    "        print(\"Please goto second floor.\")\n",
    "    elif s == \"3\":\n",
    "        print(\"Please goto third floor.\")\n",
    "    elif s == \"4\":\n",
    "        print(\"Please goto ground floor.\")\n",
    "else:\n",
    "    print(\"Sorry. We are not providing service for the given selection.\")\n"
   ]
  },
  {
   "cell_type": "code",
   "execution_count": 44,
   "id": "62719881",
   "metadata": {},
   "outputs": [
    {
     "name": "stdout",
     "output_type": "stream",
     "text": [
      "Enter the base of the expression: 2\n",
      "Enter the exponent of the expression: 3\n",
      "2\\u00b3 <class 'str'>\n",
      "2³ <class 'str'>\n"
     ]
    }
   ],
   "source": [
    "# 11. take base and exponent value from the user and print like in mathematics:\n",
    "# example: base=2, exponent=3: 23\n",
    "# Use: 2\\u00b3\n",
    "base = (input(\"Enter the base of the expression: \"))\n",
    "exponent = (input(\"Enter the exponent of the expression: \"))\n",
    "#print(f\"{base}\\N{superscript exponent}\")\n",
    "#print(\"x\\u00b5 + y\\u00b2 = 2\")\n",
    "s1= base+\"\\\\\"+\"u00b\"+exponent\n",
    "\n",
    "#s=\"%d\\u00b%d\"%(base)\n",
    "print(s1, type(s1))\n",
    "s2=\"2\\u00b3\"\n",
    "print(s2, type(s2))"
   ]
  },
  {
   "cell_type": "code",
   "execution_count": 35,
   "id": "e8d0c152",
   "metadata": {},
   "outputs": [
    {
     "data": {
      "text/plain": [
       "'2³'"
      ]
     },
     "execution_count": 35,
     "metadata": {},
     "output_type": "execute_result"
    }
   ],
   "source": [
    "\n",
    "f'2\\N{SUPERSCRIPT THREE}'"
   ]
  },
  {
   "cell_type": "code",
   "execution_count": 37,
   "id": "5ca3df0e",
   "metadata": {},
   "outputs": [
    {
     "ename": "SyntaxError",
     "evalue": "invalid syntax (<fstring>, line 1)",
     "output_type": "error",
     "traceback": [
      "\u001b[1;36m  File \u001b[1;32m\"<fstring>\"\u001b[1;36m, line \u001b[1;32m1\u001b[0m\n\u001b[1;33m    (SUPERSCRIPT 3)\u001b[0m\n\u001b[1;37m                 ^\u001b[0m\n\u001b[1;31mSyntaxError\u001b[0m\u001b[1;31m:\u001b[0m invalid syntax\n"
     ]
    }
   ],
   "source": [
    "f'2_{SUPERSCRIPT 3}'"
   ]
  },
  {
   "cell_type": "code",
   "execution_count": 7,
   "id": "73cba595",
   "metadata": {},
   "outputs": [
    {
     "name": "stdout",
     "output_type": "stream",
     "text": [
      "enter the number of types for the groceries: 5\n",
      "enter the cost of item 1: 6\n",
      "enter the cost of item 2: 4\n",
      "enter the cost of item 3: 5\n",
      "enter the cost of item 4: 3\n",
      "enter the cost of item 5: 2\n",
      "The costs of the groceries are:  [6.0, 4.0, 5.0, 3.0, 2.0]\n",
      "Total cost is 20.0.\n",
      "Average cost is 4.0.\n",
      "Minimum cost is 2.0.\n",
      "Maximum cost is 6.0.\n"
     ]
    }
   ],
   "source": [
    "# 12. Take some groceries cost prices and print total cost and average cost,\n",
    "# what is the max cost, what is the minimum cost.\n",
    "\n",
    "num = int(input(\"enter the number of types for the groceries: \"))\n",
    "cost = list()\n",
    "total_cost = float()\n",
    "for i in range(num):\n",
    "    cost.append(float(input(f\"enter the cost of item {i+1}: \")))\n",
    "    total_cost += cost[i]\n",
    "\n",
    "avg_cost = total_cost/num\n",
    "print(\"The costs of the groceries are: \", cost)\n",
    "print(f\"Total cost is {total_cost}.\")\n",
    "print(f\"Average cost is {avg_cost}.\")\n",
    "print(f\"Minimum cost is {min(cost)}.\")\n",
    "print(f\"Maximum cost is {max(cost)}.\")"
   ]
  },
  {
   "cell_type": "code",
   "execution_count": 9,
   "id": "55b94bd2",
   "metadata": {},
   "outputs": [
    {
     "name": "stdout",
     "output_type": "stream",
     "text": [
      "Enter a number:10\n",
      "Variable is Ten\n"
     ]
    }
   ],
   "source": [
    "\"\"\"13. Assign “ten” value to variable it is 10 otherwise assign “Not ten”\n",
    "       Note: write two versions of program\n",
    "\tVersion1: use and operator\n",
    "\tVersion2: use or operator \n",
    "    \"\"\"\n",
    "num = int(input(\"Enter a number:\"))\n",
    "if num == 10:\n",
    "    var = \"Ten\"\n",
    "else: \n",
    "    var = \"Not Ten\"\n",
    "\n",
    "print(\"Variable is\", var)\n",
    "        \n"
   ]
  },
  {
   "cell_type": "code",
   "execution_count": 11,
   "id": "5c7c0336",
   "metadata": {},
   "outputs": [
    {
     "name": "stdout",
     "output_type": "stream",
     "text": [
      "enter the number of people: 150\n",
      "enter the number of busses avalable: 3\n",
      "enter the number of seats avalable in a bus: 30\n",
      "enter how many people can be adjusted in each bus: 5\n",
      "Sufficient busses are not available.\n",
      "We require 2 additional busses.\n"
     ]
    }
   ],
   "source": [
    "\"\"\"\n",
    "13.\tTake the input from the user for(Total number of people, total number of \n",
    "buses, Number of seats for bus, adjust factor). Based on four inputs\n",
    "Decide whether there is sufficient buses or not and give solution for \n",
    "how many extra buses required.\n",
    "\"\"\"\n",
    "no_of_people=int(input(\"enter the number of people: \"))\n",
    "no_of_bus=int(input(\"enter the number of busses avalable: \"))\n",
    "no_of_seats=int(input(\"enter the number of seats avalable in a bus: \"))\n",
    "adj_fact=float(input(\"enter how many people can be adjusted in each bus: \"))\n",
    "seats = no_of_seats + adj_fact\n",
    "total_seats = seats * no_of_bus\n",
    "if total_seats >= no_of_people:\n",
    "    print(\"The available busses are sufficient. No new busses required\")\n",
    "\n",
    "if total_seats < no_of_people:\n",
    "    print(\"Sufficient busses are not available.\")\n",
    "    extr_people = no_of_people - total_seats\n",
    "    c=extr_people/seats\n",
    "    import math as math\n",
    "    c=math.ceil(c)\n",
    "    print(f\"We require {c} additional busses.\")\n",
    "    \n",
    "    "
   ]
  },
  {
   "cell_type": "code",
   "execution_count": 19,
   "id": "bcac14a7",
   "metadata": {},
   "outputs": [
    {
     "name": "stdout",
     "output_type": "stream",
     "text": [
      "Enter a number:11\n",
      "ODD Number\n"
     ]
    }
   ],
   "source": [
    "\"\"\"14.Take number from the user decide whether it is even or odd.\"\"\"\n",
    "num = int(input(\"Enter a number:\"))\n",
    "print(\"EVEN Number\") if (num%2) == 0 else print(\"ODD Number\")\n"
   ]
  },
  {
   "cell_type": "code",
   "execution_count": null,
   "id": "ecb655ed",
   "metadata": {},
   "outputs": [],
   "source": []
  }
 ],
 "metadata": {
  "kernelspec": {
   "display_name": "Python 3",
   "language": "python",
   "name": "python3"
  },
  "language_info": {
   "codemirror_mode": {
    "name": "ipython",
    "version": 3
   },
   "file_extension": ".py",
   "mimetype": "text/x-python",
   "name": "python",
   "nbconvert_exporter": "python",
   "pygments_lexer": "ipython3",
   "version": "3.8.8"
  }
 },
 "nbformat": 4,
 "nbformat_minor": 5
}
