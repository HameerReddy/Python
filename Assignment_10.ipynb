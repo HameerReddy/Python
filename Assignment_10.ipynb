{
 "cells": [
  {
   "cell_type": "code",
   "execution_count": 17,
   "id": "ecd122b5",
   "metadata": {},
   "outputs": [
    {
     "name": "stdout",
     "output_type": "stream",
     "text": [
      "enter the number of alphabets you want to convert: 10\n",
      "Enter letter 1:A\n",
      "Enter letter 2:B\n",
      "Enter letter 3:C\n",
      "Enter letter 4:D\n",
      "Enter letter 5:E\n",
      "Enter letter 6:a\n",
      "Enter letter 7:b\n",
      "Enter letter 8:c\n",
      "Enter letter 9:d\n",
      "Enter letter 10:e\n",
      "the letter 1 in lower case is a\n",
      "the letter 2 in lower case is b\n",
      "the letter 3 in lower case is c\n",
      "the letter 4 in lower case is d\n",
      "the letter 5 in lower case is e\n",
      "the letter 6 in lower case is a\n",
      "the letter 7 in lower case is b\n",
      "the letter 8 in lower case is c\n",
      "the letter 9 in lower case is d\n",
      "the letter 10 in lower case is e\n"
     ]
    }
   ],
   "source": [
    "a=[]\n",
    "num = input(\"enter the number of alphabets you want to convert: \")\n",
    "num = int(num) + 1\n",
    "for i in range(1, num):\n",
    "    a.append(input(f\"Enter letter {i}:\"))\n",
    "\n",
    "for i in range(1,num):\n",
    "    b = a[i-1]\n",
    "    print(f\"the letter {i} in lower case is {b.lower()}\")\n"
   ]
  },
  {
   "cell_type": "code",
   "execution_count": null,
   "id": "9cc2557f",
   "metadata": {},
   "outputs": [],
   "source": []
  }
 ],
 "metadata": {
  "kernelspec": {
   "display_name": "Python 3",
   "language": "python",
   "name": "python3"
  },
  "language_info": {
   "codemirror_mode": {
    "name": "ipython",
    "version": 3
   },
   "file_extension": ".py",
   "mimetype": "text/x-python",
   "name": "python",
   "nbconvert_exporter": "python",
   "pygments_lexer": "ipython3",
   "version": "3.8.8"
  }
 },
 "nbformat": 4,
 "nbformat_minor": 5
}
