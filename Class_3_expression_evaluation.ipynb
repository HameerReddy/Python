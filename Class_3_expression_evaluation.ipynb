{
 "cells": [
  {
   "cell_type": "code",
   "execution_count": 2,
   "id": "37800d4d",
   "metadata": {},
   "outputs": [
    {
     "name": "stdout",
     "output_type": "stream",
     "text": [
      "22.0\n"
     ]
    }
   ],
   "source": [
    "res=10+20/5*3 # BODAMAS rule\n",
    "#10+4.0*3\n",
    "#10+12.0\n",
    "#22.0\n",
    "print(res)"
   ]
  },
  {
   "cell_type": "code",
   "execution_count": 3,
   "id": "abeef036",
   "metadata": {},
   "outputs": [
    {
     "name": "stdout",
     "output_type": "stream",
     "text": [
      "11.333333333333334\n"
     ]
    }
   ],
   "source": [
    "res=10+20/(5*3) # BODAMAS rule\n",
    "#10+20/15\n",
    "#10+1.33333333333\n",
    "#11.3333333333333\n",
    "print(res)"
   ]
  },
  {
   "cell_type": "code",
   "execution_count": 8,
   "id": "4f8cc6b4",
   "metadata": {},
   "outputs": [
    {
     "name": "stdout",
     "output_type": "stream",
     "text": [
      "900\n",
      "900\n",
      "410\n",
      "900\n",
      "900\n"
     ]
    }
   ],
   "source": [
    "a=10\n",
    "b=20\n",
    "# a squar + b squar + 2* a *b\n",
    "print((a*a) + (b*b) + (2*a*b))\n",
    "print((a**2) + (b**2) + (2*a*b))\n",
    "print(a+b**2)\n",
    "print((a+b)**2)\n",
    "print((a+b)*(a+b))"
   ]
  },
  {
   "cell_type": "code",
   "execution_count": 14,
   "id": "4b35f3de",
   "metadata": {},
   "outputs": [
    {
     "name": "stdout",
     "output_type": "stream",
     "text": [
      "27000\n",
      "27000\n",
      "27000\n",
      "27000\n"
     ]
    }
   ],
   "source": [
    "a=10\n",
    "b=20\n",
    "# a squar + b squar + 2* a *b\n",
    "print((a**3) + (b**3) + (3*(a**2)*b) + (3*a*(b**2)))\n",
    "print((a+b)**3)\n",
    "print((a+b)*(a+b)**2)\n",
    "print((a**3) + (b**3) + (3*a*b*(a+b)))\n"
   ]
  },
  {
   "cell_type": "code",
   "execution_count": 15,
   "id": "a58bb164",
   "metadata": {},
   "outputs": [
    {
     "name": "stdout",
     "output_type": "stream",
     "text": [
      "enter number 1:10\n",
      "10 <class 'str'>\n"
     ]
    }
   ],
   "source": [
    "num1=input(\"enter number 1:\")\n",
    "print(num1, type(num1))"
   ]
  },
  {
   "cell_type": "code",
   "execution_count": 16,
   "id": "d78593a2",
   "metadata": {},
   "outputs": [
    {
     "name": "stdout",
     "output_type": "stream",
     "text": [
      "enter number 1:12.34\n",
      "12.34 <class 'str'>\n"
     ]
    }
   ],
   "source": [
    "num1=input(\"enter number 1:\")\n",
    "print(num1, type(num1))"
   ]
  },
  {
   "cell_type": "code",
   "execution_count": 17,
   "id": "b9ce73bc",
   "metadata": {},
   "outputs": [
    {
     "name": "stdout",
     "output_type": "stream",
     "text": [
      "enter number 1:python\n",
      "python <class 'str'>\n"
     ]
    }
   ],
   "source": [
    "num1=input(\"enter number 1:\")\n",
    "print(num1, type(num1))"
   ]
  },
  {
   "cell_type": "code",
   "execution_count": 18,
   "id": "2788f495",
   "metadata": {},
   "outputs": [
    {
     "name": "stdout",
     "output_type": "stream",
     "text": [
      "enter number one:1\n",
      "enter number two:2\n",
      "12 <class 'str'>\n"
     ]
    }
   ],
   "source": [
    "# write a program to add 2 numbers\n",
    "num1=input(\"enter number one:\")\n",
    "num2=input(\"enter number two:\")\n",
    "print(num1+num2, type(num1))"
   ]
  },
  {
   "cell_type": "code",
   "execution_count": 22,
   "id": "5013b75c",
   "metadata": {},
   "outputs": [
    {
     "name": "stdout",
     "output_type": "stream",
     "text": [
      "enter number one:10\n",
      "enter number two:12.5\n",
      "10 <class 'str'>\n",
      "12.5 <class 'str'>\n"
     ]
    },
    {
     "ename": "ValueError",
     "evalue": "invalid literal for int() with base 10: '12.5'",
     "output_type": "error",
     "traceback": [
      "\u001b[1;31m---------------------------------------------------------------------------\u001b[0m",
      "\u001b[1;31mValueError\u001b[0m                                Traceback (most recent call last)",
      "\u001b[1;32m<ipython-input-22-06cc12a676b8>\u001b[0m in \u001b[0;36m<module>\u001b[1;34m\u001b[0m\n\u001b[0;32m      5\u001b[0m \u001b[0mprint\u001b[0m\u001b[1;33m(\u001b[0m\u001b[0mnum2\u001b[0m\u001b[1;33m,\u001b[0m \u001b[0mtype\u001b[0m\u001b[1;33m(\u001b[0m\u001b[0mnum2\u001b[0m\u001b[1;33m)\u001b[0m\u001b[1;33m)\u001b[0m\u001b[1;33m\u001b[0m\u001b[1;33m\u001b[0m\u001b[0m\n\u001b[0;32m      6\u001b[0m \u001b[0mnum1\u001b[0m\u001b[1;33m=\u001b[0m\u001b[0mint\u001b[0m\u001b[1;33m(\u001b[0m\u001b[0mnum1\u001b[0m\u001b[1;33m)\u001b[0m\u001b[1;33m\u001b[0m\u001b[1;33m\u001b[0m\u001b[0m\n\u001b[1;32m----> 7\u001b[1;33m \u001b[0mnum2\u001b[0m\u001b[1;33m=\u001b[0m\u001b[0mint\u001b[0m\u001b[1;33m(\u001b[0m\u001b[0mnum2\u001b[0m\u001b[1;33m)\u001b[0m\u001b[1;33m\u001b[0m\u001b[1;33m\u001b[0m\u001b[0m\n\u001b[0m\u001b[0;32m      8\u001b[0m \u001b[0mprint\u001b[0m\u001b[1;33m(\u001b[0m\u001b[1;34m\"after conversion\"\u001b[0m\u001b[1;33m)\u001b[0m\u001b[1;33m\u001b[0m\u001b[1;33m\u001b[0m\u001b[0m\n\u001b[0;32m      9\u001b[0m \u001b[0mprint\u001b[0m\u001b[1;33m(\u001b[0m\u001b[0mnum1\u001b[0m\u001b[1;33m,\u001b[0m \u001b[0mtype\u001b[0m\u001b[1;33m(\u001b[0m\u001b[0mnum1\u001b[0m\u001b[1;33m)\u001b[0m\u001b[1;33m)\u001b[0m\u001b[1;33m\u001b[0m\u001b[1;33m\u001b[0m\u001b[0m\n",
      "\u001b[1;31mValueError\u001b[0m: invalid literal for int() with base 10: '12.5'"
     ]
    }
   ],
   "source": [
    "# write a program to add 2 numbers\n",
    "num1=input(\"enter number one:\")\n",
    "num2=input(\"enter number two:\")\n",
    "print(num1, type(num1))\n",
    "print(num2, type(num2))\n",
    "num1=int(num1)\n",
    "num2=int(num2)\n",
    "print(\"after conversion\")\n",
    "print(num1, type(num1))\n",
    "print(num2, type(num2))\n",
    "print(num1+num2, type(num1))"
   ]
  },
  {
   "cell_type": "code",
   "execution_count": 23,
   "id": "4763fbfe",
   "metadata": {},
   "outputs": [
    {
     "name": "stdout",
     "output_type": "stream",
     "text": [
      "enter number one:10\n",
      "enter number two:25\n",
      "10 <class 'str'>\n",
      "25 <class 'str'>\n",
      "after conversion\n",
      "10 <class 'int'>\n",
      "25 <class 'int'>\n",
      "35 <class 'int'>\n"
     ]
    }
   ],
   "source": [
    "# write a program to add 2 numbers\n",
    "num1=input(\"enter number one:\")\n",
    "num2=input(\"enter number two:\")\n",
    "print(num1, type(num1))\n",
    "print(num2, type(num2))\n",
    "num1=int(num1)\n",
    "num2=int(num2)\n",
    "print(\"after conversion\")\n",
    "print(num1, type(num1))\n",
    "print(num2, type(num2))\n",
    "print(num1+num2, type(num1))"
   ]
  },
  {
   "cell_type": "code",
   "execution_count": 24,
   "id": "5ba6f138",
   "metadata": {},
   "outputs": [
    {
     "name": "stdout",
     "output_type": "stream",
     "text": [
      "123 <class 'int'> 123.0 <class 'float'>\n"
     ]
    }
   ],
   "source": [
    "a=\"123\"\n",
    "b=int(a)\n",
    "c=float(a)\n",
    "print(b,type(b),c,type(c))"
   ]
  },
  {
   "cell_type": "code",
   "execution_count": null,
   "id": "26265efc",
   "metadata": {},
   "outputs": [],
   "source": []
  }
 ],
 "metadata": {
  "kernelspec": {
   "display_name": "Python 3",
   "language": "python",
   "name": "python3"
  },
  "language_info": {
   "codemirror_mode": {
    "name": "ipython",
    "version": 3
   },
   "file_extension": ".py",
   "mimetype": "text/x-python",
   "name": "python",
   "nbconvert_exporter": "python",
   "pygments_lexer": "ipython3",
   "version": "3.8.8"
  }
 },
 "nbformat": 4,
 "nbformat_minor": 5
}
