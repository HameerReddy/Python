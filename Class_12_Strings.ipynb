{
 "cells": [
  {
   "cell_type": "code",
   "execution_count": 1,
   "id": "a9b99933",
   "metadata": {},
   "outputs": [
    {
     "name": "stdout",
     "output_type": "stream",
     "text": [
      "['__add__', '__class__', '__contains__', '__delattr__', '__dir__', '__doc__', '__eq__', '__format__', '__ge__', '__getattribute__', '__getitem__', '__getnewargs__', '__gt__', '__hash__', '__init__', '__init_subclass__', '__iter__', '__le__', '__len__', '__lt__', '__mod__', '__mul__', '__ne__', '__new__', '__reduce__', '__reduce_ex__', '__repr__', '__rmod__', '__rmul__', '__setattr__', '__sizeof__', '__str__', '__subclasshook__', 'capitalize', 'casefold', 'center', 'count', 'encode', 'endswith', 'expandtabs', 'find', 'format', 'format_map', 'index', 'isalnum', 'isalpha', 'isascii', 'isdecimal', 'isdigit', 'isidentifier', 'islower', 'isnumeric', 'isprintable', 'isspace', 'istitle', 'isupper', 'join', 'ljust', 'lower', 'lstrip', 'maketrans', 'partition', 'replace', 'rfind', 'rindex', 'rjust', 'rpartition', 'rsplit', 'rstrip', 'split', 'splitlines', 'startswith', 'strip', 'swapcase', 'title', 'translate', 'upper', 'zfill']\n"
     ]
    }
   ],
   "source": [
    "# check the impact of empty argumwnt for all string function.\n",
    "s=\"Python\"\n",
    "print(dir(s))"
   ]
  },
  {
   "cell_type": "code",
   "execution_count": 5,
   "id": "58f43be5",
   "metadata": {},
   "outputs": [
    {
     "name": "stdout",
     "output_type": "stream",
     "text": [
      "S.capitalize() is: Hi..  hello.. how are you???\n"
     ]
    },
    {
     "ename": "TypeError",
     "evalue": "capitalize() takes no arguments (1 given)",
     "output_type": "error",
     "traceback": [
      "\u001b[1;31m---------------------------------------------------------------------------\u001b[0m",
      "\u001b[1;31mTypeError\u001b[0m                                 Traceback (most recent call last)",
      "\u001b[1;32m<ipython-input-5-88d624951ab6>\u001b[0m in \u001b[0;36m<module>\u001b[1;34m\u001b[0m\n\u001b[0;32m      1\u001b[0m \u001b[0ms\u001b[0m \u001b[1;33m=\u001b[0m \u001b[1;34m\"Hi..  hELLo.. hOw Are yoU???\"\u001b[0m\u001b[1;33m\u001b[0m\u001b[1;33m\u001b[0m\u001b[0m\n\u001b[0;32m      2\u001b[0m \u001b[0mprint\u001b[0m\u001b[1;33m(\u001b[0m\u001b[1;34mf\"S.capitalize() is: {s.capitalize()}\"\u001b[0m\u001b[1;33m)\u001b[0m\u001b[1;33m\u001b[0m\u001b[1;33m\u001b[0m\u001b[0m\n\u001b[1;32m----> 3\u001b[1;33m \u001b[0mprint\u001b[0m\u001b[1;33m(\u001b[0m\u001b[1;34mf\"S.capitalize('') is: {s.capitalize('')}\"\u001b[0m\u001b[1;33m)\u001b[0m\u001b[1;33m\u001b[0m\u001b[1;33m\u001b[0m\u001b[0m\n\u001b[0m",
      "\u001b[1;31mTypeError\u001b[0m: capitalize() takes no arguments (1 given)"
     ]
    }
   ],
   "source": [
    "s = \"Hi..  hELLo.. hOw Are yoU???\"\n",
    "print(f\"S.capitalize() is: {s.capitalize()}\") \n",
    "print(f\"S.capitalize('') is: {s.capitalize('')}\")"
   ]
  },
  {
   "cell_type": "code",
   "execution_count": 6,
   "id": "6856c552",
   "metadata": {},
   "outputs": [
    {
     "name": "stdout",
     "output_type": "stream",
     "text": [
      "S.casefold() is: hi..  hello.. how are you???\n"
     ]
    },
    {
     "ename": "TypeError",
     "evalue": "casefold() takes no arguments (1 given)",
     "output_type": "error",
     "traceback": [
      "\u001b[1;31m---------------------------------------------------------------------------\u001b[0m",
      "\u001b[1;31mTypeError\u001b[0m                                 Traceback (most recent call last)",
      "\u001b[1;32m<ipython-input-6-3b2a83035ccb>\u001b[0m in \u001b[0;36m<module>\u001b[1;34m\u001b[0m\n\u001b[0;32m      1\u001b[0m \u001b[0ms\u001b[0m \u001b[1;33m=\u001b[0m \u001b[1;34m\"Hi..  hELLo.. hOw Are yoU???\"\u001b[0m\u001b[1;33m\u001b[0m\u001b[1;33m\u001b[0m\u001b[0m\n\u001b[0;32m      2\u001b[0m \u001b[0mprint\u001b[0m\u001b[1;33m(\u001b[0m\u001b[1;34mf\"S.casefold() is: {s.casefold()}\"\u001b[0m\u001b[1;33m)\u001b[0m\u001b[1;33m\u001b[0m\u001b[1;33m\u001b[0m\u001b[0m\n\u001b[1;32m----> 3\u001b[1;33m \u001b[0mprint\u001b[0m\u001b[1;33m(\u001b[0m\u001b[1;34mf\"S.casefold('') is: {s.casefold('')}\"\u001b[0m\u001b[1;33m)\u001b[0m\u001b[1;33m\u001b[0m\u001b[1;33m\u001b[0m\u001b[0m\n\u001b[0m",
      "\u001b[1;31mTypeError\u001b[0m: casefold() takes no arguments (1 given)"
     ]
    }
   ],
   "source": [
    "s = \"Hi..  hELLo.. hOw Are yoU???\"\n",
    "print(f\"S.casefold() is: {s.casefold()}\") \n",
    "print(f\"S.casefold('') is: {s.casefold('')}\")"
   ]
  },
  {
   "cell_type": "code",
   "execution_count": 10,
   "id": "e4a5d52d",
   "metadata": {},
   "outputs": [
    {
     "name": "stdout",
     "output_type": "stream",
     "text": [
      "S.center(100) is:                                     Hi..  hELLo.. hOw Are yoU???                                    \n"
     ]
    },
    {
     "ename": "TypeError",
     "evalue": "'str' object cannot be interpreted as an integer",
     "output_type": "error",
     "traceback": [
      "\u001b[1;31m---------------------------------------------------------------------------\u001b[0m",
      "\u001b[1;31mTypeError\u001b[0m                                 Traceback (most recent call last)",
      "\u001b[1;32m<ipython-input-10-1e77ad8bbe99>\u001b[0m in \u001b[0;36m<module>\u001b[1;34m\u001b[0m\n\u001b[0;32m      1\u001b[0m \u001b[0ms\u001b[0m \u001b[1;33m=\u001b[0m \u001b[1;34m\"Hi..  hELLo.. hOw Are yoU???\"\u001b[0m\u001b[1;33m\u001b[0m\u001b[1;33m\u001b[0m\u001b[0m\n\u001b[0;32m      2\u001b[0m \u001b[0mprint\u001b[0m\u001b[1;33m(\u001b[0m\u001b[1;34mf\"S.center(100) is: {s.center(100)}\"\u001b[0m\u001b[1;33m)\u001b[0m\u001b[1;33m\u001b[0m\u001b[1;33m\u001b[0m\u001b[0m\n\u001b[1;32m----> 3\u001b[1;33m \u001b[0mprint\u001b[0m\u001b[1;33m(\u001b[0m\u001b[1;34mf\"S.center('') is: {s.center('')}\"\u001b[0m\u001b[1;33m)\u001b[0m\u001b[1;33m\u001b[0m\u001b[1;33m\u001b[0m\u001b[0m\n\u001b[0m",
      "\u001b[1;31mTypeError\u001b[0m: 'str' object cannot be interpreted as an integer"
     ]
    }
   ],
   "source": [
    "s = \"Hi..  hELLo.. hOw Are yoU???\"\n",
    "print(f\"S.center(100) is: {s.center(100)}\") \n",
    "print(f\"S.center('') is: {s.center('')}\")"
   ]
  },
  {
   "cell_type": "code",
   "execution_count": 14,
   "id": "ff6519c9",
   "metadata": {},
   "outputs": [
    {
     "name": "stdout",
     "output_type": "stream",
     "text": [
      "27\n",
      "S.count(' ') is: 4\n",
      "S.count('') is: 28\n"
     ]
    }
   ],
   "source": [
    "s = \"Hi.. hELLo.. hOw Are yoU???\"\n",
    "print(len(s))\n",
    "print(f\"S.count(' ') is: {s.count(' ')}\") \n",
    "print(f\"S.count('') is: {s.count('')}\") # Counts empty string at start, end, and in between.. hence 1 greater than length"
   ]
  },
  {
   "cell_type": "code",
   "execution_count": 18,
   "id": "9c87e5b8",
   "metadata": {},
   "outputs": [
    {
     "name": "stdout",
     "output_type": "stream",
     "text": [
      "S.encode() is: b'Hi.. hELLo.. hOw Are yoU???'\n"
     ]
    },
    {
     "ename": "LookupError",
     "evalue": "unknown encoding: ",
     "output_type": "error",
     "traceback": [
      "\u001b[1;31m---------------------------------------------------------------------------\u001b[0m",
      "\u001b[1;31mLookupError\u001b[0m                               Traceback (most recent call last)",
      "\u001b[1;32m<ipython-input-18-0da6d5bf76c3>\u001b[0m in \u001b[0;36m<module>\u001b[1;34m\u001b[0m\n\u001b[0;32m      2\u001b[0m \u001b[1;31m#print(len(s))\u001b[0m\u001b[1;33m\u001b[0m\u001b[1;33m\u001b[0m\u001b[1;33m\u001b[0m\u001b[0m\n\u001b[0;32m      3\u001b[0m \u001b[0mprint\u001b[0m\u001b[1;33m(\u001b[0m\u001b[1;34mf\"S.encode() is: {s.encode()}\"\u001b[0m\u001b[1;33m)\u001b[0m\u001b[1;33m\u001b[0m\u001b[1;33m\u001b[0m\u001b[0m\n\u001b[1;32m----> 4\u001b[1;33m \u001b[0mprint\u001b[0m\u001b[1;33m(\u001b[0m\u001b[1;34mf\"S.encode('') is: {s.encode('')}\"\u001b[0m\u001b[1;33m)\u001b[0m\u001b[1;33m\u001b[0m\u001b[1;33m\u001b[0m\u001b[0m\n\u001b[0m\u001b[0;32m      5\u001b[0m \u001b[0mprint\u001b[0m\u001b[1;33m(\u001b[0m\u001b[1;34mf\"S.encode(' ') is: {s.encode(' ')}\"\u001b[0m\u001b[1;33m)\u001b[0m\u001b[1;33m\u001b[0m\u001b[1;33m\u001b[0m\u001b[0m\n",
      "\u001b[1;31mLookupError\u001b[0m: unknown encoding: "
     ]
    }
   ],
   "source": [
    "s = \"Hi.. hELLo.. hOw Are yoU???\"\n",
    "#print(len(s))\n",
    "print(f\"S.encode() is: {s.encode()}\") \n",
    "print(f\"S.encode(' ') is: {s.encode(' ')}\") \n",
    "print(f\"S.encode('') is: {s.encode('')}\")"
   ]
  },
  {
   "cell_type": "code",
   "execution_count": 21,
   "id": "bcd3fd3a",
   "metadata": {},
   "outputs": [
    {
     "name": "stdout",
     "output_type": "stream",
     "text": [
      "S.endswith(' ') is: False\n",
      "S.endswith('') is: True\n",
      "S.endswith('?') is: True\n"
     ]
    }
   ],
   "source": [
    "s = \"Hi.. hELLo.. hOw Are yoU???\"\n",
    "#print(len(s))\n",
    "#print(f\"S.endswith() is: {s.endswith()}\") \n",
    "print(f\"S.endswith(' ') is: {s.endswith(' ')}\") \n",
    "print(f\"S.endswith('') is: {s.endswith('')}\")\n",
    "print(f\"S.endswith('?') is: {s.endswith('?')}\")"
   ]
  },
  {
   "cell_type": "code",
   "execution_count": 25,
   "id": "2dd978c6",
   "metadata": {},
   "outputs": [
    {
     "name": "stdout",
     "output_type": "stream",
     "text": [
      "S.expandtabs() is: Hi.. hELLo.. hOw Are yoU???\n"
     ]
    },
    {
     "ename": "TypeError",
     "evalue": "an integer is required (got type str)",
     "output_type": "error",
     "traceback": [
      "\u001b[1;31m---------------------------------------------------------------------------\u001b[0m",
      "\u001b[1;31mTypeError\u001b[0m                                 Traceback (most recent call last)",
      "\u001b[1;32m<ipython-input-25-ca1fe25f0245>\u001b[0m in \u001b[0;36m<module>\u001b[1;34m\u001b[0m\n\u001b[0;32m      2\u001b[0m \u001b[1;31m#print(len(s))\u001b[0m\u001b[1;33m\u001b[0m\u001b[1;33m\u001b[0m\u001b[1;33m\u001b[0m\u001b[0m\n\u001b[0;32m      3\u001b[0m \u001b[0mprint\u001b[0m\u001b[1;33m(\u001b[0m\u001b[1;34mf\"S.expandtabs() is: {s.expandtabs()}\"\u001b[0m\u001b[1;33m)\u001b[0m\u001b[1;33m\u001b[0m\u001b[1;33m\u001b[0m\u001b[0m\n\u001b[1;32m----> 4\u001b[1;33m \u001b[0mprint\u001b[0m\u001b[1;33m(\u001b[0m\u001b[1;34mf\"S.expandtabs('') is: {s.expandtabs('')}\"\u001b[0m\u001b[1;33m)\u001b[0m\u001b[1;33m\u001b[0m\u001b[1;33m\u001b[0m\u001b[0m\n\u001b[0m\u001b[0;32m      5\u001b[0m \u001b[0mprint\u001b[0m\u001b[1;33m(\u001b[0m\u001b[1;34mf\"S.expandtabs(' ') is: {s.expandtabs(' ')}\"\u001b[0m\u001b[1;33m)\u001b[0m\u001b[1;33m\u001b[0m\u001b[1;33m\u001b[0m\u001b[0m\n",
      "\u001b[1;31mTypeError\u001b[0m: an integer is required (got type str)"
     ]
    }
   ],
   "source": [
    "s = \"Hi.. hELLo.. hOw Are yoU???\"\n",
    "#print(len(s))\n",
    "print(f\"S.expandtabs() is: {s.expandtabs()}\") \n",
    "print(f\"S.expandtabs('') is: {s.expandtabs('')}\")\n",
    "print(f\"S.expandtabs(' ') is: {s.expandtabs(' ')}\") "
   ]
  },
  {
   "cell_type": "code",
   "execution_count": 27,
   "id": "f76139b0",
   "metadata": {},
   "outputs": [
    {
     "name": "stdout",
     "output_type": "stream",
     "text": [
      "S.find('') is: 0\n",
      "S.find(' ') is: 4\n"
     ]
    }
   ],
   "source": [
    "s = \"Hi.. hELLo.. hOw Are yoU???\"\n",
    "#print(len(s))\n",
    "#print(f\"S.find() is: {s.find()}\") \n",
    "print(f\"S.find('') is: {s.find('')}\")\n",
    "print(f\"S.find(' ') is: {s.find(' ')}\") "
   ]
  },
  {
   "cell_type": "code",
   "execution_count": 28,
   "id": "7535e7ab",
   "metadata": {},
   "outputs": [
    {
     "name": "stdout",
     "output_type": "stream",
     "text": [
      "S.format() is: Hi.. hELLo.. hOw Are yoU???\n",
      "S.format('') is: Hi.. hELLo.. hOw Are yoU???\n",
      "S.format(' ') is: Hi.. hELLo.. hOw Are yoU???\n"
     ]
    }
   ],
   "source": [
    "s = \"Hi.. hELLo.. hOw Are yoU???\"\n",
    "#print(len(s))\n",
    "print(f\"S.format() is: {s.format()}\") \n",
    "print(f\"S.format('') is: {s.format('')}\")\n",
    "print(f\"S.format(' ') is: {s.format(' ')}\") "
   ]
  },
  {
   "cell_type": "code",
   "execution_count": 31,
   "id": "57aab28f",
   "metadata": {},
   "outputs": [
    {
     "name": "stdout",
     "output_type": "stream",
     "text": [
      "S.format_map('') is: Hi.. hELLo.. hOw Are yoU???\n",
      "S.format_map(' ') is: Hi.. hELLo.. hOw Are yoU???\n",
      "S.format_map('hELLo') is: Hi.. hELLo.. hOw Are yoU???\n"
     ]
    }
   ],
   "source": [
    "s = \"Hi.. hELLo.. hOw Are yoU???\"\n",
    "#print(len(s))\n",
    "#print(f\"S.format_map() is: {s.format_map()}\") \n",
    "print(f\"S.format_map('') is: {s.format_map('')}\")\n",
    "print(f\"S.format_map(' ') is: {s.format_map(' ')}\") \n",
    "print(f\"S.format_map('hELLo') is: {s.format_map('hELLo')}\") "
   ]
  },
  {
   "cell_type": "code",
   "execution_count": 32,
   "id": "1e3c03ae",
   "metadata": {},
   "outputs": [
    {
     "name": "stdout",
     "output_type": "stream",
     "text": [
      "S.find('') is: 0\n",
      "S.find(' ') is: 4\n"
     ]
    }
   ],
   "source": [
    "s = \"Hi.. hELLo.. hOw Are yoU???\"\n",
    "#print(len(s))\n",
    "#print(f\"S.find() is: {s.find()}\") \n",
    "print(f\"S.find('') is: {s.find('')}\")\n",
    "print(f\"S.find(' ') is: {s.find(' ')}\") "
   ]
  },
  {
   "cell_type": "code",
   "execution_count": 34,
   "id": "2a91f80b",
   "metadata": {},
   "outputs": [
    {
     "name": "stdout",
     "output_type": "stream",
     "text": [
      "S.index('') is: 0\n",
      "S.index(' ') is: 4\n"
     ]
    }
   ],
   "source": [
    "s = \"Hi.. hELLo.. hOw Are yoU???\"\n",
    "#print(len(s))\n",
    "#print(f\"S.index() is: {s.index()}\") \n",
    "print(f\"S.index('') is: {s.index('')}\")\n",
    "print(f\"S.index(' ') is: {s.index(' ')}\") "
   ]
  },
  {
   "cell_type": "code",
   "execution_count": 38,
   "id": "0b386335",
   "metadata": {},
   "outputs": [
    {
     "name": "stdout",
     "output_type": "stream",
     "text": [
      "S.isalnum() is: False\n"
     ]
    },
    {
     "ename": "TypeError",
     "evalue": "isalnum() takes no arguments (1 given)",
     "output_type": "error",
     "traceback": [
      "\u001b[1;31m---------------------------------------------------------------------------\u001b[0m",
      "\u001b[1;31mTypeError\u001b[0m                                 Traceback (most recent call last)",
      "\u001b[1;32m<ipython-input-38-eb71b31c411b>\u001b[0m in \u001b[0;36m<module>\u001b[1;34m\u001b[0m\n\u001b[0;32m      2\u001b[0m \u001b[1;31m#print(len(s))\u001b[0m\u001b[1;33m\u001b[0m\u001b[1;33m\u001b[0m\u001b[1;33m\u001b[0m\u001b[0m\n\u001b[0;32m      3\u001b[0m \u001b[0mprint\u001b[0m\u001b[1;33m(\u001b[0m\u001b[1;34mf\"S.isalnum() is: {s.isalnum()}\"\u001b[0m\u001b[1;33m)\u001b[0m\u001b[1;33m\u001b[0m\u001b[1;33m\u001b[0m\u001b[0m\n\u001b[1;32m----> 4\u001b[1;33m \u001b[0mprint\u001b[0m\u001b[1;33m(\u001b[0m\u001b[1;34mf\"S.isalnum(' ') is: {s.isalnum(' ')}\"\u001b[0m\u001b[1;33m)\u001b[0m\u001b[1;33m\u001b[0m\u001b[1;33m\u001b[0m\u001b[0m\n\u001b[0m\u001b[0;32m      5\u001b[0m \u001b[0mprint\u001b[0m\u001b[1;33m(\u001b[0m\u001b[1;34mf\"S.isalnum('') is: {s.isalnum('')}\"\u001b[0m\u001b[1;33m)\u001b[0m\u001b[1;33m\u001b[0m\u001b[1;33m\u001b[0m\u001b[0m\n",
      "\u001b[1;31mTypeError\u001b[0m: isalnum() takes no arguments (1 given)"
     ]
    }
   ],
   "source": [
    "s = \"Hi.. hELLo.. hOw Are yoU???\"\n",
    "#print(len(s))\n",
    "print(f\"S.isalnum() is: {s.isalnum()}\") \n",
    "print(f\"S.isalnum(' ') is: {s.isalnum(' ')}\") \n",
    "print(f\"S.isalnum('') is: {s.isalnum('')}\")"
   ]
  },
  {
   "cell_type": "code",
   "execution_count": 39,
   "id": "3edd66c8",
   "metadata": {},
   "outputs": [
    {
     "name": "stdout",
     "output_type": "stream",
     "text": [
      "S.isalpha() is: False\n"
     ]
    },
    {
     "ename": "TypeError",
     "evalue": "isalpha() takes no arguments (1 given)",
     "output_type": "error",
     "traceback": [
      "\u001b[1;31m---------------------------------------------------------------------------\u001b[0m",
      "\u001b[1;31mTypeError\u001b[0m                                 Traceback (most recent call last)",
      "\u001b[1;32m<ipython-input-39-61be25c85cf1>\u001b[0m in \u001b[0;36m<module>\u001b[1;34m\u001b[0m\n\u001b[0;32m      2\u001b[0m \u001b[1;31m#print(len(s))\u001b[0m\u001b[1;33m\u001b[0m\u001b[1;33m\u001b[0m\u001b[1;33m\u001b[0m\u001b[0m\n\u001b[0;32m      3\u001b[0m \u001b[0mprint\u001b[0m\u001b[1;33m(\u001b[0m\u001b[1;34mf\"S.isalpha() is: {s.isalpha()}\"\u001b[0m\u001b[1;33m)\u001b[0m\u001b[1;33m\u001b[0m\u001b[1;33m\u001b[0m\u001b[0m\n\u001b[1;32m----> 4\u001b[1;33m \u001b[0mprint\u001b[0m\u001b[1;33m(\u001b[0m\u001b[1;34mf\"S.isalpha('') is: {s.isalpha('')}\"\u001b[0m\u001b[1;33m)\u001b[0m\u001b[1;33m\u001b[0m\u001b[1;33m\u001b[0m\u001b[0m\n\u001b[0m\u001b[0;32m      5\u001b[0m \u001b[0mprint\u001b[0m\u001b[1;33m(\u001b[0m\u001b[1;34mf\"S.isalpha(' ') is: {s.isalpha(' ')}\"\u001b[0m\u001b[1;33m)\u001b[0m\u001b[1;33m\u001b[0m\u001b[1;33m\u001b[0m\u001b[0m\n",
      "\u001b[1;31mTypeError\u001b[0m: isalpha() takes no arguments (1 given)"
     ]
    }
   ],
   "source": [
    "s = \"Hi.. hELLo.. hOw Are yoU???\"\n",
    "#print(len(s))\n",
    "print(f\"S.isalpha() is: {s.isalpha()}\") \n",
    "print(f\"S.isalpha('') is: {s.isalpha('')}\")\n",
    "print(f\"S.isalpha(' ') is: {s.isalpha(' ')}\") "
   ]
  },
  {
   "cell_type": "code",
   "execution_count": 40,
   "id": "538e08cf",
   "metadata": {},
   "outputs": [
    {
     "name": "stdout",
     "output_type": "stream",
     "text": [
      "S.isascii() is: True\n"
     ]
    },
    {
     "ename": "TypeError",
     "evalue": "isascii() takes no arguments (1 given)",
     "output_type": "error",
     "traceback": [
      "\u001b[1;31m---------------------------------------------------------------------------\u001b[0m",
      "\u001b[1;31mTypeError\u001b[0m                                 Traceback (most recent call last)",
      "\u001b[1;32m<ipython-input-40-0a1e05d5efc6>\u001b[0m in \u001b[0;36m<module>\u001b[1;34m\u001b[0m\n\u001b[0;32m      2\u001b[0m \u001b[1;31m#print(len(s))\u001b[0m\u001b[1;33m\u001b[0m\u001b[1;33m\u001b[0m\u001b[1;33m\u001b[0m\u001b[0m\n\u001b[0;32m      3\u001b[0m \u001b[0mprint\u001b[0m\u001b[1;33m(\u001b[0m\u001b[1;34mf\"S.isascii() is: {s.isascii()}\"\u001b[0m\u001b[1;33m)\u001b[0m\u001b[1;33m\u001b[0m\u001b[1;33m\u001b[0m\u001b[0m\n\u001b[1;32m----> 4\u001b[1;33m \u001b[0mprint\u001b[0m\u001b[1;33m(\u001b[0m\u001b[1;34mf\"S.isascii('') is: {s.isascii('')}\"\u001b[0m\u001b[1;33m)\u001b[0m\u001b[1;33m\u001b[0m\u001b[1;33m\u001b[0m\u001b[0m\n\u001b[0m\u001b[0;32m      5\u001b[0m \u001b[0mprint\u001b[0m\u001b[1;33m(\u001b[0m\u001b[1;34mf\"S.isascii(' ') is: {s.isascii(' ')}\"\u001b[0m\u001b[1;33m)\u001b[0m\u001b[1;33m\u001b[0m\u001b[1;33m\u001b[0m\u001b[0m\n",
      "\u001b[1;31mTypeError\u001b[0m: isascii() takes no arguments (1 given)"
     ]
    }
   ],
   "source": [
    "s = \"Hi.. hELLo.. hOw Are yoU???\"\n",
    "#print(len(s))\n",
    "print(f\"S.isascii() is: {s.isascii()}\") \n",
    "print(f\"S.isascii('') is: {s.isascii('')}\")\n",
    "print(f\"S.isascii(' ') is: {s.isascii(' ')}\") "
   ]
  },
  {
   "cell_type": "code",
   "execution_count": 41,
   "id": "a7838af6",
   "metadata": {},
   "outputs": [
    {
     "name": "stdout",
     "output_type": "stream",
     "text": [
      "S.isdecimal() is: False\n"
     ]
    },
    {
     "ename": "TypeError",
     "evalue": "isdecimal() takes no arguments (1 given)",
     "output_type": "error",
     "traceback": [
      "\u001b[1;31m---------------------------------------------------------------------------\u001b[0m",
      "\u001b[1;31mTypeError\u001b[0m                                 Traceback (most recent call last)",
      "\u001b[1;32m<ipython-input-41-4f41fc0e1c85>\u001b[0m in \u001b[0;36m<module>\u001b[1;34m\u001b[0m\n\u001b[0;32m      2\u001b[0m \u001b[1;31m#print(len(s))\u001b[0m\u001b[1;33m\u001b[0m\u001b[1;33m\u001b[0m\u001b[1;33m\u001b[0m\u001b[0m\n\u001b[0;32m      3\u001b[0m \u001b[0mprint\u001b[0m\u001b[1;33m(\u001b[0m\u001b[1;34mf\"S.isdecimal() is: {s.isdecimal()}\"\u001b[0m\u001b[1;33m)\u001b[0m\u001b[1;33m\u001b[0m\u001b[1;33m\u001b[0m\u001b[0m\n\u001b[1;32m----> 4\u001b[1;33m \u001b[0mprint\u001b[0m\u001b[1;33m(\u001b[0m\u001b[1;34mf\"S.isdecimal('') is: {s.isdecimal('')}\"\u001b[0m\u001b[1;33m)\u001b[0m\u001b[1;33m\u001b[0m\u001b[1;33m\u001b[0m\u001b[0m\n\u001b[0m\u001b[0;32m      5\u001b[0m \u001b[0mprint\u001b[0m\u001b[1;33m(\u001b[0m\u001b[1;34mf\"S.isdecimal(' ') is: {s.isdecimal(' ')}\"\u001b[0m\u001b[1;33m)\u001b[0m\u001b[1;33m\u001b[0m\u001b[1;33m\u001b[0m\u001b[0m\n",
      "\u001b[1;31mTypeError\u001b[0m: isdecimal() takes no arguments (1 given)"
     ]
    }
   ],
   "source": [
    "s = \"Hi.. hELLo.. hOw Are yoU???\"\n",
    "#print(len(s))\n",
    "print(f\"S.isdecimal() is: {s.isdecimal()}\") \n",
    "print(f\"S.isdecimal('') is: {s.isdecimal('')}\")\n",
    "print(f\"S.isdecimal(' ') is: {s.isdecimal(' ')}\") "
   ]
  },
  {
   "cell_type": "code",
   "execution_count": 42,
   "id": "bc15d096",
   "metadata": {},
   "outputs": [
    {
     "name": "stdout",
     "output_type": "stream",
     "text": [
      "S.isdigit() is: False\n"
     ]
    },
    {
     "ename": "TypeError",
     "evalue": "isdigit() takes no arguments (1 given)",
     "output_type": "error",
     "traceback": [
      "\u001b[1;31m---------------------------------------------------------------------------\u001b[0m",
      "\u001b[1;31mTypeError\u001b[0m                                 Traceback (most recent call last)",
      "\u001b[1;32m<ipython-input-42-cdda3005a2bc>\u001b[0m in \u001b[0;36m<module>\u001b[1;34m\u001b[0m\n\u001b[0;32m      2\u001b[0m \u001b[1;31m#print(len(s))\u001b[0m\u001b[1;33m\u001b[0m\u001b[1;33m\u001b[0m\u001b[1;33m\u001b[0m\u001b[0m\n\u001b[0;32m      3\u001b[0m \u001b[0mprint\u001b[0m\u001b[1;33m(\u001b[0m\u001b[1;34mf\"S.isdigit() is: {s.isdigit()}\"\u001b[0m\u001b[1;33m)\u001b[0m\u001b[1;33m\u001b[0m\u001b[1;33m\u001b[0m\u001b[0m\n\u001b[1;32m----> 4\u001b[1;33m \u001b[0mprint\u001b[0m\u001b[1;33m(\u001b[0m\u001b[1;34mf\"S.isdigit('') is: {s.isdigit('')}\"\u001b[0m\u001b[1;33m)\u001b[0m\u001b[1;33m\u001b[0m\u001b[1;33m\u001b[0m\u001b[0m\n\u001b[0m\u001b[0;32m      5\u001b[0m \u001b[0mprint\u001b[0m\u001b[1;33m(\u001b[0m\u001b[1;34mf\"S.isdigit(' ') is: {s.isdigit(' ')}\"\u001b[0m\u001b[1;33m)\u001b[0m\u001b[1;33m\u001b[0m\u001b[1;33m\u001b[0m\u001b[0m\n",
      "\u001b[1;31mTypeError\u001b[0m: isdigit() takes no arguments (1 given)"
     ]
    }
   ],
   "source": [
    "s = \"Hi.. hELLo.. hOw Are yoU???\"\n",
    "#print(len(s))\n",
    "print(f\"S.isdigit() is: {s.isdigit()}\") \n",
    "print(f\"S.isdigit('') is: {s.isdigit('')}\")\n",
    "print(f\"S.isdigit(' ') is: {s.isdigit(' ')}\") "
   ]
  },
  {
   "cell_type": "code",
   "execution_count": 43,
   "id": "12586c80",
   "metadata": {},
   "outputs": [
    {
     "name": "stdout",
     "output_type": "stream",
     "text": [
      "S.isidentifier() is: False\n"
     ]
    },
    {
     "ename": "TypeError",
     "evalue": "isidentifier() takes no arguments (1 given)",
     "output_type": "error",
     "traceback": [
      "\u001b[1;31m---------------------------------------------------------------------------\u001b[0m",
      "\u001b[1;31mTypeError\u001b[0m                                 Traceback (most recent call last)",
      "\u001b[1;32m<ipython-input-43-4b0c868f23c3>\u001b[0m in \u001b[0;36m<module>\u001b[1;34m\u001b[0m\n\u001b[0;32m      2\u001b[0m \u001b[1;31m#print(len(s))\u001b[0m\u001b[1;33m\u001b[0m\u001b[1;33m\u001b[0m\u001b[1;33m\u001b[0m\u001b[0m\n\u001b[0;32m      3\u001b[0m \u001b[0mprint\u001b[0m\u001b[1;33m(\u001b[0m\u001b[1;34mf\"S.isidentifier() is: {s.isidentifier()}\"\u001b[0m\u001b[1;33m)\u001b[0m\u001b[1;33m\u001b[0m\u001b[1;33m\u001b[0m\u001b[0m\n\u001b[1;32m----> 4\u001b[1;33m \u001b[0mprint\u001b[0m\u001b[1;33m(\u001b[0m\u001b[1;34mf\"S.isidentifier('') is: {s.isidentifier('')}\"\u001b[0m\u001b[1;33m)\u001b[0m\u001b[1;33m\u001b[0m\u001b[1;33m\u001b[0m\u001b[0m\n\u001b[0m\u001b[0;32m      5\u001b[0m \u001b[0mprint\u001b[0m\u001b[1;33m(\u001b[0m\u001b[1;34mf\"S.isidentifier(' ') is: {s.isidentifier(' ')}\"\u001b[0m\u001b[1;33m)\u001b[0m\u001b[1;33m\u001b[0m\u001b[1;33m\u001b[0m\u001b[0m\n",
      "\u001b[1;31mTypeError\u001b[0m: isidentifier() takes no arguments (1 given)"
     ]
    }
   ],
   "source": [
    "s = \"Hi.. hELLo.. hOw Are yoU???\"\n",
    "#print(len(s))\n",
    "print(f\"S.isidentifier() is: {s.isidentifier()}\") \n",
    "print(f\"S.isidentifier('') is: {s.isidentifier('')}\")\n",
    "print(f\"S.isidentifier(' ') is: {s.isidentifier(' ')}\") "
   ]
  },
  {
   "cell_type": "code",
   "execution_count": 45,
   "id": "a9053139",
   "metadata": {},
   "outputs": [
    {
     "name": "stdout",
     "output_type": "stream",
     "text": [
      "S.islower() is: False\n"
     ]
    },
    {
     "ename": "TypeError",
     "evalue": "islower() takes no arguments (1 given)",
     "output_type": "error",
     "traceback": [
      "\u001b[1;31m---------------------------------------------------------------------------\u001b[0m",
      "\u001b[1;31mTypeError\u001b[0m                                 Traceback (most recent call last)",
      "\u001b[1;32m<ipython-input-45-f4dc177aa83b>\u001b[0m in \u001b[0;36m<module>\u001b[1;34m\u001b[0m\n\u001b[0;32m      2\u001b[0m \u001b[1;31m#print(len(s))\u001b[0m\u001b[1;33m\u001b[0m\u001b[1;33m\u001b[0m\u001b[1;33m\u001b[0m\u001b[0m\n\u001b[0;32m      3\u001b[0m \u001b[0mprint\u001b[0m\u001b[1;33m(\u001b[0m\u001b[1;34mf\"S.islower() is: {s.islower()}\"\u001b[0m\u001b[1;33m)\u001b[0m\u001b[1;33m\u001b[0m\u001b[1;33m\u001b[0m\u001b[0m\n\u001b[1;32m----> 4\u001b[1;33m \u001b[0mprint\u001b[0m\u001b[1;33m(\u001b[0m\u001b[1;34mf\"S.islower(' ') is: {s.islower(' ')}\"\u001b[0m\u001b[1;33m)\u001b[0m\u001b[1;33m\u001b[0m\u001b[1;33m\u001b[0m\u001b[0m\n\u001b[0m\u001b[0;32m      5\u001b[0m \u001b[0mprint\u001b[0m\u001b[1;33m(\u001b[0m\u001b[1;34mf\"S.islower('') is: {s.islower('')}\"\u001b[0m\u001b[1;33m)\u001b[0m\u001b[1;33m\u001b[0m\u001b[1;33m\u001b[0m\u001b[0m\n",
      "\u001b[1;31mTypeError\u001b[0m: islower() takes no arguments (1 given)"
     ]
    }
   ],
   "source": [
    "s = \"Hi.. hELLo.. hOw Are yoU???\"\n",
    "#print(len(s))\n",
    "print(f\"S.islower() is: {s.islower()}\") \n",
    "print(f\"S.islower(' ') is: {s.islower(' ')}\") \n",
    "print(f\"S.islower('') is: {s.islower('')}\")"
   ]
  },
  {
   "cell_type": "code",
   "execution_count": 46,
   "id": "ea0a0dfd",
   "metadata": {},
   "outputs": [
    {
     "name": "stdout",
     "output_type": "stream",
     "text": [
      "S.isnumeric() is: False\n"
     ]
    },
    {
     "ename": "TypeError",
     "evalue": "isnumeric() takes no arguments (1 given)",
     "output_type": "error",
     "traceback": [
      "\u001b[1;31m---------------------------------------------------------------------------\u001b[0m",
      "\u001b[1;31mTypeError\u001b[0m                                 Traceback (most recent call last)",
      "\u001b[1;32m<ipython-input-46-7a7a50457ab5>\u001b[0m in \u001b[0;36m<module>\u001b[1;34m\u001b[0m\n\u001b[0;32m      2\u001b[0m \u001b[1;31m#print(len(s))\u001b[0m\u001b[1;33m\u001b[0m\u001b[1;33m\u001b[0m\u001b[1;33m\u001b[0m\u001b[0m\n\u001b[0;32m      3\u001b[0m \u001b[0mprint\u001b[0m\u001b[1;33m(\u001b[0m\u001b[1;34mf\"S.isnumeric() is: {s.isnumeric()}\"\u001b[0m\u001b[1;33m)\u001b[0m\u001b[1;33m\u001b[0m\u001b[1;33m\u001b[0m\u001b[0m\n\u001b[1;32m----> 4\u001b[1;33m \u001b[0mprint\u001b[0m\u001b[1;33m(\u001b[0m\u001b[1;34mf\"S.isnumeric(' ') is: {s.isnumeric(' ')}\"\u001b[0m\u001b[1;33m)\u001b[0m\u001b[1;33m\u001b[0m\u001b[1;33m\u001b[0m\u001b[0m\n\u001b[0m\u001b[0;32m      5\u001b[0m \u001b[0mprint\u001b[0m\u001b[1;33m(\u001b[0m\u001b[1;34mf\"S.isnumeric('') is: {s.isnumeric('')}\"\u001b[0m\u001b[1;33m)\u001b[0m\u001b[1;33m\u001b[0m\u001b[1;33m\u001b[0m\u001b[0m\n",
      "\u001b[1;31mTypeError\u001b[0m: isnumeric() takes no arguments (1 given)"
     ]
    }
   ],
   "source": [
    "s = \"Hi.. hELLo.. hOw Are yoU???\"\n",
    "#print(len(s))\n",
    "print(f\"S.isnumeric() is: {s.isnumeric()}\") \n",
    "print(f\"S.isnumeric(' ') is: {s.isnumeric(' ')}\") \n",
    "print(f\"S.isnumeric('') is: {s.isnumeric('')}\")"
   ]
  },
  {
   "cell_type": "code",
   "execution_count": 47,
   "id": "0f52edb0",
   "metadata": {},
   "outputs": [
    {
     "name": "stdout",
     "output_type": "stream",
     "text": [
      "S.isprintable() is: True\n"
     ]
    },
    {
     "ename": "TypeError",
     "evalue": "isprintable() takes no arguments (1 given)",
     "output_type": "error",
     "traceback": [
      "\u001b[1;31m---------------------------------------------------------------------------\u001b[0m",
      "\u001b[1;31mTypeError\u001b[0m                                 Traceback (most recent call last)",
      "\u001b[1;32m<ipython-input-47-95d8d1ddcd06>\u001b[0m in \u001b[0;36m<module>\u001b[1;34m\u001b[0m\n\u001b[0;32m      2\u001b[0m \u001b[1;31m#print(len(s))\u001b[0m\u001b[1;33m\u001b[0m\u001b[1;33m\u001b[0m\u001b[1;33m\u001b[0m\u001b[0m\n\u001b[0;32m      3\u001b[0m \u001b[0mprint\u001b[0m\u001b[1;33m(\u001b[0m\u001b[1;34mf\"S.isprintable() is: {s.isprintable()}\"\u001b[0m\u001b[1;33m)\u001b[0m\u001b[1;33m\u001b[0m\u001b[1;33m\u001b[0m\u001b[0m\n\u001b[1;32m----> 4\u001b[1;33m \u001b[0mprint\u001b[0m\u001b[1;33m(\u001b[0m\u001b[1;34mf\"S.isprintable(' ') is: {s.isprintable(' ')}\"\u001b[0m\u001b[1;33m)\u001b[0m\u001b[1;33m\u001b[0m\u001b[1;33m\u001b[0m\u001b[0m\n\u001b[0m\u001b[0;32m      5\u001b[0m \u001b[0mprint\u001b[0m\u001b[1;33m(\u001b[0m\u001b[1;34mf\"S.isprintable('') is: {s.isprintable('')}\"\u001b[0m\u001b[1;33m)\u001b[0m\u001b[1;33m\u001b[0m\u001b[1;33m\u001b[0m\u001b[0m\n",
      "\u001b[1;31mTypeError\u001b[0m: isprintable() takes no arguments (1 given)"
     ]
    }
   ],
   "source": [
    "s = \"Hi.. hELLo.. hOw Are yoU???\"\n",
    "#print(len(s))\n",
    "print(f\"S.isprintable() is: {s.isprintable()}\") \n",
    "print(f\"S.isprintable(' ') is: {s.isprintable(' ')}\") \n",
    "print(f\"S.isprintable('') is: {s.isprintable('')}\")"
   ]
  },
  {
   "cell_type": "code",
   "execution_count": 48,
   "id": "95618327",
   "metadata": {},
   "outputs": [
    {
     "name": "stdout",
     "output_type": "stream",
     "text": [
      "S.isspace() is: False\n"
     ]
    },
    {
     "ename": "TypeError",
     "evalue": "isspace() takes no arguments (1 given)",
     "output_type": "error",
     "traceback": [
      "\u001b[1;31m---------------------------------------------------------------------------\u001b[0m",
      "\u001b[1;31mTypeError\u001b[0m                                 Traceback (most recent call last)",
      "\u001b[1;32m<ipython-input-48-27720f14ab5b>\u001b[0m in \u001b[0;36m<module>\u001b[1;34m\u001b[0m\n\u001b[0;32m      2\u001b[0m \u001b[1;31m#print(len(s))\u001b[0m\u001b[1;33m\u001b[0m\u001b[1;33m\u001b[0m\u001b[1;33m\u001b[0m\u001b[0m\n\u001b[0;32m      3\u001b[0m \u001b[0mprint\u001b[0m\u001b[1;33m(\u001b[0m\u001b[1;34mf\"S.isspace() is: {s.isspace()}\"\u001b[0m\u001b[1;33m)\u001b[0m\u001b[1;33m\u001b[0m\u001b[1;33m\u001b[0m\u001b[0m\n\u001b[1;32m----> 4\u001b[1;33m \u001b[0mprint\u001b[0m\u001b[1;33m(\u001b[0m\u001b[1;34mf\"S.isspace(' ') is: {s.isspace(' ')}\"\u001b[0m\u001b[1;33m)\u001b[0m\u001b[1;33m\u001b[0m\u001b[1;33m\u001b[0m\u001b[0m\n\u001b[0m\u001b[0;32m      5\u001b[0m \u001b[0mprint\u001b[0m\u001b[1;33m(\u001b[0m\u001b[1;34mf\"S.isspace('') is: {s.isspace('')}\"\u001b[0m\u001b[1;33m)\u001b[0m\u001b[1;33m\u001b[0m\u001b[1;33m\u001b[0m\u001b[0m\n",
      "\u001b[1;31mTypeError\u001b[0m: isspace() takes no arguments (1 given)"
     ]
    }
   ],
   "source": [
    "s = \"Hi.. hELLo.. hOw Are yoU???\"\n",
    "#print(len(s))\n",
    "print(f\"S.isspace() is: {s.isspace()}\") \n",
    "print(f\"S.isspace(' ') is: {s.isspace(' ')}\") \n",
    "print(f\"S.isspace('') is: {s.isspace('')}\")"
   ]
  },
  {
   "cell_type": "code",
   "execution_count": 49,
   "id": "0bd78331",
   "metadata": {},
   "outputs": [
    {
     "name": "stdout",
     "output_type": "stream",
     "text": [
      "S.istitle() is: False\n"
     ]
    },
    {
     "ename": "TypeError",
     "evalue": "istitle() takes no arguments (1 given)",
     "output_type": "error",
     "traceback": [
      "\u001b[1;31m---------------------------------------------------------------------------\u001b[0m",
      "\u001b[1;31mTypeError\u001b[0m                                 Traceback (most recent call last)",
      "\u001b[1;32m<ipython-input-49-d2f8b410620e>\u001b[0m in \u001b[0;36m<module>\u001b[1;34m\u001b[0m\n\u001b[0;32m      2\u001b[0m \u001b[1;31m#print(len(s))\u001b[0m\u001b[1;33m\u001b[0m\u001b[1;33m\u001b[0m\u001b[1;33m\u001b[0m\u001b[0m\n\u001b[0;32m      3\u001b[0m \u001b[0mprint\u001b[0m\u001b[1;33m(\u001b[0m\u001b[1;34mf\"S.istitle() is: {s.istitle()}\"\u001b[0m\u001b[1;33m)\u001b[0m\u001b[1;33m\u001b[0m\u001b[1;33m\u001b[0m\u001b[0m\n\u001b[1;32m----> 4\u001b[1;33m \u001b[0mprint\u001b[0m\u001b[1;33m(\u001b[0m\u001b[1;34mf\"S.istitle(' ') is: {s.istitle(' ')}\"\u001b[0m\u001b[1;33m)\u001b[0m\u001b[1;33m\u001b[0m\u001b[1;33m\u001b[0m\u001b[0m\n\u001b[0m\u001b[0;32m      5\u001b[0m \u001b[0mprint\u001b[0m\u001b[1;33m(\u001b[0m\u001b[1;34mf\"S.istitle('') is: {s.istitle('')}\"\u001b[0m\u001b[1;33m)\u001b[0m\u001b[1;33m\u001b[0m\u001b[1;33m\u001b[0m\u001b[0m\n",
      "\u001b[1;31mTypeError\u001b[0m: istitle() takes no arguments (1 given)"
     ]
    }
   ],
   "source": [
    "s = \"Hi.. hELLo.. hOw Are yoU???\"\n",
    "#print(len(s))\n",
    "print(f\"S.istitle() is: {s.istitle()}\") \n",
    "print(f\"S.istitle(' ') is: {s.istitle(' ')}\") \n",
    "print(f\"S.istitle('') is: {s.istitle('')}\")"
   ]
  },
  {
   "cell_type": "code",
   "execution_count": 50,
   "id": "b0c6f58e",
   "metadata": {},
   "outputs": [
    {
     "name": "stdout",
     "output_type": "stream",
     "text": [
      "S.isupper() is: False\n"
     ]
    },
    {
     "ename": "TypeError",
     "evalue": "isupper() takes no arguments (1 given)",
     "output_type": "error",
     "traceback": [
      "\u001b[1;31m---------------------------------------------------------------------------\u001b[0m",
      "\u001b[1;31mTypeError\u001b[0m                                 Traceback (most recent call last)",
      "\u001b[1;32m<ipython-input-50-9928ec206f4d>\u001b[0m in \u001b[0;36m<module>\u001b[1;34m\u001b[0m\n\u001b[0;32m      2\u001b[0m \u001b[1;31m#print(len(s))\u001b[0m\u001b[1;33m\u001b[0m\u001b[1;33m\u001b[0m\u001b[1;33m\u001b[0m\u001b[0m\n\u001b[0;32m      3\u001b[0m \u001b[0mprint\u001b[0m\u001b[1;33m(\u001b[0m\u001b[1;34mf\"S.isupper() is: {s.isupper()}\"\u001b[0m\u001b[1;33m)\u001b[0m\u001b[1;33m\u001b[0m\u001b[1;33m\u001b[0m\u001b[0m\n\u001b[1;32m----> 4\u001b[1;33m \u001b[0mprint\u001b[0m\u001b[1;33m(\u001b[0m\u001b[1;34mf\"S.isupper(' ') is: {s.isupper(' ')}\"\u001b[0m\u001b[1;33m)\u001b[0m\u001b[1;33m\u001b[0m\u001b[1;33m\u001b[0m\u001b[0m\n\u001b[0m\u001b[0;32m      5\u001b[0m \u001b[0mprint\u001b[0m\u001b[1;33m(\u001b[0m\u001b[1;34mf\"S.isupper('') is: {s.isupper('')}\"\u001b[0m\u001b[1;33m)\u001b[0m\u001b[1;33m\u001b[0m\u001b[1;33m\u001b[0m\u001b[0m\n",
      "\u001b[1;31mTypeError\u001b[0m: isupper() takes no arguments (1 given)"
     ]
    }
   ],
   "source": [
    "s = \"Hi.. hELLo.. hOw Are yoU???\"\n",
    "#print(len(s))\n",
    "print(f\"S.isupper() is: {s.isupper()}\") \n",
    "print(f\"S.isupper(' ') is: {s.isupper(' ')}\") \n",
    "print(f\"S.isupper('') is: {s.isupper('')}\")"
   ]
  },
  {
   "cell_type": "code",
   "execution_count": 54,
   "id": "e926a622",
   "metadata": {},
   "outputs": [
    {
     "name": "stdout",
     "output_type": "stream",
     "text": [
      "S.join(' ') is:  \n",
      "S.join('') is: \n"
     ]
    }
   ],
   "source": [
    "s = \"Hi.. hELLo.. hOw Are yoU???\"\n",
    "#print(len(s))\n",
    "#print(f\"S.join() is: {s.join()}\") \n",
    "print(f\"S.join(' ') is: {s.join(' ')}\") \n",
    "print(f\"S.join('') is: {s.join('')}\")"
   ]
  },
  {
   "cell_type": "code",
   "execution_count": 56,
   "id": "50329478",
   "metadata": {},
   "outputs": [
    {
     "name": "stdout",
     "output_type": "stream",
     "text": [
      "S.ljust(100) is: Hi.. hELLo.. hOw Are yoU???                                                                         \n"
     ]
    },
    {
     "ename": "TypeError",
     "evalue": "'str' object cannot be interpreted as an integer",
     "output_type": "error",
     "traceback": [
      "\u001b[1;31m---------------------------------------------------------------------------\u001b[0m",
      "\u001b[1;31mTypeError\u001b[0m                                 Traceback (most recent call last)",
      "\u001b[1;32m<ipython-input-56-84bdfb424883>\u001b[0m in \u001b[0;36m<module>\u001b[1;34m\u001b[0m\n\u001b[0;32m      2\u001b[0m \u001b[1;31m#print(len(s))\u001b[0m\u001b[1;33m\u001b[0m\u001b[1;33m\u001b[0m\u001b[1;33m\u001b[0m\u001b[0m\n\u001b[0;32m      3\u001b[0m \u001b[0mprint\u001b[0m\u001b[1;33m(\u001b[0m\u001b[1;34mf\"S.ljust(100) is: {s.ljust(100)}\"\u001b[0m\u001b[1;33m)\u001b[0m\u001b[1;33m\u001b[0m\u001b[1;33m\u001b[0m\u001b[0m\n\u001b[1;32m----> 4\u001b[1;33m \u001b[0mprint\u001b[0m\u001b[1;33m(\u001b[0m\u001b[1;34mf\"S.ljust(' ') is: {s.ljust(' ')}\"\u001b[0m\u001b[1;33m)\u001b[0m\u001b[1;33m\u001b[0m\u001b[1;33m\u001b[0m\u001b[0m\n\u001b[0m\u001b[0;32m      5\u001b[0m \u001b[0mprint\u001b[0m\u001b[1;33m(\u001b[0m\u001b[1;34mf\"S.ljust('') is: {s.ljust('')}\"\u001b[0m\u001b[1;33m)\u001b[0m\u001b[1;33m\u001b[0m\u001b[1;33m\u001b[0m\u001b[0m\n",
      "\u001b[1;31mTypeError\u001b[0m: 'str' object cannot be interpreted as an integer"
     ]
    }
   ],
   "source": [
    "s = \"Hi.. hELLo.. hOw Are yoU???\"\n",
    "#print(len(s))\n",
    "print(f\"S.ljust(100) is: {s.ljust(100)}\") \n",
    "print(f\"S.ljust(' ') is: {s.ljust(' ')}\") \n",
    "print(f\"S.ljust('') is: {s.ljust('')}\")"
   ]
  },
  {
   "cell_type": "code",
   "execution_count": 58,
   "id": "632ab502",
   "metadata": {},
   "outputs": [
    {
     "name": "stdout",
     "output_type": "stream",
     "text": [
      "S.lower() is: hi.. hello.. how are you???\n"
     ]
    },
    {
     "ename": "TypeError",
     "evalue": "lower() takes no arguments (1 given)",
     "output_type": "error",
     "traceback": [
      "\u001b[1;31m---------------------------------------------------------------------------\u001b[0m",
      "\u001b[1;31mTypeError\u001b[0m                                 Traceback (most recent call last)",
      "\u001b[1;32m<ipython-input-58-9e0eafb6bebf>\u001b[0m in \u001b[0;36m<module>\u001b[1;34m\u001b[0m\n\u001b[0;32m      2\u001b[0m \u001b[1;31m#print(len(s))\u001b[0m\u001b[1;33m\u001b[0m\u001b[1;33m\u001b[0m\u001b[1;33m\u001b[0m\u001b[0m\n\u001b[0;32m      3\u001b[0m \u001b[0mprint\u001b[0m\u001b[1;33m(\u001b[0m\u001b[1;34mf\"S.lower() is: {s.lower()}\"\u001b[0m\u001b[1;33m)\u001b[0m\u001b[1;33m\u001b[0m\u001b[1;33m\u001b[0m\u001b[0m\n\u001b[1;32m----> 4\u001b[1;33m \u001b[0mprint\u001b[0m\u001b[1;33m(\u001b[0m\u001b[1;34mf\"S.lower('') is: {s.lower('')}\"\u001b[0m\u001b[1;33m)\u001b[0m\u001b[1;33m\u001b[0m\u001b[1;33m\u001b[0m\u001b[0m\n\u001b[0m\u001b[0;32m      5\u001b[0m \u001b[0mprint\u001b[0m\u001b[1;33m(\u001b[0m\u001b[1;34mf\"S.lower(' ') is: {s.lower(' ')}\"\u001b[0m\u001b[1;33m)\u001b[0m\u001b[1;33m\u001b[0m\u001b[1;33m\u001b[0m\u001b[0m\n",
      "\u001b[1;31mTypeError\u001b[0m: lower() takes no arguments (1 given)"
     ]
    }
   ],
   "source": [
    "s = \"Hi.. hELLo.. hOw Are yoU???\"\n",
    "#print(len(s))\n",
    "print(f\"S.lower() is: {s.lower()}\")  \n",
    "print(f\"S.lower('') is: {s.lower('')}\")\n",
    "print(f\"S.lower(' ') is: {s.lower(' ')}\")"
   ]
  },
  {
   "cell_type": "code",
   "execution_count": 60,
   "id": "91e2fe26",
   "metadata": {},
   "outputs": [
    {
     "name": "stdout",
     "output_type": "stream",
     "text": [
      "S.lstrip() is: Hi.. hELLo.. hOw Are yoU???\n",
      "S.lstrip('') is:                   Hi.. hELLo.. hOw Are yoU???\n",
      "S.lstrip(' ') is: Hi.. hELLo.. hOw Are yoU???\n"
     ]
    }
   ],
   "source": [
    "s = \"                  Hi.. hELLo.. hOw Are yoU???\"\n",
    "#print(len(s))\n",
    "print(f\"S.lstrip() is: {s.lstrip()}\")  \n",
    "print(f\"S.lstrip('') is: {s.lstrip('')}\")\n",
    "print(f\"S.lstrip(' ') is: {s.lstrip(' ')}\")"
   ]
  },
  {
   "cell_type": "code",
   "execution_count": 62,
   "id": "b25d6c30",
   "metadata": {},
   "outputs": [
    {
     "ename": "TypeError",
     "evalue": "if you give only one argument to maketrans it must be a dict",
     "output_type": "error",
     "traceback": [
      "\u001b[1;31m---------------------------------------------------------------------------\u001b[0m",
      "\u001b[1;31mTypeError\u001b[0m                                 Traceback (most recent call last)",
      "\u001b[1;32m<ipython-input-62-b8b939d9fe0a>\u001b[0m in \u001b[0;36m<module>\u001b[1;34m\u001b[0m\n\u001b[0;32m      2\u001b[0m \u001b[1;31m#print(len(s))\u001b[0m\u001b[1;33m\u001b[0m\u001b[1;33m\u001b[0m\u001b[1;33m\u001b[0m\u001b[0m\n\u001b[0;32m      3\u001b[0m \u001b[1;31m#print(f\"S.maketrans() is: {s.maketrans()}\")\u001b[0m\u001b[1;33m\u001b[0m\u001b[1;33m\u001b[0m\u001b[1;33m\u001b[0m\u001b[0m\n\u001b[1;32m----> 4\u001b[1;33m \u001b[0mprint\u001b[0m\u001b[1;33m(\u001b[0m\u001b[1;34mf\"S.maketrans('') is: {s.maketrans('')}\"\u001b[0m\u001b[1;33m)\u001b[0m\u001b[1;33m\u001b[0m\u001b[1;33m\u001b[0m\u001b[0m\n\u001b[0m\u001b[0;32m      5\u001b[0m \u001b[0mprint\u001b[0m\u001b[1;33m(\u001b[0m\u001b[1;34mf\"S.maketrans(' ') is: {s.maketrans(' ')}\"\u001b[0m\u001b[1;33m)\u001b[0m\u001b[1;33m\u001b[0m\u001b[1;33m\u001b[0m\u001b[0m\n",
      "\u001b[1;31mTypeError\u001b[0m: if you give only one argument to maketrans it must be a dict"
     ]
    }
   ],
   "source": [
    "s = \"                  Hi.. hELLo.. hOw Are yoU???\"\n",
    "#print(len(s))\n",
    "#print(f\"S.maketrans() is: {s.maketrans()}\")  \n",
    "print(f\"S.maketrans('') is: {s.maketrans('')}\")\n",
    "print(f\"S.maketrans(' ') is: {s.maketrans(' ')}\")"
   ]
  },
  {
   "cell_type": "code",
   "execution_count": 66,
   "id": "f02e6e72",
   "metadata": {},
   "outputs": [
    {
     "name": "stdout",
     "output_type": "stream",
     "text": [
      "S.partition(' ') is: ('Hi..', ' ', 'hELLo.. hOw Are yoU???')\n"
     ]
    },
    {
     "ename": "ValueError",
     "evalue": "empty separator",
     "output_type": "error",
     "traceback": [
      "\u001b[1;31m---------------------------------------------------------------------------\u001b[0m",
      "\u001b[1;31mValueError\u001b[0m                                Traceback (most recent call last)",
      "\u001b[1;32m<ipython-input-66-acb09451fb98>\u001b[0m in \u001b[0;36m<module>\u001b[1;34m\u001b[0m\n\u001b[0;32m      3\u001b[0m \u001b[1;31m#print(f\"S.partition() is: {s.partition()}\")\u001b[0m\u001b[1;33m\u001b[0m\u001b[1;33m\u001b[0m\u001b[1;33m\u001b[0m\u001b[0m\n\u001b[0;32m      4\u001b[0m \u001b[0mprint\u001b[0m\u001b[1;33m(\u001b[0m\u001b[1;34mf\"S.partition(' ') is: {s.partition(' ')}\"\u001b[0m\u001b[1;33m)\u001b[0m\u001b[1;33m\u001b[0m\u001b[1;33m\u001b[0m\u001b[0m\n\u001b[1;32m----> 5\u001b[1;33m \u001b[0mprint\u001b[0m\u001b[1;33m(\u001b[0m\u001b[1;34mf\"S.partition('') is: {s.partition('')}\"\u001b[0m\u001b[1;33m)\u001b[0m\u001b[1;33m\u001b[0m\u001b[1;33m\u001b[0m\u001b[0m\n\u001b[0m",
      "\u001b[1;31mValueError\u001b[0m: empty separator"
     ]
    }
   ],
   "source": [
    "s = \"Hi.. hELLo.. hOw Are yoU???\"\n",
    "#print(len(s))\n",
    "#print(f\"S.partition() is: {s.partition()}\")  \n",
    "print(f\"S.partition(' ') is: {s.partition(' ')}\")\n",
    "print(f\"S.partition('') is: {s.partition('')}\")"
   ]
  },
  {
   "cell_type": "code",
   "execution_count": 68,
   "id": "7712273b",
   "metadata": {},
   "outputs": [
    {
     "name": "stdout",
     "output_type": "stream",
     "text": [
      "S.replace(' ','*') is: Hi..*hELLo..*hOw*Are*yoU???\n",
      "S.replace('','*') is: *H*i*.*.* *h*E*L*L*o*.*.* *h*O*w* *A*r*e* *y*o*U*?*?*?*\n"
     ]
    }
   ],
   "source": [
    "s = \"Hi.. hELLo.. hOw Are yoU???\"\n",
    "#print(len(s))\n",
    "#print(f\"S.replace() is: {s.replace()}\")  \n",
    "print(f\"S.replace(' ','*') is: {s.replace(' ','*')}\")\n",
    "print(f\"S.replace('','*') is: {s.replace('','*')}\")"
   ]
  },
  {
   "cell_type": "code",
   "execution_count": 71,
   "id": "b170993a",
   "metadata": {},
   "outputs": [
    {
     "name": "stdout",
     "output_type": "stream",
     "text": [
      "27\n",
      "S.rfind(' ') is: 20\n",
      "S.rfind('') is: 27\n"
     ]
    }
   ],
   "source": [
    "s = \"Hi.. hELLo.. hOw Are yoU???\"\n",
    "print(len(s))\n",
    "#print(f\"S.rfind() is: {s.rfind()}\")  \n",
    "print(f\"S.rfind(' ') is: {s.rfind(' ')}\")\n",
    "print(f\"S.rfind('') is: {s.rfind('')}\")"
   ]
  },
  {
   "cell_type": "code",
   "execution_count": 73,
   "id": "ffcb9d34",
   "metadata": {},
   "outputs": [
    {
     "name": "stdout",
     "output_type": "stream",
     "text": [
      "27\n",
      "S.rindex(' ') is: 20\n",
      "S.rindex('') is: 27\n"
     ]
    }
   ],
   "source": [
    "s = \"Hi.. hELLo.. hOw Are yoU???\"\n",
    "print(len(s))\n",
    "#print(f\"S.rindex() is: {s.rindex()}\")  \n",
    "print(f\"S.rindex(' ') is: {s.rindex(' ')}\")\n",
    "print(f\"S.rindex('') is: {s.rindex('')}\")"
   ]
  },
  {
   "cell_type": "code",
   "execution_count": 74,
   "id": "a5c27cc1",
   "metadata": {},
   "outputs": [
    {
     "name": "stdout",
     "output_type": "stream",
     "text": [
      "S.rpartition(' ') is: ('Hi.. hELLo.. hOw Are', ' ', 'yoU???')\n"
     ]
    },
    {
     "ename": "ValueError",
     "evalue": "empty separator",
     "output_type": "error",
     "traceback": [
      "\u001b[1;31m---------------------------------------------------------------------------\u001b[0m",
      "\u001b[1;31mValueError\u001b[0m                                Traceback (most recent call last)",
      "\u001b[1;32m<ipython-input-74-f6237287adfb>\u001b[0m in \u001b[0;36m<module>\u001b[1;34m\u001b[0m\n\u001b[0;32m      3\u001b[0m \u001b[1;31m#print(f\"S.rindex() is: {s.rindex()}\")\u001b[0m\u001b[1;33m\u001b[0m\u001b[1;33m\u001b[0m\u001b[1;33m\u001b[0m\u001b[0m\n\u001b[0;32m      4\u001b[0m \u001b[0mprint\u001b[0m\u001b[1;33m(\u001b[0m\u001b[1;34mf\"S.rpartition(' ') is: {s.rpartition(' ')}\"\u001b[0m\u001b[1;33m)\u001b[0m\u001b[1;33m\u001b[0m\u001b[1;33m\u001b[0m\u001b[0m\n\u001b[1;32m----> 5\u001b[1;33m \u001b[0mprint\u001b[0m\u001b[1;33m(\u001b[0m\u001b[1;34mf\"S.rpartition('') is: {s.rpartition('')}\"\u001b[0m\u001b[1;33m)\u001b[0m\u001b[1;33m\u001b[0m\u001b[1;33m\u001b[0m\u001b[0m\n\u001b[0m",
      "\u001b[1;31mValueError\u001b[0m: empty separator"
     ]
    }
   ],
   "source": [
    "s = \"Hi.. hELLo.. hOw Are yoU???\"\n",
    "#print(len(s))\n",
    "#print(f\"S.rindex() is: {s.rindex()}\")  \n",
    "print(f\"S.rpartition(' ') is: {s.rpartition(' ')}\")\n",
    "print(f\"S.rpartition('') is: {s.rpartition('')}\")"
   ]
  },
  {
   "cell_type": "code",
   "execution_count": 75,
   "id": "f784d971",
   "metadata": {},
   "outputs": [
    {
     "name": "stdout",
     "output_type": "stream",
     "text": [
      "S.rsplit() is: ['Hi..', 'hELLo..', 'hOw', 'Are', 'yoU???']\n",
      "S.rsplit(' ') is: ['Hi..', 'hELLo..', 'hOw', 'Are', 'yoU???']\n"
     ]
    },
    {
     "ename": "ValueError",
     "evalue": "empty separator",
     "output_type": "error",
     "traceback": [
      "\u001b[1;31m---------------------------------------------------------------------------\u001b[0m",
      "\u001b[1;31mValueError\u001b[0m                                Traceback (most recent call last)",
      "\u001b[1;32m<ipython-input-75-f2da22a1d123>\u001b[0m in \u001b[0;36m<module>\u001b[1;34m\u001b[0m\n\u001b[0;32m      3\u001b[0m \u001b[0mprint\u001b[0m\u001b[1;33m(\u001b[0m\u001b[1;34mf\"S.rsplit() is: {s.rsplit()}\"\u001b[0m\u001b[1;33m)\u001b[0m\u001b[1;33m\u001b[0m\u001b[1;33m\u001b[0m\u001b[0m\n\u001b[0;32m      4\u001b[0m \u001b[0mprint\u001b[0m\u001b[1;33m(\u001b[0m\u001b[1;34mf\"S.rsplit(' ') is: {s.rsplit(' ')}\"\u001b[0m\u001b[1;33m)\u001b[0m\u001b[1;33m\u001b[0m\u001b[1;33m\u001b[0m\u001b[0m\n\u001b[1;32m----> 5\u001b[1;33m \u001b[0mprint\u001b[0m\u001b[1;33m(\u001b[0m\u001b[1;34mf\"S.rsplit('') is: {s.rsplit('')}\"\u001b[0m\u001b[1;33m)\u001b[0m\u001b[1;33m\u001b[0m\u001b[1;33m\u001b[0m\u001b[0m\n\u001b[0m",
      "\u001b[1;31mValueError\u001b[0m: empty separator"
     ]
    }
   ],
   "source": [
    "s = \"Hi.. hELLo.. hOw Are yoU???\"\n",
    "#print(len(s))\n",
    "print(f\"S.rsplit() is: {s.rsplit()}\")  \n",
    "print(f\"S.rsplit(' ') is: {s.rsplit(' ')}\")\n",
    "print(f\"S.rsplit('') is: {s.rsplit('')}\")"
   ]
  },
  {
   "cell_type": "code",
   "execution_count": 78,
   "id": "fec46ea8",
   "metadata": {},
   "outputs": [
    {
     "name": "stdout",
     "output_type": "stream",
     "text": [
      "S.rstrip() is: Hi.. hELLo.. hOw Are yoU???\n",
      "S.rstrip(' ') is: Hi.. hELLo.. hOw Are yoU???\n",
      "S.rstrip('') is: 'Hi.. hELLo.. hOw Are yoU???                        '\n"
     ]
    }
   ],
   "source": [
    "s = \"Hi.. hELLo.. hOw Are yoU???                        \"\n",
    "#print(len(s))\n",
    "print(f\"S.rstrip() is: {s.rstrip()}\")  \n",
    "print(f\"S.rstrip(' ') is: {s.rstrip(' ')}\")\n",
    "print(f\"S.rstrip('') is: '{s.rstrip('')}'\")"
   ]
  },
  {
   "cell_type": "code",
   "execution_count": 79,
   "id": "752634e9",
   "metadata": {},
   "outputs": [
    {
     "name": "stdout",
     "output_type": "stream",
     "text": [
      "S.split() is: ['Hi..', 'hELLo..', 'hOw', 'Are', 'yoU???']\n",
      "S.split(' ') is: ['Hi..', 'hELLo..', 'hOw', 'Are', 'yoU???']\n"
     ]
    },
    {
     "ename": "ValueError",
     "evalue": "empty separator",
     "output_type": "error",
     "traceback": [
      "\u001b[1;31m---------------------------------------------------------------------------\u001b[0m",
      "\u001b[1;31mValueError\u001b[0m                                Traceback (most recent call last)",
      "\u001b[1;32m<ipython-input-79-c3e7c7c1268b>\u001b[0m in \u001b[0;36m<module>\u001b[1;34m\u001b[0m\n\u001b[0;32m      3\u001b[0m \u001b[0mprint\u001b[0m\u001b[1;33m(\u001b[0m\u001b[1;34mf\"S.split() is: {s.split()}\"\u001b[0m\u001b[1;33m)\u001b[0m\u001b[1;33m\u001b[0m\u001b[1;33m\u001b[0m\u001b[0m\n\u001b[0;32m      4\u001b[0m \u001b[0mprint\u001b[0m\u001b[1;33m(\u001b[0m\u001b[1;34mf\"S.split(' ') is: {s.split(' ')}\"\u001b[0m\u001b[1;33m)\u001b[0m\u001b[1;33m\u001b[0m\u001b[1;33m\u001b[0m\u001b[0m\n\u001b[1;32m----> 5\u001b[1;33m \u001b[0mprint\u001b[0m\u001b[1;33m(\u001b[0m\u001b[1;34mf\"S.split('') is: {s.split('')}\"\u001b[0m\u001b[1;33m)\u001b[0m\u001b[1;33m\u001b[0m\u001b[1;33m\u001b[0m\u001b[0m\n\u001b[0m",
      "\u001b[1;31mValueError\u001b[0m: empty separator"
     ]
    }
   ],
   "source": [
    "s = \"Hi.. hELLo.. hOw Are yoU???\"\n",
    "#print(len(s))\n",
    "print(f\"S.split() is: {s.split()}\")  \n",
    "print(f\"S.split(' ') is: {s.split(' ')}\")\n",
    "print(f\"S.split('') is: {s.split('')}\")"
   ]
  },
  {
   "cell_type": "code",
   "execution_count": 81,
   "id": "3f8bd02d",
   "metadata": {},
   "outputs": [
    {
     "name": "stdout",
     "output_type": "stream",
     "text": [
      "S.splitlines() is: ['Hi.. hELLo.. hOw Are yoU??? ', 'Hi.. hELLo.. hOw Are yoU??? ', 'Hi.. hELLo.. hOw Are yoU??? ', 'Hi.. hELLo.. hOw Are yoU???']\n"
     ]
    },
    {
     "ename": "TypeError",
     "evalue": "an integer is required (got type str)",
     "output_type": "error",
     "traceback": [
      "\u001b[1;31m---------------------------------------------------------------------------\u001b[0m",
      "\u001b[1;31mTypeError\u001b[0m                                 Traceback (most recent call last)",
      "\u001b[1;32m<ipython-input-81-fa94f7e5041f>\u001b[0m in \u001b[0;36m<module>\u001b[1;34m\u001b[0m\n\u001b[0;32m      2\u001b[0m \u001b[1;31m#print(len(s))\u001b[0m\u001b[1;33m\u001b[0m\u001b[1;33m\u001b[0m\u001b[1;33m\u001b[0m\u001b[0m\n\u001b[0;32m      3\u001b[0m \u001b[0mprint\u001b[0m\u001b[1;33m(\u001b[0m\u001b[1;34mf\"S.splitlines() is: {s.splitlines()}\"\u001b[0m\u001b[1;33m)\u001b[0m\u001b[1;33m\u001b[0m\u001b[1;33m\u001b[0m\u001b[0m\n\u001b[1;32m----> 4\u001b[1;33m \u001b[0mprint\u001b[0m\u001b[1;33m(\u001b[0m\u001b[1;34mf\"S.splitlines('') is: {s.splitlines('')}\"\u001b[0m\u001b[1;33m)\u001b[0m\u001b[1;33m\u001b[0m\u001b[1;33m\u001b[0m\u001b[0m\n\u001b[0m\u001b[0;32m      5\u001b[0m \u001b[0mprint\u001b[0m\u001b[1;33m(\u001b[0m\u001b[1;34mf\"S.splitlines(' ') is: {s.splitlines(' ')}\"\u001b[0m\u001b[1;33m)\u001b[0m\u001b[1;33m\u001b[0m\u001b[1;33m\u001b[0m\u001b[0m\n",
      "\u001b[1;31mTypeError\u001b[0m: an integer is required (got type str)"
     ]
    }
   ],
   "source": [
    "s = \"Hi.. hELLo.. hOw Are yoU??? \\nHi.. hELLo.. hOw Are yoU??? \\nHi.. hELLo.. hOw Are yoU??? \\nHi.. hELLo.. hOw Are yoU???\"\n",
    "#print(len(s))\n",
    "print(f\"S.splitlines() is: {s.splitlines()}\")  \n",
    "print(f\"S.splitlines('') is: {s.splitlines('')}\")\n",
    "print(f\"S.splitlines(' ') is: {s.splitlines(' ')}\")"
   ]
  },
  {
   "cell_type": "code",
   "execution_count": 83,
   "id": "f7c9a979",
   "metadata": {},
   "outputs": [
    {
     "name": "stdout",
     "output_type": "stream",
     "text": [
      "S.startswith(' ') is: False\n",
      "S.startswith('') is: True\n"
     ]
    }
   ],
   "source": [
    "s = \"Hi.. hELLo.. hOw Are yoU???\"\n",
    "#print(len(s))\n",
    "#print(f\"S.startswith() is: {s.startswith()}\")  \n",
    "print(f\"S.startswith(' ') is: {s.startswith(' ')}\")\n",
    "print(f\"S.startswith('') is: {s.startswith('')}\")"
   ]
  },
  {
   "cell_type": "code",
   "execution_count": 84,
   "id": "8c5f4ef6",
   "metadata": {},
   "outputs": [
    {
     "name": "stdout",
     "output_type": "stream",
     "text": [
      "S.strip() is: 'Hi.. hELLo.. hOw Are yoU???'\n",
      "S.strip(' ') is: 'Hi.. hELLo.. hOw Are yoU???'\n",
      "S.strip('') is: '           Hi.. hELLo.. hOw Are yoU???                '\n"
     ]
    }
   ],
   "source": [
    "s = \"           Hi.. hELLo.. hOw Are yoU???                \"\n",
    "#print(len(s))\n",
    "print(f\"S.strip() is: '{s.strip()}'\")  \n",
    "print(f\"S.strip(' ') is: '{s.strip(' ')}'\")\n",
    "print(f\"S.strip('') is: '{s.strip('')}'\")"
   ]
  },
  {
   "cell_type": "code",
   "execution_count": 86,
   "id": "4b5cb764",
   "metadata": {},
   "outputs": [
    {
     "name": "stdout",
     "output_type": "stream",
     "text": [
      "S.swapcase() is: 'hI.. HellO.. HoW aRE YOu???'\n"
     ]
    },
    {
     "ename": "TypeError",
     "evalue": "swapcase() takes no arguments (1 given)",
     "output_type": "error",
     "traceback": [
      "\u001b[1;31m---------------------------------------------------------------------------\u001b[0m",
      "\u001b[1;31mTypeError\u001b[0m                                 Traceback (most recent call last)",
      "\u001b[1;32m<ipython-input-86-57eca98bb46d>\u001b[0m in \u001b[0;36m<module>\u001b[1;34m\u001b[0m\n\u001b[0;32m      2\u001b[0m \u001b[1;31m#print(len(s))\u001b[0m\u001b[1;33m\u001b[0m\u001b[1;33m\u001b[0m\u001b[1;33m\u001b[0m\u001b[0m\n\u001b[0;32m      3\u001b[0m \u001b[0mprint\u001b[0m\u001b[1;33m(\u001b[0m\u001b[1;34mf\"S.swapcase() is: '{s.swapcase()}'\"\u001b[0m\u001b[1;33m)\u001b[0m\u001b[1;33m\u001b[0m\u001b[1;33m\u001b[0m\u001b[0m\n\u001b[1;32m----> 4\u001b[1;33m \u001b[0mprint\u001b[0m\u001b[1;33m(\u001b[0m\u001b[1;34mf\"S.swapcase(' ') is: '{s.swapcase(' ')}'\"\u001b[0m\u001b[1;33m)\u001b[0m\u001b[1;33m\u001b[0m\u001b[1;33m\u001b[0m\u001b[0m\n\u001b[0m\u001b[0;32m      5\u001b[0m \u001b[0mprint\u001b[0m\u001b[1;33m(\u001b[0m\u001b[1;34mf\"S.swapcase('') is: '{s.swapcase('')}'\"\u001b[0m\u001b[1;33m)\u001b[0m\u001b[1;33m\u001b[0m\u001b[1;33m\u001b[0m\u001b[0m\n",
      "\u001b[1;31mTypeError\u001b[0m: swapcase() takes no arguments (1 given)"
     ]
    }
   ],
   "source": [
    "s = \"Hi.. hELLo.. hOw Are yoU???\"\n",
    "#print(len(s))\n",
    "print(f\"S.swapcase() is: '{s.swapcase()}'\")  \n",
    "print(f\"S.swapcase(' ') is: '{s.swapcase(' ')}'\")\n",
    "print(f\"S.swapcase('') is: '{s.swapcase('')}'\")"
   ]
  },
  {
   "cell_type": "code",
   "execution_count": 87,
   "id": "0e73a445",
   "metadata": {},
   "outputs": [
    {
     "name": "stdout",
     "output_type": "stream",
     "text": [
      "S.title() is: 'Hi.. Hello.. How Are You???'\n"
     ]
    },
    {
     "ename": "TypeError",
     "evalue": "title() takes no arguments (1 given)",
     "output_type": "error",
     "traceback": [
      "\u001b[1;31m---------------------------------------------------------------------------\u001b[0m",
      "\u001b[1;31mTypeError\u001b[0m                                 Traceback (most recent call last)",
      "\u001b[1;32m<ipython-input-87-26b6fb0fa106>\u001b[0m in \u001b[0;36m<module>\u001b[1;34m\u001b[0m\n\u001b[0;32m      2\u001b[0m \u001b[1;31m#print(len(s))\u001b[0m\u001b[1;33m\u001b[0m\u001b[1;33m\u001b[0m\u001b[1;33m\u001b[0m\u001b[0m\n\u001b[0;32m      3\u001b[0m \u001b[0mprint\u001b[0m\u001b[1;33m(\u001b[0m\u001b[1;34mf\"S.title() is: '{s.title()}'\"\u001b[0m\u001b[1;33m)\u001b[0m\u001b[1;33m\u001b[0m\u001b[1;33m\u001b[0m\u001b[0m\n\u001b[1;32m----> 4\u001b[1;33m \u001b[0mprint\u001b[0m\u001b[1;33m(\u001b[0m\u001b[1;34mf\"S.title(' ') is: '{s.title(' ')}'\"\u001b[0m\u001b[1;33m)\u001b[0m\u001b[1;33m\u001b[0m\u001b[1;33m\u001b[0m\u001b[0m\n\u001b[0m\u001b[0;32m      5\u001b[0m \u001b[0mprint\u001b[0m\u001b[1;33m(\u001b[0m\u001b[1;34mf\"S.title('') is: '{s.title('')}'\"\u001b[0m\u001b[1;33m)\u001b[0m\u001b[1;33m\u001b[0m\u001b[1;33m\u001b[0m\u001b[0m\n",
      "\u001b[1;31mTypeError\u001b[0m: title() takes no arguments (1 given)"
     ]
    }
   ],
   "source": [
    "s = \"Hi.. hELLo.. hOw Are yoU???\"\n",
    "#print(len(s))\n",
    "print(f\"S.title() is: '{s.title()}'\")  \n",
    "print(f\"S.title(' ') is: '{s.title(' ')}'\")\n",
    "print(f\"S.title('') is: '{s.title('')}'\")"
   ]
  },
  {
   "cell_type": "code",
   "execution_count": 89,
   "id": "fea0ed0a",
   "metadata": {},
   "outputs": [
    {
     "name": "stdout",
     "output_type": "stream",
     "text": [
      "S.translate(' ') is: 'Hi.. hELLo.. hOw Are yoU???'\n",
      "S.translate('') is: 'Hi.. hELLo.. hOw Are yoU???'\n"
     ]
    }
   ],
   "source": [
    "s = \"Hi.. hELLo.. hOw Are yoU???\"\n",
    "#print(len(s))\n",
    "#print(f\"S.translate() is: '{s.translate()}'\")  \n",
    "print(f\"S.translate(' ') is: '{s.translate(' ')}'\")\n",
    "print(f\"S.translate('') is: '{s.translate('')}'\")\n",
    "print(f\"S.translate('') is: '{s.translate('')}'\")"
   ]
  },
  {
   "cell_type": "code",
   "execution_count": 91,
   "id": "b05ca27a",
   "metadata": {},
   "outputs": [],
   "source": [
    "s.translate?"
   ]
  },
  {
   "cell_type": "code",
   "execution_count": 92,
   "id": "7b27ea43",
   "metadata": {},
   "outputs": [
    {
     "name": "stdout",
     "output_type": "stream",
     "text": [
      "S.upper() is: 'HI.. HELLO.. HOW ARE YOU???'\n"
     ]
    },
    {
     "ename": "TypeError",
     "evalue": "upper() takes no arguments (1 given)",
     "output_type": "error",
     "traceback": [
      "\u001b[1;31m---------------------------------------------------------------------------\u001b[0m",
      "\u001b[1;31mTypeError\u001b[0m                                 Traceback (most recent call last)",
      "\u001b[1;32m<ipython-input-92-e48007360607>\u001b[0m in \u001b[0;36m<module>\u001b[1;34m\u001b[0m\n\u001b[0;32m      2\u001b[0m \u001b[1;31m#print(len(s))\u001b[0m\u001b[1;33m\u001b[0m\u001b[1;33m\u001b[0m\u001b[1;33m\u001b[0m\u001b[0m\n\u001b[0;32m      3\u001b[0m \u001b[0mprint\u001b[0m\u001b[1;33m(\u001b[0m\u001b[1;34mf\"S.upper() is: '{s.upper()}'\"\u001b[0m\u001b[1;33m)\u001b[0m\u001b[1;33m\u001b[0m\u001b[1;33m\u001b[0m\u001b[0m\n\u001b[1;32m----> 4\u001b[1;33m \u001b[0mprint\u001b[0m\u001b[1;33m(\u001b[0m\u001b[1;34mf\"S.upper(' ') is: '{s.upper(' ')}'\"\u001b[0m\u001b[1;33m)\u001b[0m\u001b[1;33m\u001b[0m\u001b[1;33m\u001b[0m\u001b[0m\n\u001b[0m\u001b[0;32m      5\u001b[0m \u001b[0mprint\u001b[0m\u001b[1;33m(\u001b[0m\u001b[1;34mf\"S.upper('') is: '{s.upper('')}'\"\u001b[0m\u001b[1;33m)\u001b[0m\u001b[1;33m\u001b[0m\u001b[1;33m\u001b[0m\u001b[0m\n",
      "\u001b[1;31mTypeError\u001b[0m: upper() takes no arguments (1 given)"
     ]
    }
   ],
   "source": [
    "s = \"Hi.. hELLo.. hOw Are yoU???\"\n",
    "#print(len(s))\n",
    "print(f\"S.upper() is: '{s.upper()}'\")  \n",
    "print(f\"S.upper(' ') is: '{s.upper(' ')}'\")\n",
    "print(f\"S.upper('') is: '{s.upper('')}'\")"
   ]
  },
  {
   "cell_type": "code",
   "execution_count": 94,
   "id": "8e8c6738",
   "metadata": {},
   "outputs": [
    {
     "ename": "TypeError",
     "evalue": "'str' object cannot be interpreted as an integer",
     "output_type": "error",
     "traceback": [
      "\u001b[1;31m---------------------------------------------------------------------------\u001b[0m",
      "\u001b[1;31mTypeError\u001b[0m                                 Traceback (most recent call last)",
      "\u001b[1;32m<ipython-input-94-e643958fb3eb>\u001b[0m in \u001b[0;36m<module>\u001b[1;34m\u001b[0m\n\u001b[0;32m      2\u001b[0m \u001b[1;31m#print(len(s))\u001b[0m\u001b[1;33m\u001b[0m\u001b[1;33m\u001b[0m\u001b[1;33m\u001b[0m\u001b[0m\n\u001b[0;32m      3\u001b[0m \u001b[1;31m#print(f\"S.zfill() is: '{s.zfill()}'\")\u001b[0m\u001b[1;33m\u001b[0m\u001b[1;33m\u001b[0m\u001b[1;33m\u001b[0m\u001b[0m\n\u001b[1;32m----> 4\u001b[1;33m \u001b[0mprint\u001b[0m\u001b[1;33m(\u001b[0m\u001b[1;34mf\"S.zfill(' ') is: '{s.zfill(' ')}'\"\u001b[0m\u001b[1;33m)\u001b[0m\u001b[1;33m\u001b[0m\u001b[1;33m\u001b[0m\u001b[0m\n\u001b[0m\u001b[0;32m      5\u001b[0m \u001b[0mprint\u001b[0m\u001b[1;33m(\u001b[0m\u001b[1;34mf\"S.zfill('') is: '{s.zfill('')}'\"\u001b[0m\u001b[1;33m)\u001b[0m\u001b[1;33m\u001b[0m\u001b[1;33m\u001b[0m\u001b[0m\n",
      "\u001b[1;31mTypeError\u001b[0m: 'str' object cannot be interpreted as an integer"
     ]
    }
   ],
   "source": [
    "s = \"Hi.. hELLo.. hOw Are yoU???\"\n",
    "#print(len(s))\n",
    "#print(f\"S.zfill() is: '{s.zfill()}'\")  \n",
    "print(f\"S.zfill(' ') is: '{s.zfill(' ')}'\")\n",
    "print(f\"S.zfill('') is: '{s.zfill('')}'\")"
   ]
  },
  {
   "cell_type": "code",
   "execution_count": null,
   "id": "7091e245",
   "metadata": {},
   "outputs": [],
   "source": []
  }
 ],
 "metadata": {
  "kernelspec": {
   "display_name": "Python 3",
   "language": "python",
   "name": "python3"
  },
  "language_info": {
   "codemirror_mode": {
    "name": "ipython",
    "version": 3
   },
   "file_extension": ".py",
   "mimetype": "text/x-python",
   "name": "python",
   "nbconvert_exporter": "python",
   "pygments_lexer": "ipython3",
   "version": "3.8.8"
  }
 },
 "nbformat": 4,
 "nbformat_minor": 5
}
