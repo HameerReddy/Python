{
 "cells": [
  {
   "cell_type": "code",
   "execution_count": 7,
   "id": "c9c328fb",
   "metadata": {},
   "outputs": [
    {
     "name": "stdout",
     "output_type": "stream",
     "text": [
      "a=10,b=20,c=30,d=40,e=50\n",
      "result= 150\n"
     ]
    },
    {
     "ename": "TypeError",
     "evalue": "add() missing 2 required positional arguments: 'd' and 'e'",
     "output_type": "error",
     "traceback": [
      "\u001b[1;31m---------------------------------------------------------------------------\u001b[0m",
      "\u001b[1;31mTypeError\u001b[0m                                 Traceback (most recent call last)",
      "\u001b[1;32m<ipython-input-7-fceb3432fd3f>\u001b[0m in \u001b[0;36m<module>\u001b[1;34m\u001b[0m\n\u001b[0;32m      4\u001b[0m     \u001b[0mprint\u001b[0m\u001b[1;33m(\u001b[0m\u001b[1;34m\"result=\"\u001b[0m\u001b[1;33m,\u001b[0m \u001b[0mres\u001b[0m\u001b[1;33m)\u001b[0m\u001b[1;33m\u001b[0m\u001b[1;33m\u001b[0m\u001b[0m\n\u001b[0;32m      5\u001b[0m \u001b[0madd\u001b[0m\u001b[1;33m(\u001b[0m\u001b[1;36m10\u001b[0m\u001b[1;33m,\u001b[0m\u001b[1;36m20\u001b[0m\u001b[1;33m,\u001b[0m\u001b[1;36m30\u001b[0m\u001b[1;33m,\u001b[0m\u001b[1;36m40\u001b[0m\u001b[1;33m,\u001b[0m\u001b[1;36m50\u001b[0m\u001b[1;33m)\u001b[0m\u001b[1;33m\u001b[0m\u001b[1;33m\u001b[0m\u001b[0m\n\u001b[1;32m----> 6\u001b[1;33m \u001b[0madd\u001b[0m\u001b[1;33m(\u001b[0m\u001b[1;36m10\u001b[0m\u001b[1;33m,\u001b[0m\u001b[1;36m20\u001b[0m\u001b[1;33m,\u001b[0m\u001b[1;36m30\u001b[0m\u001b[1;33m)\u001b[0m\u001b[1;33m\u001b[0m\u001b[1;33m\u001b[0m\u001b[0m\n\u001b[0m",
      "\u001b[1;31mTypeError\u001b[0m: add() missing 2 required positional arguments: 'd' and 'e'"
     ]
    }
   ],
   "source": [
    "def add(a,b,c,d,e):\n",
    "    print(f\"a={a},b={b},c={c},d={d},e={e}\")\n",
    "    res = a+b+c+d+e\n",
    "    print(\"result=\", res)\n",
    "add(10,20,30,40,50)\n",
    "add(10,20,30)"
   ]
  },
  {
   "cell_type": "code",
   "execution_count": 6,
   "id": "c2b100c4",
   "metadata": {},
   "outputs": [
    {
     "name": "stdout",
     "output_type": "stream",
     "text": [
      "a=10,b=20,c=30,d=40,e=50\n",
      "result= 150\n"
     ]
    },
    {
     "ename": "TypeError",
     "evalue": "add() missing 2 required positional arguments: 'd' and 'e'",
     "output_type": "error",
     "traceback": [
      "\u001b[1;31m---------------------------------------------------------------------------\u001b[0m",
      "\u001b[1;31mTypeError\u001b[0m                                 Traceback (most recent call last)",
      "\u001b[1;32m<ipython-input-6-fceb3432fd3f>\u001b[0m in \u001b[0;36m<module>\u001b[1;34m\u001b[0m\n\u001b[0;32m      4\u001b[0m     \u001b[0mprint\u001b[0m\u001b[1;33m(\u001b[0m\u001b[1;34m\"result=\"\u001b[0m\u001b[1;33m,\u001b[0m \u001b[0mres\u001b[0m\u001b[1;33m)\u001b[0m\u001b[1;33m\u001b[0m\u001b[1;33m\u001b[0m\u001b[0m\n\u001b[0;32m      5\u001b[0m \u001b[0madd\u001b[0m\u001b[1;33m(\u001b[0m\u001b[1;36m10\u001b[0m\u001b[1;33m,\u001b[0m\u001b[1;36m20\u001b[0m\u001b[1;33m,\u001b[0m\u001b[1;36m30\u001b[0m\u001b[1;33m,\u001b[0m\u001b[1;36m40\u001b[0m\u001b[1;33m,\u001b[0m\u001b[1;36m50\u001b[0m\u001b[1;33m)\u001b[0m\u001b[1;33m\u001b[0m\u001b[1;33m\u001b[0m\u001b[0m\n\u001b[1;32m----> 6\u001b[1;33m \u001b[0madd\u001b[0m\u001b[1;33m(\u001b[0m\u001b[1;36m10\u001b[0m\u001b[1;33m,\u001b[0m\u001b[1;36m20\u001b[0m\u001b[1;33m,\u001b[0m\u001b[1;36m30\u001b[0m\u001b[1;33m)\u001b[0m\u001b[1;33m\u001b[0m\u001b[1;33m\u001b[0m\u001b[0m\n\u001b[0m",
      "\u001b[1;31mTypeError\u001b[0m: add() missing 2 required positional arguments: 'd' and 'e'"
     ]
    }
   ],
   "source": [
    "def add(a,b,c,d,e):\n",
    "    print(f\"a={a},b={b},c={c},d={d},e={e}\")\n",
    "    res = a+b+c+d+e\n",
    "    print(\"result=\", res)\n",
    "add(10,20,30,40,50)\n",
    "add(10,20,30)"
   ]
  },
  {
   "cell_type": "code",
   "execution_count": 8,
   "id": "c2a1dfd3",
   "metadata": {},
   "outputs": [
    {
     "name": "stdout",
     "output_type": "stream",
     "text": [
      "a=10,b=20,c=30,d=40,e=50\n",
      "result= 150\n",
      "a=10,b=20,c=30,d=0,e=0\n",
      "result= 60\n"
     ]
    }
   ],
   "source": [
    "def add(a,b=0,c=0,d=0,e=0):\n",
    "    print(f\"a={a},b={b},c={c},d={d},e={e}\")\n",
    "    res = a+b+c+d+e\n",
    "    print(\"result=\", res)\n",
    "add(10,20,30,40,50)\n",
    "add(10,20,30)"
   ]
  },
  {
   "cell_type": "code",
   "execution_count": 9,
   "id": "b54d5595",
   "metadata": {},
   "outputs": [
    {
     "name": "stdout",
     "output_type": "stream",
     "text": [
      "a=10,b=20,c=30,d=40,e=50\n",
      "result= 150\n",
      "a=10,b=20,c=30,d=0,e=0\n",
      "result= 60\n"
     ]
    }
   ],
   "source": [
    "def add(a=0,b=0,c=0,d=0,e=0):\n",
    "    print(f\"a={a},b={b},c={c},d={d},e={e}\")\n",
    "    res = a+b+c+d+e\n",
    "    print(\"result=\", res)\n",
    "add(10,20,30,40,50)\n",
    "add(10,20,30)"
   ]
  },
  {
   "cell_type": "code",
   "execution_count": 12,
   "id": "1b0d69ff",
   "metadata": {},
   "outputs": [
    {
     "name": "stdout",
     "output_type": "stream",
     "text": [
      "a=0,b=0,c=0,d=0,e=0\n",
      "result= 0\n",
      "a=10,b=0,c=0,d=0,e=0\n",
      "result= 10\n",
      "a=10,b=20,c=0,d=0,e=0\n",
      "result= 30\n",
      "a=10,b=20,c=30,d=0,e=0\n",
      "result= 60\n",
      "a=10,b=20,c=30,d=40,e=0\n",
      "result= 100\n",
      "a=10,b=20,c=30,d=40,e=50\n",
      "result= 150\n"
     ]
    },
    {
     "ename": "TypeError",
     "evalue": "add() takes from 0 to 5 positional arguments but 6 were given",
     "output_type": "error",
     "traceback": [
      "\u001b[1;31m---------------------------------------------------------------------------\u001b[0m",
      "\u001b[1;31mTypeError\u001b[0m                                 Traceback (most recent call last)",
      "\u001b[1;32m<ipython-input-12-44740b1f5f21>\u001b[0m in \u001b[0;36m<module>\u001b[1;34m\u001b[0m\n\u001b[0;32m      9\u001b[0m \u001b[0madd\u001b[0m\u001b[1;33m(\u001b[0m\u001b[1;36m10\u001b[0m\u001b[1;33m,\u001b[0m\u001b[1;36m20\u001b[0m\u001b[1;33m,\u001b[0m\u001b[1;36m30\u001b[0m\u001b[1;33m,\u001b[0m\u001b[1;36m40\u001b[0m\u001b[1;33m)\u001b[0m\u001b[1;33m\u001b[0m\u001b[1;33m\u001b[0m\u001b[0m\n\u001b[0;32m     10\u001b[0m \u001b[0madd\u001b[0m\u001b[1;33m(\u001b[0m\u001b[1;36m10\u001b[0m\u001b[1;33m,\u001b[0m\u001b[1;36m20\u001b[0m\u001b[1;33m,\u001b[0m\u001b[1;36m30\u001b[0m\u001b[1;33m,\u001b[0m\u001b[1;36m40\u001b[0m\u001b[1;33m,\u001b[0m\u001b[1;36m50\u001b[0m\u001b[1;33m)\u001b[0m\u001b[1;33m\u001b[0m\u001b[1;33m\u001b[0m\u001b[0m\n\u001b[1;32m---> 11\u001b[1;33m \u001b[0madd\u001b[0m\u001b[1;33m(\u001b[0m\u001b[1;36m10\u001b[0m\u001b[1;33m,\u001b[0m\u001b[1;36m20\u001b[0m\u001b[1;33m,\u001b[0m\u001b[1;36m30\u001b[0m\u001b[1;33m,\u001b[0m\u001b[1;36m40\u001b[0m\u001b[1;33m,\u001b[0m\u001b[1;36m50\u001b[0m\u001b[1;33m,\u001b[0m\u001b[1;36m60\u001b[0m\u001b[1;33m)\u001b[0m\u001b[1;33m\u001b[0m\u001b[1;33m\u001b[0m\u001b[0m\n\u001b[0m",
      "\u001b[1;31mTypeError\u001b[0m: add() takes from 0 to 5 positional arguments but 6 were given"
     ]
    }
   ],
   "source": [
    "def add(a=0,b=0,c=0,d=0,e=0):\n",
    "    print(f\"a={a},b={b},c={c},d={d},e={e}\")\n",
    "    res = a+b+c+d+e\n",
    "    print(\"result=\", res)\n",
    "add()\n",
    "add(10)\n",
    "add(10,20)\n",
    "add(10,20,30)\n",
    "add(10,20,30,40)\n",
    "add(10,20,30,40,50)\n",
    "add(10,20,30,40,50,60)"
   ]
  },
  {
   "cell_type": "code",
   "execution_count": 6,
   "id": "9464d511",
   "metadata": {},
   "outputs": [
    {
     "name": "stdout",
     "output_type": "stream",
     "text": [
      "before function definition x=1000, y=2000, z=3000\n",
      "After function definition befor calling x=1000, y=2000, z=3000\n",
      "inside function definition x=1000, y=200, z=123\n",
      "After function definition and calling x=1000, y=2000, z=3000\n"
     ]
    }
   ],
   "source": [
    "x=1000\n",
    "y=2000\n",
    "z=3000\n",
    "print(f\"before function definition x={x}, y={y}, z={z}\")\n",
    "def fun(z):\n",
    "    y=200\n",
    "    print(f\"inside function definition x={x}, y={y}, z={z}\")\n",
    "print(f\"After function definition befor calling x={x}, y={y}, z={z}\")\n",
    "fun(123)\n",
    "print(f\"After function definition and calling x={x}, y={y}, z={z}\")"
   ]
  },
  {
   "cell_type": "code",
   "execution_count": 8,
   "id": "4eebf051",
   "metadata": {},
   "outputs": [
    {
     "name": "stdout",
     "output_type": "stream",
     "text": [
      "before function definition x=1000, y=2000, z=3000\n",
      "After function definition befor calling x=1000, y=2000, z=3000\n",
      "inside function definition x=1000, y=567, z=123\n",
      "After function definition and calling x=1000, y=567, z=3000\n"
     ]
    }
   ],
   "source": [
    "x=1000\n",
    "y=2000\n",
    "z=3000\n",
    "print(f\"before function definition x={x}, y={y}, z={z}\")\n",
    "def fun(z):\n",
    "    global y\n",
    "    y=567\n",
    "    print(f\"inside function definition x={x}, y={y}, z={z}\")\n",
    "print(f\"After function definition befor calling x={x}, y={y}, z={z}\")\n",
    "fun(123)\n",
    "print(f\"After function definition and calling x={x}, y={y}, z={z}\")"
   ]
  },
  {
   "cell_type": "code",
   "execution_count": 9,
   "id": "bc7d0dfc",
   "metadata": {},
   "outputs": [
    {
     "name": "stdout",
     "output_type": "stream",
     "text": [
      "<function fun at 0x000001BD66B5F8B0>\n"
     ]
    }
   ],
   "source": [
    "print(fun) # means not calling.. but printing the reference of the \"fun\" object"
   ]
  },
  {
   "cell_type": "code",
   "execution_count": 12,
   "id": "8c3200f1",
   "metadata": {},
   "outputs": [
    {
     "name": "stdout",
     "output_type": "stream",
     "text": [
      "l= [1, 2, 3]\n",
      "l= [1000, 2, 3]\n"
     ]
    }
   ],
   "source": [
    "l =[1,2,3]\n",
    "print(\"l=\",l)\n",
    "def fun(x):\n",
    "    x[0] = 1000\n",
    "fun(l)\n",
    "print(\"l=\",l)"
   ]
  },
  {
   "cell_type": "code",
   "execution_count": 13,
   "id": "1b845c36",
   "metadata": {},
   "outputs": [
    {
     "name": "stdout",
     "output_type": "stream",
     "text": [
      "a= 1000\n",
      "l= 1000\n"
     ]
    }
   ],
   "source": [
    "a =1000\n",
    "print(\"a=\",a)\n",
    "def fun(x):\n",
    "    x = 2000\n",
    "fun(a)\n",
    "print(\"l=\",a)"
   ]
  },
  {
   "cell_type": "code",
   "execution_count": 17,
   "id": "684fc264",
   "metadata": {},
   "outputs": [
    {
     "name": "stdout",
     "output_type": "stream",
     "text": [
      "inside a=1000, b=2000, c=4000, x=1000, y=2000, z=3000\n",
      "after call a=1000, b=2000, c=3000, x=[], y=[], z=3000\n",
      "inside a=1000, b=2000, c=4000, x=1000, y=3000, z=4000\n",
      "after call a=1000, b=2000, c=3000, x=[], y=[], z=4000\n",
      "inside a=1000, b=2000, c=4000, x=2000, y=3000, z=5000\n"
     ]
    }
   ],
   "source": [
    "a=1000\n",
    "b=2000\n",
    "c=3000\n",
    "def add(x,y):\n",
    "    global z\n",
    "    z = x+y\n",
    "    c = 4000\n",
    "    print(f\"inside a={a}, b={b}, c={c}, x={x}, y={y}, z={z}\")\n",
    "add(a,b)\n",
    "print(f\"after call a={a}, b={b}, c={c}, x={x}, y={y}, z={z}\")\n",
    "add(a,c)\n",
    "print(f\"after call a={a}, b={b}, c={c}, x={x}, y={y}, z={z}\")\n",
    "add(b,c)"
   ]
  },
  {
   "cell_type": "code",
   "execution_count": 16,
   "id": "8276f76f",
   "metadata": {},
   "outputs": [],
   "source": [
    "x=[]\n",
    "y=[]\n",
    "z=[]"
   ]
  },
  {
   "cell_type": "code",
   "execution_count": 1,
   "id": "efd62c4b",
   "metadata": {},
   "outputs": [],
   "source": [
    "def add(x,y):\n",
    "    res = x+y\n",
    "add(10,20)"
   ]
  },
  {
   "cell_type": "code",
   "execution_count": 3,
   "id": "d2d5fbc8",
   "metadata": {},
   "outputs": [
    {
     "name": "stdout",
     "output_type": "stream",
     "text": [
      "None\n"
     ]
    }
   ],
   "source": [
    "def add(x,y):\n",
    "    res = x+y\n",
    "    return\n",
    "res1 = add(10,20)\n",
    "print(res1)"
   ]
  },
  {
   "cell_type": "code",
   "execution_count": 5,
   "id": "e0752fb3",
   "metadata": {},
   "outputs": [
    {
     "name": "stdout",
     "output_type": "stream",
     "text": [
      "res= 30\n",
      "None\n"
     ]
    }
   ],
   "source": [
    "def add(x,y):\n",
    "    res = x+y\n",
    "    print(\"res=\",res)\n",
    "    return\n",
    "res1 = add(10,20)\n",
    "print(res1)"
   ]
  },
  {
   "cell_type": "code",
   "execution_count": 6,
   "id": "8d0d6a6e",
   "metadata": {},
   "outputs": [
    {
     "name": "stdout",
     "output_type": "stream",
     "text": [
      "result= None\n"
     ]
    }
   ],
   "source": [
    "def calc(x,y):\n",
    "    res1 = x+y\n",
    "    res2 = x - y\n",
    "    res3 = x*y\n",
    "    res4 = x/y\n",
    "    return\n",
    "result = calc(10,20)\n",
    "print(\"result=\",result)"
   ]
  },
  {
   "cell_type": "code",
   "execution_count": 7,
   "id": "9e0f39bf",
   "metadata": {},
   "outputs": [
    {
     "name": "stdout",
     "output_type": "stream",
     "text": [
      "result= Hello\n"
     ]
    }
   ],
   "source": [
    "def calc(x,y):\n",
    "    res1 = x+y\n",
    "    res2 = x - y\n",
    "    res3 = x*y\n",
    "    res4 = x/y\n",
    "    return \"Hello\"\n",
    "result = calc(10,20)\n",
    "print(\"result=\",result)"
   ]
  },
  {
   "cell_type": "code",
   "execution_count": 8,
   "id": "90926ae9",
   "metadata": {},
   "outputs": [
    {
     "name": "stdout",
     "output_type": "stream",
     "text": [
      "result= 200\n"
     ]
    }
   ],
   "source": [
    "def calc(x,y):\n",
    "    res1 = x+y\n",
    "    res2 = x - y\n",
    "    res3 = x*y\n",
    "    res4 = x/y\n",
    "    return 200\n",
    "result = calc(10,20)\n",
    "print(\"result=\",result)"
   ]
  },
  {
   "cell_type": "code",
   "execution_count": 9,
   "id": "85f02aa7",
   "metadata": {},
   "outputs": [
    {
     "name": "stdout",
     "output_type": "stream",
     "text": [
      "result= 30\n"
     ]
    }
   ],
   "source": [
    "def calc(x,y):\n",
    "    res1 = x+y\n",
    "    res2 = x - y\n",
    "    res3 = x*y\n",
    "    res4 = x/y\n",
    "    return res1\n",
    "result = calc(10,20)\n",
    "print(\"result=\",result)"
   ]
  },
  {
   "cell_type": "code",
   "execution_count": 10,
   "id": "a107b8dc",
   "metadata": {},
   "outputs": [
    {
     "name": "stdout",
     "output_type": "stream",
     "text": [
      "result= -10\n"
     ]
    }
   ],
   "source": [
    "def calc(x,y):\n",
    "    res1 = x+y\n",
    "    res2 = x - y\n",
    "    res3 = x*y\n",
    "    res4 = x/y\n",
    "    return res2\n",
    "result = calc(10,20)\n",
    "print(\"result=\",result)"
   ]
  },
  {
   "cell_type": "code",
   "execution_count": 11,
   "id": "84f73e77",
   "metadata": {},
   "outputs": [
    {
     "name": "stdout",
     "output_type": "stream",
     "text": [
      "result= 200\n"
     ]
    }
   ],
   "source": [
    "def calc(x,y):\n",
    "    res1 = x+y\n",
    "    res2 = x - y\n",
    "    res3 = x*y\n",
    "    res4 = x/y\n",
    "    return res3\n",
    "result = calc(10,20)\n",
    "print(\"result=\",result)"
   ]
  },
  {
   "cell_type": "code",
   "execution_count": 12,
   "id": "1601b7af",
   "metadata": {},
   "outputs": [
    {
     "name": "stdout",
     "output_type": "stream",
     "text": [
      "result= 0.5\n"
     ]
    }
   ],
   "source": [
    "def calc(x,y):\n",
    "    res1 = x+y\n",
    "    res2 = x - y\n",
    "    res3 = x*y\n",
    "    res4 = x/y\n",
    "    return res4\n",
    "result = calc(10,20)\n",
    "print(\"result=\",result)"
   ]
  },
  {
   "cell_type": "code",
   "execution_count": 13,
   "id": "c6448928",
   "metadata": {},
   "outputs": [
    {
     "name": "stdout",
     "output_type": "stream",
     "text": [
      "result= (30, -10, -10, 200)\n"
     ]
    }
   ],
   "source": [
    "def calc(x,y):\n",
    "    res1 = x+y\n",
    "    res2 = x - y\n",
    "    res3 = x*y\n",
    "    res4 = x/y\n",
    "    return res1, res2, res2, res3\n",
    "result = calc(10,20)\n",
    "print(\"result=\",result)"
   ]
  },
  {
   "cell_type": "code",
   "execution_count": 14,
   "id": "f0389e9b",
   "metadata": {},
   "outputs": [
    {
     "name": "stdout",
     "output_type": "stream",
     "text": [
      "result= [30, -10, -10, 200]\n"
     ]
    }
   ],
   "source": [
    "def calc(x,y):\n",
    "    res1 = x+y\n",
    "    res2 = x - y\n",
    "    res3 = x*y\n",
    "    res4 = x/y\n",
    "    return [res1, res2, res2, res3]\n",
    "result = calc(10,20)\n",
    "print(\"result=\",result)"
   ]
  },
  {
   "cell_type": "code",
   "execution_count": 15,
   "id": "6234a706",
   "metadata": {},
   "outputs": [
    {
     "name": "stdout",
     "output_type": "stream",
     "text": [
      "result= {'result': [30, -10, -10, 200]}\n"
     ]
    }
   ],
   "source": [
    "def calc(x,y):\n",
    "    res1 = x+y\n",
    "    res2 = x - y\n",
    "    res3 = x*y\n",
    "    res4 = x/y\n",
    "    return {\"result\":[res1, res2, res2, res3]}\n",
    "result = calc(10,20)\n",
    "print(\"result=\",result)"
   ]
  },
  {
   "cell_type": "code",
   "execution_count": 20,
   "id": "abebad17",
   "metadata": {},
   "outputs": [
    {
     "name": "stdout",
     "output_type": "stream",
     "text": [
      "HYD\n",
      "result= 10\n"
     ]
    }
   ],
   "source": [
    "def fun():\n",
    "    print(\"HYD\")\n",
    "    return 10\n",
    "    print(\"BANG\")\n",
    "    return 20\n",
    "    print(\"PUNE\")\n",
    "    return 30\n",
    "res = fun()\n",
    "print(\"result=\",res)"
   ]
  },
  {
   "cell_type": "code",
   "execution_count": 19,
   "id": "bee302d7",
   "metadata": {},
   "outputs": [
    {
     "name": "stdout",
     "output_type": "stream",
     "text": [
      "HYD\n",
      "BANG\n",
      "result= 20\n"
     ]
    }
   ],
   "source": [
    "def fun():\n",
    "    print(\"HYD\")\n",
    "    if False: \n",
    "        return 10\n",
    "    print(\"BANG\")\n",
    "    return 20\n",
    "    print(\"PUNE\")\n",
    "    return 30\n",
    "res = fun()\n",
    "print(\"result=\",res)"
   ]
  },
  {
   "cell_type": "code",
   "execution_count": 18,
   "id": "a00351d4",
   "metadata": {},
   "outputs": [
    {
     "name": "stdout",
     "output_type": "stream",
     "text": [
      "HYD\n",
      "BANG\n",
      "PUNE\n",
      "result= 30\n"
     ]
    }
   ],
   "source": [
    "def fun():\n",
    "    print(\"HYD\")\n",
    "    if False: \n",
    "        return 10\n",
    "    print(\"BANG\")\n",
    "    if 1>2:\n",
    "        return 20\n",
    "    print(\"PUNE\")\n",
    "    return 30\n",
    "res = fun()\n",
    "print(\"result=\",res)"
   ]
  },
  {
   "cell_type": "code",
   "execution_count": 24,
   "id": "9b05353b",
   "metadata": {},
   "outputs": [
    {
     "name": "stdout",
     "output_type": "stream",
     "text": [
      "positive\n"
     ]
    }
   ],
   "source": [
    "def check_posi_neg(x):\n",
    "    return \"negative\" if x<0 else \"positive\" \n",
    "print(check_posi_neg(1))"
   ]
  },
  {
   "cell_type": "code",
   "execution_count": 28,
   "id": "d84b49e3",
   "metadata": {},
   "outputs": [
    {
     "data": {
      "text/plain": [
       "'Atleast on alphabet is there..!!'"
      ]
     },
     "execution_count": 28,
     "metadata": {},
     "output_type": "execute_result"
    }
   ],
   "source": [
    "def check_alpha(x):\n",
    "    for i in x:\n",
    "        if (\"a\"<=i and i<=\"z\"):\n",
    "            return \"Atleast on alphabet is there..!!\"\n",
    "    else:\n",
    "        return \"No alphabet in the given string..!!\"\n",
    "check_alpha(\"1a234314\")"
   ]
  },
  {
   "cell_type": "code",
   "execution_count": 29,
   "id": "a50c8f55",
   "metadata": {},
   "outputs": [
    {
     "name": "stdout",
     "output_type": "stream",
     "text": [
      "result= <generator object fun at 0x000001D4E6F64C10>\n"
     ]
    }
   ],
   "source": [
    "def fun():\n",
    "    print(\"HYD\")\n",
    "    yield 10\n",
    "    print(\"BANG\")\n",
    "    yield 20\n",
    "    print(\"PUNE\")\n",
    "    yield 30\n",
    "res = fun()\n",
    "print(\"result=\",res)"
   ]
  },
  {
   "cell_type": "code",
   "execution_count": 38,
   "id": "c2dba271",
   "metadata": {},
   "outputs": [
    {
     "name": "stdout",
     "output_type": "stream",
     "text": [
      "result= <generator object fun at 0x000001D4E6F64E40>\n",
      "h1\n",
      "HYD\n",
      "res1= 10\n",
      "h2\n",
      "BANG\n",
      "res2= 20\n",
      "h3\n",
      "PUNE\n",
      "res3= 30\n"
     ]
    }
   ],
   "source": [
    "def fun():\n",
    "    print(\"h1\")\n",
    "    print(\"HYD\")\n",
    "    yield 10\n",
    "    print(\"h2\")\n",
    "    print(\"BANG\")\n",
    "    yield 20\n",
    "    print(\"h3\")\n",
    "    print(\"PUNE\")\n",
    "    yield 30\n",
    "res = fun()\n",
    "print(\"result=\",res)\n",
    "res1 = next(res)\n",
    "print(\"res1=\",res1)\n",
    "res2 = next(res)\n",
    "print(\"res2=\",res2)\n",
    "res3 = next(res)\n",
    "print(\"res3=\",res3)"
   ]
  },
  {
   "cell_type": "code",
   "execution_count": 37,
   "id": "d3c48687",
   "metadata": {},
   "outputs": [
    {
     "name": "stdout",
     "output_type": "stream",
     "text": [
      "result= <generator object fun at 0x000001D4E6F64040>\n",
      "h1\n",
      "HYD\n",
      "res1= 10\n",
      "h2\n",
      "BANG\n",
      "res2= 20\n",
      "h3\n",
      "PUNE\n",
      "res3= 30\n"
     ]
    },
    {
     "ename": "StopIteration",
     "evalue": "",
     "output_type": "error",
     "traceback": [
      "\u001b[1;31m---------------------------------------------------------------------------\u001b[0m",
      "\u001b[1;31mStopIteration\u001b[0m                             Traceback (most recent call last)",
      "\u001b[1;32m<ipython-input-37-9121ea15d7b3>\u001b[0m in \u001b[0;36m<module>\u001b[1;34m\u001b[0m\n\u001b[0;32m     17\u001b[0m \u001b[0mres3\u001b[0m \u001b[1;33m=\u001b[0m \u001b[0mnext\u001b[0m\u001b[1;33m(\u001b[0m\u001b[0mres\u001b[0m\u001b[1;33m)\u001b[0m\u001b[1;33m\u001b[0m\u001b[1;33m\u001b[0m\u001b[0m\n\u001b[0;32m     18\u001b[0m \u001b[0mprint\u001b[0m\u001b[1;33m(\u001b[0m\u001b[1;34m\"res3=\"\u001b[0m\u001b[1;33m,\u001b[0m\u001b[0mres3\u001b[0m\u001b[1;33m)\u001b[0m\u001b[1;33m\u001b[0m\u001b[1;33m\u001b[0m\u001b[0m\n\u001b[1;32m---> 19\u001b[1;33m \u001b[0mres4\u001b[0m \u001b[1;33m=\u001b[0m \u001b[0mnext\u001b[0m\u001b[1;33m(\u001b[0m\u001b[0mres\u001b[0m\u001b[1;33m)\u001b[0m\u001b[1;33m\u001b[0m\u001b[1;33m\u001b[0m\u001b[0m\n\u001b[0m\u001b[0;32m     20\u001b[0m \u001b[0mprint\u001b[0m\u001b[1;33m(\u001b[0m\u001b[1;34m\"res4=\"\u001b[0m\u001b[1;33m,\u001b[0m\u001b[0mres4\u001b[0m\u001b[1;33m)\u001b[0m\u001b[1;33m\u001b[0m\u001b[1;33m\u001b[0m\u001b[0m\n",
      "\u001b[1;31mStopIteration\u001b[0m: "
     ]
    }
   ],
   "source": [
    "def fun():\n",
    "    print(\"h1\")\n",
    "    print(\"HYD\")\n",
    "    yield 10\n",
    "    print(\"h2\")\n",
    "    print(\"BANG\")\n",
    "    yield 20\n",
    "    print(\"h3\")\n",
    "    print(\"PUNE\")\n",
    "    yield 30\n",
    "res = fun()\n",
    "print(\"result=\",res)\n",
    "res1 = next(res)\n",
    "print(\"res1=\",res1)\n",
    "res2 = next(res)\n",
    "print(\"res2=\",res2)\n",
    "res3 = next(res)\n",
    "print(\"res3=\",res3)\n",
    "res4 = next(res)\n",
    "print(\"res4=\",res4)"
   ]
  },
  {
   "cell_type": "code",
   "execution_count": 42,
   "id": "bb2071b8",
   "metadata": {},
   "outputs": [
    {
     "name": "stdout",
     "output_type": "stream",
     "text": [
      "result= <generator object fun at 0x000001D4E6F84430>\n",
      "h1\n",
      "HYD\n",
      "Iteration started\n",
      "i= 10\n",
      "Iteration ended\n",
      "h2\n",
      "BANG\n",
      "Iteration started\n",
      "i= 20\n",
      "Iteration ended\n",
      "h3\n",
      "PUNE\n",
      "Iteration started\n",
      "i= 30\n",
      "Iteration ended\n",
      "DONE\n"
     ]
    }
   ],
   "source": [
    "def fun():\n",
    "    print(\"h1\")\n",
    "    print(\"HYD\")\n",
    "    yield 10\n",
    "    print(\"h2\")\n",
    "    print(\"BANG\")\n",
    "    yield 20\n",
    "    print(\"h3\")\n",
    "    print(\"PUNE\")\n",
    "    yield 30\n",
    "res = fun()\n",
    "print(\"result=\",res)\n",
    "for i in res:\n",
    "    print(\"Iteration started\")\n",
    "    print(\"i=\",i)\n",
    "    print(\"Iteration ended\")\n",
    "print(\"DONE\")"
   ]
  },
  {
   "cell_type": "code",
   "execution_count": 43,
   "id": "58f0c8da",
   "metadata": {},
   "outputs": [
    {
     "name": "stdout",
     "output_type": "stream",
     "text": [
      "result= <generator object fun at 0x000001D4E6F844A0>\n",
      "h1\n",
      "HYD\n",
      "Iteration 0 started\n",
      "i= 10\n",
      "Iteration 0 ended\n",
      "h2\n",
      "BANG\n",
      "Iteration 1 started\n",
      "i= 20\n",
      "Iteration 1 ended\n",
      "h3\n",
      "PUNE\n",
      "Iteration 2 started\n",
      "i= 30\n",
      "Iteration 2 ended\n",
      "DONE\n"
     ]
    }
   ],
   "source": [
    "def fun():\n",
    "    print(\"h1\")\n",
    "    print(\"HYD\")\n",
    "    yield 10\n",
    "    print(\"h2\")\n",
    "    print(\"BANG\")\n",
    "    yield 20\n",
    "    print(\"h3\")\n",
    "    print(\"PUNE\")\n",
    "    yield 30\n",
    "res = fun()\n",
    "print(\"result=\",res)\n",
    "c=0\n",
    "for i in res:\n",
    "    print(\"Iteration %s started\"%c)\n",
    "    print(\"i=\",i)\n",
    "    print(\"Iteration %s ended\"%c)\n",
    "    c=c+1\n",
    "print(\"DONE\")"
   ]
  },
  {
   "cell_type": "code",
   "execution_count": 1,
   "id": "99015b06",
   "metadata": {},
   "outputs": [
    {
     "name": "stdout",
     "output_type": "stream",
     "text": [
      "30\n",
      "-10\n",
      "200\n"
     ]
    }
   ],
   "source": [
    "def add(x,y):\n",
    "    return x+y\n",
    "def sub(x,y):\n",
    "    return x-y\n",
    "def mul(x,y):\n",
    "    return x*y\n",
    "print(add(10,20))\n",
    "print(sub(10,20))\n",
    "print(mul(10,20))"
   ]
  },
  {
   "cell_type": "code",
   "execution_count": 2,
   "id": "3b02bf84",
   "metadata": {},
   "outputs": [
    {
     "name": "stdout",
     "output_type": "stream",
     "text": [
      "x=10, y=20\n",
      "30\n",
      "x=10, y=20\n",
      "-10\n",
      "x=10, y=20\n",
      "200\n"
     ]
    }
   ],
   "source": [
    "def add(x,y):\n",
    "    print(f\"x={x}, y={y}\")\n",
    "    return x+y\n",
    "def sub(x,y):\n",
    "    print(f\"x={x}, y={y}\")\n",
    "    return x-y\n",
    "def mul(x,y):\n",
    "    print(f\"x={x}, y={y}\")\n",
    "    return x*y\n",
    "print(add(10,20))\n",
    "print(sub(10,20))\n",
    "print(mul(10,20))"
   ]
  },
  {
   "cell_type": "code",
   "execution_count": 4,
   "id": "fba0783d",
   "metadata": {},
   "outputs": [
    {
     "name": "stdout",
     "output_type": "stream",
     "text": [
      "x=10, y=20\n",
      "result= 30\n",
      "x=10, y=20\n",
      "result= -10\n",
      "x=10, y=20\n",
      "result= 200\n"
     ]
    }
   ],
   "source": [
    "def add(x,y):\n",
    "    print(f\"x={x}, y={y}\")\n",
    "    return \"result= %s\"%(x+y)\n",
    "def sub(x,y):\n",
    "    print(f\"x={x}, y={y}\")\n",
    "    return \"result= %s\"%(x-y)\n",
    "def mul(x,y):\n",
    "    print(f\"x={x}, y={y}\")\n",
    "    return \"result= %s\"%(x*y)\n",
    "print(add(10,20))\n",
    "print(sub(10,20))\n",
    "print(mul(10,20))"
   ]
  },
  {
   "cell_type": "code",
   "execution_count": 5,
   "id": "bbf99f66",
   "metadata": {},
   "outputs": [
    {
     "name": "stdout",
     "output_type": "stream",
     "text": [
      "x=10, y=20\n",
      "result= 30\n",
      "x=10, y=20\n",
      "result= -10\n",
      "x=10, y=20\n",
      "result= 200\n"
     ]
    }
   ],
   "source": [
    "def print_values(x,y):\n",
    "    print(f\"x={x}, y={y}\")\n",
    "def add(x,y):\n",
    "    print_values(x,y)\n",
    "    return \"result= %s\"%(x+y)\n",
    "def sub(x,y):\n",
    "    print_values(x,y)\n",
    "    return \"result= %s\"%(x-y)\n",
    "def mul(x,y):\n",
    "    print_values(x,y)\n",
    "    return \"result= %s\"%(x*y)\n",
    "print(add(10,20))\n",
    "print(sub(10,20))\n",
    "print(mul(10,20))"
   ]
  },
  {
   "cell_type": "code",
   "execution_count": 6,
   "id": "37e43228",
   "metadata": {},
   "outputs": [
    {
     "name": "stdout",
     "output_type": "stream",
     "text": [
      "2000\n",
      "x=10, y=20\n",
      "x=10, y=20\n",
      "result= 30 result= 30\n",
      "x=2000, y=200\n",
      "result= 2200\n",
      "<function add at 0x00000219E2B86D30>\n",
      "x=10, y=20\n",
      "res3= result= 30\n"
     ]
    }
   ],
   "source": [
    "def fun(x,y):\n",
    "    return x+y\n",
    "def take_fun(fun_para):\n",
    "    print(fun_para)\n",
    "    res3 = fun_para(10,20)\n",
    "    print(\"res3=\", res3)\n",
    "a = 2000\n",
    "# both a and add are references\n",
    "b = a\n",
    "# able to assign a reference to b reference..\n",
    "print(b)\n",
    "# like above I can assign add to other references \n",
    "add1 = add\n",
    "res = add(10,20)\n",
    "res1 = add(10,20)\n",
    "print(res, res1)\n",
    "res2 = add(a,200)\n",
    "print(res2)\n",
    "take_fun(add)"
   ]
  },
  {
   "cell_type": "code",
   "execution_count": 7,
   "id": "f3fdebe7",
   "metadata": {},
   "outputs": [
    {
     "name": "stdout",
     "output_type": "stream",
     "text": [
      "This is outer\n",
      "This is inner\n",
      "x=10, y=20\n"
     ]
    }
   ],
   "source": [
    "def outer():\n",
    "    print(\"This is outer\")\n",
    "    def inner(x,y):\n",
    "        print(\"This is inner\")\n",
    "        print(f\"x={x}, y={y}\")\n",
    "    inner(10,20)\n",
    "outer()"
   ]
  },
  {
   "cell_type": "code",
   "execution_count": 8,
   "id": "349fe2f6",
   "metadata": {},
   "outputs": [
    {
     "name": "stdout",
     "output_type": "stream",
     "text": [
      "This is outer\n"
     ]
    },
    {
     "ename": "NameError",
     "evalue": "name 'inner' is not defined",
     "output_type": "error",
     "traceback": [
      "\u001b[1;31m---------------------------------------------------------------------------\u001b[0m",
      "\u001b[1;31mNameError\u001b[0m                                 Traceback (most recent call last)",
      "\u001b[1;32m<ipython-input-8-11b3e529c478>\u001b[0m in \u001b[0;36m<module>\u001b[1;34m\u001b[0m\n\u001b[0;32m      6\u001b[0m     \u001b[1;31m#inner(10,20)\u001b[0m\u001b[1;33m\u001b[0m\u001b[1;33m\u001b[0m\u001b[1;33m\u001b[0m\u001b[0m\n\u001b[0;32m      7\u001b[0m \u001b[0mouter\u001b[0m\u001b[1;33m(\u001b[0m\u001b[1;33m)\u001b[0m\u001b[1;33m\u001b[0m\u001b[1;33m\u001b[0m\u001b[0m\n\u001b[1;32m----> 8\u001b[1;33m \u001b[0minner\u001b[0m\u001b[1;33m(\u001b[0m\u001b[1;36m10\u001b[0m\u001b[1;33m,\u001b[0m\u001b[1;36m20\u001b[0m\u001b[1;33m)\u001b[0m\u001b[1;33m\u001b[0m\u001b[1;33m\u001b[0m\u001b[0m\n\u001b[0m",
      "\u001b[1;31mNameError\u001b[0m: name 'inner' is not defined"
     ]
    }
   ],
   "source": [
    "def outer():\n",
    "    print(\"This is outer\")\n",
    "    def inner(x,y):\n",
    "        print(\"This is inner\")\n",
    "        print(f\"x={x}, y={y}\")\n",
    "    #inner(10,20)\n",
    "outer()\n",
    "inner(10,20)"
   ]
  },
  {
   "cell_type": "code",
   "execution_count": 9,
   "id": "8d57140a",
   "metadata": {},
   "outputs": [
    {
     "ename": "NameError",
     "evalue": "name 'inner' is not defined",
     "output_type": "error",
     "traceback": [
      "\u001b[1;31m---------------------------------------------------------------------------\u001b[0m",
      "\u001b[1;31mNameError\u001b[0m                                 Traceback (most recent call last)",
      "\u001b[1;32m<ipython-input-9-28f836574255>\u001b[0m in \u001b[0;36m<module>\u001b[1;34m\u001b[0m\n\u001b[0;32m      5\u001b[0m         \u001b[0mprint\u001b[0m\u001b[1;33m(\u001b[0m\u001b[1;34mf\"x={x}, y={y}\"\u001b[0m\u001b[1;33m)\u001b[0m\u001b[1;33m\u001b[0m\u001b[1;33m\u001b[0m\u001b[0m\n\u001b[0;32m      6\u001b[0m     \u001b[1;31m#inner(10,20)\u001b[0m\u001b[1;33m\u001b[0m\u001b[1;33m\u001b[0m\u001b[1;33m\u001b[0m\u001b[0m\n\u001b[1;32m----> 7\u001b[1;33m \u001b[0mouter\u001b[0m\u001b[1;33m(\u001b[0m\u001b[0minner\u001b[0m\u001b[1;33m(\u001b[0m\u001b[1;36m10\u001b[0m\u001b[1;33m,\u001b[0m\u001b[1;36m20\u001b[0m\u001b[1;33m)\u001b[0m\u001b[1;33m)\u001b[0m\u001b[1;33m\u001b[0m\u001b[1;33m\u001b[0m\u001b[0m\n\u001b[0m",
      "\u001b[1;31mNameError\u001b[0m: name 'inner' is not defined"
     ]
    }
   ],
   "source": [
    "def outer():\n",
    "    print(\"This is outer\")\n",
    "    def inner(x,y):\n",
    "        print(\"This is inner\")\n",
    "        print(f\"x={x}, y={y}\")\n",
    "    #inner(10,20)\n",
    "outer(inner(10,20))\n"
   ]
  },
  {
   "cell_type": "code",
   "execution_count": 10,
   "id": "7d1b5fc4",
   "metadata": {},
   "outputs": [
    {
     "ename": "NameError",
     "evalue": "name 'inner' is not defined",
     "output_type": "error",
     "traceback": [
      "\u001b[1;31m---------------------------------------------------------------------------\u001b[0m",
      "\u001b[1;31mNameError\u001b[0m                                 Traceback (most recent call last)",
      "\u001b[1;32m<ipython-input-10-cbf9633ffe59>\u001b[0m in \u001b[0;36m<module>\u001b[1;34m\u001b[0m\n\u001b[0;32m      5\u001b[0m         \u001b[0mprint\u001b[0m\u001b[1;33m(\u001b[0m\u001b[1;34mf\"x={x}, y={y}\"\u001b[0m\u001b[1;33m)\u001b[0m\u001b[1;33m\u001b[0m\u001b[1;33m\u001b[0m\u001b[0m\n\u001b[0;32m      6\u001b[0m     \u001b[1;31m#inner(10,20)\u001b[0m\u001b[1;33m\u001b[0m\u001b[1;33m\u001b[0m\u001b[1;33m\u001b[0m\u001b[0m\n\u001b[1;32m----> 7\u001b[1;33m \u001b[0minner\u001b[0m\u001b[1;33m(\u001b[0m\u001b[1;36m10\u001b[0m\u001b[1;33m,\u001b[0m\u001b[1;36m20\u001b[0m\u001b[1;33m)\u001b[0m\u001b[1;33m\u001b[0m\u001b[1;33m\u001b[0m\u001b[0m\n\u001b[0m",
      "\u001b[1;31mNameError\u001b[0m: name 'inner' is not defined"
     ]
    }
   ],
   "source": [
    "def outer():\n",
    "    print(\"This is outer\")\n",
    "    def inner(x,y):\n",
    "        print(\"This is inner\")\n",
    "        print(f\"x={x}, y={y}\")\n",
    "    #inner(10,20)\n",
    "inner(10,20)"
   ]
  },
  {
   "cell_type": "code",
   "execution_count": 11,
   "id": "559ff8d5",
   "metadata": {},
   "outputs": [
    {
     "name": "stdout",
     "output_type": "stream",
     "text": [
      "Value: 30\n"
     ]
    }
   ],
   "source": [
    "def fun(x,y):\n",
    "    res = x+y\n",
    "    return res\n",
    "value =fun(10,20)\n",
    "print(\"Value:\",value)"
   ]
  },
  {
   "cell_type": "code",
   "execution_count": 12,
   "id": "f17d4e5d",
   "metadata": {},
   "outputs": [
    {
     "name": "stdout",
     "output_type": "stream",
     "text": [
      "This is outer\n"
     ]
    }
   ],
   "source": [
    "def outer():\n",
    "    print(\"This is outer\")\n",
    "    def inner(x,y):\n",
    "        print(\"This is inner\")\n",
    "        print(f\"x={x}, y={y}\")\n",
    "    return inner\n",
    "    #inner(10,20)\n",
    "inner_outer_ref = outer()"
   ]
  },
  {
   "cell_type": "code",
   "execution_count": 13,
   "id": "84b1b7b5",
   "metadata": {},
   "outputs": [
    {
     "name": "stdout",
     "output_type": "stream",
     "text": [
      "This is outer\n",
      "This is inner\n",
      "x=10, y=20\n"
     ]
    }
   ],
   "source": [
    "# Outer is a closure\n",
    "def outer():\n",
    "    print(\"This is outer\")\n",
    "    def inner(x,y):\n",
    "        print(\"This is inner\")\n",
    "        print(f\"x={x}, y={y}\")\n",
    "    return inner\n",
    "    #inner(10,20)\n",
    "inner_outer_ref = outer()\n",
    "inner_outer_ref(10,20)"
   ]
  },
  {
   "cell_type": "code",
   "execution_count": 16,
   "id": "d8c5063d",
   "metadata": {},
   "outputs": [
    {
     "name": "stdout",
     "output_type": "stream",
     "text": [
      "This is outer\n",
      "This is inner\n",
      "x=10, y=20\n",
      "result= 30\n"
     ]
    }
   ],
   "source": [
    "# Outer is a closure\n",
    "def add(x,y):\n",
    "    return x+y\n",
    "def outer(fun_ref):\n",
    "    print(\"This is outer\")\n",
    "    def inner(x,y):\n",
    "        print(\"This is inner\")\n",
    "        print(f\"x={x}, y={y}\")\n",
    "        res = fun_ref(x,y)\n",
    "        print(\"result=\", res)\n",
    "    return inner\n",
    "    #inner(10,20)\n",
    "inner_outer_ref = outer(add)\n",
    "inner_outer_ref(10,20)"
   ]
  },
  {
   "cell_type": "code",
   "execution_count": 18,
   "id": "21bdeebf",
   "metadata": {},
   "outputs": [
    {
     "name": "stdout",
     "output_type": "stream",
     "text": [
      "This is outer\n",
      "This is inner\n",
      "x=10, y=20\n",
      "result= 30\n",
      "None\n"
     ]
    }
   ],
   "source": [
    "# Outer is a closure\n",
    "def add(x,y):\n",
    "    return x+y\n",
    "def outer(fun_ref):\n",
    "    print(\"This is outer\")\n",
    "    def inner(x,y):\n",
    "        print(\"This is inner\")\n",
    "        print(f\"x={x}, y={y}\")\n",
    "        res = fun_ref(x,y)\n",
    "        print(\"result=\", res)\n",
    "    return inner\n",
    "    #inner(10,20)\n",
    "print(add(10,20))"
   ]
  },
  {
   "cell_type": "code",
   "execution_count": 20,
   "id": "be158ff5",
   "metadata": {},
   "outputs": [
    {
     "name": "stdout",
     "output_type": "stream",
     "text": [
      "This is outer\n",
      "This is inner\n",
      "x=10, y=20\n",
      "result= 30\n",
      "None\n"
     ]
    }
   ],
   "source": [
    "# Outer is a closure\n",
    "\n",
    "def outer(fun_ref):\n",
    "    print(\"This is outer\")\n",
    "    def inner(x,y):\n",
    "        print(\"This is inner\")\n",
    "        print(f\"x={x}, y={y}\")\n",
    "        res = fun_ref(x,y)\n",
    "        print(\"result=\", res)\n",
    "    return inner\n",
    "    #inner(10,20)\n",
    "@outer\n",
    "def add(x,y):\n",
    "    return x+y\n",
    "print(add(10,20))"
   ]
  },
  {
   "cell_type": "code",
   "execution_count": 21,
   "id": "1516499a",
   "metadata": {},
   "outputs": [
    {
     "name": "stdout",
     "output_type": "stream",
     "text": [
      "This is outer\n",
      "This is outer\n",
      "This is outer\n",
      "This is inner\n",
      "x=10, y=20\n",
      "result= 30\n",
      "None\n",
      "This is inner\n",
      "x=10, y=20\n",
      "result= -10\n",
      "None\n",
      "This is inner\n",
      "x=10, y=20\n",
      "result= 200\n",
      "None\n"
     ]
    }
   ],
   "source": [
    "def outer(fun_ref):\n",
    "    print(\"This is outer\")\n",
    "    def inner(x,y):\n",
    "        print(\"This is inner\")\n",
    "        print(f\"x={x}, y={y}\")\n",
    "        res = fun_ref(x,y)\n",
    "        print(\"result=\", res)\n",
    "    return inner\n",
    "@outer\n",
    "def add(x,y):\n",
    "    return x+y\n",
    "@outer\n",
    "def sub(x,y):\n",
    "    return x-y\n",
    "@outer\n",
    "def mul(x,y):\n",
    "    return x*y\n",
    "print(add(10,20))\n",
    "print(sub(10,20))\n",
    "print(mul(10,20))"
   ]
  },
  {
   "cell_type": "code",
   "execution_count": 23,
   "id": "ce70f64c",
   "metadata": {},
   "outputs": [
    {
     "name": "stdout",
     "output_type": "stream",
     "text": [
      "This is outer\n",
      "This is outer\n",
      "This is outer\n"
     ]
    }
   ],
   "source": [
    "def outer(fun_ref):\n",
    "    print(\"This is outer\")\n",
    "    def inner(x,y):\n",
    "        print(\"This is inner\")\n",
    "        print(f\"x={x}, y={y}\")\n",
    "        res = fun_ref(x,y)\n",
    "        print(\"result=\", res)\n",
    "    return inner\n",
    "@outer\n",
    "def add(x,y):\n",
    "    return x+y\n",
    "@outer\n",
    "def sub(x,y):\n",
    "    return x-y\n",
    "@outer\n",
    "def mul(x,y):\n",
    "    return x*y"
   ]
  },
  {
   "cell_type": "code",
   "execution_count": 24,
   "id": "e8fd0659",
   "metadata": {},
   "outputs": [
    {
     "name": "stdout",
     "output_type": "stream",
     "text": [
      "This is inner\n",
      "x=10, y=20\n",
      "result= 30\n",
      "None\n",
      "This is inner\n",
      "x=10, y=20\n",
      "result= -10\n",
      "None\n",
      "This is inner\n",
      "x=10, y=20\n",
      "result= 200\n",
      "None\n"
     ]
    }
   ],
   "source": [
    "def outer(fun_ref):\n",
    "    def inner(x,y):\n",
    "        print(\"This is inner\")\n",
    "        print(f\"x={x}, y={y}\")\n",
    "        res = fun_ref(x,y)\n",
    "        print(\"result=\", res)\n",
    "    return inner\n",
    "@outer\n",
    "def add(x,y):\n",
    "    return x+y\n",
    "@outer\n",
    "def sub(x,y):\n",
    "    return x-y\n",
    "@outer\n",
    "def mul(x,y):\n",
    "    return x*y\n",
    "print(add(10,20))\n",
    "print(sub(10,20))\n",
    "print(mul(10,20))"
   ]
  },
  {
   "cell_type": "code",
   "execution_count": 28,
   "id": "2e92457c",
   "metadata": {},
   "outputs": [
    {
     "ename": "UnboundLocalError",
     "evalue": "local variable 'x' referenced before assignment",
     "output_type": "error",
     "traceback": [
      "\u001b[1;31m---------------------------------------------------------------------------\u001b[0m",
      "\u001b[1;31mUnboundLocalError\u001b[0m                         Traceback (most recent call last)",
      "\u001b[1;32m<ipython-input-28-defa8c3dce6d>\u001b[0m in \u001b[0;36m<module>\u001b[1;34m\u001b[0m\n\u001b[0;32m      5\u001b[0m     \u001b[0mprint\u001b[0m\u001b[1;33m(\u001b[0m\u001b[0mx\u001b[0m\u001b[1;33m)\u001b[0m\u001b[1;33m\u001b[0m\u001b[1;33m\u001b[0m\u001b[0m\n\u001b[0;32m      6\u001b[0m \u001b[1;33m\u001b[0m\u001b[0m\n\u001b[1;32m----> 7\u001b[1;33m \u001b[0mfun2\u001b[0m\u001b[1;33m(\u001b[0m\u001b[1;33m)\u001b[0m\u001b[1;33m\u001b[0m\u001b[1;33m\u001b[0m\u001b[0m\n\u001b[0m",
      "\u001b[1;32m<ipython-input-28-defa8c3dce6d>\u001b[0m in \u001b[0;36mfun2\u001b[1;34m()\u001b[0m\n\u001b[0;32m      1\u001b[0m \u001b[0mx\u001b[0m\u001b[1;33m=\u001b[0m\u001b[1;36m100\u001b[0m\u001b[1;33m\u001b[0m\u001b[1;33m\u001b[0m\u001b[0m\n\u001b[0;32m      2\u001b[0m \u001b[1;32mdef\u001b[0m \u001b[0mfun2\u001b[0m\u001b[1;33m(\u001b[0m\u001b[1;33m)\u001b[0m\u001b[1;33m:\u001b[0m\u001b[1;33m\u001b[0m\u001b[1;33m\u001b[0m\u001b[0m\n\u001b[1;32m----> 3\u001b[1;33m     \u001b[0mprint\u001b[0m\u001b[1;33m(\u001b[0m\u001b[0mx\u001b[0m\u001b[1;33m)\u001b[0m\u001b[1;33m\u001b[0m\u001b[1;33m\u001b[0m\u001b[0m\n\u001b[0m\u001b[0;32m      4\u001b[0m     \u001b[0mx\u001b[0m\u001b[1;33m=\u001b[0m\u001b[1;36m10000\u001b[0m\u001b[1;33m\u001b[0m\u001b[1;33m\u001b[0m\u001b[0m\n\u001b[0;32m      5\u001b[0m     \u001b[0mprint\u001b[0m\u001b[1;33m(\u001b[0m\u001b[0mx\u001b[0m\u001b[1;33m)\u001b[0m\u001b[1;33m\u001b[0m\u001b[1;33m\u001b[0m\u001b[0m\n",
      "\u001b[1;31mUnboundLocalError\u001b[0m: local variable 'x' referenced before assignment"
     ]
    }
   ],
   "source": [
    "x=100\n",
    "def fun2():\n",
    "    print(x)\n",
    "    x=10000\n",
    "    print(x)\n",
    "\n",
    "fun2()"
   ]
  },
  {
   "cell_type": "code",
   "execution_count": 27,
   "id": "9d9be791",
   "metadata": {},
   "outputs": [
    {
     "name": "stdout",
     "output_type": "stream",
     "text": [
      "['__add__', '__class__', '__contains__', '__delattr__', '__dir__', '__doc__', '__eq__', '__format__', '__ge__', '__getattribute__', '__getitem__', '__getnewargs__', '__gt__', '__hash__', '__init__', '__init_subclass__', '__iter__', '__le__', '__len__', '__lt__', '__mod__', '__mul__', '__ne__', '__new__', '__reduce__', '__reduce_ex__', '__repr__', '__rmod__', '__rmul__', '__setattr__', '__sizeof__', '__str__', '__subclasshook__', 'capitalize', 'casefold', 'center', 'count', 'encode', 'endswith', 'expandtabs', 'find', 'format', 'format_map', 'index', 'isalnum', 'isalpha', 'isascii', 'isdecimal', 'isdigit', 'isidentifier', 'islower', 'isnumeric', 'isprintable', 'isspace', 'istitle', 'isupper', 'join', 'ljust', 'lower', 'lstrip', 'maketrans', 'partition', 'replace', 'rfind', 'rindex', 'rjust', 'rpartition', 'rsplit', 'rstrip', 'split', 'splitlines', 'startswith', 'strip', 'swapcase', 'title', 'translate', 'upper', 'zfill']\n"
     ]
    }
   ],
   "source": [
    "s=\"python\"\n",
    "print(dir(s))"
   ]
  },
  {
   "cell_type": "code",
   "execution_count": 29,
   "id": "f06fb493",
   "metadata": {},
   "outputs": [
    {
     "name": "stdout",
     "output_type": "stream",
     "text": [
      "100\n",
      "10000\n"
     ]
    }
   ],
   "source": [
    "y=100\n",
    "def fun2():\n",
    "    print(y)\n",
    "    x=10000\n",
    "    print(x)\n",
    "\n",
    "fun2()"
   ]
  },
  {
   "cell_type": "code",
   "execution_count": null,
   "id": "79cee944",
   "metadata": {},
   "outputs": [],
   "source": []
  }
 ],
 "metadata": {
  "kernelspec": {
   "display_name": "Python 3",
   "language": "python",
   "name": "python3"
  },
  "language_info": {
   "codemirror_mode": {
    "name": "ipython",
    "version": 3
   },
   "file_extension": ".py",
   "mimetype": "text/x-python",
   "name": "python",
   "nbconvert_exporter": "python",
   "pygments_lexer": "ipython3",
   "version": "3.8.8"
  }
 },
 "nbformat": 4,
 "nbformat_minor": 5
}
