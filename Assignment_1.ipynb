{
 "cells": [
  {
   "cell_type": "code",
   "execution_count": 11,
   "id": "998d9c4c",
   "metadata": {},
   "outputs": [
    {
     "name": "stdout",
     "output_type": "stream",
     "text": [
      "enter the number of people: 100\n",
      "enter the number of seats avalable in a bus: 40\n",
      "number of buses required are:  3\n"
     ]
    }
   ],
   "source": [
    "def cal_bus_req(a,b):\n",
    "    c=a/b\n",
    "    import math as math\n",
    "    c=math.ceil(c)\n",
    "    return c\n",
    "\n",
    "\n",
    "no_of_people=int(input(\"enter the number of people: \"))\n",
    "no_of_seats=int(input(\"enter the number of seats avalable in a bus: \"))\n",
    "no_of_bus_reqd=cal_bus_req(no_of_people,no_of_seats)\n",
    "print(\"number of buses required are: \",no_of_bus_reqd)"
   ]
  },
  {
   "cell_type": "code",
   "execution_count": 3,
   "id": "ac1e843c",
   "metadata": {},
   "outputs": [
    {
     "data": {
      "text/plain": [
       "40"
      ]
     },
     "execution_count": 3,
     "metadata": {},
     "output_type": "execute_result"
    }
   ],
   "source": [
    "round(40.1)"
   ]
  },
  {
   "cell_type": "code",
   "execution_count": 5,
   "id": "1f229e52",
   "metadata": {},
   "outputs": [
    {
     "data": {
      "text/plain": [
       "41"
      ]
     },
     "execution_count": 5,
     "metadata": {},
     "output_type": "execute_result"
    }
   ],
   "source": [
    "round(40.9)"
   ]
  },
  {
   "cell_type": "code",
   "execution_count": 6,
   "id": "6e2e014b",
   "metadata": {},
   "outputs": [
    {
     "ename": "AttributeError",
     "evalue": "'builtin_function_or_method' object has no attribute 'up'",
     "output_type": "error",
     "traceback": [
      "\u001b[1;31m---------------------------------------------------------------------------\u001b[0m",
      "\u001b[1;31mAttributeError\u001b[0m                            Traceback (most recent call last)",
      "\u001b[1;32m<ipython-input-6-23300bb1bf91>\u001b[0m in \u001b[0;36m<module>\u001b[1;34m\u001b[0m\n\u001b[1;32m----> 1\u001b[1;33m \u001b[0mround\u001b[0m\u001b[1;33m.\u001b[0m\u001b[0mup\u001b[0m\u001b[1;33m(\u001b[0m\u001b[1;36m40.1\u001b[0m\u001b[1;33m)\u001b[0m\u001b[1;33m\u001b[0m\u001b[1;33m\u001b[0m\u001b[0m\n\u001b[0m",
      "\u001b[1;31mAttributeError\u001b[0m: 'builtin_function_or_method' object has no attribute 'up'"
     ]
    }
   ],
   "source": [
    "round.up(40.1)"
   ]
  },
  {
   "cell_type": "code",
   "execution_count": 7,
   "id": "7545d592",
   "metadata": {},
   "outputs": [
    {
     "ename": "NameError",
     "evalue": "name 'roundup' is not defined",
     "output_type": "error",
     "traceback": [
      "\u001b[1;31m---------------------------------------------------------------------------\u001b[0m",
      "\u001b[1;31mNameError\u001b[0m                                 Traceback (most recent call last)",
      "\u001b[1;32m<ipython-input-7-bf4cf2990ddd>\u001b[0m in \u001b[0;36m<module>\u001b[1;34m\u001b[0m\n\u001b[1;32m----> 1\u001b[1;33m \u001b[0mroundup\u001b[0m\u001b[1;33m(\u001b[0m\u001b[1;36m40.1\u001b[0m\u001b[1;33m)\u001b[0m\u001b[1;33m\u001b[0m\u001b[1;33m\u001b[0m\u001b[0m\n\u001b[0m",
      "\u001b[1;31mNameError\u001b[0m: name 'roundup' is not defined"
     ]
    }
   ],
   "source": [
    "roundup(40.1)"
   ]
  },
  {
   "cell_type": "code",
   "execution_count": 8,
   "id": "ad932f9c",
   "metadata": {},
   "outputs": [
    {
     "ename": "NameError",
     "evalue": "name 'math' is not defined",
     "output_type": "error",
     "traceback": [
      "\u001b[1;31m---------------------------------------------------------------------------\u001b[0m",
      "\u001b[1;31mNameError\u001b[0m                                 Traceback (most recent call last)",
      "\u001b[1;32m<ipython-input-8-cc42f5b95b6c>\u001b[0m in \u001b[0;36m<module>\u001b[1;34m\u001b[0m\n\u001b[1;32m----> 1\u001b[1;33m \u001b[0mmath\u001b[0m\u001b[1;33m.\u001b[0m\u001b[0mfloor\u001b[0m\u001b[1;33m(\u001b[0m\u001b[1;36m40.1\u001b[0m\u001b[1;33m)\u001b[0m\u001b[1;33m\u001b[0m\u001b[1;33m\u001b[0m\u001b[0m\n\u001b[0m",
      "\u001b[1;31mNameError\u001b[0m: name 'math' is not defined"
     ]
    }
   ],
   "source": [
    "math.floor(40.1)"
   ]
  },
  {
   "cell_type": "code",
   "execution_count": 9,
   "id": "d0ad7246",
   "metadata": {},
   "outputs": [
    {
     "data": {
      "text/plain": [
       "40"
      ]
     },
     "execution_count": 9,
     "metadata": {},
     "output_type": "execute_result"
    }
   ],
   "source": [
    "import math as math\n",
    "math.floor(40.1)\n"
   ]
  },
  {
   "cell_type": "code",
   "execution_count": 10,
   "id": "ae2ced3d",
   "metadata": {},
   "outputs": [
    {
     "data": {
      "text/plain": [
       "41"
      ]
     },
     "execution_count": 10,
     "metadata": {},
     "output_type": "execute_result"
    }
   ],
   "source": [
    "import math as math\n",
    "math.ceil(40.1)"
   ]
  },
  {
   "cell_type": "code",
   "execution_count": null,
   "id": "bb38148c",
   "metadata": {},
   "outputs": [],
   "source": []
  }
 ],
 "metadata": {
  "kernelspec": {
   "display_name": "Python 3",
   "language": "python",
   "name": "python3"
  },
  "language_info": {
   "codemirror_mode": {
    "name": "ipython",
    "version": 3
   },
   "file_extension": ".py",
   "mimetype": "text/x-python",
   "name": "python",
   "nbconvert_exporter": "python",
   "pygments_lexer": "ipython3",
   "version": "3.8.8"
  }
 },
 "nbformat": 4,
 "nbformat_minor": 5
}
