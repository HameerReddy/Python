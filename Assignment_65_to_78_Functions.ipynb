{
 "cells": [
  {
   "cell_type": "code",
   "execution_count": 9,
   "id": "211132e8",
   "metadata": {},
   "outputs": [
    {
     "name": "stdout",
     "output_type": "stream",
     "text": [
      "Name of the person is: Ayaansh\n",
      "Age of the person is: 5\n",
      "Height of the person is: 2.5 feets\n",
      "Weight of the person is: 20 kgs\n",
      "Other details of the person is: {}\n",
      "Name of the person is: Nimmi\n",
      "Age of the person is: 3\n",
      "Height of the person is: 1.5 feets\n",
      "Weight of the person is: 12 kgs\n",
      "Other details of the person is: {'PanNumber': 'ABCDE2543F', 'AadharNumber': 123456789012}\n"
     ]
    }
   ],
   "source": [
    "\"\"\"65. define a function to take person details name and age are mandatory parameters and \n",
    "    height weight are optional parameters. \n",
    "    If the user willing to pass any other details like adhar, cell, pan, passport etc.. \n",
    "    regarding him then your function should access those details.\n",
    "\"\"\"\n",
    "def person(name,age,height=None,weight=None,**other):\n",
    "    print(f\"Name of the person is: {name}\")\n",
    "    print(f\"Age of the person is: {age}\")\n",
    "    print(f\"Height of the person is: {height} feets\")\n",
    "    print(f\"Weight of the person is: {weight} kgs\")\n",
    "    print(f\"Other details of the person is: {other}\")\n",
    "person(\"Ayaansh\",5,2.5,20)\n",
    "person(\"Nimmi\",3,weight=12,height=1.5,PanNumber=\"ABCDE2543F\", AadharNumber=123456789012)"
   ]
  },
  {
   "cell_type": "code",
   "execution_count": 10,
   "id": "0ad5f56c",
   "metadata": {},
   "outputs": [
    {
     "name": "stdout",
     "output_type": "stream",
     "text": [
      "Name of the person is: Ayaansh\n",
      "Age of the person is: 5\n",
      "Height of the person is: 2.5 feets\n",
      "Weight of the person is: 20 kgs\n",
      "Other details of the person is: {}\n",
      "Name of the person is: Nimmi\n",
      "Age of the person is: 3\n",
      "Height of the person is: 1.5 feets\n",
      "Weight of the person is: 12 kgs\n",
      "Other details of the person is: {'PanNumber': 'ABCDE2543F', 'AadharNumber': 123456789012}\n"
     ]
    }
   ],
   "source": [
    "\"\"\"65a. rewrite above assignments by functions. \n",
    "    Can use string functions to solve the string related assignments\n",
    "\"\"\"\n",
    "def person(name,age,height=None,weight=None,**other):\n",
    "    print(f\"Name of the person is: {name}\")\n",
    "    print(f\"Age of the person is: {age}\")\n",
    "    print(f\"Height of the person is: {height} feets\")\n",
    "    print(f\"Weight of the person is: {weight} kgs\")\n",
    "    print(f\"Other details of the person is: {other}\")\n",
    "person(\"Ayaansh\",5,2.5,20)\n",
    "person(\"Nimmi\",3,weight=12,height=1.5,PanNumber=\"ABCDE2543F\", AadharNumber=123456789012)"
   ]
  },
  {
   "cell_type": "code",
   "execution_count": 29,
   "id": "6ada2fd5",
   "metadata": {},
   "outputs": [
    {
     "name": "stdout",
     "output_type": "stream",
     "text": [
      "The number 0 is an EVEN number\n",
      "The number 3 is an ODD number\n",
      "The number 6 is an EVEN number\n",
      "The number 9 is an ODD number\n",
      "The number 12 is an EVEN number\n",
      "The number 15 is an ODD number\n",
      "The number 18 is an EVEN number\n"
     ]
    }
   ],
   "source": [
    "\"\"\"65b. write a function to check given value is even or not\n",
    "\"\"\"\n",
    "def odd_or_even(n):\n",
    "    if n%2 == 0:\n",
    "        return \"EVEN\"\n",
    "    else:\n",
    "        return \"ODD\"\n",
    "for i in range(0,20,3):\n",
    "    print(f\"The number {i} is an {odd_or_even(i)} number\")"
   ]
  },
  {
   "cell_type": "code",
   "execution_count": 72,
   "id": "689384b1",
   "metadata": {},
   "outputs": [
    {
     "name": "stdout",
     "output_type": "stream",
     "text": [
      "The number 0 is A PRIME number\n",
      "The number 1 is A PRIME number\n",
      "The number 2 is A PRIME number\n",
      "The number 3 is A PRIME number\n",
      "The number 4 is NOT A PRIME number\n",
      "The number 5 is A PRIME number\n",
      "The number 6 is NOT A PRIME number\n",
      "The number 7 is A PRIME number\n",
      "The number 8 is NOT A PRIME number\n",
      "The number 9 is NOT A PRIME number\n",
      "The number 10 is NOT A PRIME number\n",
      "The number 11 is A PRIME number\n",
      "The number 12 is NOT A PRIME number\n",
      "The number 13 is A PRIME number\n",
      "The number 14 is NOT A PRIME number\n",
      "The number 15 is NOT A PRIME number\n",
      "The number 16 is NOT A PRIME number\n",
      "The number 17 is A PRIME number\n",
      "The number 18 is NOT A PRIME number\n",
      "The number 19 is A PRIME number\n"
     ]
    }
   ],
   "source": [
    "\"\"\"65 c. write a function to check given value is prime or not\n",
    "\"\"\"\n",
    "def prime_or_not(n):\n",
    "    #if n == 1 | n == 2:\n",
    "    #    return \"A PRIME NUMBER\" \n",
    "    for i in range(2,n,1):\n",
    "        if n%i == 0:\n",
    "            return \"NOT A PRIME\"\n",
    "    else:\n",
    "        return \"A PRIME\"\n",
    "for i in range(0,20,1):\n",
    "    print(f\"The number {i} is {prime_or_not(i)} number\")"
   ]
  },
  {
   "cell_type": "code",
   "execution_count": 36,
   "id": "4ba84a54",
   "metadata": {},
   "outputs": [
    {
     "name": "stdout",
     "output_type": "stream",
     "text": [
      "The number 98 is DIVISIBLE by number 1\n",
      "The number 84 is DIVISIBLE by number 12\n",
      "The number 72 is DIVISIBLE by number 3\n",
      "The number 70 is NOT DIVISIBLE by number 34\n",
      "The number 79 is NOT DIVISIBLE by number 19\n",
      "The number 65 is NOT DIVISIBLE by number 11\n",
      "The number 87 is NOT DIVISIBLE by number 30\n",
      "The number 54 is DIVISIBLE by number 6\n",
      "The number 100 is NOT DIVISIBLE by number 28\n"
     ]
    }
   ],
   "source": [
    "\"\"\"65 d. write a function to check given 2 values are  divisible or not\n",
    "\"\"\"\n",
    "def divisible_or_not(m,n): \n",
    "    if m%n == 0:\n",
    "            return \"DIVISIBLE\"\n",
    "    else:\n",
    "        return \"NOT DIVISIBLE\"\n",
    "import random\n",
    "    for i in range(1,10):\n",
    "    a = random.randint(50,100)\n",
    "    b = random.randint(1,50)\n",
    "    print(f\"The number {a} is {divisible_or_not(a,b)} by number {b}\")\n",
    "    #print(f\"The number {b} is {divisible_or_not(b,a)} by number {a}\")"
   ]
  },
  {
   "cell_type": "code",
   "execution_count": 73,
   "id": "f1dccf81",
   "metadata": {},
   "outputs": [
    {
     "name": "stdout",
     "output_type": "stream",
     "text": [
      "Enter a number to check wether it is a prime or not?\n",
      "999983\n",
      "The number 999983 is A PRIME number\n"
     ]
    }
   ],
   "source": [
    "\"\"\"66. take a number from the user and check whether it is prime?\n",
    "\"\"\"\n",
    "def prime_or_not(n):\n",
    "    for i in range(2,n,1):\n",
    "        if n%i == 0:\n",
    "            return \"NOT A PRIME\"\n",
    "    else:\n",
    "        return \"A PRIME\"\n",
    "s = int(input(\"Enter a number to check wether it is a prime or not?\\n\"))\n",
    "print(f\"The number {s} is {prime_or_not(s)} number\")"
   ]
  },
  {
   "cell_type": "code",
   "execution_count": 70,
   "id": "0125d811",
   "metadata": {},
   "outputs": [
    {
     "name": "stdout",
     "output_type": "stream",
     "text": [
      "Enter a STRING to check wether it contains only digits or not?\n",
      "1234567890\n",
      "The string consists 'ONLY DIGITS'\n",
      "The number '1234567890' contains ONLY DIGITS\n"
     ]
    }
   ],
   "source": [
    "\"\"\"67. take a string from the user and check contains only digits or not?\n",
    "\"\"\"\n",
    "def check_digits(s):\n",
    "    for i in s:\n",
    "        if not (i >= \"0\" and i <= \"9\"):\n",
    "            print(\"The string consists 'OTHER THAN DIGITS'\")\n",
    "            return 'OTHER THAN DIGITS'\n",
    "    else: \n",
    "        print(\"The string consists 'ONLY DIGITS'\")\n",
    "        return 'ONLY DIGITS'\n",
    "s = input(\"Enter a STRING to check wether it contains only digits or not?\\n\")\n",
    "print(f\"The number '{s}' contains {check_digits(s)}\")"
   ]
  },
  {
   "cell_type": "code",
   "execution_count": 80,
   "id": "dabdbe36",
   "metadata": {},
   "outputs": [
    {
     "name": "stdout",
     "output_type": "stream",
     "text": [
      "Enter a STRING to check wether it contains only alphabets or not?\n",
      "abcdEFG987\n",
      "The string consists 'OTHER THAN ALPHABETS'\n",
      "The number 'abcdEFG987' contains OTHER THAN ALPHABETS\n"
     ]
    }
   ],
   "source": [
    "\"\"\"68. take a string from the user and check contains only alphabets or not?\n",
    "\"\"\"\n",
    "def check_alphabets(s):\n",
    "    for i in s:\n",
    "        if not (i >= \"a\" and i <= \"z\") and not (i >= \"A\" and i <= \"Z\"):\n",
    "            print(\"The string consists 'OTHER THAN ALPHABETS'\")\n",
    "            return 'OTHER THAN ALPHABETS'\n",
    "    else: \n",
    "        print(\"The string consists 'ONLY ALPHABETS'\")\n",
    "        return 'ONLY ALPHABETS'\n",
    "s = input(\"Enter a STRING to check wether it contains only alphabets or not?\\n\")\n",
    "print(f\"The number '{s}' contains {check_alphabets(s)}\")"
   ]
  },
  {
   "cell_type": "code",
   "execution_count": 81,
   "id": "e3f03944",
   "metadata": {},
   "outputs": [
    {
     "name": "stdout",
     "output_type": "stream",
     "text": [
      "Enter a STRING to check wether it contains only SPECIAL CHARACTERS or not?\n",
      "asd@#$%^&*()(*&^%$#@!87\n",
      "The string consists 'OTHER THAN SPECIAL CHARACTERS'\n",
      "The number 'asd@#$%^&*()(*&^%$#@!87' contains OTHER THAN SPECIAL CHARACTERS \n"
     ]
    }
   ],
   "source": [
    "\"\"\"69. take a string from the user and check contains only special chars or not?\n",
    "\"\"\"\n",
    "def check_alphabets(s):\n",
    "    for i in s:\n",
    "        if ((i >= \"a\" and i <= \"z\") or (i >= \"A\" and i <= \"Z\")) or (i >= \"0\" and i <= \"9\"):\n",
    "            print(\"The string consists 'OTHER THAN SPECIAL CHARACTERS'\")\n",
    "            return 'OTHER THAN SPECIAL CHARACTERS'\n",
    "    else: \n",
    "        print(\"The string consists 'ONLY SPECIAL CHARACTERS'\")\n",
    "        return 'ONLY SPECIAL CHARACTERS'\n",
    "s = input(\"Enter a STRING to check wether it contains only SPECIAL CHARACTERS or not?\\n\")\n",
    "print(f\"The number '{s}' contains {check_alphabets(s)} \")"
   ]
  },
  {
   "cell_type": "code",
   "execution_count": 82,
   "id": "96232156",
   "metadata": {},
   "outputs": [
    {
     "name": "stdout",
     "output_type": "stream",
     "text": [
      "Enter a STRING to check wether it contains only CAPITALS letters or not?\n",
      "ABCDEF\n",
      "The string consists 'ONLY CAPITALS'\n",
      "The number 'ABCDEF' contains ONLY CAPITALS letters\n"
     ]
    }
   ],
   "source": [
    "\"\"\"70. take a string from the user and check contains only  capital letters or not?\n",
    "\"\"\"\n",
    "def check_alphabets(s):\n",
    "    for i in s:\n",
    "        if not (i >= \"A\" and i <= \"Z\"):\n",
    "            print(\"The string consists 'OTHER THAN CAPITALS'\")\n",
    "            return 'OTHER THAN CAPITALS'\n",
    "    else: \n",
    "        print(\"The string consists 'ONLY CAPITALS'\")\n",
    "        return 'ONLY CAPITALS'\n",
    "s = input(\"Enter a STRING to check wether it contains only CAPITALS letters or not?\\n\")\n",
    "print(f\"The number '{s}' contains {check_alphabets(s)} letters\")"
   ]
  },
  {
   "cell_type": "code",
   "execution_count": 84,
   "id": "59107800",
   "metadata": {},
   "outputs": [
    {
     "name": "stdout",
     "output_type": "stream",
     "text": [
      "Enter a STRING to check wether it contains only small letters or not?\n",
      "ascdsvsdvdsf\n",
      "The string consists 'ONLY SMALL'\n",
      "The number 'ascdsvsdvdsf' contains ONLY SMALL letters\n"
     ]
    }
   ],
   "source": [
    "\"\"\"71. take a string from the user and check contains only small letters or not?\n",
    "\"\"\"\n",
    "def check_alphabets(s):\n",
    "    for i in s:\n",
    "        if not (i >= \"a\" and i <= \"z\"):\n",
    "            print(\"The string consists 'OTHER THAN SMALL'\")\n",
    "            return 'OTHER THAN SMALL'\n",
    "    else: \n",
    "        print(\"The string consists 'ONLY SMALL'\")\n",
    "        return 'ONLY SMALL'\n",
    "s = input(\"Enter a STRING to check wether it contains only small letters or not?\\n\")\n",
    "print(f\"The number '{s}' contains {check_alphabets(s)} letters\")"
   ]
  },
  {
   "cell_type": "code",
   "execution_count": 88,
   "id": "65a996c8",
   "metadata": {},
   "outputs": [
    {
     "name": "stdout",
     "output_type": "stream",
     "text": [
      "\n",
      "Enter a string from the printed list: apple\n",
      "['apple', 'orange', 'apple', 'grape', 'apple', 'orange', 'apple', 'apple', 'apple', 'grape', 'grape', 'grape', 'orange']\n",
      "the updated list is: \n",
      " ['apple', 'orange', 'apple', 'grape', 'apple', 'orange', 'APPLE', 'APPLE', 'APPLE', 'grape', 'grape', 'grape', 'orange']\n",
      "\n",
      "Enter a string from the printed list: g\n",
      "['a', 'o', 'a', 'g', 'a', 'o', 'a', 'a', 'a', 'g', 'g', 'g', 'o']\n",
      "the updated list is: \n",
      " ['a', 'o', 'a', 'g', 'a', 'o', 'a', 'a', 'a', 'G', 'G', 'G', 'o']\n"
     ]
    }
   ],
   "source": [
    "\"\"\"72. WAP to replace last n occurrence.\n",
    "\"\"\"\n",
    "def replace_n_occurrence(list1, a):\n",
    "    a1 = \"\"\n",
    "    for i in a:\n",
    "        a1 = a1 + chr(ord(i)-32) #len1 = len(list1) #print(len1)\n",
    "    counter = len(list1)\n",
    "    i=-1;\n",
    "    prev = list1[-1]\n",
    "    while(counter>0):\n",
    "        current = list1[i]\n",
    "        if list1[i] == a:\n",
    "            prev = list1[i]\n",
    "            list1[i] = a1\n",
    "        if not (current == prev) and (prev==a):\n",
    "            break\n",
    "        i += -1\n",
    "        counter -= 1\n",
    "    return list1\n",
    "list1 = [\"apple\",\"orange\",\"apple\",\"grape\",\"apple\",\"orange\",\"apple\",\"apple\",\"apple\",\"grape\",\"grape\",\"grape\",\"orange\"]\n",
    "a = input(\"\\nEnter a string from the printed list: \")\n",
    "print(list1)\n",
    "l1 = replace_n_occurrence(list1, a)\n",
    "print(\"the updated list is: \\n\", l1)\n",
    "\n",
    "list1 = [\"a\",\"o\",\"a\",\"g\",\"a\",\"o\",\"a\",\"a\",\"a\",\"g\",\"g\",\"g\",\"o\"]\n",
    "a = input(\"\\nEnter a string from the printed list: \")\n",
    "print(list1)\n",
    "l1 = replace_n_occurrence(list1, a)\n",
    "print(\"the updated list is: \\n\", l1)"
   ]
  },
  {
   "cell_type": "code",
   "execution_count": 90,
   "id": "6983adc0",
   "metadata": {},
   "outputs": [
    {
     "name": "stdout",
     "output_type": "stream",
     "text": [
      "Enter a Number: 384702.234\n",
      "The entered string consists only real numbers..!!\n"
     ]
    }
   ],
   "source": [
    "\"\"\"73. WAP to check given string contains numbers or not. it should consider float numbers also.\n",
    "\"\"\"\n",
    "def number_check(s):\n",
    "    count = 0\n",
    "    for i in a:\n",
    "        if not ((i>=\"0\" and i<=\"9\") or i==\".\"):\n",
    "            print(\"The entered string consists other than real numbers also..!!\")\n",
    "            break\n",
    "    else:\n",
    "        print(\"The entered string consists only real numbers..!!\")\n",
    "a = input(\"Enter a Number: \")\n",
    "number_check(a)"
   ]
  },
  {
   "cell_type": "code",
   "execution_count": 94,
   "id": "d2d3e4ff",
   "metadata": {},
   "outputs": [
    {
     "name": "stdout",
     "output_type": "stream",
     "text": [
      "Enter a sentance: Hi hello How are you?\n",
      "hi hello how are you?\n",
      "HI HELLO HOW ARE YOU?\n"
     ]
    }
   ],
   "source": [
    "\"\"\"74. Convert the total string into lower case.\n",
    "    Convert the total string into upper case.\n",
    "\"\"\"\n",
    "def upper_to_lower(a):\n",
    "    newString = \"\"\n",
    "    for i in a:\n",
    "        for j in i:\n",
    "            if not (j>=\"A\" and j<=\"Z\"):\n",
    "                newString = newString + j\n",
    "            else:\n",
    "                b = chr(ord(j)+32)\n",
    "                newString = newString + b    \n",
    "    return newString\n",
    "def lower_to_upper(a):\n",
    "    newString = \"\"\n",
    "    for i in a:\n",
    "        for j in i:\n",
    "            if not (j>=\"a\" and j<=\"z\"):\n",
    "                newString = newString + j\n",
    "            else:\n",
    "                b = chr(ord(j)-32)\n",
    "                newString = newString + b    \n",
    "    return newString\n",
    "a = input(\"Enter a sentance: \")\n",
    "print(upper_to_lower(a))\n",
    "print(lower_to_upper(a))"
   ]
  },
  {
   "cell_type": "code",
   "execution_count": 186,
   "id": "d0a8c8dd",
   "metadata": {},
   "outputs": [
    {
     "name": "stdout",
     "output_type": "stream",
     "text": [
      "Enter any sentance: \n",
      "7hai hell7u hak%% &ajsb\n",
      "The entered sentance with first letter caps for every word is as follows: \n",
      "7hai Hell7u Hak%% &ajsb\n"
     ]
    }
   ],
   "source": [
    "\"\"\"75. Convert every word start letter into caps. \n",
    "    Some how title not working if it contains numbers and special symbols in the word\n",
    "\"\"\"\n",
    "def first_caps(s):\n",
    "    sub = \"\"\n",
    "    previous = \"\"\n",
    "    for i in s:\n",
    "        if \" \" == previous:\n",
    "            if (i>=\"a\" and i<=\"z\"):\n",
    "                sub = sub + chr(ord(i)-32)            \n",
    "            else:\n",
    "                sub = sub + i\n",
    "            previous = \"\"\n",
    "        else: \n",
    "            sub = sub + i\n",
    "            previous = i\n",
    "    return sub\n",
    "#act = \"python is a pure object oriented programing language\"\n",
    "act = input(\"Enter any sentance: \\n\")\n",
    "print(f\"The entered sentance with first letter caps for every word is as follows: \\n{first_caps(act)}\")"
   ]
  },
  {
   "cell_type": "code",
   "execution_count": 14,
   "id": "892c5257",
   "metadata": {},
   "outputs": [
    {
     "name": "stdout",
     "output_type": "stream",
     "text": [
      "1.python is a pure object oriented programing language 2.PYTHON is a pure object oriented programing language 3.PYTHON is a pure object oriented programing language\n"
     ]
    }
   ],
   "source": [
    "\"\"\"76.replace last two occurrences of given source string with destination string\n",
    "     preserve the delimiter after split.\n",
    "\"\"\"\n",
    "def source_replace_destination(s, a, d, n):\n",
    "    new = \"\"\n",
    "    sub = s[(len(s) - len(d)):]\n",
    "    counter = len(s) - len(d)\n",
    "    n1 = 0\n",
    "    while counter >= 0:\n",
    "        a1 = sub[-1]\n",
    "        if sub == a and n1 <= n:\n",
    "            sub = d\n",
    "            n1 += 1\n",
    "            if n1 >= n:\n",
    "                new = sub + new\n",
    "                break\n",
    "        new = sub[-1] + new\n",
    "        if counter > 0:\n",
    "            sub = s[counter-1] + sub\n",
    "        sub = sub[:-1]\n",
    "        counter -= 1\n",
    "    new = s[:counter] + new\n",
    "    return new\n",
    "act = \"1.python is a pure object oriented programing language 2.python is a pure object oriented programing language \" \\\n",
    "      \"3.python is a pure object oriented programing language\"\n",
    "source = \"python\"\n",
    "destination = \"PYTHON\"\n",
    "occurrences = 2\n",
    "print(source_replace_destination(act, source, destination, occurrences))\n"
   ]
  },
  {
   "cell_type": "code",
   "execution_count": 174,
   "id": "d24a458e",
   "metadata": {},
   "outputs": [
    {
     "name": "stdout",
     "output_type": "stream",
     "text": [
      "Enter a string that you want to search: is a pure\n",
      "The entered string 'is a pure' is AVAILABLE in the given sentance 'python is a pure object oriented programing language'\n",
      "Enter a string that you want to search: is a pure\n",
      "The entered string 'is a pure' is NOT AVAILABLE in the given sentance 'python is a pure object oriented programing language'\n"
     ]
    }
   ],
   "source": [
    "\"\"\"77. write a program to chcek given substring is there in actual string or not? \n",
    "    (search should be case insensitive)\n",
    "    example: act=\"python is a pure object oriented programing language\"\n",
    "\"\"\"\n",
    "'''*****************************************************'''\n",
    "\"\"\"               METHOD 1 (CASE SENSITIVE)             \"\"\"\n",
    "'''*****************************************************'''\n",
    "def search_string1(s,a):\n",
    "    sub = s[0:len(a)]\n",
    "    if sub == a:\n",
    "        print(f\"The entered string '{a}' is AVAILABLE in the given sentance '{s}'\")\n",
    "    else: \n",
    "        counter = len(a);\n",
    "        i = s[counter]\n",
    "        while counter<=len(s):\n",
    "            if sub == a:\n",
    "                print(f\"The entered string '{a}' is AVAILABLE in the given sentance '{s}'\")\n",
    "                break \n",
    "            i = s[counter]\n",
    "            sub = sub[1:len(sub)] + i #print(f\"sub={sub}, word={a}, i={i}, counter={counter}\")\n",
    "            counter += 1\n",
    "        else: \n",
    "            print(f\"The entered string '{a}' is NOT AVAILABLE in the given sentance '{s}'\")\n",
    "act = \"python is a pure object oriented programing language\"\n",
    "word = input(\"Enter a string that you want to search: \")\n",
    "search_string1(act,word)\n",
    "'''*****************************************************'''\n",
    "\"\"\"               METHOD 2 (CASE SENSITIVE)             \"\"\"\n",
    "'''*****************************************************'''\n",
    "def search_string(s,a):\n",
    "    sub = \"\"\n",
    "    counter = 0;\n",
    "    for i in s:\n",
    "        counter += 1\n",
    "        if (counter == len(s)) and ((i>=\"a\" and i<=\"z\") or (i>=\"A\" and i<=\"Z\")):\n",
    "            sub = sub + i\n",
    "            if (sub == a):\n",
    "                print(f\"The entered string '{a}' is AVAILABLE in the given sentance '{s}'\")\n",
    "                break            \n",
    "        elif (i>=\"a\" and i<=\"z\") or (i>=\"A\" and i<=\"Z\"):\n",
    "            sub = sub + i\n",
    "        else: \n",
    "            if sub == a:\n",
    "                print(f\"The entered string '{a}' is AVAILABLE in the given sentance '{s}'\")\n",
    "                break\n",
    "            else:\n",
    "                sub = \"\"\n",
    "    else: \n",
    "        print(f\"The entered string '{a}' is NOT AVAILABLE in the given sentance '{s}'\")\n",
    "act = \"python is a pure object oriented programing language\"\n",
    "word = input(\"Enter a string that you want to search: \")\n",
    "search_string(act,word)"
   ]
  },
  {
   "cell_type": "code",
   "execution_count": 179,
   "id": "e8a7879b",
   "metadata": {},
   "outputs": [
    {
     "name": "stdout",
     "output_type": "stream",
     "text": [
      "Enter a string that you want to search: is a pure\n",
      "The entered string 'is a pure' is AVAILABLE in the given sentance 'python is a pure object oriented programing language'\n"
     ]
    }
   ],
   "source": [
    "\"\"\"78.check whether “pure” is there in act or not.\n",
    "    Note: Use in operator\n",
    "\"\"\"\n",
    "'''*****************************************************'''\n",
    "\"\"\"               METHOD 3 (CASE SENSITIVE)             \"\"\"\n",
    "'''*****************************************************'''\n",
    "def search_string_simple(s,a):\n",
    "    if a in s:\n",
    "        print(f\"The entered string '{a}' is AVAILABLE in the given sentance '{s}'\")\n",
    "    else: \n",
    "        print(f\"The entered string '{a}' is NOT AVAILABLE in the given sentance '{s}'\")\n",
    "act = \"python is a pure object oriented programing language\"\n",
    "word = input(\"Enter a string that you want to search: \")\n",
    "search_string_simple(act,word)"
   ]
  },
  {
   "cell_type": "code",
   "execution_count": 191,
   "id": "1ab2eb53",
   "metadata": {},
   "outputs": [
    {
     "name": "stdout",
     "output_type": "stream",
     "text": [
      "Enter a string that you want to search: IS A PURE\n",
      "9   python is\n",
      "The entered string 'is a pure' is AVAILABLE in the given sentance 'python is a pure object oriented programing language'\n"
     ]
    }
   ],
   "source": [
    "\"\"\"77. write a program to chcek given substring is there in actual string or not? \n",
    "    (search should be case insensitive)\n",
    "    example: act=\"python is a pure object oriented programing language\"\n",
    "\"\"\"\n",
    "'''*****************************************************'''\n",
    "\"\"\"               METHOD 1 (CASE IN-SENSITIVE)             \"\"\"\n",
    "'''*****************************************************'''\n",
    "def case_conv(a):\n",
    "    a1=\"\"\n",
    "    for i in a:\n",
    "        if (i>=\"a\" and i<=\"z\"):\n",
    "            a1 = a1 + i\n",
    "        elif (i>=\"A\" and i<=\"Z\"):\n",
    "            a1 = a1 + chr(ord(i)+32)\n",
    "        else: \n",
    "            a1 = a1 + i\n",
    "    return a1\n",
    "def search_string1(s,a):\n",
    "    sub = s[0:len(a)]\n",
    "    sub = case_conv(sub)\n",
    "    a = case_conv(a)\n",
    "    if sub == a:\n",
    "        print(f\"The entered string '{a}' is AVAILABLE in the given sentance '{s}'\")\n",
    "    else: \n",
    "        counter = len(a);\n",
    "        i = s[counter]\n",
    "        print(len(a), i, sub)\n",
    "        while counter<=len(s):#print(f\"sub={sub}, word={a}, i={i}, counter={counter}\")\n",
    "            if sub == a:\n",
    "                print(f\"The entered string '{a}' is AVAILABLE in the given sentance '{s}'\")\n",
    "                break      #print(f\"counter={counter}\")\n",
    "            i = case_conv(s[counter])\n",
    "            sub = sub[1:len(sub)] + i \n",
    "            counter += 1\n",
    "        else: \n",
    "            print(f\"The entered string '{a}' is NOT AVAILABLE in the given sentance '{s}'\")\n",
    "act = \"python is a pure object oriented programing language\"\n",
    "word = input(\"Enter a string that you want to search: \")\n",
    "search_string1(act,word)"
   ]
  },
  {
   "cell_type": "code",
   "execution_count": 120,
   "id": "6c66d01e",
   "metadata": {},
   "outputs": [
    {
     "name": "stdout",
     "output_type": "stream",
     "text": [
      "2345\n"
     ]
    }
   ],
   "source": [
    "s = \"12345\"\n",
    "s = s[1:len(s)]\n",
    "print(s)"
   ]
  },
  {
   "cell_type": "code",
   "execution_count": 159,
   "id": "020e6516",
   "metadata": {},
   "outputs": [
    {
     "name": "stdout",
     "output_type": "stream",
     "text": [
      "9\n"
     ]
    }
   ],
   "source": [
    "print(len(\"is a pure\"))"
   ]
  },
  {
   "cell_type": "code",
   "execution_count": 175,
   "id": "177e9603",
   "metadata": {},
   "outputs": [
    {
     "name": "stdout",
     "output_type": "stream",
     "text": [
      "Yes\n"
     ]
    }
   ],
   "source": [
    "act = \"python is a pure object oriented programing language\"\n",
    "if \"pure\" in act:\n",
    "    print(\"Yes\")\n",
    "else:\n",
    "    print(\"No\")"
   ]
  },
  {
   "cell_type": "code",
   "execution_count": 9,
   "id": "bad2ce3b",
   "metadata": {},
   "outputs": [
    {
     "name": "stdout",
     "output_type": "stream",
     "text": [
      "8 52\n",
      "language\n"
     ]
    }
   ],
   "source": [
    "act = \"python is a pure object oriented programing language\"\n",
    "aa = len(\"language\")\n",
    "bb = len(act)\n",
    "print(aa, bb)\n",
    "sub =act[(len(act)-len(\"language\")):]\n",
    "print(sub)"
   ]
  },
  {
   "cell_type": "code",
   "execution_count": null,
   "id": "0c81e7b0",
   "metadata": {},
   "outputs": [],
   "source": []
  }
 ],
 "metadata": {
  "kernelspec": {
   "display_name": "Python 3",
   "language": "python",
   "name": "python3"
  },
  "language_info": {
   "codemirror_mode": {
    "name": "ipython",
    "version": 3
   },
   "file_extension": ".py",
   "mimetype": "text/x-python",
   "name": "python",
   "nbconvert_exporter": "python",
   "pygments_lexer": "ipython3",
   "version": "3.8.8"
  }
 },
 "nbformat": 4,
 "nbformat_minor": 5
}
