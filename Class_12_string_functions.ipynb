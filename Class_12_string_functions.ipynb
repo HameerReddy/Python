{
 "cells": [
  {
   "cell_type": "code",
   "execution_count": 1,
   "metadata": {},
   "outputs": [],
   "source": [
    "s=\"python\""
   ]
  },
  {
   "cell_type": "code",
   "execution_count": 2,
   "metadata": {},
   "outputs": [
    {
     "name": "stdout",
     "output_type": "stream",
     "text": [
      "['__add__', '__class__', '__contains__', '__delattr__', '__dir__', '__doc__', '__eq__', '__format__', '__ge__', '__getattribute__', '__getitem__', '__getnewargs__', '__gt__', '__hash__', '__init__', '__init_subclass__', '__iter__', '__le__', '__len__', '__lt__', '__mod__', '__mul__', '__ne__', '__new__', '__reduce__', '__reduce_ex__', '__repr__', '__rmod__', '__rmul__', '__setattr__', '__sizeof__', '__str__', '__subclasshook__', 'capitalize', 'casefold', 'center', 'count', 'encode', 'endswith', 'expandtabs', 'find', 'format', 'format_map', 'index', 'isalnum', 'isalpha', 'isascii', 'isdecimal', 'isdigit', 'isidentifier', 'islower', 'isnumeric', 'isprintable', 'isspace', 'istitle', 'isupper', 'join', 'ljust', 'lower', 'lstrip', 'maketrans', 'partition', 'replace', 'rfind', 'rindex', 'rjust', 'rpartition', 'rsplit', 'rstrip', 'split', 'splitlines', 'startswith', 'strip', 'swapcase', 'title', 'translate', 'upper', 'zfill']\n"
     ]
    }
   ],
   "source": [
    "print(dir(s))"
   ]
  },
  {
   "cell_type": "code",
   "execution_count": 4,
   "metadata": {},
   "outputs": [
    {
     "name": "stdout",
     "output_type": "stream",
     "text": [
      "Python program\n"
     ]
    }
   ],
   "source": [
    "s=\"python program\"\n",
    "print(s.capitalize())"
   ]
  },
  {
   "cell_type": "code",
   "execution_count": 5,
   "metadata": {},
   "outputs": [],
   "source": [
    "s.capitalize?"
   ]
  },
  {
   "cell_type": "code",
   "execution_count": 6,
   "metadata": {},
   "outputs": [],
   "source": [
    "s.replace?"
   ]
  },
  {
   "cell_type": "code",
   "execution_count": 2,
   "metadata": {},
   "outputs": [
    {
     "name": "stdout",
     "output_type": "stream",
     "text": [
      "capitalize: Python program\n",
      "casefold: python program\n",
      "lower: python program\n",
      "upper: PYTHON PROGRAM\n",
      "swap case: pYtHOn pRoGrAm\n",
      "title: Python Program\n"
     ]
    }
   ],
   "source": [
    "s=\"PyThoN PrOgRaM\"\n",
    "print(\"capitalize:\",s.capitalize())\n",
    "print(\"casefold:\",s.casefold())\n",
    "print(\"lower:\",s.lower())\n",
    "print(\"upper:\",s.upper())\n",
    "print(\"swap case:\",s.swapcase())\n",
    "print(\"title:\", s.title())\n"
   ]
  },
  {
   "cell_type": "code",
   "execution_count": 4,
   "metadata": {},
   "outputs": [
    {
     "data": {
      "text/plain": [
       "False"
      ]
     },
     "execution_count": 4,
     "metadata": {},
     "output_type": "execute_result"
    }
   ],
   "source": [
    "s1=\"python\"\n",
    "s2=\"PYThon\"\n",
    "s1==s2"
   ]
  },
  {
   "cell_type": "code",
   "execution_count": 5,
   "metadata": {},
   "outputs": [
    {
     "data": {
      "text/plain": [
       "True"
      ]
     },
     "execution_count": 5,
     "metadata": {},
     "output_type": "execute_result"
    }
   ],
   "source": [
    "s1=\"python\"\n",
    "s2=\"PYThon\"\n",
    "s1.lower()==s2.lower()"
   ]
  },
  {
   "cell_type": "code",
   "execution_count": 6,
   "metadata": {},
   "outputs": [
    {
     "data": {
      "text/plain": [
       "True"
      ]
     },
     "execution_count": 6,
     "metadata": {},
     "output_type": "execute_result"
    }
   ],
   "source": [
    "s1=\"python\"\n",
    "s2=\"PYThon\"\n",
    "s1.upper()==s2.upper()# doing conversion only for case in-sensitive comparison"
   ]
  },
  {
   "cell_type": "code",
   "execution_count": 7,
   "metadata": {},
   "outputs": [
    {
     "data": {
      "text/plain": [
       "True"
      ]
     },
     "execution_count": 7,
     "metadata": {},
     "output_type": "execute_result"
    }
   ],
   "source": [
    "s1=\"python\"\n",
    "s2=\"PYThon\"\n",
    "s1.casefold() == s2.casefold()"
   ]
  },
  {
   "cell_type": "code",
   "execution_count": null,
   "metadata": {},
   "outputs": [],
   "source": [
    "s=\"1pyt$hon pro^gram\"\n",
    "print(s.capitalize())\n",
    "print(s.title())"
   ]
  },
  {
   "cell_type": "code",
   "execution_count": 8,
   "metadata": {},
   "outputs": [
    {
     "name": "stdout",
     "output_type": "stream",
     "text": [
      "Panth Took A Right Decission In Yesterday Match By Giving Ball To T Curran. But It Went In Different Direction\n"
     ]
    }
   ],
   "source": [
    "s=\"Panth took a right decission in yesterday match by giving ball to t curran. But it went in different direction\"\n",
    "print(s.title())"
   ]
  },
  {
   "cell_type": "code",
   "execution_count": 10,
   "metadata": {},
   "outputs": [
    {
     "name": "stdout",
     "output_type": "stream",
     "text": [
      "1pyt$hon pro^gr2am\n",
      "1Pyt$Hon Pro^Gr2Am\n"
     ]
    }
   ],
   "source": [
    "s=\"1pyt$hon pro^gr2am\"\n",
    "print(s.capitalize())\n",
    "print(s.title())"
   ]
  },
  {
   "cell_type": "code",
   "execution_count": 11,
   "metadata": {},
   "outputs": [],
   "source": [
    "# center, ljust, rjust"
   ]
  },
  {
   "cell_type": "code",
   "execution_count": 12,
   "metadata": {},
   "outputs": [
    {
     "name": "stdout",
     "output_type": "stream",
     "text": [
      "python program\n"
     ]
    }
   ],
   "source": [
    "print(\"python program\")"
   ]
  },
  {
   "cell_type": "code",
   "execution_count": 13,
   "metadata": {},
   "outputs": [
    {
     "name": "stdout",
     "output_type": "stream",
     "text": [
      "124\n"
     ]
    }
   ],
   "source": [
    "s=\"1111111111111111111111111111111111111111111111111111111111111111111111111111111111111111111111111111111111111111111111111111\"\n",
    "print(len(s))"
   ]
  },
  {
   "cell_type": "code",
   "execution_count": 14,
   "metadata": {},
   "outputs": [
    {
     "name": "stdout",
     "output_type": "stream",
     "text": [
      "                                                        python program                                                       \n",
      "                                                                                                               python program\n",
      "python program                                                                                                               \n"
     ]
    }
   ],
   "source": [
    "s=\"python program\"\n",
    "print(s.center(125))\n",
    "print(s.rjust(125))\n",
    "print(s.ljust(125))"
   ]
  },
  {
   "cell_type": "code",
   "execution_count": 15,
   "metadata": {},
   "outputs": [
    {
     "name": "stdout",
     "output_type": "stream",
     "text": [
      "&&&&&&&&&&&&&&&&&&&&&&&&&&&&&&&&&&&&&&&&&&&&&&&&&&&&&&&&python program&&&&&&&&&&&&&&&&&&&&&&&&&&&&&&&&&&&&&&&&&&&&&&&&&&&&&&&\n",
      "***************************************************************************************************************python program\n",
      "python program$$$$$$$$$$$$$$$$$$$$$$$$$$$$$$$$$$$$$$$$$$$$$$$$$$$$$$$$$$$$$$$$$$$$$$$$$$$$$$$$$$$$$$$$$$$$$$$$$$$$$$$$$$$$$$$\n"
     ]
    }
   ],
   "source": [
    "s=\"python program\"\n",
    "print(s.center(125,\"&\"))\n",
    "print(s.rjust(125,\"*\"))\n",
    "print(s.ljust(125,\"$\"))"
   ]
  },
  {
   "cell_type": "code",
   "execution_count": 16,
   "metadata": {},
   "outputs": [
    {
     "name": "stdout",
     "output_type": "stream",
     "text": [
      "python program\n",
      "python program\n",
      "python program\n"
     ]
    }
   ],
   "source": [
    "s=\"python program\"\n",
    "print(s.center(10,\"&\"))\n",
    "print(s.rjust(10,\"*\"))\n",
    "print(s.ljust(10,\"$\"))"
   ]
  },
  {
   "cell_type": "code",
   "execution_count": 17,
   "metadata": {},
   "outputs": [
    {
     "name": "stdout",
     "output_type": "stream",
     "text": [
      "['__add__', '__class__', '__contains__', '__delattr__', '__dir__', '__doc__', '__eq__', '__format__', '__ge__', '__getattribute__', '__getitem__', '__getnewargs__', '__gt__', '__hash__', '__init__', '__init_subclass__', '__iter__', '__le__', '__len__', '__lt__', '__mod__', '__mul__', '__ne__', '__new__', '__reduce__', '__reduce_ex__', '__repr__', '__rmod__', '__rmul__', '__setattr__', '__sizeof__', '__str__', '__subclasshook__', 'capitalize', 'casefold', 'center', 'count', 'encode', 'endswith', 'expandtabs', 'find', 'format', 'format_map', 'index', 'isalnum', 'isalpha', 'isascii', 'isdecimal', 'isdigit', 'isidentifier', 'islower', 'isnumeric', 'isprintable', 'isspace', 'istitle', 'isupper', 'join', 'ljust', 'lower', 'lstrip', 'maketrans', 'partition', 'replace', 'rfind', 'rindex', 'rjust', 'rpartition', 'rsplit', 'rstrip', 'split', 'splitlines', 'startswith', 'strip', 'swapcase', 'title', 'translate', 'upper', 'zfill']\n"
     ]
    }
   ],
   "source": [
    "print(dir(s))"
   ]
  },
  {
   "cell_type": "code",
   "execution_count": 18,
   "metadata": {},
   "outputs": [
    {
     "name": "stdout",
     "output_type": "stream",
     "text": [
      "False\n",
      "False\n"
     ]
    }
   ],
   "source": [
    "s=\"python program\"\n",
    "print(s.isalnum())\n",
    "print(s.isalpha())"
   ]
  },
  {
   "cell_type": "code",
   "execution_count": 19,
   "metadata": {},
   "outputs": [
    {
     "name": "stdout",
     "output_type": "stream",
     "text": [
      "True\n",
      "True\n"
     ]
    }
   ],
   "source": [
    "s=\"abcABC\"\n",
    "print(s.isalnum())\n",
    "print(s.isalpha())"
   ]
  },
  {
   "cell_type": "code",
   "execution_count": 20,
   "metadata": {},
   "outputs": [
    {
     "name": "stdout",
     "output_type": "stream",
     "text": [
      "True\n",
      "False\n"
     ]
    }
   ],
   "source": [
    "s=\"abcAB1244C\"\n",
    "print(s.isalnum())\n",
    "print(s.isalpha())"
   ]
  },
  {
   "cell_type": "code",
   "execution_count": 21,
   "metadata": {},
   "outputs": [
    {
     "name": "stdout",
     "output_type": "stream",
     "text": [
      "False\n",
      "False\n"
     ]
    }
   ],
   "source": [
    "s=\"abcAB124#4C\"\n",
    "print(s.isalnum())\n",
    "print(s.isalpha())"
   ]
  },
  {
   "cell_type": "code",
   "execution_count": 22,
   "metadata": {},
   "outputs": [
    {
     "name": "stdout",
     "output_type": "stream",
     "text": [
      "False\n",
      "False\n"
     ]
    }
   ],
   "source": [
    "s=\"python program\"\n",
    "print(s.isalnum())\n",
    "print(s.isalpha())\n",
    "# s contains the space special charater. i.e both functions returning false"
   ]
  },
  {
   "cell_type": "code",
   "execution_count": 23,
   "metadata": {},
   "outputs": [
    {
     "name": "stdout",
     "output_type": "stream",
     "text": [
      "False\n",
      "False\n"
     ]
    }
   ],
   "source": [
    "s=\"adcQWER\"\n",
    "print(s.islower())\n",
    "print(s.isupper())"
   ]
  },
  {
   "cell_type": "code",
   "execution_count": 24,
   "metadata": {},
   "outputs": [
    {
     "name": "stdout",
     "output_type": "stream",
     "text": [
      "True\n",
      "False\n"
     ]
    }
   ],
   "source": [
    "s=\"adc\"\n",
    "print(s.islower())\n",
    "print(s.isupper())"
   ]
  },
  {
   "cell_type": "code",
   "execution_count": 25,
   "metadata": {},
   "outputs": [
    {
     "name": "stdout",
     "output_type": "stream",
     "text": [
      "False\n",
      "True\n"
     ]
    }
   ],
   "source": [
    "s=\"QWER\"\n",
    "print(s.islower())\n",
    "print(s.isupper())"
   ]
  },
  {
   "cell_type": "code",
   "execution_count": 26,
   "metadata": {},
   "outputs": [
    {
     "name": "stdout",
     "output_type": "stream",
     "text": [
      "False\n",
      "False\n"
     ]
    }
   ],
   "source": [
    "s=\"adcQWER\"\n",
    "print(s.islower())\n",
    "print(s.isupper())"
   ]
  },
  {
   "cell_type": "code",
   "execution_count": 27,
   "metadata": {},
   "outputs": [
    {
     "name": "stdout",
     "output_type": "stream",
     "text": [
      "False\n",
      "True\n"
     ]
    }
   ],
   "source": [
    "s=\"Q1WER2\"\n",
    "print(s.islower())\n",
    "print(s.isupper())"
   ]
  },
  {
   "cell_type": "code",
   "execution_count": 28,
   "metadata": {},
   "outputs": [
    {
     "name": "stdout",
     "output_type": "stream",
     "text": [
      "True\n",
      "False\n"
     ]
    }
   ],
   "source": [
    "s=\"abc123\"\n",
    "print(s.islower())\n",
    "print(s.isupper())"
   ]
  },
  {
   "cell_type": "code",
   "execution_count": 29,
   "metadata": {},
   "outputs": [
    {
     "name": "stdout",
     "output_type": "stream",
     "text": [
      "False\n",
      "True\n"
     ]
    }
   ],
   "source": [
    "s=\"Q1WE#$R2\"\n",
    "print(s.islower())\n",
    "print(s.isupper())"
   ]
  },
  {
   "cell_type": "code",
   "execution_count": 30,
   "metadata": {},
   "outputs": [
    {
     "name": "stdout",
     "output_type": "stream",
     "text": [
      "False\n",
      "False\n"
     ]
    }
   ],
   "source": [
    "s=\"12345678!@#$%^\"\n",
    "print(s.islower())\n",
    "print(s.isupper())"
   ]
  },
  {
   "cell_type": "code",
   "execution_count": 31,
   "metadata": {},
   "outputs": [
    {
     "name": "stdout",
     "output_type": "stream",
     "text": [
      "True\n",
      "False\n"
     ]
    }
   ],
   "source": [
    "s=\"a12345678!@#$%^\"\n",
    "print(s.islower())\n",
    "print(s.isupper())"
   ]
  },
  {
   "cell_type": "code",
   "execution_count": 32,
   "metadata": {},
   "outputs": [
    {
     "name": "stdout",
     "output_type": "stream",
     "text": [
      "False\n",
      "True\n"
     ]
    }
   ],
   "source": [
    "s=\"A12345678!@#$%^\"\n",
    "print(s.islower())\n",
    "print(s.isupper())"
   ]
  },
  {
   "cell_type": "code",
   "execution_count": 33,
   "metadata": {},
   "outputs": [
    {
     "name": "stdout",
     "output_type": "stream",
     "text": [
      "True\n",
      "True\n",
      "True\n"
     ]
    }
   ],
   "source": [
    "s=\"1234\"\n",
    "print(s.isnumeric())\n",
    "print(s.isdigit())\n",
    "print(s.isdecimal())"
   ]
  },
  {
   "cell_type": "code",
   "execution_count": 34,
   "metadata": {},
   "outputs": [
    {
     "name": "stdout",
     "output_type": "stream",
     "text": [
      "False\n",
      "False\n",
      "False\n"
     ]
    }
   ],
   "source": [
    "s=\"12.34\"\n",
    "print(s.isnumeric())\n",
    "print(s.isdigit())\n",
    "print(s.isdecimal())"
   ]
  },
  {
   "cell_type": "code",
   "execution_count": 35,
   "metadata": {},
   "outputs": [
    {
     "name": "stdout",
     "output_type": "stream",
     "text": [
      "2³\n"
     ]
    }
   ],
   "source": [
    "s=\"2\\u00b3\"\n",
    "print(s)"
   ]
  },
  {
   "cell_type": "code",
   "execution_count": 37,
   "metadata": {},
   "outputs": [
    {
     "name": "stdout",
     "output_type": "stream",
     "text": [
      "True\n",
      "True\n",
      "False\n"
     ]
    }
   ],
   "source": [
    "s=\"2³\"\n",
    "print(s.isnumeric())\n",
    "print(s.isdigit())\n",
    "print(s.isdecimal())"
   ]
  },
  {
   "cell_type": "code",
   "execution_count": 38,
   "metadata": {},
   "outputs": [
    {
     "name": "stdout",
     "output_type": "stream",
     "text": [
      "True\n",
      "True\n"
     ]
    }
   ],
   "source": [
    "s=\"१\"\n",
    "print(s.isnumeric())\n",
    "print(s.isdigit())"
   ]
  },
  {
   "cell_type": "code",
   "execution_count": 39,
   "metadata": {},
   "outputs": [
    {
     "name": "stdout",
     "output_type": "stream",
     "text": [
      "False\n",
      "False\n"
     ]
    }
   ],
   "source": [
    "s=\"に\"\n",
    "print(s.isnumeric())\n",
    "print(s.isdigit())"
   ]
  },
  {
   "cell_type": "code",
   "execution_count": 40,
   "metadata": {},
   "outputs": [
    {
     "name": "stdout",
     "output_type": "stream",
     "text": [
      "True\n",
      "False\n"
     ]
    }
   ],
   "source": [
    "s=\"四\"\n",
    "print(s.isnumeric())\n",
    "print(s.isdigit())"
   ]
  },
  {
   "cell_type": "code",
   "execution_count": 41,
   "metadata": {},
   "outputs": [
    {
     "name": "stdout",
     "output_type": "stream",
     "text": [
      "['__add__', '__class__', '__contains__', '__delattr__', '__dir__', '__doc__', '__eq__', '__format__', '__ge__', '__getattribute__', '__getitem__', '__getnewargs__', '__gt__', '__hash__', '__init__', '__init_subclass__', '__iter__', '__le__', '__len__', '__lt__', '__mod__', '__mul__', '__ne__', '__new__', '__reduce__', '__reduce_ex__', '__repr__', '__rmod__', '__rmul__', '__setattr__', '__sizeof__', '__str__', '__subclasshook__', 'capitalize', 'casefold', 'center', 'count', 'encode', 'endswith', 'expandtabs', 'find', 'format', 'format_map', 'index', 'isalnum', 'isalpha', 'isascii', 'isdecimal', 'isdigit', 'isidentifier', 'islower', 'isnumeric', 'isprintable', 'isspace', 'istitle', 'isupper', 'join', 'ljust', 'lower', 'lstrip', 'maketrans', 'partition', 'replace', 'rfind', 'rindex', 'rjust', 'rpartition', 'rsplit', 'rstrip', 'split', 'splitlines', 'startswith', 'strip', 'swapcase', 'title', 'translate', 'upper', 'zfill']\n"
     ]
    }
   ],
   "source": [
    "print(dir(s))"
   ]
  },
  {
   "cell_type": "code",
   "execution_count": 42,
   "metadata": {},
   "outputs": [
    {
     "name": "stdout",
     "output_type": "stream",
     "text": [
      "True\n"
     ]
    }
   ],
   "source": [
    "s=\"assdf123#$%^\"\n",
    "print(s.isascii())"
   ]
  },
  {
   "cell_type": "code",
   "execution_count": 43,
   "metadata": {},
   "outputs": [
    {
     "name": "stdout",
     "output_type": "stream",
     "text": [
      "False\n"
     ]
    }
   ],
   "source": [
    "s=\"四assdf123#$%^\"\n",
    "print(s.isascii())"
   ]
  },
  {
   "cell_type": "code",
   "execution_count": 44,
   "metadata": {},
   "outputs": [
    {
     "data": {
      "text/plain": [
       "22235"
      ]
     },
     "execution_count": 44,
     "metadata": {},
     "output_type": "execute_result"
    }
   ],
   "source": [
    "s=\"四\"\n",
    "ord(s)"
   ]
  },
  {
   "cell_type": "code",
   "execution_count": 45,
   "metadata": {},
   "outputs": [
    {
     "name": "stdout",
     "output_type": "stream",
     "text": [
      "False\n"
     ]
    }
   ],
   "source": [
    "s=\"ప్రతిపాదనము\"\n",
    "print(s.isascii())"
   ]
  },
  {
   "cell_type": "code",
   "execution_count": 46,
   "metadata": {},
   "outputs": [
    {
     "name": "stdout",
     "output_type": "stream",
     "text": [
      "['__add__', '__class__', '__contains__', '__delattr__', '__dir__', '__doc__', '__eq__', '__format__', '__ge__', '__getattribute__', '__getitem__', '__getnewargs__', '__gt__', '__hash__', '__init__', '__init_subclass__', '__iter__', '__le__', '__len__', '__lt__', '__mod__', '__mul__', '__ne__', '__new__', '__reduce__', '__reduce_ex__', '__repr__', '__rmod__', '__rmul__', '__setattr__', '__sizeof__', '__str__', '__subclasshook__', 'capitalize', 'casefold', 'center', 'count', 'encode', 'endswith', 'expandtabs', 'find', 'format', 'format_map', 'index', 'isalnum', 'isalpha', 'isascii', 'isdecimal', 'isdigit', 'isidentifier', 'islower', 'isnumeric', 'isprintable', 'isspace', 'istitle', 'isupper', 'join', 'ljust', 'lower', 'lstrip', 'maketrans', 'partition', 'replace', 'rfind', 'rindex', 'rjust', 'rpartition', 'rsplit', 'rstrip', 'split', 'splitlines', 'startswith', 'strip', 'swapcase', 'title', 'translate', 'upper', 'zfill']\n"
     ]
    }
   ],
   "source": [
    "print(dir(s))"
   ]
  },
  {
   "cell_type": "code",
   "execution_count": 47,
   "metadata": {},
   "outputs": [
    {
     "name": "stdout",
     "output_type": "stream",
     "text": [
      "True\n"
     ]
    }
   ],
   "source": [
    "s=\"Python Program\"\n",
    "print(s.istitle())"
   ]
  },
  {
   "cell_type": "code",
   "execution_count": 48,
   "metadata": {},
   "outputs": [
    {
     "name": "stdout",
     "output_type": "stream",
     "text": [
      "False\n"
     ]
    }
   ],
   "source": [
    "s=\"Pyt2hon Pro#gram\"\n",
    "print(s.istitle())"
   ]
  },
  {
   "cell_type": "code",
   "execution_count": 49,
   "metadata": {},
   "outputs": [
    {
     "name": "stdout",
     "output_type": "stream",
     "text": [
      "True\n"
     ]
    }
   ],
   "source": [
    "s=\"Pyt2Hon Pro#Gram\"\n",
    "print(s.istitle())"
   ]
  },
  {
   "cell_type": "code",
   "execution_count": 50,
   "metadata": {},
   "outputs": [
    {
     "name": "stdout",
     "output_type": "stream",
     "text": [
      "False\n"
     ]
    }
   ],
   "source": [
    "s=\"python program\"\n",
    "print(s.isspace())"
   ]
  },
  {
   "cell_type": "code",
   "execution_count": 51,
   "metadata": {},
   "outputs": [
    {
     "name": "stdout",
     "output_type": "stream",
     "text": [
      "True\n"
     ]
    }
   ],
   "source": [
    "s=\"                \"\n",
    "print(s.isspace())"
   ]
  },
  {
   "cell_type": "code",
   "execution_count": 52,
   "metadata": {},
   "outputs": [
    {
     "name": "stdout",
     "output_type": "stream",
     "text": [
      "True\n"
     ]
    }
   ],
   "source": [
    "s=\"\\n\\t\"\n",
    "print(s.isspace())"
   ]
  },
  {
   "cell_type": "code",
   "execution_count": 53,
   "metadata": {},
   "outputs": [
    {
     "name": "stdout",
     "output_type": "stream",
     "text": [
      "0\n",
      "0\n",
      "44\n",
      "44\n"
     ]
    }
   ],
   "source": [
    "s=\"apple;orange;apple;grape;apple;banana;mango;apple\"\n",
    "print(s.find(\"apple\"))\n",
    "print(s.index(\"apple\"))\n",
    "print(s.rfind(\"apple\"))\n",
    "print(s.rindex(\"apple\"))\n"
   ]
  },
  {
   "cell_type": "code",
   "execution_count": 54,
   "metadata": {},
   "outputs": [
    {
     "name": "stdout",
     "output_type": "stream",
     "text": [
      "13\n",
      "13\n"
     ]
    }
   ],
   "source": [
    "s=\"apple;orange;apple;grape;apple;banana;mango;apple\"\n",
    "print(s.find(\"apple\",2))\n",
    "print(s.index(\"apple\",2))"
   ]
  },
  {
   "cell_type": "code",
   "execution_count": 55,
   "metadata": {},
   "outputs": [
    {
     "name": "stdout",
     "output_type": "stream",
     "text": [
      "6\n",
      "6\n"
     ]
    }
   ],
   "source": [
    "s=\"apple;orange;apple;grape;apple;orange;banana;mango;apple;orange\"\n",
    "print(s.find(\"orange\",2))\n",
    "print(s.index(\"orange\",2))"
   ]
  },
  {
   "cell_type": "code",
   "execution_count": 56,
   "metadata": {},
   "outputs": [],
   "source": [
    "s.find?"
   ]
  },
  {
   "cell_type": "code",
   "execution_count": 57,
   "metadata": {},
   "outputs": [
    {
     "name": "stdout",
     "output_type": "stream",
     "text": [
      "6\n",
      "6\n",
      "ple;orange;apple;grape;apple;orange;banana;mango;apple;orange\n"
     ]
    }
   ],
   "source": [
    "s=\"apple;orange;apple;grape;apple;orange;banana;mango;apple;orange\"\n",
    "print(s.find(\"orange\",2))\n",
    "print(s.index(\"orange\",2))\n",
    "print(s[2:])"
   ]
  },
  {
   "cell_type": "code",
   "execution_count": 58,
   "metadata": {},
   "outputs": [
    {
     "name": "stdout",
     "output_type": "stream",
     "text": [
      "31\n",
      "31\n",
      "range;apple;grape;apple;orange;banana;mango;apple;orange\n"
     ]
    }
   ],
   "source": [
    "s=\"apple;orange;apple;grape;apple;orange;banana;mango;apple;orange\"\n",
    "print(s.find(\"orange\",7))\n",
    "print(s.index(\"orange\",7))\n",
    "print(s[7:])"
   ]
  },
  {
   "cell_type": "code",
   "execution_count": 59,
   "metadata": {},
   "outputs": [
    {
     "name": "stdout",
     "output_type": "stream",
     "text": [
      "51\n",
      "51\n",
      "range;banana;mango;orange;apple;orange\n"
     ]
    }
   ],
   "source": [
    "s=\"apple;orange;apple;grape;apple;orange;banana;mango;orange;apple;orange\"\n",
    "print(s.find(\"orange\",32))\n",
    "print(s.index(\"orange\",32))\n",
    "print(s[32:])"
   ]
  },
  {
   "cell_type": "code",
   "execution_count": 60,
   "metadata": {},
   "outputs": [
    {
     "name": "stdout",
     "output_type": "stream",
     "text": [
      "6\n",
      "6\n"
     ]
    }
   ],
   "source": [
    "s=\"apple;orange;apple;grape;apple;orange;banana;mango;orange;apple;orange\"\n",
    "print(s.find(\"orange\"))\n",
    "print(s.index(\"orange\"))"
   ]
  },
  {
   "cell_type": "code",
   "execution_count": 61,
   "metadata": {},
   "outputs": [
    {
     "name": "stdout",
     "output_type": "stream",
     "text": [
      "-1\n"
     ]
    },
    {
     "ename": "ValueError",
     "evalue": "substring not found",
     "output_type": "error",
     "traceback": [
      "\u001b[1;31m---------------------------------------------------------------------------\u001b[0m",
      "\u001b[1;31mValueError\u001b[0m                                Traceback (most recent call last)",
      "\u001b[1;32m<ipython-input-61-f3b79ecd3198>\u001b[0m in \u001b[0;36m<module>\u001b[1;34m\u001b[0m\n\u001b[0;32m      1\u001b[0m \u001b[0ms\u001b[0m\u001b[1;33m=\u001b[0m\u001b[1;34m\"apple;orange;apple;grape;apple;orange;banana;mango;orange;apple;orange\"\u001b[0m\u001b[1;33m\u001b[0m\u001b[1;33m\u001b[0m\u001b[0m\n\u001b[0;32m      2\u001b[0m \u001b[0mprint\u001b[0m\u001b[1;33m(\u001b[0m\u001b[0ms\u001b[0m\u001b[1;33m.\u001b[0m\u001b[0mfind\u001b[0m\u001b[1;33m(\u001b[0m\u001b[1;34m\"APPLE\"\u001b[0m\u001b[1;33m)\u001b[0m\u001b[1;33m)\u001b[0m\u001b[1;33m\u001b[0m\u001b[1;33m\u001b[0m\u001b[0m\n\u001b[1;32m----> 3\u001b[1;33m \u001b[0mprint\u001b[0m\u001b[1;33m(\u001b[0m\u001b[0ms\u001b[0m\u001b[1;33m.\u001b[0m\u001b[0mindex\u001b[0m\u001b[1;33m(\u001b[0m\u001b[1;34m\"APPLE\"\u001b[0m\u001b[1;33m)\u001b[0m\u001b[1;33m)\u001b[0m\u001b[1;33m\u001b[0m\u001b[1;33m\u001b[0m\u001b[0m\n\u001b[0m",
      "\u001b[1;31mValueError\u001b[0m: substring not found"
     ]
    }
   ],
   "source": [
    "s=\"apple;orange;apple;grape;apple;orange;banana;mango;orange;apple;orange\"\n",
    "print(s.find(\"APPLE\"))\n",
    "print(s.index(\"APPLE\"))"
   ]
  },
  {
   "cell_type": "code",
   "execution_count": 63,
   "metadata": {},
   "outputs": [
    {
     "name": "stdout",
     "output_type": "stream",
     "text": [
      "0\n"
     ]
    }
   ],
   "source": [
    "s=\"apple;orange;apple;grape;apple;orange;banana;mango;orange;apple;orange\"\n",
    "print(s.find(\"APPLE\".casefold()))"
   ]
  },
  {
   "cell_type": "code",
   "execution_count": 64,
   "metadata": {},
   "outputs": [
    {
     "name": "stdout",
     "output_type": "stream",
     "text": [
      "13\n"
     ]
    }
   ],
   "source": [
    "s=\"APPLE;orange;apple;grape;apple;orange;banana;mango;orange;apple;orange\"\n",
    "print(s.find(\"apple\".casefold()))"
   ]
  },
  {
   "cell_type": "code",
   "execution_count": 65,
   "metadata": {},
   "outputs": [
    {
     "name": "stdout",
     "output_type": "stream",
     "text": [
      "0\n"
     ]
    }
   ],
   "source": [
    "s=\"APPLE;orange;apple;grape;apple;orange;banana;mango;orange;apple;orange\"\n",
    "print(s.casefold().find(\"apple\".casefold()))"
   ]
  },
  {
   "cell_type": "code",
   "execution_count": 67,
   "metadata": {},
   "outputs": [
    {
     "name": "stdout",
     "output_type": "stream",
     "text": [
      "['__add__', '__class__', '__contains__', '__delattr__', '__dir__', '__doc__', '__eq__', '__format__', '__ge__', '__getattribute__', '__getitem__', '__getnewargs__', '__gt__', '__hash__', '__init__', '__init_subclass__', '__iter__', '__le__', '__len__', '__lt__', '__mod__', '__mul__', '__ne__', '__new__', '__reduce__', '__reduce_ex__', '__repr__', '__rmod__', '__rmul__', '__setattr__', '__sizeof__', '__str__', '__subclasshook__', 'capitalize', 'casefold', 'center', 'count', 'encode', 'endswith', 'expandtabs', 'find', 'format', 'format_map', 'index', 'isalnum', 'isalpha', 'isascii', 'isdecimal', 'isdigit', 'isidentifier', 'islower', 'isnumeric', 'isprintable', 'isspace', 'istitle', 'isupper', 'join', 'ljust', 'lower', 'lstrip', 'maketrans', 'partition', 'replace', 'rfind', 'rindex', 'rjust', 'rpartition', 'rsplit', 'rstrip', 'split', 'splitlines', 'startswith', 'strip', 'swapcase', 'title', 'translate', 'upper', 'zfill']\n"
     ]
    }
   ],
   "source": [
    "print(dir(s))"
   ]
  },
  {
   "cell_type": "code",
   "execution_count": 68,
   "metadata": {},
   "outputs": [
    {
     "data": {
      "text/plain": [
       "3"
      ]
     },
     "execution_count": 68,
     "metadata": {},
     "output_type": "execute_result"
    }
   ],
   "source": [
    "s=\"APPLE;orange;apple;grape;apple;orange;banana;mango;orange;apple;orange\"\n",
    "s.count(\"apple\")"
   ]
  },
  {
   "cell_type": "code",
   "execution_count": 69,
   "metadata": {},
   "outputs": [
    {
     "data": {
      "text/plain": [
       "4"
      ]
     },
     "execution_count": 69,
     "metadata": {},
     "output_type": "execute_result"
    }
   ],
   "source": [
    "s=\"APPLE;orange;apple;grape;apple;orange;banana;mango;orange;apple;orange\"\n",
    "s.casefold().count(\"apple\".casefold())"
   ]
  },
  {
   "cell_type": "code",
   "execution_count": 70,
   "metadata": {},
   "outputs": [
    {
     "data": {
      "text/plain": [
       "0"
      ]
     },
     "execution_count": 70,
     "metadata": {},
     "output_type": "execute_result"
    }
   ],
   "source": [
    "s=\"APPLE;orange;apple;grape;apple;orange;banana;mango;orange;apple;orange\"\n",
    "s.casefold().count(\"apple1234\".casefold())"
   ]
  },
  {
   "cell_type": "code",
   "execution_count": 71,
   "metadata": {},
   "outputs": [],
   "source": [
    "# check the impact of empty argument for all string functions."
   ]
  },
  {
   "cell_type": "code",
   "execution_count": 72,
   "metadata": {},
   "outputs": [
    {
     "data": {
      "text/plain": [
       "1"
      ]
     },
     "execution_count": 72,
     "metadata": {},
     "output_type": "execute_result"
    }
   ],
   "source": [
    "s=\"python\"\n",
    "s.count(\"p\")"
   ]
  },
  {
   "cell_type": "code",
   "execution_count": 73,
   "metadata": {},
   "outputs": [
    {
     "data": {
      "text/plain": [
       "0"
      ]
     },
     "execution_count": 73,
     "metadata": {},
     "output_type": "execute_result"
    }
   ],
   "source": [
    "s=\"python\"\n",
    "s.count(\" \")"
   ]
  },
  {
   "cell_type": "code",
   "execution_count": 74,
   "metadata": {},
   "outputs": [
    {
     "data": {
      "text/plain": [
       "7"
      ]
     },
     "execution_count": 74,
     "metadata": {},
     "output_type": "execute_result"
    }
   ],
   "source": [
    "s=\"python\"\n",
    "s.count(\"\") # empty argument."
   ]
  },
  {
   "cell_type": "code",
   "execution_count": 75,
   "metadata": {},
   "outputs": [
    {
     "data": {
      "text/plain": [
       "6"
      ]
     },
     "execution_count": 75,
     "metadata": {},
     "output_type": "execute_result"
    }
   ],
   "source": [
    "s=\"python\"\n",
    "len(s)"
   ]
  },
  {
   "cell_type": "code",
   "execution_count": 1,
   "metadata": {},
   "outputs": [
    {
     "name": "stdout",
     "output_type": "stream",
     "text": [
      "APPLE;orange;APPLE;grape;APPLE;orange;banana;mango;orange;APPLE;orange\n"
     ]
    }
   ],
   "source": [
    "s=\"apple;orange;apple;grape;apple;orange;banana;mango;orange;apple;orange\"\n",
    "s1 = s.replace(\"apple\", \"APPLE\")\n",
    "print(s1)"
   ]
  },
  {
   "cell_type": "code",
   "execution_count": 2,
   "metadata": {},
   "outputs": [
    {
     "name": "stdout",
     "output_type": "stream",
     "text": [
      "APPLE;orange;APPLE;grape;apple;orange;banana;mango;orange;apple;orange\n"
     ]
    }
   ],
   "source": [
    "s=\"apple;orange;apple;grape;apple;orange;banana;mango;orange;apple;orange\"\n",
    "s1 = s.replace(\"apple\", \"APPLE\",2)\n",
    "print(s1)"
   ]
  },
  {
   "cell_type": "code",
   "execution_count": 3,
   "metadata": {},
   "outputs": [
    {
     "name": "stdout",
     "output_type": "stream",
     "text": [
      "APPLE;orange;APPLE;grape;APPLE;orange;banana;mango;orange;APPLE;orange\n"
     ]
    }
   ],
   "source": [
    "s=\"apple;orange;apple;grape;apple;orange;banana;mango;orange;apple;orange\"\n",
    "s1 = s.replace(\"apple\", \"APPLE\",-2)\n",
    "print(s1)"
   ]
  },
  {
   "cell_type": "code",
   "execution_count": 4,
   "metadata": {},
   "outputs": [
    {
     "data": {
      "text/plain": [
       "7"
      ]
     },
     "execution_count": 4,
     "metadata": {},
     "output_type": "execute_result"
    }
   ],
   "source": [
    "s =\"python\"\n",
    "s.count(\"\")"
   ]
  },
  {
   "cell_type": "code",
   "execution_count": 5,
   "metadata": {},
   "outputs": [
    {
     "data": {
      "text/plain": [
       "'ApAyAtAhAoAnA'"
      ]
     },
     "execution_count": 5,
     "metadata": {},
     "output_type": "execute_result"
    }
   ],
   "source": [
    "s =\"python\"\n",
    "s.replace(\"\",\"A\")"
   ]
  },
  {
   "cell_type": "code",
   "execution_count": 6,
   "metadata": {},
   "outputs": [
    {
     "name": "stdout",
     "output_type": "stream",
     "text": [
      "0\n"
     ]
    }
   ],
   "source": [
    "s =\"python\"\n",
    "sub = \"p\"\n",
    "print(s.find(sub))"
   ]
  },
  {
   "cell_type": "code",
   "execution_count": 7,
   "metadata": {},
   "outputs": [
    {
     "name": "stdout",
     "output_type": "stream",
     "text": [
      "0\n"
     ]
    }
   ],
   "source": [
    "s =\"python\"\n",
    "sub = \"\"\n",
    "print(s.find(sub))"
   ]
  },
  {
   "cell_type": "code",
   "execution_count": 8,
   "metadata": {},
   "outputs": [
    {
     "name": "stdout",
     "output_type": "stream",
     "text": [
      "0\n"
     ]
    }
   ],
   "source": [
    "s =\"python\"\n",
    "sub = \"p\"\n",
    "print(s.find(sub) if sub else \"Invalid sub\")"
   ]
  },
  {
   "cell_type": "code",
   "execution_count": 9,
   "metadata": {},
   "outputs": [
    {
     "name": "stdout",
     "output_type": "stream",
     "text": [
      "Invalid sub\n"
     ]
    }
   ],
   "source": [
    "s =\"python\"\n",
    "sub = \"\"\n",
    "print(s.find(sub) if sub else \"Invalid sub\")"
   ]
  },
  {
   "cell_type": "code",
   "execution_count": 10,
   "metadata": {},
   "outputs": [
    {
     "name": "stdout",
     "output_type": "stream",
     "text": [
      "a\n"
     ]
    }
   ],
   "source": [
    "s=\"apple;orange;apple;grape;apple;orange;banana;mango;orange;apple;orange\"\n",
    "for i in s:\n",
    "    print(i)\n",
    "    break"
   ]
  },
  {
   "cell_type": "code",
   "execution_count": 12,
   "metadata": {},
   "outputs": [
    {
     "name": "stdout",
     "output_type": "stream",
     "text": [
      "apple\n"
     ]
    }
   ],
   "source": [
    "s=[\"apple\",\"orange\",\"apple\",\"grape\",\"apple\",\"orange\",\"banana\",\"mango\",\"orange\",\"apple\",\"orange\"]\n",
    "for i in s:\n",
    "    print(i)\n",
    "    break"
   ]
  },
  {
   "cell_type": "code",
   "execution_count": 13,
   "metadata": {},
   "outputs": [
    {
     "name": "stdout",
     "output_type": "stream",
     "text": [
      "apple\n",
      "orange\n",
      "apple\n",
      "grape\n",
      "apple\n",
      "orange\n",
      "banana\n",
      "mango\n",
      "orange\n",
      "apple\n",
      "orange\n"
     ]
    }
   ],
   "source": [
    "s=\"apple;orange;apple;grape;apple;orange;banana;mango;orange;apple;orange\"\n",
    "for i in s.split(\";\"):\n",
    "    print(i)\n"
   ]
  },
  {
   "cell_type": "code",
   "execution_count": 18,
   "metadata": {},
   "outputs": [
    {
     "name": "stdout",
     "output_type": "stream",
     "text": [
      "['apple', 'orange', 'apple', 'grape', 'apple', 'orange', 'banana', 'mango', 'orange', 'apple', 'orange']\n"
     ]
    }
   ],
   "source": [
    "s=\"apple;orange;apple;grape;apple;orange;banana;mango;orange;apple;orange\"\n",
    "s1 = s.replace(\";\",\" \")\n",
    "print(s1.split())\n"
   ]
  },
  {
   "cell_type": "code",
   "execution_count": 19,
   "metadata": {},
   "outputs": [
    {
     "name": "stdout",
     "output_type": "stream",
     "text": [
      "['apple', 'orange', 'apple', 'grape', 'apple', 'orange', 'banana', 'mango', 'orange', 'apple', 'orange']\n"
     ]
    }
   ],
   "source": [
    "s=\"apple;orange;apple;grape;apple;orange;banana;mango;orange;apple;orange\"\n",
    "s1 = s.replace(\";\",\" \")\n",
    "print(s1.split(\" \"))\n"
   ]
  },
  {
   "cell_type": "code",
   "execution_count": 20,
   "metadata": {},
   "outputs": [
    {
     "name": "stdout",
     "output_type": "stream",
     "text": [
      "['apple', 'orange', 'apple', 'grape', 'apple', 'orange', 'banana', 'mango', 'orange', 'apple', 'orange']\n"
     ]
    }
   ],
   "source": [
    "s=\"apple orange apple grape apple orange banana mango orange apple orange\"\n",
    "print(s.split(\" \"))"
   ]
  },
  {
   "cell_type": "code",
   "execution_count": 21,
   "metadata": {},
   "outputs": [
    {
     "name": "stdout",
     "output_type": "stream",
     "text": [
      "['apple', 'orange', '', '', '', '', 'apple', 'grape', '', '', 'apple', '', '', '', 'orange', '', '', 'banana', 'mango', 'orange', 'apple', 'orange']\n",
      "['apple', 'orange', 'apple', 'grape', 'apple', 'orange', 'banana', 'mango', 'orange', 'apple', 'orange']\n"
     ]
    }
   ],
   "source": [
    "s=\"apple orange     apple grape   apple    orange   banana mango orange apple orange\"\n",
    "print(s.split(\" \"))\n",
    "print(s.split())"
   ]
  },
  {
   "cell_type": "code",
   "execution_count": 22,
   "metadata": {},
   "outputs": [
    {
     "name": "stdout",
     "output_type": "stream",
     "text": [
      "['apple', 'orange', 'apple', 'grape', 'apple', 'orange', 'banana', 'mango', 'orange', 'apple', 'orange']\n",
      "['apple', 'orange', 'apple', 'grape', 'apple', 'orange', 'banana', 'mango', 'orange', 'apple', 'orange']\n"
     ]
    }
   ],
   "source": [
    "s=\"apple;orange;apple;grape;apple;orange;banana;mango;orange;apple;orange\"\n",
    "print(s.split(\";\"))\n",
    "print(s.rsplit(\";\"))"
   ]
  },
  {
   "cell_type": "code",
   "execution_count": 23,
   "metadata": {},
   "outputs": [
    {
     "name": "stdout",
     "output_type": "stream",
     "text": [
      "['apple', 'orange', 'apple', 'grape', 'apple;orange;banana;mango;orange;apple;orange']\n",
      "['apple;orange;apple;grape;apple;orange;banana', 'mango', 'orange', 'apple', 'orange']\n"
     ]
    }
   ],
   "source": [
    "s=\"apple;orange;apple;grape;apple;orange;banana;mango;orange;apple;orange\"\n",
    "print(s.split(\";\",4))\n",
    "print(s.rsplit(\";\",4))"
   ]
  },
  {
   "cell_type": "code",
   "execution_count": 24,
   "metadata": {},
   "outputs": [
    {
     "name": "stdout",
     "output_type": "stream",
     "text": [
      "apple;orange;apple;grape;apple;orange;banana;mango;orange;apple;orange\n"
     ]
    }
   ],
   "source": [
    "l=[\"apple\",\"orange\",\"apple\",\"grape\",\"apple\",\"orange\",\"banana\",\"mango\",\"orange\",\"apple\",\"orange\"]\n",
    "s = \";\".join(l)\n",
    "print(s)"
   ]
  },
  {
   "cell_type": "code",
   "execution_count": 25,
   "metadata": {},
   "outputs": [
    {
     "name": "stdout",
     "output_type": "stream",
     "text": [
      "appleABC123orangeABC123appleABC123grapeABC123appleABC123orangeABC123bananaABC123mangoABC123orangeABC123appleABC123orange\n"
     ]
    }
   ],
   "source": [
    "l=[\"apple\",\"orange\",\"apple\",\"grape\",\"apple\",\"orange\",\"banana\",\"mango\",\"orange\",\"apple\",\"orange\"]\n",
    "s = \"ABC123\".join(l)\n",
    "print(s)"
   ]
  },
  {
   "cell_type": "code",
   "execution_count": 26,
   "metadata": {},
   "outputs": [
    {
     "name": "stdout",
     "output_type": "stream",
     "text": [
      "apple;orange;apple;grape;apple;orange;banana;mango;orange;apple;orange\n"
     ]
    }
   ],
   "source": [
    "l=[\"apple\",\"orange\",\"apple\",\"grape\",\"apple\",\"orange\",\"banana\",\"mango\",\"orange\",\"apple\",\"orange\"]\n",
    "s = \";\".join(l)\n",
    "print(s)"
   ]
  },
  {
   "cell_type": "code",
   "execution_count": 27,
   "metadata": {},
   "outputs": [
    {
     "ename": "TypeError",
     "evalue": "sequence item 2: expected str instance, int found",
     "output_type": "error",
     "traceback": [
      "\u001b[1;31m---------------------------------------------------------------------------\u001b[0m",
      "\u001b[1;31mTypeError\u001b[0m                                 Traceback (most recent call last)",
      "\u001b[1;32m<ipython-input-27-438bfb7fd23a>\u001b[0m in \u001b[0;36m<module>\u001b[1;34m\u001b[0m\n\u001b[0;32m      1\u001b[0m \u001b[0ml\u001b[0m\u001b[1;33m=\u001b[0m\u001b[1;33m[\u001b[0m\u001b[1;34m\"apple\"\u001b[0m\u001b[1;33m,\u001b[0m\u001b[1;34m\"orange\"\u001b[0m\u001b[1;33m,\u001b[0m\u001b[1;36m12\u001b[0m\u001b[1;33m,\u001b[0m\u001b[1;36m23\u001b[0m\u001b[1;33m,\u001b[0m\u001b[1;36m45\u001b[0m\u001b[1;33m,\u001b[0m\u001b[1;36m6\u001b[0m\u001b[1;33m,\u001b[0m\u001b[1;34m\"apple\"\u001b[0m\u001b[1;33m,\u001b[0m\u001b[1;34m\"grape\"\u001b[0m\u001b[1;33m,\u001b[0m\u001b[1;34m\"apple\"\u001b[0m\u001b[1;33m,\u001b[0m\u001b[1;34m\"orange\"\u001b[0m\u001b[1;33m,\u001b[0m\u001b[1;34m\"banana\"\u001b[0m\u001b[1;33m,\u001b[0m\u001b[1;34m\"mango\"\u001b[0m\u001b[1;33m,\u001b[0m\u001b[1;34m\"orange\"\u001b[0m\u001b[1;33m,\u001b[0m\u001b[1;34m\"apple\"\u001b[0m\u001b[1;33m,\u001b[0m\u001b[1;34m\"orange\"\u001b[0m\u001b[1;33m]\u001b[0m\u001b[1;33m\u001b[0m\u001b[1;33m\u001b[0m\u001b[0m\n\u001b[1;32m----> 2\u001b[1;33m \u001b[0ms\u001b[0m \u001b[1;33m=\u001b[0m \u001b[1;34m\";\"\u001b[0m\u001b[1;33m.\u001b[0m\u001b[0mjoin\u001b[0m\u001b[1;33m(\u001b[0m\u001b[0ml\u001b[0m\u001b[1;33m)\u001b[0m\u001b[1;33m\u001b[0m\u001b[1;33m\u001b[0m\u001b[0m\n\u001b[0m\u001b[0;32m      3\u001b[0m \u001b[0mprint\u001b[0m\u001b[1;33m(\u001b[0m\u001b[0ms\u001b[0m\u001b[1;33m)\u001b[0m\u001b[1;33m\u001b[0m\u001b[1;33m\u001b[0m\u001b[0m\n",
      "\u001b[1;31mTypeError\u001b[0m: sequence item 2: expected str instance, int found"
     ]
    }
   ],
   "source": [
    "l=[\"apple\",\"orange\",12,23,45,6,\"apple\",\"grape\",\"apple\",\"orange\",\"banana\",\"mango\",\"orange\",\"apple\",\"orange\"]\n",
    "s = \";\".join(l)\n",
    "print(s)"
   ]
  },
  {
   "cell_type": "code",
   "execution_count": 29,
   "metadata": {},
   "outputs": [
    {
     "name": "stdout",
     "output_type": "stream",
     "text": [
      ";orange;apple;grape;apple;orange;banana;mango;orange;apple;orang\n"
     ]
    }
   ],
   "source": [
    "s=\"apple;orange;apple;grape;apple;orange;banana;mango;orange;apple;orange\"\n",
    "print(s.strip(\"apple\"))"
   ]
  },
  {
   "cell_type": "code",
   "execution_count": 31,
   "metadata": {},
   "outputs": [
    {
     "name": "stdout",
     "output_type": "stream",
     "text": [
      ";orange;apple;grape;apple;orange;banana;mango;orange;apple;orange;\n",
      "apple;orange;apple;grape;apple;orange;banana;mango;orange;apple;orange;\n",
      ";orange;apple;grape;apple;orange;banana;mango;orange;apple;orange;apple\n"
     ]
    }
   ],
   "source": [
    "s=\"apple;orange;apple;grape;apple;orange;banana;mango;orange;apple;orange;apple\"\n",
    "print(s.strip(\"apple\"))\n",
    "print(s.rstrip(\"apple\"))\n",
    "print(s.lstrip(\"apple\"))"
   ]
  },
  {
   "cell_type": "code",
   "execution_count": 32,
   "metadata": {},
   "outputs": [
    {
     "name": "stdout",
     "output_type": "stream",
     "text": [
      "5\n"
     ]
    }
   ],
   "source": [
    "s=\"apple;orange;apple;grape;apple;orange;banana;mango;orange;apple;orange;apple\"\n",
    "print(s.count(\"apple\"))"
   ]
  },
  {
   "cell_type": "code",
   "execution_count": 33,
   "metadata": {},
   "outputs": [
    {
     "name": "stdout",
     "output_type": "stream",
     "text": [
      "0\n"
     ]
    }
   ],
   "source": [
    "s=\"apple;orange;apple;grape;apple;orange;banana;mango;orange;apple;orange;apple\"\n",
    "print(s.count(\"appel\"))"
   ]
  },
  {
   "cell_type": "code",
   "execution_count": 34,
   "metadata": {},
   "outputs": [
    {
     "name": "stdout",
     "output_type": "stream",
     "text": [
      ";orange;apple;grape;apple;orange;banana;mango;orange;apple;orange;\n",
      "apple;orange;apple;grape;apple;orange;banana;mango;orange;apple;orange;\n",
      ";orange;apple;grape;apple;orange;banana;mango;orange;apple;orange;apple\n"
     ]
    }
   ],
   "source": [
    "s=\"apple;orange;apple;grape;apple;orange;banana;mango;orange;apple;orange;apple\"\n",
    "print(s.strip(\"appel\"))\n",
    "print(s.rstrip(\"apepl\"))\n",
    "print(s.lstrip(\"eappl\"))"
   ]
  },
  {
   "cell_type": "code",
   "execution_count": 38,
   "metadata": {},
   "outputs": [
    {
     "name": "stdout",
     "output_type": "stream",
     "text": [
      "'apple'     'apple'\n",
      "    'apple'     'apple'\n",
      "'apple'     'apple'    \n"
     ]
    }
   ],
   "source": [
    "s=\"    'apple'     'apple'    \"\n",
    "print(s.strip())\n",
    "print(s.rstrip())\n",
    "print(s.lstrip())"
   ]
  },
  {
   "cell_type": "code",
   "execution_count": 40,
   "metadata": {},
   "outputs": [
    {
     "name": "stdout",
     "output_type": "stream",
     "text": [
      ";orange;;grape;;orange;banana;mango;orange;;orange;\n"
     ]
    }
   ],
   "source": [
    "s=\"apple;orange;apple;grape;apple;orange;banana;mango;orange;apple;orange;apple\"\n",
    "print(s.replace(\"apple\",\"\"))"
   ]
  },
  {
   "cell_type": "code",
   "execution_count": 41,
   "metadata": {},
   "outputs": [
    {
     "name": "stdout",
     "output_type": "stream",
     "text": [
      ";orange;;grape;;orange;banana;mango;orange;;orange;\n",
      ";orange;;grape;;orange;banana;mango;orange;;orange;\n"
     ]
    }
   ],
   "source": [
    "s=\"apple;orange;apple;grape;apple;orange;banana;mango;orange;apple;orange;apple\"\n",
    "l=s.split(\"apple\")\n",
    "s1 = \"\".join(l)\n",
    "print(s1)\n",
    "print(s.replace(\"apple\",\"\"))"
   ]
  },
  {
   "cell_type": "code",
   "execution_count": 42,
   "metadata": {},
   "outputs": [
    {
     "name": "stdout",
     "output_type": "stream",
     "text": [
      ";orange;;grape;;orange;banana;mango;orange;;orange;\n",
      ";orange;;grape;;orange;banana;mango;orange;;orange;\n"
     ]
    }
   ],
   "source": [
    "s=\"apple;orange;apple;grape;apple;orange;banana;mango;orange;apple;orange;apple\"\n",
    "print(\"\".join(s.split(\"apple\")))\n",
    "print(s.replace(\"apple\",\"\"))"
   ]
  },
  {
   "cell_type": "code",
   "execution_count": 43,
   "metadata": {},
   "outputs": [
    {
     "name": "stdout",
     "output_type": "stream",
     "text": [
      "APPLE;orange;APPLE;grape;APPLE;orange;banana;mango;orange;APPLE;orange;APPLE\n",
      "APPLE;orange;APPLE;grape;APPLE;orange;banana;mango;orange;APPLE;orange;APPLE\n"
     ]
    }
   ],
   "source": [
    "s=\"apple;orange;apple;grape;apple;orange;banana;mango;orange;apple;orange;apple\"\n",
    "print(\"APPLE\".join(s.split(\"apple\")))\n",
    "print(s.replace(\"apple\",\"APPLE\"))"
   ]
  },
  {
   "cell_type": "code",
   "execution_count": 44,
   "metadata": {},
   "outputs": [
    {
     "name": "stdout",
     "output_type": "stream",
     "text": [
      "APPLE;orange;APPLE;grape;apple;orange;banana;mango;orange;apple;orange;apple\n",
      "APPLE;orange;APPLE;grape;apple;orange;banana;mango;orange;apple;orange;apple\n"
     ]
    }
   ],
   "source": [
    "s=\"apple;orange;apple;grape;apple;orange;banana;mango;orange;apple;orange;apple\"\n",
    "print(\"APPLE\".join(s.split(\"apple\",2)))\n",
    "print(s.replace(\"apple\",\"APPLE\",2))"
   ]
  },
  {
   "cell_type": "code",
   "execution_count": 45,
   "metadata": {},
   "outputs": [
    {
     "name": "stdout",
     "output_type": "stream",
     "text": [
      "apple;orange;apple;grape;apple;orange;banana;mango;orange;APPLE;orange;APPLE\n",
      "APPLE;orange;APPLE;grape;apple;orange;banana;mango;orange;apple;orange;apple\n"
     ]
    }
   ],
   "source": [
    "s=\"apple;orange;apple;grape;apple;orange;banana;mango;orange;apple;orange;apple\"\n",
    "print(\"APPLE\".join(s.rsplit(\"apple\",2)))\n",
    "print(s.replace(\"apple\",\"APPLE\",2))"
   ]
  },
  {
   "cell_type": "code",
   "execution_count": 46,
   "metadata": {},
   "outputs": [
    {
     "name": "stdout",
     "output_type": "stream",
     "text": [
      "False\n",
      "False\n"
     ]
    }
   ],
   "source": [
    "s = \"sambaodoo@gmail.com\"\n",
    "print(s.startswith(\"gmail\"))\n",
    "print(s.endswith(\"samba\"))"
   ]
  },
  {
   "cell_type": "code",
   "execution_count": 47,
   "metadata": {},
   "outputs": [
    {
     "name": "stdout",
     "output_type": "stream",
     "text": [
      "False\n",
      "False\n"
     ]
    }
   ],
   "source": [
    "s = \"sambaodoo@gmail.com\"\n",
    "print(s.startswith(\" \"))\n",
    "print(s.endswith(\" \"))"
   ]
  },
  {
   "cell_type": "code",
   "execution_count": 48,
   "metadata": {},
   "outputs": [
    {
     "name": "stdout",
     "output_type": "stream",
     "text": [
      "True\n",
      "True\n"
     ]
    }
   ],
   "source": [
    "s = \"sambaodoo@gmail.com\"\n",
    "print(s.startswith(\"\"))\n",
    "print(s.endswith(\"\"))"
   ]
  },
  {
   "cell_type": "code",
   "execution_count": 51,
   "metadata": {},
   "outputs": [
    {
     "name": "stdout",
     "output_type": "stream",
     "text": [
      "['__add__', '__class__', '__contains__', '__delattr__', '__dir__', '__doc__', '__eq__', '__format__', '__ge__', '__getattribute__', '__getitem__', '__getnewargs__', '__gt__', '__hash__', '__init__', '__init_subclass__', '__iter__', '__le__', '__len__', '__lt__', '__mod__', '__mul__', '__ne__', '__new__', '__reduce__', '__reduce_ex__', '__repr__', '__rmod__', '__rmul__', '__setattr__', '__sizeof__', '__str__', '__subclasshook__', 'capitalize', 'casefold', 'center', 'count', 'encode', 'endswith', 'expandtabs', 'find', 'format', 'format_map', 'index', 'isalnum', 'isalpha', 'isascii', 'isdecimal', 'isdigit', 'isidentifier', 'islower', 'isnumeric', 'isprintable', 'isspace', 'istitle', 'isupper', 'join', 'ljust', 'lower', 'lstrip', 'maketrans', 'partition', 'replace', 'rfind', 'rindex', 'rjust', 'rpartition', 'rsplit', 'rstrip', 'split', 'splitlines', 'startswith', 'strip', 'swapcase', 'title', 'translate', 'upper', 'zfill']\n"
     ]
    }
   ],
   "source": [
    "s=\"abcd\"\n",
    "print(dir(s))"
   ]
  },
  {
   "cell_type": "code",
   "execution_count": 52,
   "metadata": {},
   "outputs": [
    {
     "name": "stdout",
     "output_type": "stream",
     "text": [
      "<class 'bytes'>\n",
      "['__add__', '__class__', '__contains__', '__delattr__', '__dir__', '__doc__', '__eq__', '__format__', '__ge__', '__getattribute__', '__getitem__', '__getnewargs__', '__gt__', '__hash__', '__init__', '__init_subclass__', '__iter__', '__le__', '__len__', '__lt__', '__mod__', '__mul__', '__ne__', '__new__', '__reduce__', '__reduce_ex__', '__repr__', '__rmod__', '__rmul__', '__setattr__', '__sizeof__', '__str__', '__subclasshook__', 'capitalize', 'center', 'count', 'decode', 'endswith', 'expandtabs', 'find', 'fromhex', 'hex', 'index', 'isalnum', 'isalpha', 'isascii', 'isdigit', 'islower', 'isspace', 'istitle', 'isupper', 'join', 'ljust', 'lower', 'lstrip', 'maketrans', 'partition', 'replace', 'rfind', 'rindex', 'rjust', 'rpartition', 'rsplit', 'rstrip', 'split', 'splitlines', 'startswith', 'strip', 'swapcase', 'title', 'translate', 'upper', 'zfill']\n"
     ]
    }
   ],
   "source": [
    "s = b\"python\"\n",
    "print(type(s))\n",
    "print(dir(s))"
   ]
  },
  {
   "cell_type": "code",
   "execution_count": 53,
   "metadata": {},
   "outputs": [
    {
     "name": "stdout",
     "output_type": "stream",
     "text": [
      "python <class 'str'>\n",
      "b'python' <class 'bytes'>\n"
     ]
    }
   ],
   "source": [
    "s = \"python\"\n",
    "print(s,type(s))\n",
    "s1 = s.encode(\"utf-8\")\n",
    "print(s1, type(s1))"
   ]
  },
  {
   "cell_type": "code",
   "execution_count": 54,
   "metadata": {},
   "outputs": [
    {
     "name": "stdout",
     "output_type": "stream",
     "text": [
      "b'python' <class 'bytes'>\n",
      "python <class 'str'>\n"
     ]
    }
   ],
   "source": [
    "s = b\"python\"\n",
    "print(s,type(s))\n",
    "s1 = s.decode(\"utf-8\")\n",
    "print(s1, type(s1))"
   ]
  },
  {
   "cell_type": "code",
   "execution_count": 56,
   "metadata": {},
   "outputs": [
    {
     "name": "stdout",
     "output_type": "stream",
     "text": [
      "116\n",
      "33\n"
     ]
    }
   ],
   "source": [
    "s = \"There are gold mines found out side the city\"\n",
    "\n",
    "#t-!\n",
    "#h-@\n",
    "#e-#\n",
    "#r-$\n",
    "print(ord('t'))\n",
    "print(ord('!'))"
   ]
  },
  {
   "cell_type": "code",
   "execution_count": 64,
   "metadata": {},
   "outputs": [
    {
     "name": "stdout",
     "output_type": "stream",
     "text": [
      "There are gold mines found ou! side !he ci!y\n"
     ]
    }
   ],
   "source": [
    "s = \"There are gold mines found out side the city\"\n",
    "print(s.translate({116:33}))\n",
    "#t-!\n",
    "#h-@\n",
    "#e-#\n",
    "#r-$\n",
    "#print(ord('t'))\n",
    "#print(ord('!'))"
   ]
  },
  {
   "cell_type": "code",
   "execution_count": 63,
   "metadata": {},
   "outputs": [
    {
     "data": {
      "text/plain": [
       "'There are gold mines found ou! side !he ci!y'"
      ]
     },
     "execution_count": 63,
     "metadata": {},
     "output_type": "execute_result"
    }
   ],
   "source": [
    "s = \"There are gold mines found out side the city\"\n",
    "s.replace(\"t\",\"!\")\n",
    "#print(s.translate({116:33}))"
   ]
  },
  {
   "cell_type": "code",
   "execution_count": 62,
   "metadata": {},
   "outputs": [
    {
     "data": {
      "text/plain": [
       "'There are gold mines found out side !@e city'"
      ]
     },
     "execution_count": 62,
     "metadata": {},
     "output_type": "execute_result"
    }
   ],
   "source": [
    "s = \"There are gold mines found out side the city\"\n",
    "s.replace(\"th\",\"!@\")\n",
    "#print(s.translate({116:33}))"
   ]
  },
  {
   "cell_type": "code",
   "execution_count": 65,
   "metadata": {},
   "outputs": [
    {
     "data": {
      "text/plain": [
       "'There are gold mines found out side !@e city'"
      ]
     },
     "execution_count": 65,
     "metadata": {},
     "output_type": "execute_result"
    }
   ],
   "source": [
    "s = \"There are gold mines found out side the city\"\n",
    "s.replace(\"th\",\"!@\")"
   ]
  },
  {
   "cell_type": "code",
   "execution_count": 67,
   "metadata": {},
   "outputs": [
    {
     "data": {
      "text/plain": [
       "{116: 33, 104: 64, 101: 35, 114: 36}"
      ]
     },
     "execution_count": 67,
     "metadata": {},
     "output_type": "execute_result"
    }
   ],
   "source": [
    "\"\".maketrans(\"ther\",\"!@#$\")"
   ]
  },
  {
   "cell_type": "code",
   "execution_count": 68,
   "metadata": {},
   "outputs": [
    {
     "name": "stdout",
     "output_type": "stream",
     "text": [
      "T@#$# a$# gold min#s found ou! sid# !@# ci!y\n"
     ]
    }
   ],
   "source": [
    "s = \"There are gold mines found out side the city\"\n",
    "print(s.translate(\"\".maketrans(\"ther\",\"!@#$\")))"
   ]
  },
  {
   "cell_type": "code",
   "execution_count": 69,
   "metadata": {},
   "outputs": [
    {
     "name": "stdout",
     "output_type": "stream",
     "text": [
      "T@#$# a$# %^&* min#s f^un* ^u! si*# !@# ci!y\n"
     ]
    }
   ],
   "source": [
    "s = \"There are gold mines found out side the city\"\n",
    "print(s.translate(\"\".maketrans(\"thergold\",\"!@#$%^&*\")))"
   ]
  },
  {
   "cell_type": "code",
   "execution_count": 70,
   "metadata": {},
   "outputs": [
    {
     "name": "stdout",
     "output_type": "stream",
     "text": [
      "T@#$# a$# %^&* min#s f^un* ^u! si*# !@# ci!y\n",
      "There are gold mines found out side the city\n"
     ]
    }
   ],
   "source": [
    "s = \"There are gold mines found out side the city\"\n",
    "enc = s.translate(\"\".maketrans(\"thergold\",\"!@#$%^&*\"))\n",
    "print(enc)\n",
    "dec = enc.translate(\"\".maketrans(\"!@#$%^&*\",\"thergold\"))\n",
    "print(dec)"
   ]
  },
  {
   "cell_type": "code",
   "execution_count": 72,
   "metadata": {},
   "outputs": [
    {
     "name": "stdout",
     "output_type": "stream",
     "text": [
      "['apple', 'orange', 'apple', 'grape', 'apple', 'orange', 'banana', 'mango', 'orange', 'apple', 'orange', 'apple']\n",
      "('apple', ';', 'orange;apple;grape;apple;orange;banana;mango;orange;apple;orange;apple')\n"
     ]
    }
   ],
   "source": [
    "s=\"apple;orange;apple;grape;apple;orange;banana;mango;orange;apple;orange;apple\"\n",
    "print(s.split(\";\"))\n",
    "print(s.partition(\";\"))"
   ]
  },
  {
   "cell_type": "code",
   "execution_count": 73,
   "metadata": {},
   "outputs": [],
   "source": [
    "s.isspace?\n"
   ]
  },
  {
   "cell_type": "code",
   "execution_count": null,
   "metadata": {},
   "outputs": [],
   "source": []
  }
 ],
 "metadata": {
  "kernelspec": {
   "display_name": "Python 3",
   "language": "python",
   "name": "python3"
  },
  "language_info": {
   "codemirror_mode": {
    "name": "ipython",
    "version": 3
   },
   "file_extension": ".py",
   "mimetype": "text/x-python",
   "name": "python",
   "nbconvert_exporter": "python",
   "pygments_lexer": "ipython3",
   "version": "3.8.8"
  }
 },
 "nbformat": 4,
 "nbformat_minor": 4
}
