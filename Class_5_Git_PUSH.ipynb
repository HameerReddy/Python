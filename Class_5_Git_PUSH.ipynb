{
 "cells": [
  {
   "cell_type": "code",
   "execution_count": 1,
   "id": "064caf3f",
   "metadata": {},
   "outputs": [],
   "source": [
    "# name = ge_names_from_DB() does this name is a valid name?\n",
    "# according to python it is valid, but, in developer point of view it is not.. because it is missing details abot the object\n"
   ]
  },
  {
   "cell_type": "code",
   "execution_count": 2,
   "id": "95e01c05",
   "metadata": {},
   "outputs": [],
   "source": [
    "# Python setting some rules about names\n"
   ]
  },
  {
   "cell_type": "code",
   "execution_count": 3,
   "id": "77f831a1",
   "metadata": {},
   "outputs": [
    {
     "ename": "SyntaxError",
     "evalue": "invalid syntax (<ipython-input-3-3476e381bb22>, line 1)",
     "output_type": "error",
     "traceback": [
      "\u001b[1;36m  File \u001b[1;32m\"<ipython-input-3-3476e381bb22>\"\u001b[1;36m, line \u001b[1;32m1\u001b[0m\n\u001b[1;33m    1name=\"jay\"\u001b[0m\n\u001b[1;37m     ^\u001b[0m\n\u001b[1;31mSyntaxError\u001b[0m\u001b[1;31m:\u001b[0m invalid syntax\n"
     ]
    }
   ],
   "source": [
    "1name=\"jay\""
   ]
  },
  {
   "cell_type": "code",
   "execution_count": 4,
   "id": "c5767b06",
   "metadata": {},
   "outputs": [
    {
     "name": "stdout",
     "output_type": "stream",
     "text": [
      "jay Veda\n"
     ]
    }
   ],
   "source": [
    "name=\"jay\"\n",
    "Name = \"Veda\"\n",
    "print(name, Name)"
   ]
  },
  {
   "cell_type": "code",
   "execution_count": 5,
   "id": "11c8aadb",
   "metadata": {},
   "outputs": [],
   "source": [
    "# should not use a keywords as names"
   ]
  },
  {
   "cell_type": "code",
   "execution_count": 6,
   "id": "3f48c289",
   "metadata": {},
   "outputs": [
    {
     "name": "stdout",
     "output_type": "stream",
     "text": [
      "['False', 'None', 'True', 'and', 'as', 'assert', 'async', 'await', 'break', 'class', 'continue', 'def', 'del', 'elif', 'else', 'except', 'finally', 'for', 'from', 'global', 'if', 'import', 'in', 'is', 'lambda', 'nonlocal', 'not', 'or', 'pass', 'raise', 'return', 'try', 'while', 'with', 'yield']\n"
     ]
    }
   ],
   "source": [
    "from keyword import kwlist\n",
    "print(kwlist)"
   ]
  },
  {
   "cell_type": "code",
   "execution_count": 7,
   "id": "5a0346cb",
   "metadata": {},
   "outputs": [
    {
     "ename": "NameError",
     "evalue": "name 'false' is not defined",
     "output_type": "error",
     "traceback": [
      "\u001b[1;31m---------------------------------------------------------------------------\u001b[0m",
      "\u001b[1;31mNameError\u001b[0m                                 Traceback (most recent call last)",
      "\u001b[1;32m<ipython-input-7-8091c8cb7963>\u001b[0m in \u001b[0;36m<module>\u001b[1;34m\u001b[0m\n\u001b[1;32m----> 1\u001b[1;33m \u001b[0ma\u001b[0m\u001b[1;33m=\u001b[0m\u001b[0mfalse\u001b[0m\u001b[1;33m\u001b[0m\u001b[1;33m\u001b[0m\u001b[0m\n\u001b[0m",
      "\u001b[1;31mNameError\u001b[0m: name 'false' is not defined"
     ]
    }
   ],
   "source": [
    "a=false"
   ]
  },
  {
   "cell_type": "code",
   "execution_count": 8,
   "id": "89ad7e27",
   "metadata": {},
   "outputs": [
    {
     "name": "stdout",
     "output_type": "stream",
     "text": [
      "some value\n"
     ]
    }
   ],
   "source": [
    "false = \"some value\"\n",
    "a=false\n",
    "print(a)\n"
   ]
  },
  {
   "cell_type": "code",
   "execution_count": 10,
   "id": "8794f0d0",
   "metadata": {},
   "outputs": [
    {
     "name": "stdout",
     "output_type": "stream",
     "text": [
      "True\n"
     ]
    }
   ],
   "source": [
    "a=True\n",
    "print(a)"
   ]
  },
  {
   "cell_type": "code",
   "execution_count": 11,
   "id": "ace24b78",
   "metadata": {},
   "outputs": [
    {
     "ename": "SyntaxError",
     "evalue": "invalid syntax (<ipython-input-11-247972001625>, line 1)",
     "output_type": "error",
     "traceback": [
      "\u001b[1;36m  File \u001b[1;32m\"<ipython-input-11-247972001625>\"\u001b[1;36m, line \u001b[1;32m1\u001b[0m\n\u001b[1;33m    if = \"what if\"\u001b[0m\n\u001b[1;37m       ^\u001b[0m\n\u001b[1;31mSyntaxError\u001b[0m\u001b[1;31m:\u001b[0m invalid syntax\n"
     ]
    }
   ],
   "source": [
    "if = \"what if\"\n",
    "# if is a keyword, and we should not use this as a variable name"
   ]
  },
  {
   "cell_type": "code",
   "execution_count": 12,
   "id": "465ab66d",
   "metadata": {},
   "outputs": [
    {
     "name": "stdout",
     "output_type": "stream",
     "text": [
      "10\n"
     ]
    }
   ],
   "source": [
    "l=[1,2,3,4]\n",
    "print(sum(l))"
   ]
  },
  {
   "cell_type": "code",
   "execution_count": 13,
   "id": "858448f5",
   "metadata": {},
   "outputs": [],
   "source": [
    "# sum is not a keyword, it is a generic function defined by python "
   ]
  },
  {
   "cell_type": "code",
   "execution_count": 14,
   "id": "9b92861d",
   "metadata": {},
   "outputs": [
    {
     "name": "stdout",
     "output_type": "stream",
     "text": [
      "100\n"
     ]
    }
   ],
   "source": [
    "sum = 100\n",
    "print(sum)"
   ]
  },
  {
   "cell_type": "code",
   "execution_count": 15,
   "id": "2305ecfd",
   "metadata": {},
   "outputs": [
    {
     "data": {
      "text/plain": [
       "<function len(obj, /)>"
      ]
     },
     "execution_count": 15,
     "metadata": {},
     "output_type": "execute_result"
    }
   ],
   "source": [
    "len\n"
   ]
  },
  {
   "cell_type": "code",
   "execution_count": 16,
   "id": "739f233f",
   "metadata": {},
   "outputs": [
    {
     "data": {
      "text/plain": [
       "<function hex(number, /)>"
      ]
     },
     "execution_count": 16,
     "metadata": {},
     "output_type": "execute_result"
    }
   ],
   "source": [
    "hex"
   ]
  },
  {
   "cell_type": "code",
   "execution_count": 17,
   "id": "237ad53d",
   "metadata": {},
   "outputs": [
    {
     "data": {
      "text/plain": [
       "int"
      ]
     },
     "execution_count": 17,
     "metadata": {},
     "output_type": "execute_result"
    }
   ],
   "source": [
    "int"
   ]
  },
  {
   "cell_type": "code",
   "execution_count": 18,
   "id": "f2835349",
   "metadata": {},
   "outputs": [],
   "source": [
    "int = 123\n"
   ]
  },
  {
   "cell_type": "code",
   "execution_count": 19,
   "id": "0e9c31f5",
   "metadata": {},
   "outputs": [
    {
     "ename": "TypeError",
     "evalue": "'int' object is not callable",
     "output_type": "error",
     "traceback": [
      "\u001b[1;31m---------------------------------------------------------------------------\u001b[0m",
      "\u001b[1;31mTypeError\u001b[0m                                 Traceback (most recent call last)",
      "\u001b[1;32m<ipython-input-19-20ad8f95e5b5>\u001b[0m in \u001b[0;36m<module>\u001b[1;34m\u001b[0m\n\u001b[1;32m----> 1\u001b[1;33m \u001b[0mint\u001b[0m\u001b[1;33m(\u001b[0m\u001b[1;34m\"12\"\u001b[0m\u001b[1;33m)\u001b[0m\u001b[1;33m\u001b[0m\u001b[1;33m\u001b[0m\u001b[0m\n\u001b[0m",
      "\u001b[1;31mTypeError\u001b[0m: 'int' object is not callable"
     ]
    }
   ],
   "source": [
    "int(\"12\")"
   ]
  },
  {
   "cell_type": "code",
   "execution_count": 20,
   "id": "359575cd",
   "metadata": {},
   "outputs": [],
   "source": [
    "a=10\n"
   ]
  },
  {
   "cell_type": "code",
   "execution_count": 21,
   "id": "b24a84fa",
   "metadata": {},
   "outputs": [],
   "source": [
    "a = 10 # To make user friendly we should follow few rules"
   ]
  },
  {
   "cell_type": "code",
   "execution_count": 22,
   "id": "5d75b3a0",
   "metadata": {},
   "outputs": [],
   "source": [
    "# how do you check your code is developer friendly or not?\n",
    "# Using pep8 we caan do that"
   ]
  },
  {
   "cell_type": "code",
   "execution_count": 23,
   "id": "521211bc",
   "metadata": {},
   "outputs": [],
   "source": [
    "# what is the maximum size for a variable name in python?"
   ]
  },
  {
   "cell_type": "code",
   "execution_count": null,
   "id": "9bd1316f",
   "metadata": {},
   "outputs": [],
   "source": []
  }
 ],
 "metadata": {
  "kernelspec": {
   "display_name": "Python 3",
   "language": "python",
   "name": "python3"
  },
  "language_info": {
   "codemirror_mode": {
    "name": "ipython",
    "version": 3
   },
   "file_extension": ".py",
   "mimetype": "text/x-python",
   "name": "python",
   "nbconvert_exporter": "python",
   "pygments_lexer": "ipython3",
   "version": "3.8.8"
  }
 },
 "nbformat": 4,
 "nbformat_minor": 5
}
