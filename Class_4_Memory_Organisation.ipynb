{
 "cells": [
  {
   "cell_type": "code",
   "execution_count": 13,
   "id": "8f986d4a",
   "metadata": {},
   "outputs": [],
   "source": [
    "a=1000\n",
    "b=2000\n",
    "c=1000\n",
    "d=a\n",
    "name=\"jayaram\"\n",
    "name1=name\n",
    "l = [a,b,3000,name,\"python\"]\n",
    "k=l"
   ]
  },
  {
   "cell_type": "code",
   "execution_count": 1,
   "id": "3da970b0",
   "metadata": {},
   "outputs": [
    {
     "name": "stdout",
     "output_type": "stream",
     "text": [
      "1000 2286364967344\n",
      "1000 2286364967440\n"
     ]
    }
   ],
   "source": [
    "a=1000\n",
    "b=1000\n",
    "print(a,id(a))\n",
    "print(b,id(b))"
   ]
  },
  {
   "cell_type": "code",
   "execution_count": 5,
   "id": "bd910b24",
   "metadata": {},
   "outputs": [
    {
     "name": "stdout",
     "output_type": "stream",
     "text": [
      "1000 2286364967952\n",
      "a 2286292455280\n",
      "1000 2286364967952\n",
      "1000 a 1000\n"
     ]
    }
   ],
   "source": [
    "a=1000\n",
    "c=\"a\"\n",
    "d=a\n",
    "print(a,id(a))\n",
    "print(c,id(c))\n",
    "print(d,id(d))\n",
    "print(a,c,d)"
   ]
  },
  {
   "cell_type": "code",
   "execution_count": 4,
   "id": "8bb6ae0c",
   "metadata": {},
   "outputs": [
    {
     "name": "stdout",
     "output_type": "stream",
     "text": [
      "A programming language\n",
      "A programming language\n"
     ]
    }
   ],
   "source": [
    "python = \"A programming language\"\n",
    "print(python)\n",
    "c=python\n",
    "print(c)"
   ]
  },
  {
   "cell_type": "code",
   "execution_count": 7,
   "id": "25a13e32",
   "metadata": {},
   "outputs": [
    {
     "name": "stdout",
     "output_type": "stream",
     "text": [
      "jayaram 2286364937200 <class 'str'>\n",
      "j 2286299135792 <class 'str'>\n"
     ]
    }
   ],
   "source": [
    "name=\"jayaram\"\n",
    "print(name, id(name), type(name))\n",
    "print(name[0], id(name[0]), type(name[0]))"
   ]
  },
  {
   "cell_type": "code",
   "execution_count": 10,
   "id": "2c88fb74",
   "metadata": {},
   "outputs": [
    {
     "name": "stdout",
     "output_type": "stream",
     "text": [
      "jayaram 2286364937200 <class 'str'>\n",
      "a 2286292455280 <class 'str'>\n"
     ]
    }
   ],
   "source": [
    "name=\"jayaram\"\n",
    "print(name, id(name), type(name))\n",
    "print(name[1], id(name[1]), type(name[1]))"
   ]
  },
  {
   "cell_type": "code",
   "execution_count": 11,
   "id": "2b3a1f9c",
   "metadata": {},
   "outputs": [
    {
     "name": "stdout",
     "output_type": "stream",
     "text": [
      "p 2286292322096\n",
      "p 2286292322096\n"
     ]
    }
   ],
   "source": [
    "s=\"pot\"\n",
    "s1=\"apple\"\n",
    "print(s[0],id(s[0]))\n",
    "print(s1[1],id(s1[1]))"
   ]
  },
  {
   "cell_type": "code",
   "execution_count": 12,
   "id": "308558f9",
   "metadata": {},
   "outputs": [
    {
     "name": "stdout",
     "output_type": "stream",
     "text": [
      "jayaram\n"
     ]
    }
   ],
   "source": [
    "name=\"jayaram\"\n",
    "name1=name\n",
    "print(name1)"
   ]
  },
  {
   "cell_type": "code",
   "execution_count": 15,
   "id": "5bc974f3",
   "metadata": {},
   "outputs": [
    {
     "name": "stdout",
     "output_type": "stream",
     "text": [
      "[1000, 2000, 3000, 'jayaram', 'python'] 2286364871104 <class 'list'>\n"
     ]
    }
   ],
   "source": [
    "a=1000\n",
    "b=2000\n",
    "c=1000\n",
    "d=a\n",
    "name=\"jayaram\"\n",
    "name1=name\n",
    "l = [a,b,3000,name,\"python\"]\n",
    "print(l, id(l), type(l))"
   ]
  },
  {
   "cell_type": "code",
   "execution_count": 16,
   "id": "5ac27146",
   "metadata": {},
   "outputs": [],
   "source": [
    "a=2000\n",
    "b=a\n",
    "c=1000+a\n",
    "s=\"orange\"\n",
    "s1=s\n",
    "l=[1000,2000,c]"
   ]
  },
  {
   "cell_type": "code",
   "execution_count": null,
   "id": "7e0f2ed8",
   "metadata": {},
   "outputs": [],
   "source": []
  }
 ],
 "metadata": {
  "kernelspec": {
   "display_name": "Python 3",
   "language": "python",
   "name": "python3"
  },
  "language_info": {
   "codemirror_mode": {
    "name": "ipython",
    "version": 3
   },
   "file_extension": ".py",
   "mimetype": "text/x-python",
   "name": "python",
   "nbconvert_exporter": "python",
   "pygments_lexer": "ipython3",
   "version": "3.8.8"
  }
 },
 "nbformat": 4,
 "nbformat_minor": 5
}
