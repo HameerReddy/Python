{
 "cells": [
  {
   "cell_type": "code",
   "execution_count": 2,
   "id": "9d8002d8",
   "metadata": {},
   "outputs": [
    {
     "name": "stdout",
     "output_type": "stream",
     "text": [
      "Enter a string: A3343445567587456453451355143525623453as\n",
      "Does the entered string consists only digits..?\n",
      "False\n",
      "The entered string consists other than digits also..!!\n"
     ]
    }
   ],
   "source": [
    "''' 26. take a string from the user and check contains only digits or not?\n",
    "'''\n",
    "a = input(\"Enter a string: \")\n",
    "print(f\"Does the entered string consists only digits..?\\n{a.isdigit()}\")\n",
    "digit_range = range(ord(\"0\"), ord(\"9\")+1)\n",
    "for i in a:\n",
    "    if ord(i) not in digit_range:\n",
    "        print(\"The entered string consists other than digits also..!!\")\n",
    "        break\n",
    "else:\n",
    "    print(\"The entered string consists only digits..!!\")"
   ]
  },
  {
   "cell_type": "code",
   "execution_count": 5,
   "id": "72f5f2bf",
   "metadata": {},
   "outputs": [
    {
     "name": "stdout",
     "output_type": "stream",
     "text": [
      "Enter a string: sdfKJ123&^%&^\n",
      "Does the entered string consists only alphabets..?\n",
      "False\n",
      "The entered string consists other than alphabets also..!!\n"
     ]
    }
   ],
   "source": [
    "''' 27. take a string from the user and check contains only  alphabets or not?\n",
    "'''\n",
    "a = input(\"Enter a string: \")\n",
    "print(f\"Does the entered string consists only alphabets..?\\n{a.isalpha()}\")\n",
    "C_alphabet_range = range(ord(\"A\"), ord(\"Z\")+1)\n",
    "S_alphabet_range = range(ord(\"a\"), ord(\"z\")+1)\n",
    "for i in a:\n",
    "    if ord(i) not in S_alphabet_range and ord(i) not in C_alphabet_range:\n",
    "        print(\"The entered string consists other than alphabets also..!!\")\n",
    "        break\n",
    "else:\n",
    "    print(\"The entered string consists only alphabets..!!\")"
   ]
  },
  {
   "cell_type": "code",
   "execution_count": 21,
   "id": "54f1969b",
   "metadata": {},
   "outputs": [
    {
     "name": "stdout",
     "output_type": "stream",
     "text": [
      "Enter a string: !@#$%^&*()_+|\"?><:{}\n",
      "The entered string consists only special charactars..!!\n"
     ]
    }
   ],
   "source": [
    "''' 28. take a string from the user and check contains only  special chars or not?\n",
    "'''\n",
    "a = input(\"Enter a string: \")\n",
    "C_alphabet_range = range(ord(\"A\"), ord(\"Z\")+1)\n",
    "S_alphabet_range = range(ord(\"a\"), ord(\"z\")+1)\n",
    "digit_range = range(ord(\"0\"), ord(\"9\")+1)\n",
    "for i in a:\n",
    "    c_ord = ord(i)\n",
    "    if c_ord in S_alphabet_range: \n",
    "        print(\"The entered string consists other than special charactars also..!!\")\n",
    "        break\n",
    "    elif c_ord in C_alphabet_range:\n",
    "        print(\"The entered string consists other than special charactars also..!!\")\n",
    "        break\n",
    "    elif c_ord in digit_range:\n",
    "        print(\"The entered string consists other than special charactars also..!!\")\n",
    "        break\n",
    "else:\n",
    "    print(\"The entered string consists only special charactars..!!\")"
   ]
  },
  {
   "cell_type": "code",
   "execution_count": 25,
   "id": "063d0551",
   "metadata": {},
   "outputs": [
    {
     "name": "stdout",
     "output_type": "stream",
     "text": [
      "Enter a string: ABCDGS12#\n",
      "Does the entered string consists only capital letters..?\n",
      "True\n",
      "The entered string consists other than capital letters also..!!\n"
     ]
    }
   ],
   "source": [
    "''' 29.take a string from the user and check contains only capital letters or not?\n",
    "'''\n",
    "a = input(\"Enter a string: \")\n",
    "print(f\"Does the entered string consists only capital letters..?\\n{a.isupper()}\")\n",
    "C_alphabet_range = range(ord(\"A\"), ord(\"Z\")+1)\n",
    "for i in a:\n",
    "    if ord(i) not in C_alphabet_range:\n",
    "        print(\"The entered string consists other than capital letters also..!!\")\n",
    "        break\n",
    "\n",
    "else:\n",
    "    print(\"The entered string consists only capital letters..!!\")"
   ]
  },
  {
   "cell_type": "code",
   "execution_count": 27,
   "id": "c846b89e",
   "metadata": {},
   "outputs": [
    {
     "name": "stdout",
     "output_type": "stream",
     "text": [
      "Enter a string: iasdkb$#%$765\n",
      "Does the entered string consists only small letters..?\n",
      "True\n",
      "The entered string consists other than small letters also..!!\n"
     ]
    }
   ],
   "source": [
    "''' 30.take a string from the user and check contains only  small letters or not?\n",
    "'''\n",
    "a = input(\"Enter a string: \")\n",
    "print(f\"Does the entered string consists only small letters..?\\n{a.islower()}\")\n",
    "S_alphabet_range = range(ord(\"a\"), ord(\"z\")+1)\n",
    "for i in a:\n",
    "    if ord(i) not in S_alphabet_range:\n",
    "        print(\"The entered string consists other than small letters also..!!\")\n",
    "        break\n",
    "else:\n",
    "    print(\"The entered string consists only small letters..!!\")"
   ]
  },
  {
   "cell_type": "code",
   "execution_count": 36,
   "id": "bd1de9d7",
   "metadata": {},
   "outputs": [
    {
     "name": "stdout",
     "output_type": "stream",
     "text": [
      "String befor: apple,orange,apple,grape,orange,apple,apple,orange\n",
      "String after: apple,orange,APPLE,grape,orange,APPLE,APPLE,orange\n"
     ]
    }
   ],
   "source": [
    "''' \n",
    "31. WAP to replace last n occurrence of given string. \n",
    "    For example:”apple,orange,apple,grape,orange,apple,apple,orange”\n",
    "    source: “apple”\n",
    "    last occurrences: 2\n",
    "    replace with: APPLE\n",
    "    output:”apple,orange,apple,grape,orange,APPLE,APPLE,orange”\n",
    "'''\n",
    "s = \"apple,orange,apple,grape,orange,apple,apple,orange\"\n",
    "print(F\"String befor: {s}\")\n",
    "#s1 = s.rsplit(\"apple\",2)\n",
    "#print(s1)\n",
    "#s2 = \"APPLE\".join(s1)\n",
    "#print(s2)\n",
    "print(f\"String after: {'APPLE'.join(s.rsplit('apple',3))}\")"
   ]
  },
  {
   "cell_type": "code",
   "execution_count": 46,
   "id": "b49eb1ec",
   "metadata": {},
   "outputs": [
    {
     "name": "stdout",
     "output_type": "stream",
     "text": [
      "Enter a Number: 12.34\n",
      "Does the entered string consists only numbers..?\n",
      "isdigit:False\n",
      "Does the entered string consists only numbers..?\n",
      "isnumeric:False\n",
      "Does the entered string consists only numbers..?\n",
      "isdecimal:False\n",
      "The entered string consists only real numbers..!!\n"
     ]
    }
   ],
   "source": [
    "''' \n",
    "32. WAP to check given string contains numbers or not. \n",
    "    it should consider float numbers also.\n",
    "'''\n",
    "a = input(\"Enter a Number: \")\n",
    "print(f\"Does the entered string consists only numbers..?\\nisdigit:{a.isdigit()}\")\n",
    "print(f\"Does the entered string consists only numbers..?\\nisnumeric:{a.isnumeric()}\")\n",
    "print(f\"Does the entered string consists only numbers..?\\nisdecimal:{a.isdecimal()}\")\n",
    "count = 0\n",
    "for i in a:\n",
    "    if not ((i>=\"0\" and i<=\"9\") or i==\".\"):\n",
    "        print(\"The entered string consists other than real numbers also..!!\")\n",
    "        break\n",
    "else:\n",
    "    print(\"The entered string consists only real numbers..!!\")"
   ]
  },
  {
   "cell_type": "code",
   "execution_count": 45,
   "id": "357f29fd",
   "metadata": {},
   "outputs": [],
   "source": [
    "s.isnumeric?\n"
   ]
  },
  {
   "cell_type": "code",
   "execution_count": 47,
   "id": "7ab84614",
   "metadata": {},
   "outputs": [
    {
     "name": "stdout",
     "output_type": "stream",
     "text": [
      "Enter a sentance: ABSC123\n",
      "absc123\n"
     ]
    }
   ],
   "source": [
    "''' \n",
    "33. Convert the total string into lower case. Without using lower() function.\n",
    "'''\n",
    "a = input(\"Enter a sentance: \")\n",
    "newString = \"\"\n",
    "for i in a:\n",
    "    for j in i:\n",
    "        if not (j>=\"A\" and j<=\"Z\"):\n",
    "            newString = newString + j\n",
    "        else:\n",
    "            b = chr(ord(j)+32)\n",
    "            newString = newString + b\n",
    "        \n",
    "    \n",
    "\n",
    "print(newString)"
   ]
  },
  {
   "cell_type": "code",
   "execution_count": 48,
   "id": "994363b9",
   "metadata": {},
   "outputs": [
    {
     "name": "stdout",
     "output_type": "stream",
     "text": [
      "Enter a sentance: abc123@#\n",
      "ABC123@#\n"
     ]
    }
   ],
   "source": [
    "''' \n",
    "34. Convert the total string in to upper case. Without using upper() function.\n",
    "'''\n",
    "a = input(\"Enter a sentance: \")\n",
    "newString = \"\"\n",
    "for i in a:\n",
    "    for j in i:\n",
    "        if not (j>=\"a\" and j<=\"z\"):\n",
    "            newString = newString + j\n",
    "        else:\n",
    "            b = chr(ord(j) - 32)\n",
    "            newString = newString + b\n",
    "        \n",
    "    \n",
    "\n",
    "print(newString)"
   ]
  },
  {
   "cell_type": "code",
   "execution_count": 49,
   "id": "50215df5",
   "metadata": {},
   "outputs": [
    {
     "name": "stdout",
     "output_type": "stream",
     "text": [
      "Enter a string: as123\n",
      "The entered string consists atleast one digit..!!\n"
     ]
    }
   ],
   "source": [
    "''' 36. take a string from the user and check contains at least one digit or not?\n",
    "'''\n",
    "a = input(\"Enter a string: \")\n",
    "for i in a:\n",
    "    if i.isdigit():\n",
    "        print(\"The entered string consists atleast one digit..!!\")\n",
    "        break\n",
    "else:\n",
    "    print(\"The entered string have no digits..!!\")"
   ]
  },
  {
   "cell_type": "code",
   "execution_count": 56,
   "id": "173e11d2",
   "metadata": {},
   "outputs": [
    {
     "name": "stdout",
     "output_type": "stream",
     "text": [
      "Enter a string: acv123   123asd\n",
      "----including SPACES----\n",
      "The entered string consists atleast one special char..!!\n",
      "----excluding SPACES----\n",
      "The entered string have no special chars..!!\n"
     ]
    }
   ],
   "source": [
    "''' 38. take a string from the user and check contains at least one special chars or not?\n",
    "'''\n",
    "a = input(\"Enter a string: \")\n",
    "print(\"----including SPACES----\")\n",
    "for i in a:\n",
    "    if not(i.isalnum()):\n",
    "        print(\"The entered string consists atleast one special char..!!\")\n",
    "        break\n",
    "else:\n",
    "    print(\"The entered string have no special chars..!!\")\n",
    "print(\"----excluding SPACES----\")\n",
    "for i in a:\n",
    "    if not(i.isalnum() or i.isspace()):\n",
    "        print(\"The entered string consists atleast one special char..!!\")\n",
    "        break\n",
    "else:\n",
    "    print(\"The entered string have no special chars..!!\")"
   ]
  },
  {
   "cell_type": "code",
   "execution_count": 59,
   "id": "10150be1",
   "metadata": {},
   "outputs": [
    {
     "name": "stdout",
     "output_type": "stream",
     "text": [
      "Enter a string: asdsadfW123%\n",
      "The entered string consists atleast one capital letter..!!\n"
     ]
    }
   ],
   "source": [
    "''' 39. take a string from the user and check contains at least one capital letter or not?\n",
    "'''\n",
    "a = input(\"Enter a string: \")\n",
    "for i in a:\n",
    "    if i.isupper():\n",
    "        print(\"The entered string consists atleast one capital letter..!!\")\n",
    "        break\n",
    "else:\n",
    "    print(\"The entered string have no capital letters..!!\")"
   ]
  },
  {
   "cell_type": "code",
   "execution_count": 61,
   "id": "8d86aa57",
   "metadata": {},
   "outputs": [
    {
     "name": "stdout",
     "output_type": "stream",
     "text": [
      "Enter a string: ASCVF123#$%^  123\n",
      "The entered string have no small letters..!!\n"
     ]
    }
   ],
   "source": [
    "''' 40. take a string from the user and check contains at least one small letter or not?\n",
    "'''\n",
    "a = input(\"Enter a string: \")\n",
    "for i in a:\n",
    "    if i.islower():\n",
    "        print(\"The entered string consists atleast one small letter..!!\")\n",
    "        break\n",
    "else:\n",
    "    print(\"The entered string have no small letters..!!\")"
   ]
  },
  {
   "cell_type": "code",
   "execution_count": 79,
   "id": "7f937822",
   "metadata": {},
   "outputs": [
    {
     "name": "stdout",
     "output_type": "stream",
     "text": [
      "String is: apple,orange,apple,grape,orange,apple,apple,orange\n",
      "\n",
      "Enter a sub string from the printed string to find out its 3rd occurrence: app\n",
      "The index of the third occurrence of 'app' is 32\n"
     ]
    }
   ],
   "source": [
    "''' 48. find out the index of third occurrence of given substring\n",
    "'''\n",
    "s = \"apple,orange,apple,grape,orange,apple,apple,orange\"\n",
    "#s = \"abcdabcdabcdabcdabcd\"\n",
    "print(\"String is:\", s)\n",
    "a = input(\"\\nEnter a sub string from the printed string to find out its 3rd occurrence: \")\n",
    "#print(f\"The index of the third occurrence of '{a}' is {s.index(a,3)}\")\n",
    "n = 3 # nth occurrance\n",
    "val = -1\n",
    "for i in range(0,n):\n",
    "    val = s.index(a,val+1)\n",
    "print(f\"The index of the third occurrence of '{a}' is {val}\")"
   ]
  },
  {
   "cell_type": "code",
   "execution_count": 70,
   "id": "bfba5007",
   "metadata": {},
   "outputs": [
    {
     "data": {
      "text/plain": [
       "1"
      ]
     },
     "execution_count": 70,
     "metadata": {},
     "output_type": "execute_result"
    }
   ],
   "source": [
    "s.index(\"b\",1)"
   ]
  },
  {
   "cell_type": "code",
   "execution_count": 71,
   "id": "dc5e95f1",
   "metadata": {},
   "outputs": [],
   "source": [
    "s.index?\n"
   ]
  },
  {
   "cell_type": "code",
   "execution_count": 85,
   "id": "51ce8ef5",
   "metadata": {},
   "outputs": [
    {
     "name": "stdout",
     "output_type": "stream",
     "text": [
      "Enter a number: 2345678\n",
      "The enterd number is: 2345678\n",
      "The entered number is: 2345678\n"
     ]
    }
   ],
   "source": [
    "''' 51. print the number in proper mathematical Number format considering 6 digits.\n",
    "             WAP> 10 -> 000010\n",
    "             100 ->  000100\n",
    "             1000 ->  001000\n",
    "             2345678  ->  2345678\n",
    "    if the number has more than six digits print as it is.\n",
    "'''\n",
    "num1 = input(\"Enter a number: \")\n",
    "#num = \"000000\"\n",
    "num2 = num1.zfill(6)\n",
    "print(\"The enterd number is:\", num2)\n",
    "l = len(num1)\n",
    "if l>5:\n",
    "    print(\"The entered number is:\",num1)\n",
    "else:\n",
    "    num = str(num1)\n",
    "    for i in range(6-l):\n",
    "        num =\"0\" + num\n",
    "    print(\"The entered number is:\",num)"
   ]
  },
  {
   "cell_type": "code",
   "execution_count": 86,
   "id": "4bffb28a",
   "metadata": {},
   "outputs": [
    {
     "name": "stdout",
     "output_type": "stream",
     "text": [
      "emp1\n",
      "emp2\n",
      "emp3\n",
      "emp4\n"
     ]
    }
   ],
   "source": [
    "''' 52. names  =\"emp1,emp2,emp3,emp4\" iterate through the employee names.\n",
    "'''\n",
    "names  =\"emp1,emp2,emp3,emp4\"\n",
    "names1 = names.split(\",\") \n",
    "for i in names1:\n",
    "    print(i)"
   ]
  },
  {
   "cell_type": "code",
   "execution_count": 97,
   "id": "8e0c4624",
   "metadata": {},
   "outputs": [
    {
     "name": "stdout",
     "output_type": "stream",
     "text": [
      "Final string is: APPLE,orange,APPLE,grape,orange,APPLE,APPLE,orange\n",
      "13\n",
      "Final string is: APPLE,orange,APPLE,grape,orange,apple,apple,orange\n"
     ]
    }
   ],
   "source": [
    "''' 53. Take actual string, source string, destination string. \n",
    "    replce first nth occurrences of source string with destination string of actual string.\n",
    "'''\n",
    "a_s = \"apple,orange,apple,grape,orange,apple,apple,orange\"\n",
    "s_s = \"apple\"\n",
    "d_s = \"APPLE\"\n",
    "#s = \"abcdabcdabcdabcdabcd\"\n",
    "print(\"Final string is:\", a_s.replace(s_s,d_s))\n",
    "print(\"Final string is:\", a_s.replace(s_s,d_s,n))"
   ]
  },
  {
   "cell_type": "code",
   "execution_count": 92,
   "id": "802d4cc1",
   "metadata": {},
   "outputs": [],
   "source": [
    "s.replace?\n"
   ]
  },
  {
   "cell_type": "code",
   "execution_count": 101,
   "id": "46abd0a7",
   "metadata": {},
   "outputs": [
    {
     "name": "stdout",
     "output_type": "stream",
     "text": [
      "Enter a string: abcABC123!@#\n",
      "Number of 'DIGITS' numbers are: 3\n",
      "Number of 'SPECIAL SYMBOLS' numbers are: 3\n",
      "Number of 'SMALL LETTERS' numbers are: 3\n",
      "Number of 'CAPS LETTERS' numbers are: 3\n",
      "Number of 'DIGITS' are: 3\n",
      "Number of 'SPECIAL SYMBOLS' are: 3\n",
      "Number of 'SMALL LETTERS' are: 3\n",
      "Number of 'CAPS LETTERS' are: 3\n"
     ]
    }
   ],
   "source": [
    "''' 57. Take a string from the user and find out \n",
    "    how many digits are there, \n",
    "    how many special symbols are there, \n",
    "    how many small letters are there, \n",
    "    how many caps are there.\n",
    "'''\n",
    "l=input(\"Enter a string: \") \n",
    "c_digits = 0\n",
    "c_special = 0\n",
    "c_small = 0\n",
    "c_caps = 0\n",
    "for i in l:\n",
    "    if i.isdigit():\n",
    "        c_digits += 1\n",
    "    elif i.isupper():\n",
    "        c_caps += 1\n",
    "    elif i.islower():\n",
    "        c_small += 1\n",
    "    else: \n",
    "        c_special += 1\n",
    "print(f\"Number of 'DIGITS' numbers are: {c_digits}\")\n",
    "print(f\"Number of 'SPECIAL SYMBOLS' numbers are: {c_special}\")\n",
    "print(f\"Number of 'SMALL LETTERS' numbers are: {c_small}\")\n",
    "print(f\"Number of 'CAPS LETTERS' numbers are: {c_caps}\")\n",
    "c_digits = 0\n",
    "c_special = 0\n",
    "c_small = 0\n",
    "c_caps = 0\n",
    "C_alphabet_range = range(ord(\"A\"), ord(\"Z\")+1)\n",
    "S_alphabet_range = range(ord(\"a\"), ord(\"z\")+1)\n",
    "digit_range = range(ord(\"0\"), ord(\"9\")+1)\n",
    "for i in l:\n",
    "    i = ord(i)\n",
    "    if i in digit_range:\n",
    "        c_digits += 1\n",
    "    elif i in S_alphabet_range:\n",
    "        c_small += 1\n",
    "    elif i in C_alphabet_range:\n",
    "        c_caps += 1\n",
    "    else: \n",
    "        c_special += 1\n",
    "print(f\"Number of 'DIGITS' are: {c_digits}\")\n",
    "print(f\"Number of 'SPECIAL SYMBOLS' are: {c_special}\")\n",
    "print(f\"Number of 'SMALL LETTERS' are: {c_small}\")\n",
    "print(f\"Number of 'CAPS LETTERS' are: {c_caps}\")"
   ]
  },
  {
   "cell_type": "code",
   "execution_count": 104,
   "id": "824bab89",
   "metadata": {},
   "outputs": [
    {
     "name": "stdout",
     "output_type": "stream",
     "text": [
      "Enter a string: aabbccddaabbccddabcdabcd\n",
      "What character count you want? Please enter it: ab\n",
      "The number of occurances of ab are 4\n",
      "The number of occurances of ab are 0\n"
     ]
    }
   ],
   "source": [
    "''' 58. Take a char from the user and \n",
    "    find out how many number of occurrences are there in given string\n",
    "'''\n",
    "s = input(\"Enter a string: \") \n",
    "c = input(\"What character count you want? Please enter it: \")\n",
    "print(f\"The number of occurances of {c} are {s.count(c)}\")\n",
    "count1 = 0\n",
    "for i in s:\n",
    "    if i == c:\n",
    "        count1 += 1\n",
    "print(f\"The number of occurances of {c} are {count1}\")"
   ]
  },
  {
   "cell_type": "code",
   "execution_count": 105,
   "id": "b2d9d7bb",
   "metadata": {},
   "outputs": [
    {
     "name": "stdout",
     "output_type": "stream",
     "text": [
      "select an element from the following set : \n",
      "{'grape', 'mango', 'orange', 'banana', 'apple'}\n",
      "Enter the selected element: grape\n",
      "The number of occurances of grape are 12\n",
      "The number of occurances of the element grape is 12\n"
     ]
    }
   ],
   "source": [
    "''' 59. Take a element from the user and \n",
    "    find out how many times the  element occurred in given list\n",
    "'''\n",
    "list1 = [\"apple\",\"orange\",\"banana\",\"mango\",\"apple\",\"grape\",\"orange\",\"banana\",\"mango\",\"orange\",\"banana\",\"orange\",\"banana\",\"mango\",\"apple\",\"grape\",\"mango\",\"apple\",\"orange\",\"banana\",\"mango\",\"apple\",\"grape\",\"grape\",\"apple\",\"grape\",\"apple\",\"orange\",\"banana\",\"orange\",\"banana\",\"mango\",\"apple\",\"grape\",\"mango\",\"apple\",\"grape\",\"orange\",\"orange\",\"banana\",\"mango\",\"apple\",\"grape\",\"apple\",\"apple\",\"apple\",\"grape\",\"orange\",\"banana\",\"mango\",\"apple\",\"grape\",\"grape\",\"grape\",\"orange\",\"mango\"]\n",
    "set1 = set(list1)\n",
    "print(f\"select an element from the following set : \\n{set1}\")\n",
    "s = input(\"Enter the selected element: \")\n",
    "print(f\"The number of occurances of {s} are {list1.count(s)}\")\n",
    "count1 = 0\n",
    "for i in list1:\n",
    "    if s == i:\n",
    "        count1 += 1\n",
    "print(f\"The number of occurances of the element {s} is {count1}\")"
   ]
  },
  {
   "cell_type": "code",
   "execution_count": 110,
   "id": "5f126d76",
   "metadata": {},
   "outputs": [
    {
     "name": "stdout",
     "output_type": "stream",
     "text": [
      "select an element from the following set : \n",
      "{0, 1, 2, 3, 4, 5, 6, 324, 8, 9, 67, 34, 7, 78, 87, 56, 57}\n",
      "Enter the selected element: 5\n",
      "The number of occurances of 5 are 7\n",
      "The number of occurances of the element 5 is 7\n"
     ]
    }
   ],
   "source": [
    "''' 60. Take an element from the user and \n",
    "    find out how many number of occurrences are there in given tuple\n",
    "    '''\n",
    "#tuple1 = (\"apple\",\"orange\",\"banana\",\"mango\",\"apple\",\"grape\",\"orange\",\"banana\",\"mango\",\"orange\",\"banana\",\"orange\",\"banana\",\"mango\",\"apple\",\"grape\",\"mango\",\"apple\",\"orange\",\"banana\",\"mango\",\"apple\",\"grape\",\"grape\",\"apple\",\"grape\",\"apple\",\"orange\",\"banana\",\"orange\",\"banana\",\"mango\",\"apple\",\"grape\",\"mango\",\"apple\",\"grape\",\"orange\",\"orange\",\"banana\",\"mango\",\"apple\",\"grape\",\"apple\",\"apple\",\"apple\",\"grape\",\"orange\",\"banana\",\"mango\",\"apple\",\"grape\",\"grape\",\"grape\",\"orange\",\"mango\")\n",
    "tuple1 = (1,2,3,2,3,5,2,4,5,6,3,5,6,5,87,8,5,6,324,5,6,57,8,78,9,56,67,9,34,2,6,78,9,0,1,2,3,4,4,5,6,6,7,8,8,9,9)\n",
    "set1 = set(tuple1)\n",
    "print(f\"select an element from the following set : \\n{set1}\")\n",
    "s = input(\"Enter the selected element: \")\n",
    "#print(f\"The number of occurances of {s} are {tuple1.count(s)}\")\n",
    "print(f\"The number of occurances of {s} are {tuple1.count(int(s))}\")\n",
    "count1 = 0\n",
    "for i in tuple1:\n",
    "    if int(s) == i:\n",
    "        count1 += 1\n",
    "print(f\"The number of occurances of the element {s} is {count1}\")"
   ]
  },
  {
   "cell_type": "code",
   "execution_count": 111,
   "id": "1f3c2d6b",
   "metadata": {},
   "outputs": [
    {
     "name": "stdout",
     "output_type": "stream",
     "text": [
      "Enter any sentance: \n",
      "hi hello how are you?\n",
      "The string in title form is: Hi Hello How Are You?\n"
     ]
    }
   ],
   "source": [
    "\"\"\"75. Convert every word start letter into caps. \n",
    "    Some how title not working if it contains numbers and special symbols in the word\n",
    "\"\"\"\n",
    "act = input(\"Enter any sentance: \\n\")\n",
    "print(f\"The string in title form is: {act.title()}\")"
   ]
  },
  {
   "cell_type": "code",
   "execution_count": 117,
   "id": "0c98fe9b",
   "metadata": {},
   "outputs": [
    {
     "name": "stdout",
     "output_type": "stream",
     "text": [
      "1.python is a pure object oriented programing language 2.PYTHON is a pure object oriented programing language 3.PYTHON is a pure object oriented programing language\n",
      "1.python is a pure object oriented programing language 2.PYTHON is a pure object oriented programing language 3.PYTHON is a pure object oriented programing language\n",
      "Final string is: 1.PYTHON is a pure object oriented programing language 2.PYTHON is a pure object oriented programing language 3.python is a pure object oriented programing language\n"
     ]
    }
   ],
   "source": [
    "\"\"\"76.replace last two occurrences of given source string with destination string\n",
    "     preserve the delimiter after split.\n",
    "\"\"\"\n",
    "def source_replace_destination(s, a, d, n):\n",
    "    new = \"\"\n",
    "    sub = s[(len(s) - len(d)):]\n",
    "    counter = len(s) - len(d)\n",
    "    n1 = 0\n",
    "    while counter >= 0:\n",
    "        a1 = sub[-1]\n",
    "        if sub == a and n1 <= n:\n",
    "            sub = d\n",
    "            n1 += 1\n",
    "            if n1 >= n:\n",
    "                new = sub + new\n",
    "                break\n",
    "        new = sub[-1] + new\n",
    "        if counter > 0:\n",
    "            sub = s[counter-1] + sub\n",
    "        sub = sub[:-1]\n",
    "        counter -= 1\n",
    "    new = s[:counter] + new\n",
    "    return new\n",
    "act = \"1.python is a pure object oriented programing language 2.python is a pure object oriented programing language \" \\\n",
    "      \"3.python is a pure object oriented programing language\"\n",
    "source = \"python\"\n",
    "destination = \"PYTHON\"\n",
    "occurrences = 2\n",
    "print(source_replace_destination(act, source, destination, occurrences))\n",
    "act = \"1.python is a pure object oriented programing language 2.python is a pure object oriented programing language \" \\\n",
    "      \"3.python is a pure object oriented programing language\"\n",
    "source = \"python\"\n",
    "destination = \"PYTHON\"\n",
    "occurrences = 2\n",
    "print(\"PYTHON\".join(act.rsplit(\"python\",2)))\n",
    "print(\"Final string is:\", act.replace(source,destination,occurrences))"
   ]
  },
  {
   "cell_type": "code",
   "execution_count": 116,
   "id": "5755bfc5",
   "metadata": {},
   "outputs": [],
   "source": [
    "s.replace?\n"
   ]
  },
  {
   "cell_type": "code",
   "execution_count": 118,
   "id": "5ee3c3d5",
   "metadata": {},
   "outputs": [
    {
     "name": "stdout",
     "output_type": "stream",
     "text": [
      "Final string is: 1.python is a pure object oriented programing language 2.PYTHON is a pure object oriented programing language 3.PYTHON is a pure object oriented programing language\n"
     ]
    }
   ],
   "source": [
    "act = \"1.python is a pure object oriented programing language 2.python is a pure object oriented programing language \" \\\n",
    "      \"3.python is a pure object oriented programing language\"\n",
    "source = \"python\"\n",
    "destination = \"PYTHON\"\n",
    "occurrences = 2\n",
    "print(\"Final string is:\",\"PYTHON\".join(act.rsplit(\"python\",2)))"
   ]
  },
  {
   "cell_type": "code",
   "execution_count": 123,
   "id": "339ce309",
   "metadata": {},
   "outputs": [
    {
     "name": "stdout",
     "output_type": "stream",
     "text": [
      "Enter a string that you want to search: PyTHoN\n",
      "The entered string 'PyTHoN' is AVAILABLE in the given sentance 'python is a pure object oriented programing language'\n"
     ]
    }
   ],
   "source": [
    "\"\"\"77. write a program to chcek given substring is there in actual string or not? \n",
    "    (search should be case insensitive)\n",
    "    example: act=\"python is a pure object oriented programing language\"\n",
    "\"\"\"\n",
    "act = \"python is a pure object oriented programing language\"\n",
    "word = input(\"Enter a string that you want to search: \")\n",
    "if word.casefold() in act.casefold():\n",
    "    print(f\"The entered string '{word}' is AVAILABLE in the given sentance '{act}'\")\n",
    "else:\n",
    "    print(f\"The entered string '{word}' is NOT AVAILABLE in the given sentance '{act}'\")\n"
   ]
  },
  {
   "cell_type": "code",
   "execution_count": 124,
   "id": "44dafc5c",
   "metadata": {},
   "outputs": [
    {
     "name": "stdout",
     "output_type": "stream",
     "text": [
      "Enter a string that you want to search: pure\n",
      "The entered string 'pure' is AVAILABLE in the given sentance 'python is a pure object oriented programing language'\n"
     ]
    }
   ],
   "source": [
    "\"\"\"78.check whether “pure” is there in act or not.\n",
    "    Note: Use in operator\n",
    "\"\"\"\n",
    "act = \"python is a pure object oriented programing language\"\n",
    "word = input(\"Enter a string that you want to search: \")\n",
    "if word.casefold() in act.casefold():\n",
    "    print(f\"The entered string '{word}' is AVAILABLE in the given sentance '{act}'\")\n",
    "else:\n",
    "    print(f\"The entered string '{word}' is NOT AVAILABLE in the given sentance '{act}'\")\n"
   ]
  },
  {
   "cell_type": "code",
   "execution_count": null,
   "id": "9af90a50",
   "metadata": {},
   "outputs": [],
   "source": []
  }
 ],
 "metadata": {
  "kernelspec": {
   "display_name": "Python 3",
   "language": "python",
   "name": "python3"
  },
  "language_info": {
   "codemirror_mode": {
    "name": "ipython",
    "version": 3
   },
   "file_extension": ".py",
   "mimetype": "text/x-python",
   "name": "python",
   "nbconvert_exporter": "python",
   "pygments_lexer": "ipython3",
   "version": "3.8.8"
  }
 },
 "nbformat": 4,
 "nbformat_minor": 5
}
