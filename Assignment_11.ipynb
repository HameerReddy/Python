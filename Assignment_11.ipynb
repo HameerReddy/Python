{
 "cells": [
  {
   "cell_type": "code",
   "execution_count": null,
   "id": "46f2a0cc",
   "metadata": {},
   "outputs": [],
   "source": [
    "# 11. take base and exponent value from the user and print like in mathematics:\n",
    "# example: base=2, exponent=3: 23\n",
    "# Use: 2\\u00b3\n",
    "base = int(input(\"Enter the base of the expression: \"))\n",
    "exponent = int(input(\"Enter the exponent of the expression: \"))\n"
   ]
  }
 ],
 "metadata": {
  "kernelspec": {
   "display_name": "Python 3",
   "language": "python",
   "name": "python3"
  },
  "language_info": {
   "codemirror_mode": {
    "name": "ipython",
    "version": 3
   },
   "file_extension": ".py",
   "mimetype": "text/x-python",
   "name": "python",
   "nbconvert_exporter": "python",
   "pygments_lexer": "ipython3",
   "version": "3.8.8"
  }
 },
 "nbformat": 4,
 "nbformat_minor": 5
}
