{
 "cells": [
  {
   "cell_type": "code",
   "execution_count": 1,
   "id": "8c7c98c6",
   "metadata": {},
   "outputs": [
    {
     "name": "stdout",
     "output_type": "stream",
     "text": [
      "enter the temperature in fahrenheit: 32\n",
      "Entered temperature value in degree celcius is:  0.0\n"
     ]
    }
   ],
   "source": [
    "def temp_conve_F_to_C(a):\n",
    "    c=(a-32)*(5/9)\n",
    "    return c\n",
    "\n",
    "\n",
    "temp_in_F=float(input(\"enter the temperature in fahrenheit: \"))\n",
    "temp_in_C=temp_conve_F_to_C(temp_in_F)\n",
    "print(\"Entered temperature value in degree celcius is: \", temp_in_C)"
   ]
  },
  {
   "cell_type": "code",
   "execution_count": 2,
   "id": "180106ce",
   "metadata": {},
   "outputs": [
    {
     "name": "stdout",
     "output_type": "stream",
     "text": [
      "enter the temperature in fahrenheit: 50\n",
      "Entered temperature value in degree celcius is:  10.0\n"
     ]
    }
   ],
   "source": [
    "def temp_conve_F_to_C(a):\n",
    "    c=(a-32)*(5/9)\n",
    "    return c\n",
    "\n",
    "\n",
    "temp_in_F=float(input(\"enter the temperature in fahrenheit: \"))\n",
    "temp_in_C=temp_conve_F_to_C(temp_in_F)\n",
    "print(\"Entered temperature value in degree celcius is: \", temp_in_C)"
   ]
  },
  {
   "cell_type": "code",
   "execution_count": 3,
   "id": "47aca75f",
   "metadata": {},
   "outputs": [
    {
     "name": "stdout",
     "output_type": "stream",
     "text": [
      "enter the temperature in fahrenheit: 0\n",
      "Entered temperature value in degree celcius is:  -17.77777777777778\n"
     ]
    }
   ],
   "source": [
    "def temp_conve_F_to_C(a):\n",
    "    c=(a-32)*(5/9)\n",
    "    return c\n",
    "\n",
    "\n",
    "temp_in_F=float(input(\"enter the temperature in fahrenheit: \"))\n",
    "temp_in_C=temp_conve_F_to_C(temp_in_F)\n",
    "print(\"Entered temperature value in degree celcius is: \", temp_in_C)"
   ]
  },
  {
   "cell_type": "code",
   "execution_count": 4,
   "id": "3701323e",
   "metadata": {},
   "outputs": [
    {
     "name": "stdout",
     "output_type": "stream",
     "text": [
      "enter the temperature in fahrenheit: 15.5\n",
      "Entered temperature value in degree celcius is:  -9.166666666666668\n"
     ]
    }
   ],
   "source": [
    "def temp_conve_F_to_C(a):\n",
    "    c=(a-32)*(5/9)\n",
    "    return c\n",
    "\n",
    "\n",
    "temp_in_F=float(input(\"enter the temperature in fahrenheit: \"))\n",
    "temp_in_C=temp_conve_F_to_C(temp_in_F)\n",
    "print(\"Entered temperature value in degree celcius is: \", temp_in_C)"
   ]
  },
  {
   "cell_type": "code",
   "execution_count": null,
   "id": "3dbb67c7",
   "metadata": {},
   "outputs": [],
   "source": []
  }
 ],
 "metadata": {
  "kernelspec": {
   "display_name": "Python 3",
   "language": "python",
   "name": "python3"
  },
  "language_info": {
   "codemirror_mode": {
    "name": "ipython",
    "version": 3
   },
   "file_extension": ".py",
   "mimetype": "text/x-python",
   "name": "python",
   "nbconvert_exporter": "python",
   "pygments_lexer": "ipython3",
   "version": "3.8.8"
  }
 },
 "nbformat": 4,
 "nbformat_minor": 5
}
