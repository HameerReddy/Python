{
 "cells": [
  {
   "cell_type": "code",
   "execution_count": 3,
   "id": "bce42516",
   "metadata": {},
   "outputs": [
    {
     "name": "stdout",
     "output_type": "stream",
     "text": [
      "enter your weight in kg: 91\n",
      "enter your height in centi meters: 172\n",
      "Your BMI is : 30.75987020010817\n"
     ]
    }
   ],
   "source": [
    "weight= float(input(\"enter your weight in kg: \"))\n",
    "height= float(input(\"enter your height in centi meters: \"))\n",
    "height=height/100\n",
    "BMI= weight/(height**2)\n",
    "print(\"Your BMI is :\",BMI)\n"
   ]
  },
  {
   "cell_type": "code",
   "execution_count": null,
   "id": "bbb72a52",
   "metadata": {},
   "outputs": [],
   "source": []
  }
 ],
 "metadata": {
  "kernelspec": {
   "display_name": "Python 3",
   "language": "python",
   "name": "python3"
  },
  "language_info": {
   "codemirror_mode": {
    "name": "ipython",
    "version": 3
   },
   "file_extension": ".py",
   "mimetype": "text/x-python",
   "name": "python",
   "nbconvert_exporter": "python",
   "pygments_lexer": "ipython3",
   "version": "3.8.8"
  }
 },
 "nbformat": 4,
 "nbformat_minor": 5
}
