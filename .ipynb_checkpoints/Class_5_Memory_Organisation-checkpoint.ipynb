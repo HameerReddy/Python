{
 "cells": [
  {
   "cell_type": "code",
   "execution_count": 1,
   "id": "a5917218",
   "metadata": {},
   "outputs": [],
   "source": [
    "#open source?\n",
    "# Watch https://www.youtube.com/watch?v=o8NPllzkFhE\n",
    "# refer to ODOO.com open source apps\n",
    "\n",
    "\n"
   ]
  },
  {
   "cell_type": "code",
   "execution_count": null,
   "id": "631910f6",
   "metadata": {},
   "outputs": [],
   "source": [
    "# Scalable?\n",
    "# accesibility\n",
    "# number of lines\n",
    "# revenue of the product\n",
    "# number of days token to complete the product\n",
    "# organization\n"
   ]
  }
 ],
 "metadata": {
  "kernelspec": {
   "display_name": "Python 3",
   "language": "python",
   "name": "python3"
  },
  "language_info": {
   "codemirror_mode": {
    "name": "ipython",
    "version": 3
   },
   "file_extension": ".py",
   "mimetype": "text/x-python",
   "name": "python",
   "nbconvert_exporter": "python",
   "pygments_lexer": "ipython3",
   "version": "3.8.8"
  }
 },
 "nbformat": 4,
 "nbformat_minor": 5
}
