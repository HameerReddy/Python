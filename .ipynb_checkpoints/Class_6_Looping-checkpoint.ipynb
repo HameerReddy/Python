{
 "cells": [
  {
   "cell_type": "code",
   "execution_count": 1,
   "id": "cd3327ce",
   "metadata": {},
   "outputs": [],
   "source": [
    "# true xor true is false\n",
    "# false xor false is false\n",
    "# remaining are true"
   ]
  },
  {
   "cell_type": "code",
   "execution_count": 2,
   "id": "ad5bea64",
   "metadata": {},
   "outputs": [
    {
     "data": {
      "text/plain": [
       "False"
      ]
     },
     "execution_count": 2,
     "metadata": {},
     "output_type": "execute_result"
    }
   ],
   "source": [
    "True != True\n"
   ]
  },
  {
   "cell_type": "code",
   "execution_count": 3,
   "id": "91fcd20a",
   "metadata": {},
   "outputs": [
    {
     "data": {
      "text/plain": [
       "False"
      ]
     },
     "execution_count": 3,
     "metadata": {},
     "output_type": "execute_result"
    }
   ],
   "source": [
    "False != False"
   ]
  },
  {
   "cell_type": "code",
   "execution_count": 4,
   "id": "b2a2a2f5",
   "metadata": {},
   "outputs": [
    {
     "data": {
      "text/plain": [
       "True"
      ]
     },
     "execution_count": 4,
     "metadata": {},
     "output_type": "execute_result"
    }
   ],
   "source": [
    "False != True"
   ]
  },
  {
   "cell_type": "code",
   "execution_count": 5,
   "id": "44a59093",
   "metadata": {},
   "outputs": [
    {
     "data": {
      "text/plain": [
       "True"
      ]
     },
     "execution_count": 5,
     "metadata": {},
     "output_type": "execute_result"
    }
   ],
   "source": [
    "True != False"
   ]
  },
  {
   "cell_type": "code",
   "execution_count": 9,
   "id": "a850a46f",
   "metadata": {},
   "outputs": [
    {
     "name": "stdout",
     "output_type": "stream",
     "text": [
      "True\n",
      "False\n"
     ]
    }
   ],
   "source": [
    "a=1000\n",
    "b=1000\n",
    "print(a==b) ## verifies the vale of a and b\n",
    "print(a is b) ## verifies the id of a and b"
   ]
  },
  {
   "cell_type": "code",
   "execution_count": 8,
   "id": "9555e02d",
   "metadata": {},
   "outputs": [
    {
     "name": "stdout",
     "output_type": "stream",
     "text": [
      "True\n",
      "True\n"
     ]
    }
   ],
   "source": [
    "a=1000\n",
    "b=a\n",
    "print(a==b) ## verifies the vale of a and b\n",
    "print(a is b) ## verifies the id of a and b"
   ]
  },
  {
   "cell_type": "code",
   "execution_count": 16,
   "id": "892a17b5",
   "metadata": {},
   "outputs": [
    {
     "name": "stdout",
     "output_type": "stream",
     "text": [
      "11\n",
      "hello it will restart again\n",
      "45\n",
      "hello it will restart again\n",
      "24\n",
      "hello it will restart again\n",
      "68\n",
      "hello it will restart again\n",
      "35\n",
      "hello it will restart again\n",
      "79\n",
      "hello it will restart again\n",
      "End of loop\n"
     ]
    }
   ],
   "source": [
    "l = [11, 45, 24, 68, 35, 79]\n",
    "for i in l:\n",
    "    print(i)\n",
    "    \n",
    "    print(\"hello it will restart again\")\n",
    "print(\"End of loop\")"
   ]
  },
  {
   "cell_type": "code",
   "execution_count": null,
   "id": "4130963c",
   "metadata": {},
   "outputs": [],
   "source": [
    "l = [11, 45, 24, 68, 35, 79]\n",
    "for i in l:\n",
    "    print(i)\n",
    "    \n",
    "    print(\"hello it will restart again\")\n",
    "print(\"End of loop\")"
   ]
  }
 ],
 "metadata": {
  "kernelspec": {
   "display_name": "Python 3",
   "language": "python",
   "name": "python3"
  },
  "language_info": {
   "codemirror_mode": {
    "name": "ipython",
    "version": 3
   },
   "file_extension": ".py",
   "mimetype": "text/x-python",
   "name": "python",
   "nbconvert_exporter": "python",
   "pygments_lexer": "ipython3",
   "version": "3.8.8"
  }
 },
 "nbformat": 4,
 "nbformat_minor": 5
}
