{
 "cells": [
  {
   "cell_type": "code",
   "execution_count": 4,
   "id": "f8a34e3d",
   "metadata": {},
   "outputs": [
    {
     "name": "stdout",
     "output_type": "stream",
     "text": [
      "enter the distance in Kilo Meters: 12\n",
      "The distance in Meters is:  12000.0\n",
      "The distance in Centi Meters is:  1200000.0\n",
      "The distance in Milli Meters is:  12000000.0\n",
      "The distance in Feets is:  39370.08\n",
      "The distance in Yards is:  13123.359575999999\n"
     ]
    }
   ],
   "source": [
    "d= float(input(\"enter the distance in Kilo Meters: \"))\n",
    "m=d*1000 # in Meters\n",
    "print(\"The distance in Meters is: \", m)\n",
    "c=d*1000*100 # in Centi Meters\n",
    "print(\"The distance in Centi Meters is: \", c)\n",
    "mm=d*1000*100*10 # in Milli Meters\n",
    "print(\"The distance in Milli Meters is: \", mm)\n",
    "#cents\n",
    "feet=d*3280.84 ## in Feets approx value\n",
    "print(\"The distance in Feets is: \", feet)\n",
    "yard=d*1093.613298 ## in Yards approx value\n",
    "print(\"The distance in Yards is: \", yard)\n"
   ]
  },
  {
   "cell_type": "code",
   "execution_count": null,
   "id": "0f3c5415",
   "metadata": {},
   "outputs": [],
   "source": []
  },
  {
   "cell_type": "code",
   "execution_count": null,
   "id": "bba886d6",
   "metadata": {},
   "outputs": [],
   "source": []
  }
 ],
 "metadata": {
  "kernelspec": {
   "display_name": "Python 3",
   "language": "python",
   "name": "python3"
  },
  "language_info": {
   "codemirror_mode": {
    "name": "ipython",
    "version": 3
   },
   "file_extension": ".py",
   "mimetype": "text/x-python",
   "name": "python",
   "nbconvert_exporter": "python",
   "pygments_lexer": "ipython3",
   "version": "3.8.8"
  }
 },
 "nbformat": 4,
 "nbformat_minor": 5
}
