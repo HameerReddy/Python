{
 "cells": [
  {
   "cell_type": "code",
   "execution_count": 1,
   "id": "97172707",
   "metadata": {},
   "outputs": [
    {
     "name": "stdout",
     "output_type": "stream",
     "text": [
      "a is big\n",
      "b is big\n"
     ]
    }
   ],
   "source": [
    "a=10\n",
    "b=20\n",
    "print(\"a is big\")\n",
    "print(\"b is big\")"
   ]
  },
  {
   "cell_type": "code",
   "execution_count": 2,
   "id": "c8c6c4c4",
   "metadata": {},
   "outputs": [
    {
     "name": "stdout",
     "output_type": "stream",
     "text": [
      "a is big\n",
      "b is big\n"
     ]
    }
   ],
   "source": [
    "a=100\n",
    "b=20\n",
    "print(\"a is big\")\n",
    "print(\"b is big\")"
   ]
  },
  {
   "cell_type": "code",
   "execution_count": 3,
   "id": "322d9bb0",
   "metadata": {},
   "outputs": [
    {
     "name": "stdout",
     "output_type": "stream",
     "text": [
      "a is big\n",
      "end\n"
     ]
    }
   ],
   "source": [
    "# to avoid statements from executing we use conditional statements\n",
    "a=10\n",
    "b=20\n",
    "if True:\n",
    "    print(\"a is big\")\n",
    "else:\n",
    "    print(\"b is big\") # hidden from executing\n",
    "print(\"program end\")"
   ]
  },
  {
   "cell_type": "code",
   "execution_count": 4,
   "id": "caf5eb22",
   "metadata": {},
   "outputs": [
    {
     "name": "stdout",
     "output_type": "stream",
     "text": [
      "b is big\n",
      "program end\n"
     ]
    }
   ],
   "source": [
    "# to avoid statements from executing we use conditional statements\n",
    "a=10\n",
    "b=20\n",
    "if False:\n",
    "    print(\"a is big\") # hidden from executing\n",
    "else:\n",
    "    print(\"b is big\")\n",
    "print(\"program end\")"
   ]
  },
  {
   "cell_type": "code",
   "execution_count": 6,
   "id": "40a09f59",
   "metadata": {},
   "outputs": [
    {
     "name": "stdout",
     "output_type": "stream",
     "text": [
      "False\n",
      "b is big\n",
      "program end\n"
     ]
    }
   ],
   "source": [
    "# to avoid statements from executing we use conditional statements\n",
    "a=100\n",
    "b=20\n",
    "print(a<b)\n",
    "if a<b: # a<b is false\n",
    "    print(\"a is big\") # hidden from executing\n",
    "else:\n",
    "    print(\"b is big\")\n",
    "print(\"program end\")"
   ]
  },
  {
   "cell_type": "code",
   "execution_count": 7,
   "id": "25b324fa",
   "metadata": {},
   "outputs": [
    {
     "name": "stdout",
     "output_type": "stream",
     "text": [
      "True\n",
      "a is big\n",
      "program end\n"
     ]
    }
   ],
   "source": [
    "# to avoid statements from executing we use conditional statements\n",
    "a=10\n",
    "b=20\n",
    "print(a>b)\n",
    "if a>b: # a>b is True\n",
    "    print(\"a is big\") # hidden from executing\n",
    "else:\n",
    "    print(\"b is big\")\n",
    "print(\"program end\")"
   ]
  },
  {
   "cell_type": "code",
   "execution_count": 10,
   "id": "40d522fb",
   "metadata": {},
   "outputs": [
    {
     "name": "stdout",
     "output_type": "stream",
     "text": [
      "Enter a string: hameer\n",
      "6\n",
      "The string is not empty\n"
     ]
    }
   ],
   "source": [
    "# take string from user and decide wether it is empty or not?\n",
    "s = input(\"Enter a string: \")\n",
    "print(len(s))\n",
    "if len(s) == 0:\n",
    "    print(\"The string is empty\")\n",
    "else:\n",
    "    print(\"The string is not empty\")"
   ]
  },
  {
   "cell_type": "code",
   "execution_count": 11,
   "id": "180eb88e",
   "metadata": {},
   "outputs": [
    {
     "data": {
      "text/plain": [
       "True"
      ]
     },
     "execution_count": 11,
     "metadata": {},
     "output_type": "execute_result"
    }
   ],
   "source": [
    "s=\"python\"\n",
    "bool(s)"
   ]
  },
  {
   "cell_type": "code",
   "execution_count": 12,
   "id": "011b09a3",
   "metadata": {},
   "outputs": [
    {
     "data": {
      "text/plain": [
       "False"
      ]
     },
     "execution_count": 12,
     "metadata": {},
     "output_type": "execute_result"
    }
   ],
   "source": [
    "s=\"\"\n",
    "bool(s)"
   ]
  },
  {
   "cell_type": "code",
   "execution_count": 13,
   "id": "57661e9d",
   "metadata": {},
   "outputs": [
    {
     "name": "stdout",
     "output_type": "stream",
     "text": [
      "Enter a string: ham\n",
      "3\n",
      "The string is not empty\n"
     ]
    }
   ],
   "source": [
    "# take string from user and decide wether it is empty or not?\n",
    "s = input(\"Enter a string: \")\n",
    "print(len(s))\n",
    "if bool(s) == 0:\n",
    "    print(\"The string is empty\")\n",
    "else:\n",
    "    print(\"The string is not empty\")"
   ]
  },
  {
   "cell_type": "code",
   "execution_count": 14,
   "id": "e9b55131",
   "metadata": {},
   "outputs": [
    {
     "name": "stdout",
     "output_type": "stream",
     "text": [
      "Enter a string: \n",
      "0\n",
      "The string is empty\n"
     ]
    }
   ],
   "source": [
    "# take string from user and decide wether it is empty or not?\n",
    "s = input(\"Enter a string: \")\n",
    "print(len(s))\n",
    "if bool(s) == 0:\n",
    "    print(\"The string is empty\")\n",
    "else:\n",
    "    print(\"The string is not empty\")"
   ]
  },
  {
   "cell_type": "code",
   "execution_count": 15,
   "id": "296b1980",
   "metadata": {},
   "outputs": [
    {
     "data": {
      "text/plain": [
       "False"
      ]
     },
     "execution_count": 15,
     "metadata": {},
     "output_type": "execute_result"
    }
   ],
   "source": [
    "bool([])"
   ]
  },
  {
   "cell_type": "code",
   "execution_count": 16,
   "id": "3d441cac",
   "metadata": {},
   "outputs": [
    {
     "data": {
      "text/plain": [
       "True"
      ]
     },
     "execution_count": 16,
     "metadata": {},
     "output_type": "execute_result"
    }
   ],
   "source": [
    "bool([1,2,3,4\n",
    "    ])"
   ]
  },
  {
   "cell_type": "code",
   "execution_count": 17,
   "id": "ca1c6438",
   "metadata": {},
   "outputs": [
    {
     "data": {
      "text/plain": [
       "False"
      ]
     },
     "execution_count": 17,
     "metadata": {},
     "output_type": "execute_result"
    }
   ],
   "source": [
    "bool({})"
   ]
  },
  {
   "cell_type": "code",
   "execution_count": 18,
   "id": "6122b80f",
   "metadata": {},
   "outputs": [
    {
     "data": {
      "text/plain": [
       "True"
      ]
     },
     "execution_count": 18,
     "metadata": {},
     "output_type": "execute_result"
    }
   ],
   "source": [
    "bool({\"ha\":\"ha\"})"
   ]
  },
  {
   "cell_type": "code",
   "execution_count": 20,
   "id": "51650e7d",
   "metadata": {},
   "outputs": [
    {
     "data": {
      "text/plain": [
       "True"
      ]
     },
     "execution_count": 20,
     "metadata": {},
     "output_type": "execute_result"
    }
   ],
   "source": [
    "bool((1,23))"
   ]
  },
  {
   "cell_type": "code",
   "execution_count": 21,
   "id": "9a29b215",
   "metadata": {},
   "outputs": [
    {
     "data": {
      "text/plain": [
       "False"
      ]
     },
     "execution_count": 21,
     "metadata": {},
     "output_type": "execute_result"
    }
   ],
   "source": [
    "bool((0))"
   ]
  },
  {
   "cell_type": "code",
   "execution_count": 23,
   "id": "3c91fc67",
   "metadata": {},
   "outputs": [
    {
     "name": "stdout",
     "output_type": "stream",
     "text": [
      "0 <class 'int'>\n"
     ]
    }
   ],
   "source": [
    "a=(0)\n",
    "print(a, type(a))"
   ]
  },
  {
   "cell_type": "code",
   "execution_count": 24,
   "id": "67fad26d",
   "metadata": {},
   "outputs": [
    {
     "name": "stdout",
     "output_type": "stream",
     "text": [
      "(0,) <class 'tuple'>\n"
     ]
    }
   ],
   "source": [
    "a=(0,)\n",
    "print(a, type(a))"
   ]
  },
  {
   "cell_type": "code",
   "execution_count": 25,
   "id": "43334404",
   "metadata": {},
   "outputs": [
    {
     "data": {
      "text/plain": [
       "False"
      ]
     },
     "execution_count": 25,
     "metadata": {},
     "output_type": "execute_result"
    }
   ],
   "source": [
    "bool(())"
   ]
  },
  {
   "cell_type": "code",
   "execution_count": 26,
   "id": "9ef03efd",
   "metadata": {},
   "outputs": [
    {
     "data": {
      "text/plain": [
       "True"
      ]
     },
     "execution_count": 26,
     "metadata": {},
     "output_type": "execute_result"
    }
   ],
   "source": [
    "bool((0,))"
   ]
  },
  {
   "cell_type": "code",
   "execution_count": 27,
   "id": "68e0cac8",
   "metadata": {},
   "outputs": [
    {
     "data": {
      "text/plain": [
       "False"
      ]
     },
     "execution_count": 27,
     "metadata": {},
     "output_type": "execute_result"
    }
   ],
   "source": [
    "bool((0))"
   ]
  },
  {
   "cell_type": "code",
   "execution_count": 28,
   "id": "5cb56b3e",
   "metadata": {},
   "outputs": [
    {
     "name": "stdout",
     "output_type": "stream",
     "text": [
      "Enter a string: ha\n",
      "2\n",
      "The string is not empty\n"
     ]
    }
   ],
   "source": [
    "# take string from user and decide wether it is empty or not?\n",
    "s = input(\"Enter a string: \")\n",
    "print(len(s))\n",
    "if bool(s) == 0: # this condition internally it will pas to bool only\n",
    "    print(\"The string is empty\")\n",
    "else:\n",
    "    print(\"The string is not empty\")"
   ]
  },
  {
   "cell_type": "code",
   "execution_count": 34,
   "id": "0662ca76",
   "metadata": {},
   "outputs": [
    {
     "name": "stdout",
     "output_type": "stream",
     "text": [
      "Enter a string: ha\n",
      "2\n",
      "The string is not empty\n"
     ]
    }
   ],
   "source": [
    "# take string from user and decide wether it is empty or not?\n",
    "s = input(\"Enter a string: \")\n",
    "print(len(s))\n",
    "if s : # this condition internally it will pas to bool only\n",
    "    print(\"The string is not empty\")\n",
    "else:\n",
    "    print(\"The string is empty\")"
   ]
  },
  {
   "cell_type": "code",
   "execution_count": 33,
   "id": "7ae3b8b5",
   "metadata": {},
   "outputs": [
    {
     "name": "stdout",
     "output_type": "stream",
     "text": [
      "Enter a string: \n",
      "0\n",
      "The string is empty\n"
     ]
    }
   ],
   "source": [
    "# take string from user and decide wether it is empty or not?\n",
    "s = input(\"Enter a string: \")\n",
    "print(len(s))\n",
    "if s : # this condition internally it will pas to bool only\n",
    "    print(\"The string is not empty\")\n",
    "else:\n",
    "    print(\"The string is empty\")"
   ]
  },
  {
   "cell_type": "code",
   "execution_count": 35,
   "id": "21c06096",
   "metadata": {},
   "outputs": [
    {
     "name": "stdout",
     "output_type": "stream",
     "text": [
      "hello\n"
     ]
    }
   ],
   "source": [
    "if \"python\":\n",
    "    print(\"hello\")\n",
    "else:\n",
    "    print(\"hi\")"
   ]
  },
  {
   "cell_type": "code",
   "execution_count": 36,
   "id": "6ed54ced",
   "metadata": {},
   "outputs": [
    {
     "name": "stdout",
     "output_type": "stream",
     "text": [
      "hi\n"
     ]
    }
   ],
   "source": [
    "if \"\":\n",
    "    print(\"hello\")\n",
    "else:\n",
    "    print(\"hi\")"
   ]
  },
  {
   "cell_type": "code",
   "execution_count": 41,
   "id": "f55195fe",
   "metadata": {},
   "outputs": [
    {
     "name": "stdout",
     "output_type": "stream",
     "text": [
      "Enter a string: ha\n",
      "not empty\n"
     ]
    }
   ],
   "source": [
    "s = input(\"Enter a string: \")\n",
    "res = print(\"not empty\") if s else print(\"empty\")"
   ]
  },
  {
   "cell_type": "code",
   "execution_count": 40,
   "id": "d39138dd",
   "metadata": {},
   "outputs": [
    {
     "name": "stdout",
     "output_type": "stream",
     "text": [
      "Enter a string: \n",
      "empty\n"
     ]
    }
   ],
   "source": [
    "s = input(\"Enter a string: \")\n",
    "res = print(\"not empty\") if s else print(\"empty\")\n"
   ]
  },
  {
   "cell_type": "code",
   "execution_count": null,
   "id": "f4636e84",
   "metadata": {},
   "outputs": [],
   "source": []
  }
 ],
 "metadata": {
  "kernelspec": {
   "display_name": "Python 3",
   "language": "python",
   "name": "python3"
  },
  "language_info": {
   "codemirror_mode": {
    "name": "ipython",
    "version": 3
   },
   "file_extension": ".py",
   "mimetype": "text/x-python",
   "name": "python",
   "nbconvert_exporter": "python",
   "pygments_lexer": "ipython3",
   "version": "3.8.8"
  }
 },
 "nbformat": 4,
 "nbformat_minor": 5
}
