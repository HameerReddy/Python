{
 "cells": [
  {
   "cell_type": "code",
   "execution_count": 1,
   "id": "5606b0f8",
   "metadata": {},
   "outputs": [
    {
     "name": "stdout",
     "output_type": "stream",
     "text": [
      "asd\n"
     ]
    }
   ],
   "source": [
    "print(\"asd\")"
   ]
  },
  {
   "cell_type": "code",
   "execution_count": 2,
   "id": "40a80819",
   "metadata": {},
   "outputs": [
    {
     "name": "stdout",
     "output_type": "stream",
     "text": [
      "The person we are taking about is Jayaram . he is 3 years old., he is about 17.542352 kgs. Also, his height is about 2.78453 .\n"
     ]
    }
   ],
   "source": [
    "name = \"Jayaram\"\n",
    "age = 3\n",
    "weight = 17.542352\n",
    "height = 2.78453\n",
    "print(\"The person we are taking about is\", name, \". he is\", age, \"years old., he is about\", weight, \"kgs. Also, his height is about\", height,\".\")"
   ]
  },
  {
   "cell_type": "code",
   "execution_count": 7,
   "id": "b1d288a0",
   "metadata": {},
   "outputs": [
    {
     "name": "stdout",
     "output_type": "stream",
     "text": [
      "apple-->10-->red\n"
     ]
    }
   ],
   "source": [
    "name_product = \"apple\"\n",
    "cost = 10\n",
    "color = \"red\"\n",
    "print(name_product, cost, color,sep=\"-->\")"
   ]
  },
  {
   "cell_type": "code",
   "execution_count": 9,
   "id": "1672409c",
   "metadata": {},
   "outputs": [
    {
     "name": "stdout",
     "output_type": "stream",
     "text": [
      "Hameer\n",
      "singh\n",
      "keesari\n"
     ]
    }
   ],
   "source": [
    "print(\"Hameer\")\n",
    "print(\"singh\")\n",
    "print(\"keesari\")"
   ]
  },
  {
   "cell_type": "code",
   "execution_count": 10,
   "id": "69763fbe",
   "metadata": {},
   "outputs": [
    {
     "name": "stdout",
     "output_type": "stream",
     "text": [
      "Hameer singh keesari "
     ]
    }
   ],
   "source": [
    "print(\"Hameer\", end=\" \")\n",
    "print(\"singh\", end=\" \")\n",
    "print(\"keesari\", end=\" \")"
   ]
  },
  {
   "cell_type": "code",
   "execution_count": 11,
   "id": "e1033aeb",
   "metadata": {},
   "outputs": [
    {
     "name": "stdout",
     "output_type": "stream",
     "text": [
      "Hameersinghkeesari"
     ]
    }
   ],
   "source": [
    "print(\"Hameer\", end=\"\")\n",
    "print(\"singh\", end=\"\")\n",
    "print(\"keesari\", end=\"\")"
   ]
  },
  {
   "cell_type": "code",
   "execution_count": 12,
   "id": "741dfce7",
   "metadata": {},
   "outputs": [
    {
     "name": "stdout",
     "output_type": "stream",
     "text": [
      "Hameer singh keesari\n"
     ]
    }
   ],
   "source": [
    "print(\"Hameer singh keesari\")"
   ]
  },
  {
   "cell_type": "code",
   "execution_count": 15,
   "id": "910534e9",
   "metadata": {},
   "outputs": [
    {
     "name": "stdout",
     "output_type": "stream",
     "text": [
      "Hameer\n",
      "singh\n",
      "keesari\n"
     ]
    }
   ],
   "source": [
    "print(\"Hameer\\nsingh\\nkeesari\")"
   ]
  },
  {
   "cell_type": "code",
   "execution_count": 14,
   "id": "c00df483",
   "metadata": {},
   "outputs": [
    {
     "name": "stdout",
     "output_type": "stream",
     "text": [
      "1\n"
     ]
    }
   ],
   "source": [
    "print(len(\"\\n\"))"
   ]
  },
  {
   "cell_type": "code",
   "execution_count": 16,
   "id": "94dfb314",
   "metadata": {},
   "outputs": [
    {
     "name": "stdout",
     "output_type": "stream",
     "text": [
      "Hameer \n",
      "singh \n",
      "keesari\n"
     ]
    }
   ],
   "source": [
    "print(\"Hameer \\nsingh \\nkeesari\")"
   ]
  },
  {
   "cell_type": "code",
   "execution_count": 17,
   "id": "15a77ab3",
   "metadata": {},
   "outputs": [
    {
     "name": "stdout",
     "output_type": "stream",
     "text": [
      "Hameer \\ssingh \\skeesari\n"
     ]
    }
   ],
   "source": [
    "print(\"Hameer \\ssingh \\skeesari\")"
   ]
  },
  {
   "cell_type": "code",
   "execution_count": 18,
   "id": "a88c534a",
   "metadata": {},
   "outputs": [
    {
     "name": "stdout",
     "output_type": "stream",
     "text": [
      "\b\n"
     ]
    }
   ],
   "source": [
    "print(\"\\b\")"
   ]
  },
  {
   "cell_type": "code",
   "execution_count": 19,
   "id": "df08e603",
   "metadata": {},
   "outputs": [
    {
     "name": "stdout",
     "output_type": "stream",
     "text": [
      "\n",
      "\n"
     ]
    }
   ],
   "source": [
    "print(\"\\n\")"
   ]
  },
  {
   "cell_type": "code",
   "execution_count": 20,
   "id": "3ddff2ca",
   "metadata": {},
   "outputs": [
    {
     "name": "stdout",
     "output_type": "stream",
     "text": [
      "\u0007\n"
     ]
    }
   ],
   "source": [
    "print(\"\\a\")"
   ]
  },
  {
   "cell_type": "code",
   "execution_count": 22,
   "id": "0e8b8b77",
   "metadata": {},
   "outputs": [
    {
     "name": "stdout",
     "output_type": "stream",
     "text": [
      "adf\n",
      "ad\n",
      "asd\tasff\n",
      "adf\tasdf\n",
      "asf\n",
      "af\n"
     ]
    }
   ],
   "source": [
    "s= \"adf\\nad\\nasd\\tasff\\nadf\\tasdf\\nasf\\naf\"\n",
    "print(s)"
   ]
  },
  {
   "cell_type": "code",
   "execution_count": 23,
   "id": "2b29489e",
   "metadata": {},
   "outputs": [
    {
     "name": "stdout",
     "output_type": "stream",
     "text": [
      "adf\\nad\\nasd\\tasff\\nadf\\tasdf\\nasf\\naf\n"
     ]
    }
   ],
   "source": [
    "s= \"adf\\\\nad\\\\nasd\\\\tasff\\\\nadf\\\\tasdf\\\\nasf\\\\naf\"\n",
    "print(s)"
   ]
  },
  {
   "cell_type": "code",
   "execution_count": 24,
   "id": "e88e37ae",
   "metadata": {},
   "outputs": [
    {
     "name": "stdout",
     "output_type": "stream",
     "text": [
      "2\n"
     ]
    }
   ],
   "source": [
    "print(len(\"\\\\n\"))"
   ]
  },
  {
   "cell_type": "code",
   "execution_count": 25,
   "id": "3da9eaa8",
   "metadata": {},
   "outputs": [
    {
     "name": "stdout",
     "output_type": "stream",
     "text": [
      "adf\n",
      "ad\n",
      "asd\tasff\n",
      "adf\tasdf\n",
      "asf\n",
      "af\n"
     ]
    }
   ],
   "source": [
    "s= \"adf\\nad\\nasd\\tasff\\nadf\\tasdf\\nasf\\naf\"\n",
    "print(s)"
   ]
  },
  {
   "cell_type": "code",
   "execution_count": 26,
   "id": "6857929c",
   "metadata": {},
   "outputs": [
    {
     "name": "stdout",
     "output_type": "stream",
     "text": [
      "adf\\nad\\nasd\\tasff\\nadf\\tasdf\\nasf\\naf\n"
     ]
    }
   ],
   "source": [
    "s= r\"adf\\nad\\nasd\\tasff\\nadf\\tasdf\\nasf\\naf\"\n",
    "print(s)"
   ]
  },
  {
   "cell_type": "code",
   "execution_count": 27,
   "id": "6098b203",
   "metadata": {},
   "outputs": [
    {
     "name": "stdout",
     "output_type": "stream",
     "text": [
      "<class 'str'> <class 'str'>\n"
     ]
    }
   ],
   "source": [
    "s=\"python\"\n",
    "s1=r\"python\"\n",
    "print(type(s), type(s1))"
   ]
  },
  {
   "cell_type": "code",
   "execution_count": 28,
   "id": "a58134fd",
   "metadata": {},
   "outputs": [
    {
     "name": "stdout",
     "output_type": "stream",
     "text": [
      "Hameer 'singh' keesari\n"
     ]
    }
   ],
   "source": [
    "print(\"Hameer 'singh' keesari\")"
   ]
  },
  {
   "cell_type": "code",
   "execution_count": 29,
   "id": "6f286f81",
   "metadata": {},
   "outputs": [
    {
     "ename": "SyntaxError",
     "evalue": "invalid syntax (<ipython-input-29-5c60111c5040>, line 1)",
     "output_type": "error",
     "traceback": [
      "\u001b[1;36m  File \u001b[1;32m\"<ipython-input-29-5c60111c5040>\"\u001b[1;36m, line \u001b[1;32m1\u001b[0m\n\u001b[1;33m    print(\"Hameer 'singh' \"kee\"sari\")\u001b[0m\n\u001b[1;37m                           ^\u001b[0m\n\u001b[1;31mSyntaxError\u001b[0m\u001b[1;31m:\u001b[0m invalid syntax\n"
     ]
    }
   ],
   "source": [
    "print(\"Hameer 'singh' \"kee\"sari\")"
   ]
  },
  {
   "cell_type": "code",
   "execution_count": 30,
   "id": "e36eff29",
   "metadata": {},
   "outputs": [
    {
     "name": "stdout",
     "output_type": "stream",
     "text": [
      "Hameer ''\n",
      "'singh ' '\n",
      "'keesari\n"
     ]
    }
   ],
   "source": [
    "print(\"Hameer ''\\n'singh ' '\\n'keesari\")"
   ]
  },
  {
   "cell_type": "code",
   "execution_count": 31,
   "id": "ae4cdfcb",
   "metadata": {},
   "outputs": [
    {
     "ename": "SyntaxError",
     "evalue": "invalid syntax (<ipython-input-31-5c60111c5040>, line 1)",
     "output_type": "error",
     "traceback": [
      "\u001b[1;36m  File \u001b[1;32m\"<ipython-input-31-5c60111c5040>\"\u001b[1;36m, line \u001b[1;32m1\u001b[0m\n\u001b[1;33m    print(\"Hameer 'singh' \"kee\"sari\")\u001b[0m\n\u001b[1;37m                           ^\u001b[0m\n\u001b[1;31mSyntaxError\u001b[0m\u001b[1;31m:\u001b[0m invalid syntax\n"
     ]
    }
   ],
   "source": [
    "print(\"Hameer 'singh' \"kee\"sari\")\n"
   ]
  },
  {
   "cell_type": "code",
   "execution_count": 32,
   "id": "7295887c",
   "metadata": {},
   "outputs": [
    {
     "name": "stdout",
     "output_type": "stream",
     "text": [
      "Hameer 'singh' \"kee\"sari\n"
     ]
    }
   ],
   "source": [
    "print(\"Hameer 'singh' \\\"kee\\\"sari\")"
   ]
  },
  {
   "cell_type": "code",
   "execution_count": 33,
   "id": "0e2ae12d",
   "metadata": {},
   "outputs": [
    {
     "name": "stdout",
     "output_type": "stream",
     "text": [
      "The person we are taking about is Jayaram . he is 3 years old. he is about 17.542352 kgs. Also, his height is about 2.78453 .\n"
     ]
    }
   ],
   "source": [
    "name = \"Jayaram\"\n",
    "age = 3\n",
    "weight = 17.542352\n",
    "height = 2.78453\n",
    "print(\"The person we are taking about is\",name,\". he is\",age,\"years old. he is about\",weight,\"kgs. Also, his height is about\",height,\".\",sep=\" \")"
   ]
  },
  {
   "cell_type": "code",
   "execution_count": 34,
   "id": "1d655aeb",
   "metadata": {},
   "outputs": [
    {
     "name": "stdout",
     "output_type": "stream",
     "text": [
      "The person we are taking about isJayaram. he is3years old., he is about17.542352kgs. Also, his height is about2.78453.\n"
     ]
    }
   ],
   "source": [
    "name = \"Jayaram\"\n",
    "age = 3\n",
    "weight = 17.542352\n",
    "height = 2.78453\n",
    "print(\"The person we are taking about is\", name, \". he is\", age, \"years old., he is about\", weight, \"kgs. Also, his height is about\", height,\".\",sep=\"\")"
   ]
  },
  {
   "cell_type": "code",
   "execution_count": 36,
   "id": "fe07218d",
   "metadata": {},
   "outputs": [
    {
     "name": "stdout",
     "output_type": "stream",
     "text": [
      "('The person we are taking about is', 'Jayaram', '. he is', 3, 'years old., he is about', 17.542352, 'kgs. Also, his height is about', 2.78453, '.') <class 'tuple'>\n"
     ]
    }
   ],
   "source": [
    "name = \"Jayaram\"\n",
    "age = 3\n",
    "weight = 17.542352\n",
    "height = 2.78453\n",
    "s=\"The person we are taking about is\", name, \". he is\", age, \"years old., he is about\", weight, \"kgs. Also, his height is about\", height,\".\"\n",
    "print(s, type(s))"
   ]
  },
  {
   "cell_type": "code",
   "execution_count": 41,
   "id": "e48a7c82",
   "metadata": {},
   "outputs": [
    {
     "name": "stdout",
     "output_type": "stream",
     "text": [
      "The person we are taking about is Jayaram. he is 3 years old. he is about 17.54 kgs. Also, his height is about 2.78 . <class 'str'>\n"
     ]
    }
   ],
   "source": [
    "name = \"Jayaram\"\n",
    "age = 3\n",
    "weight = 17.542352\n",
    "height = 2.78453\n",
    "s=f\"The person we are taking about is {name}. he is {age} years old. he is about {round(weight,2)} kgs. Also, his height is about {round(height,2)} .\"\n",
    "print(s, type(s))"
   ]
  },
  {
   "cell_type": "code",
   "execution_count": 39,
   "id": "6c1e2342",
   "metadata": {},
   "outputs": [
    {
     "data": {
      "text/plain": [
       "18"
      ]
     },
     "execution_count": 39,
     "metadata": {},
     "output_type": "execute_result"
    }
   ],
   "source": [
    "round(weight)"
   ]
  },
  {
   "cell_type": "code",
   "execution_count": 40,
   "id": "32f7a1ff",
   "metadata": {},
   "outputs": [
    {
     "data": {
      "text/plain": [
       "17.54"
      ]
     },
     "execution_count": 40,
     "metadata": {},
     "output_type": "execute_result"
    }
   ],
   "source": [
    "round(weight,2)"
   ]
  },
  {
   "cell_type": "code",
   "execution_count": 42,
   "id": "c39be61e",
   "metadata": {},
   "outputs": [],
   "source": [
    "round?"
   ]
  },
  {
   "cell_type": "code",
   "execution_count": 43,
   "id": "a500bd9c",
   "metadata": {},
   "outputs": [
    {
     "name": "stdout",
     "output_type": "stream",
     "text": [
      "The person we are taking about is Jayaram. he is 3 years old. he is about 17.54 kgs. Also, his height is about 2.78 .\n"
     ]
    }
   ],
   "source": [
    "name = \"Jayaram\"\n",
    "age = 3\n",
    "weight = 17.542352\n",
    "height = 2.78453\n",
    "s=f\"The person we are taking about is {name}. he is {age} years old. he is about {round(weight,2)} kgs. Also, his height is about {round(height,2)} .\"\n",
    "print(s)"
   ]
  },
  {
   "cell_type": "code",
   "execution_count": 52,
   "id": "d3e5d57d",
   "metadata": {},
   "outputs": [
    {
     "name": "stdout",
     "output_type": "stream",
     "text": [
      "The person we are taking about is Jayaram. he is 3 years old. he is about 17.542352 kgs. Also, his height is about 2.78453 .\n"
     ]
    }
   ],
   "source": [
    "name = \"Jayaram\"\n",
    "age = 3\n",
    "weight = 17.542352\n",
    "height = 2.78453\n",
    "#format specifiers\n",
    "s=\"The person we are taking about is %s. he is %s years old. he is about %s kgs. Also, his height is about %s .\"%(name, age, weight, height)\n",
    "print(s)"
   ]
  },
  {
   "cell_type": "code",
   "execution_count": 51,
   "id": "c7dc5e65",
   "metadata": {},
   "outputs": [
    {
     "name": "stdout",
     "output_type": "stream",
     "text": [
      "The person we are taking about is Jayaram. he is 3 years old. he is about 17.542352 kgs. Also, his height is about 2.78453 .\n"
     ]
    }
   ],
   "source": [
    "name = \"Jayaram\"\n",
    "age = 3\n",
    "weight = 17.542352\n",
    "height = 2.78453\n",
    "#format specifiers\n",
    "print(\"The person we are taking about is %s. he is %s years old. he is about %s kgs. Also, his height is about %s .\"%(name, age, weight, height))"
   ]
  },
  {
   "cell_type": "code",
   "execution_count": 53,
   "id": "c7559244",
   "metadata": {},
   "outputs": [
    {
     "name": "stdout",
     "output_type": "stream",
     "text": [
      "The person we are taking about is Jayaram. he is 3 years old. he is about 17 kgs. Also, his height is about 2 .\n"
     ]
    }
   ],
   "source": [
    "name = \"Jayaram\"\n",
    "age = 3\n",
    "weight = 17.542352\n",
    "height = 2.78453\n",
    "#format specifiers\n",
    "print(\"The person we are taking about is %s. he is %i years old. he is about %d kgs. Also, his height is about %d .\"%(name, age, weight, height))"
   ]
  },
  {
   "cell_type": "code",
   "execution_count": 54,
   "id": "313a567b",
   "metadata": {},
   "outputs": [
    {
     "name": "stdout",
     "output_type": "stream",
     "text": [
      "The person we are taking about is Jayaram. he is 3 years old. he is about 17.542352 kgs. Also, his height is about 2.784530 .\n"
     ]
    }
   ],
   "source": [
    "name = \"Jayaram\"\n",
    "age = 3\n",
    "weight = 17.542352\n",
    "height = 2.78453\n",
    "#format specifiers\n",
    "print(\"The person we are taking about is %s. he is %i years old. he is about %f kgs. Also, his height is about %f .\"%(name, age, weight, height))"
   ]
  },
  {
   "cell_type": "code",
   "execution_count": 57,
   "id": "2773b59a",
   "metadata": {},
   "outputs": [
    {
     "name": "stdout",
     "output_type": "stream",
     "text": [
      "The person we are taking about is Jayaram. he is 3 years old. he is about 17.542 kgs. Also, his height is about 2.78 .\n"
     ]
    }
   ],
   "source": [
    "name = \"Jayaram\"\n",
    "age = 3\n",
    "weight = 17.542352\n",
    "height = 2.78453\n",
    "#format specifiers\n",
    "print(\"The person we are taking about is %s. he is %d years old. he is about %.3f kgs. Also, his height is about %.2f .\"%(name, age, weight, height))"
   ]
  },
  {
   "cell_type": "code",
   "execution_count": 58,
   "id": "c2eeb888",
   "metadata": {},
   "outputs": [
    {
     "name": "stdout",
     "output_type": "stream",
     "text": [
      "10\n"
     ]
    }
   ],
   "source": [
    "print(\"%i\"%10.23)"
   ]
  },
  {
   "cell_type": "code",
   "execution_count": 59,
   "id": "0f7f99a0",
   "metadata": {},
   "outputs": [
    {
     "name": "stdout",
     "output_type": "stream",
     "text": [
      "10.23\n"
     ]
    }
   ],
   "source": [
    "print(\"%g\"%10.23)"
   ]
  },
  {
   "cell_type": "code",
   "execution_count": 60,
   "id": "a15679d4",
   "metadata": {},
   "outputs": [
    {
     "name": "stdout",
     "output_type": "stream",
     "text": [
      "10.23s\n"
     ]
    }
   ],
   "source": [
    "print(\"%gs\"%10.23)"
   ]
  },
  {
   "cell_type": "code",
   "execution_count": 61,
   "id": "0f38cbb3",
   "metadata": {},
   "outputs": [
    {
     "ename": "ValueError",
     "evalue": "unsupported format character 'w' (0x77) at index 1",
     "output_type": "error",
     "traceback": [
      "\u001b[1;31m---------------------------------------------------------------------------\u001b[0m",
      "\u001b[1;31mValueError\u001b[0m                                Traceback (most recent call last)",
      "\u001b[1;32m<ipython-input-61-892c26d49518>\u001b[0m in \u001b[0;36m<module>\u001b[1;34m\u001b[0m\n\u001b[1;32m----> 1\u001b[1;33m \u001b[0mprint\u001b[0m\u001b[1;33m(\u001b[0m\u001b[1;34m\"%ws\"\u001b[0m\u001b[1;33m%\u001b[0m\u001b[1;36m10.23\u001b[0m\u001b[1;33m)\u001b[0m\u001b[1;33m\u001b[0m\u001b[1;33m\u001b[0m\u001b[0m\n\u001b[0m",
      "\u001b[1;31mValueError\u001b[0m: unsupported format character 'w' (0x77) at index 1"
     ]
    }
   ],
   "source": [
    "print(\"%ws\"%10.23)"
   ]
  },
  {
   "cell_type": "code",
   "execution_count": 63,
   "id": "0b54bc92",
   "metadata": {},
   "outputs": [
    {
     "name": "stdout",
     "output_type": "stream",
     "text": [
      "23\n",
      "worked for %a\n",
      "\u0017\n",
      "worked for %c\n",
      "23\n",
      "worked for %d\n",
      "2.300000e+01\n",
      "worked for %e\n",
      "23.000000\n",
      "worked for %f\n",
      "23\n",
      "worked for %g\n",
      "23\n",
      "worked for %i\n",
      "27\n",
      "worked for %o\n",
      "23\n",
      "worked for %r\n",
      "23\n",
      "worked for %s\n",
      "23\n",
      "worked for %u\n",
      "17\n",
      "worked for %x\n"
     ]
    }
   ],
   "source": [
    "for i in range(ord(\"a\"),ord(\"z\")):\n",
    "    c=\"%\"+chr(i)\n",
    "    try:\n",
    "        print(c%23)\n",
    "    except:\n",
    "        pass\n",
    "    else:\n",
    "        print(\"worked for %s\"%c)"
   ]
  },
  {
   "cell_type": "code",
   "execution_count": 64,
   "id": "72613d89",
   "metadata": {},
   "outputs": [
    {
     "name": "stdout",
     "output_type": "stream",
     "text": [
      "23.000000\n"
     ]
    }
   ],
   "source": [
    "s=23\n",
    "print(\"%f\"%s)"
   ]
  },
  {
   "cell_type": "code",
   "execution_count": 65,
   "id": "fb5cdc2b",
   "metadata": {},
   "outputs": [
    {
     "name": "stdout",
     "output_type": "stream",
     "text": [
      "5035\n"
     ]
    }
   ],
   "source": [
    "a=2589\n",
    "print(\"%o\"%a)# converts to octal"
   ]
  },
  {
   "cell_type": "code",
   "execution_count": 67,
   "id": "4904c18b",
   "metadata": {},
   "outputs": [
    {
     "name": "stdout",
     "output_type": "stream",
     "text": [
      "a1d\n"
     ]
    }
   ],
   "source": [
    "a=2589\n",
    "print(\"%x\"%a)# converts to hexadecimal"
   ]
  },
  {
   "cell_type": "code",
   "execution_count": 69,
   "id": "0a5d73af",
   "metadata": {},
   "outputs": [
    {
     "name": "stdout",
     "output_type": "stream",
     "text": [
      "A1D\n"
     ]
    }
   ],
   "source": [
    "a=2589\n",
    "print(\"%X\"%a)# converts to capital letter block letters"
   ]
  },
  {
   "cell_type": "code",
   "execution_count": 72,
   "id": "2c9a622e",
   "metadata": {},
   "outputs": [
    {
     "name": "stdout",
     "output_type": "stream",
     "text": [
      "asdas\n",
      "dad\n",
      "gfad\n",
      "fasf\n"
     ]
    }
   ],
   "source": [
    "s=\"asdas\\ndad\\ngfad\\nfasf\"\n",
    "print(s)"
   ]
  },
  {
   "cell_type": "code",
   "execution_count": 73,
   "id": "c955abd7",
   "metadata": {},
   "outputs": [
    {
     "name": "stdout",
     "output_type": "stream",
     "text": [
      "asdas\\ndad\\ngfad\\nfasf\n"
     ]
    }
   ],
   "source": [
    "s=r\"asdas\\ndad\\ngfad\\nfasf\"\n",
    "print(s)"
   ]
  },
  {
   "cell_type": "code",
   "execution_count": 74,
   "id": "7d455967",
   "metadata": {},
   "outputs": [
    {
     "name": "stdout",
     "output_type": "stream",
     "text": [
      "'asdas\\\\ndad\\\\ngfad\\\\nfasf'\n"
     ]
    }
   ],
   "source": [
    "s=r\"asdas\\ndad\\ngfad\\nfasf\"\n",
    "print(\"%r\"%s)"
   ]
  },
  {
   "cell_type": "code",
   "execution_count": 75,
   "id": "0d390138",
   "metadata": {},
   "outputs": [
    {
     "name": "stdout",
     "output_type": "stream",
     "text": [
      "'asdas\\ndad\\ngfad\\nfasf'\n"
     ]
    }
   ],
   "source": [
    "s=\"asdas\\ndad\\ngfad\\nfasf\"\n",
    "print(\"%r\"%s)"
   ]
  },
  {
   "cell_type": "code",
   "execution_count": 25,
   "id": "b269c2ff",
   "metadata": {},
   "outputs": [
    {
     "name": "stdout",
     "output_type": "stream",
     "text": [
      "Kinds of mobiles available in the store are as follows: \n",
      " \t1. Android\n",
      " \t2. Windows\n",
      "\t3. Mac\n",
      " \t4. All other tabs\n",
      "Enter the option: \n",
      " \t1-> For Android device.\n",
      " \t2-> For Windows device\n",
      " \t3-> For Mac device\n",
      " \t4-> For all other devices\n",
      "Please enter an option from the above list:0\n"
     ]
    }
   ],
   "source": [
    "\"\"\"\n",
    "Print a Menu\n",
    "Kinds of mobiles available in the store\n",
    "    1. Android\n",
    "    2. Windows\n",
    "    2. Mac\n",
    "    4. All tabs\n",
    "Enter an option: 1-> goto second floor; 2-> goto first floor; 3-> goto third floor; 4-> select in the ground floor;\n",
    "if they enter any other number or char: We are not providing service for the selection\n",
    "\"\"\"\n",
    "print(\"Kinds of mobiles available in the store are as follows: \\n \\t1. Android\\n \\t2. Windows\\n\\t3. Mac\\n \\t4. All other tabs\\nEnter the option: \\n \\t1-> For Android device.\\n \\t2-> For Windows device\\n \\t3-> For Mac device\\n \\t4-> For all other devices\")\n",
    "s= input(\"Please enter an option from the above list:\")\n",
    "if (((s >= \"a\" and s <= \"z\") or (s >= \"A\" and s <= \"Z\")) or (s >= \"5\" and s <= \"0\") ):\n",
    "    print(\"Sorry. We are not providing service for the given selection.\")\n",
    "else:\n",
    "    if int(s) == 1:\n",
    "        print(\"Please goto first floor.\")\n",
    "    elif int(s) == 2:\n",
    "        print(\"Please goto second floor.\")\n",
    "    elif int(s) == 3:\n",
    "        print(\"Please goto third floor.\")\n",
    "    elif int(s) == 4:\n",
    "        print(\"Please goto ground floor.\")\n",
    "    \n",
    "\n",
    "        "
   ]
  },
  {
   "cell_type": "code",
   "execution_count": 16,
   "id": "bcec5f18",
   "metadata": {},
   "outputs": [
    {
     "name": "stdout",
     "output_type": "stream",
     "text": [
      "Please enter an option from the above list:a\n"
     ]
    },
    {
     "ename": "ValueError",
     "evalue": "invalid literal for int() with base 10: 'a'",
     "output_type": "error",
     "traceback": [
      "\u001b[1;31m---------------------------------------------------------------------------\u001b[0m",
      "\u001b[1;31mValueError\u001b[0m                                Traceback (most recent call last)",
      "\u001b[1;32m<ipython-input-16-fad29bfb1b04>\u001b[0m in \u001b[0;36m<module>\u001b[1;34m\u001b[0m\n\u001b[0;32m      1\u001b[0m \u001b[0ms\u001b[0m\u001b[1;33m=\u001b[0m \u001b[0minput\u001b[0m\u001b[1;33m(\u001b[0m\u001b[1;34m\"Please enter an option from the above list:\"\u001b[0m\u001b[1;33m)\u001b[0m\u001b[1;33m\u001b[0m\u001b[1;33m\u001b[0m\u001b[0m\n\u001b[1;32m----> 2\u001b[1;33m \u001b[0mtype\u001b[0m\u001b[1;33m(\u001b[0m\u001b[0mint\u001b[0m\u001b[1;33m(\u001b[0m\u001b[0ms\u001b[0m\u001b[1;33m)\u001b[0m\u001b[1;33m)\u001b[0m\u001b[1;33m\u001b[0m\u001b[1;33m\u001b[0m\u001b[0m\n\u001b[0m",
      "\u001b[1;31mValueError\u001b[0m: invalid literal for int() with base 10: 'a'"
     ]
    }
   ],
   "source": [
    "s= input(\"Please enter an option from the above list:\")\n",
    "type(int(s))"
   ]
  },
  {
   "cell_type": "code",
   "execution_count": 19,
   "id": "529d56be",
   "metadata": {},
   "outputs": [
    {
     "name": "stdout",
     "output_type": "stream",
     "text": [
      "Please enter an option from the above list:a\n",
      "Sorry. We are not providing service for the given selection.\n"
     ]
    }
   ],
   "source": [
    "s= input(\"Please enter an option from the above list:\")\n",
    "if ((s >= \"a\" and s <= \"z\") or (s >= \"A\" and s <= \"Z\")):\n",
    "    print(\"Sorry. We are not providing service for the given selection.\")\n"
   ]
  },
  {
   "cell_type": "code",
   "execution_count": 38,
   "id": "15f69fcd",
   "metadata": {},
   "outputs": [
    {
     "name": "stdout",
     "output_type": "stream",
     "text": [
      "Kinds of mobiles available in the store are as follows: \n",
      " \t1. Android\n",
      " \t2. Windows\n",
      "\t3. Mac\n",
      " \t4. All other tabs\n",
      "Enter the option: \n",
      " \t1-> For Android device.\n",
      " \t2-> For Windows device\n",
      " \t3-> For Mac device\n",
      " \t4-> For all other devices\n",
      "Please enter an option from the above list:a\n",
      "Sorry. We are not providing service for the given selection.\n"
     ]
    }
   ],
   "source": [
    "\"\"\"\n",
    "Print a Menu\n",
    "Kinds of mobiles available in the store\n",
    "    1. Android\n",
    "    2. Windows\n",
    "    2. Mac\n",
    "    4. All tabs\n",
    "Enter an option: 1-> goto second floor; 2-> goto first floor; 3-> goto third floor; 4-> select in the ground floor;\n",
    "if they enter any other number or char: We are not providing service for the selection\n",
    "\"\"\"\n",
    "print(\"Kinds of mobiles available in the store are as follows: \\n \\t1. Android\\n \\t2. Windows\\n\\t3. Mac\\n \\t4. All other tabs\\nEnter the option: \\n \\t1-> For Android device.\\n \\t2-> For Windows device\\n \\t3-> For Mac device\\n \\t4-> For all other devices\")\n",
    "s= input(\"Please enter an option from the above list:\")\n",
    "#if (((s >= \"a\" and s <= \"z\") or (s >= \"A\" and s <= \"Z\")) or (s >= int(s) and s <= int(s)) ):\n",
    "#    print(\"Sorry. We are not providing service for the given selection.\")\n",
    "#else:\n",
    "if s in [\"1\", \"2\", \"3\", \"4\"]:\n",
    "    if s == \"1\":\n",
    "        print(\"Please goto first floor.\")\n",
    "    elif s == \"2\":\n",
    "        print(\"Please goto second floor.\")\n",
    "    elif s == \"3\":\n",
    "        print(\"Please goto third floor.\")\n",
    "    elif s == \"4\":\n",
    "        print(\"Please goto ground floor.\")\n",
    "else:\n",
    "    print(\"Sorry. We are not providing service for the given selection.\")\n"
   ]
  },
  {
   "cell_type": "code",
   "execution_count": null,
   "id": "17ce7f57",
   "metadata": {},
   "outputs": [],
   "source": []
  }
 ],
 "metadata": {
  "kernelspec": {
   "display_name": "Python 3",
   "language": "python",
   "name": "python3"
  },
  "language_info": {
   "codemirror_mode": {
    "name": "ipython",
    "version": 3
   },
   "file_extension": ".py",
   "mimetype": "text/x-python",
   "name": "python",
   "nbconvert_exporter": "python",
   "pygments_lexer": "ipython3",
   "version": "3.8.8"
  }
 },
 "nbformat": 4,
 "nbformat_minor": 5
}
