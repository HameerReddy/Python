{
 "cells": [
  {
   "cell_type": "code",
   "execution_count": 51,
   "id": "5b4749e9",
   "metadata": {
    "scrolled": false
   },
   "outputs": [
    {
     "name": "stdout",
     "output_type": "stream",
     "text": [
      "enter the number of points in the data set: 6\n",
      "enter the first number in the data set: 1\n",
      "x is:  [1.0] <class 'list'>\n",
      "enter the next number :2\n",
      "x is:  [1.0, 2.0] <class 'list'>\n",
      "enter the next number :3\n",
      "x is:  [1.0, 2.0, 3.0] <class 'list'>\n",
      "enter the next number :4\n",
      "x is:  [1.0, 2.0, 3.0, 4.0] <class 'list'>\n",
      "enter the next number :5\n",
      "x is:  [1.0, 2.0, 3.0, 4.0, 5.0] <class 'list'>\n",
      "enter the next number :6\n",
      "x is:  [1.0, 2.0, 3.0, 4.0, 5.0, 6.0] <class 'list'>\n",
      "x is:  [1.0, 2.0, 3.0, 4.0, 5.0, 6.0] <class 'list'>\n",
      "expression1 is: 25.0 <class 'float'>\n",
      "expression2 is:  729.0 <class 'float'>\n",
      "mean of the numbers is:  3.5 <class 'float'>\n",
      "sum of squares is:  17.5 <class 'float'>\n",
      "Variance is:  3.5 <class 'float'>\n",
      "standard deviation is:  1.8708286933869707 <class 'float'>\n",
      "standard deviation (math) is:  1.8708286933869707 <class 'float'>\n",
      "y value with first four x is:  17.265 <class 'float'>\n",
      "y values for different x values are:  [1.275, 2.505, 3.735, 4.965, 6.195, 7.425] <class 'list'>\n",
      "sum of the numbers (in Y) is:  26.1 <class 'float'>\n",
      "mean of the numbers (in Y) is:  4.3500000000000005 <class 'float'>\n"
     ]
    }
   ],
   "source": [
    "### STATISTICS Part\n",
    "\n",
    "n=int(input(\"enter the number of points in the data set: \"))\n",
    "x=[float(input(\"enter the first number in the data set: \"))]\n",
    "print(\"x is: \", x, type(x))\n",
    "for i in range(1, n):\n",
    "    x1=float(input(\"enter the next number :\"))\n",
    "    x.append(x1)\n",
    "    print(\"x is: \", x, type(x))\n",
    "    \n",
    "    \n",
    "print(\"x is: \", x, type(x))\n",
    "\n",
    "expression1 = (x[1]+x[2])**2 \n",
    "expression2 = (x[3]+x[4])**3 \n",
    "print(\"expression1 is:\", expression1, type(expression1)) \n",
    "print(\"expression2 is: \", expression2, type(expression2))\n",
    "\n",
    "\n",
    "# mean= (x[1]+x[2]+x[3]+x[4])/4 \n",
    "sum = 0\n",
    "for i in range(n):\n",
    "    sum = sum + x[i]\n",
    "    \n",
    "mean = sum/n\n",
    "print(\"mean of the numbers is: \", mean, type(mean)) \n",
    "\n",
    "\n",
    "# sum_of_squares= (x[1]-mean)**2 + (x[2]-mean)**2 + (x[3]-mean)**2 + (x[4]-mean)**2 \n",
    "sum_sqr=0\n",
    "for i in range(n):\n",
    "    sum_sqr=sum_sqr + (x[i]-mean)**2\n",
    "    \n",
    "print(\"sum of squares is: \", sum_sqr, type(sum_sqr)) \n",
    "\n",
    "variance=sum_sqr/(n-1) \n",
    "print(\"Variance is: \", variance, type(variance)) \n",
    "\n",
    "standard_deviation = variance**(1/2) \n",
    "print(\"standard deviation is: \", standard_deviation, type(standard_deviation))\n",
    "import math \n",
    "standard_deviation1 = math.sqrt(variance) \n",
    "print(\"standard deviation (math) is: \", standard_deviation1, type(standard_deviation1))\n",
    "\n",
    "\n",
    "\n",
    "### REGRESSION Part\n",
    "m= 1.23 # float(input(\"enter the slope of the line (m): \"))\n",
    "c= 0.045 # float(input(\"enter the y intercept of the line (m): \"))\n",
    "\n",
    "y= m* (x[1]+x[2]+x[3]+x[4]) + c\n",
    "print(\"y value with first four x is: \", y, type(y))\n",
    "Y=[]\n",
    "for i in range(n):\n",
    "    Y.append(m*x[i] + c)\n",
    "    \n",
    "print(\"y values for different x values are: \", Y, type(Y))\n",
    "# mean= (Y[1]+Y[2]+Y[3]+Y[4])/4 \n",
    "sum = 0\n",
    "for i in range(n):\n",
    "    sum = sum + Y[i]\n",
    "    \n",
    "print(\"sum of the numbers (in Y) is: \",sum, type(sum))\n",
    "mean_Y = sum/n\n",
    "print(\"mean of the numbers (in Y) is: \", mean_Y, type(mean_Y)) \n",
    "\n",
    "\n",
    "\n",
    "\n",
    "\n",
    "\n"
   ]
  },
  {
   "cell_type": "code",
   "execution_count": 24,
   "id": "cfd594aa",
   "metadata": {},
   "outputs": [
    {
     "name": "stdout",
     "output_type": "stream",
     "text": [
      "enter the value of x1: 1\n",
      "enter the value of x2: 2\n",
      "enter the value of x3: 3\n",
      "enter the value of x4: 4\n",
      "expression1 is: 9.0 <class 'float'>\n",
      "expression2 is:  343.0 <class 'float'>\n",
      "mean of the numbers is:  2.5 <class 'float'>\n",
      "sum of squares is:  5.0 <class 'float'>\n",
      "Variance is:  1.6666666666666667 <class 'float'>\n",
      "standard deviation is:  1.2909944487358056 <class 'float'>\n",
      "standard deviation (math) is:  1.2909944487358056 <class 'float'>\n"
     ]
    }
   ],
   "source": [
    "x1=float(input(\"enter the value of x1: \")) \n",
    "x2=float(input(\"enter the value of x2: \")) \n",
    "x3=float(input(\"enter the value of x3: \")) \n",
    "x4=float(input(\"enter the value of x4: \"))\n",
    "\n",
    "expression1 = (x1+x2)**2 \n",
    "expression2 = (x3+x4)**3 \n",
    "print(\"expression1 is:\", expression1, type(expression1)) \n",
    "print(\"expression2 is: \", expression2, type(expression2))\n",
    "\n",
    "mean= (x1+x2+x3+x4)/4 \n",
    "print(\"mean of the numbers is: \", mean, type(mean)) \n",
    "sum_of_squares= (x1-mean)**2 + (x2-mean)**2 + (x3-mean)**2 + (x4-mean)**2 \n",
    "print(\"sum of squares is: \", sum_of_squares, type(sum_of_squares)) \n",
    "variance=sum_of_squares/3 \n",
    "print(\"Variance is: \", variance, type(variance)) \n",
    "standard_deviation = variance**(1/2) \n",
    "print(\"standard deviation is: \", standard_deviation, type(standard_deviation))\n",
    "\n",
    "\n",
    "import math \n",
    "standard_deviation1 = math.sqrt(variance) \n",
    "print(\"standard deviation (math) is: \", standard_deviation1, type(standard_deviation1))\n",
    "\n"
   ]
  },
  {
   "cell_type": "code",
   "execution_count": 38,
   "id": "429a0852",
   "metadata": {},
   "outputs": [
    {
     "name": "stdout",
     "output_type": "stream",
     "text": [
      "[1, 2, 3]\n"
     ]
    }
   ],
   "source": [
    "a=[1,2,3]\n",
    "print(a)"
   ]
  },
  {
   "cell_type": "code",
   "execution_count": 40,
   "id": "32773e66",
   "metadata": {},
   "outputs": [
    {
     "name": "stdout",
     "output_type": "stream",
     "text": [
      "[1, 2, 3]\n",
      "[1, 2, 3, 4]\n"
     ]
    }
   ],
   "source": [
    "a=[1,2,3]\n",
    "print(a)\n",
    "a.append(4)\n",
    "print(a)"
   ]
  },
  {
   "cell_type": "code",
   "execution_count": 47,
   "id": "a8ec707c",
   "metadata": {},
   "outputs": [
    {
     "name": "stdout",
     "output_type": "stream",
     "text": [
      "[1, 2, 3]\n"
     ]
    },
    {
     "ename": "TypeError",
     "evalue": "unsupported operand type(s) for ** or pow(): 'list' and 'int'",
     "output_type": "error",
     "traceback": [
      "\u001b[1;31m---------------------------------------------------------------------------\u001b[0m",
      "\u001b[1;31mTypeError\u001b[0m                                 Traceback (most recent call last)",
      "\u001b[1;32m<ipython-input-47-ed0d3d3d6fdc>\u001b[0m in \u001b[0;36m<module>\u001b[1;34m\u001b[0m\n\u001b[0;32m      1\u001b[0m \u001b[0ma\u001b[0m\u001b[1;33m=\u001b[0m\u001b[1;33m[\u001b[0m\u001b[1;36m1\u001b[0m\u001b[1;33m,\u001b[0m\u001b[1;36m2\u001b[0m\u001b[1;33m,\u001b[0m\u001b[1;36m3\u001b[0m\u001b[1;33m]\u001b[0m\u001b[1;33m\u001b[0m\u001b[1;33m\u001b[0m\u001b[0m\n\u001b[0;32m      2\u001b[0m \u001b[0mprint\u001b[0m\u001b[1;33m(\u001b[0m\u001b[0ma\u001b[0m\u001b[1;33m)\u001b[0m\u001b[1;33m\u001b[0m\u001b[1;33m\u001b[0m\u001b[0m\n\u001b[1;32m----> 3\u001b[1;33m \u001b[0mb\u001b[0m\u001b[1;33m=\u001b[0m\u001b[0ma\u001b[0m\u001b[1;33m**\u001b[0m\u001b[1;36m2\u001b[0m\u001b[1;33m\u001b[0m\u001b[1;33m\u001b[0m\u001b[0m\n\u001b[0m\u001b[0;32m      4\u001b[0m \u001b[0mprint\u001b[0m\u001b[1;33m(\u001b[0m\u001b[0mb\u001b[0m\u001b[1;33m)\u001b[0m\u001b[1;33m\u001b[0m\u001b[1;33m\u001b[0m\u001b[0m\n",
      "\u001b[1;31mTypeError\u001b[0m: unsupported operand type(s) for ** or pow(): 'list' and 'int'"
     ]
    }
   ],
   "source": [
    "a=[1,2,3]\n",
    "print(a)\n",
    "b=a**2\n",
    "print(b)"
   ]
  },
  {
   "cell_type": "code",
   "execution_count": null,
   "id": "f9329f98",
   "metadata": {},
   "outputs": [],
   "source": []
  }
 ],
 "metadata": {
  "kernelspec": {
   "display_name": "Python 3",
   "language": "python",
   "name": "python3"
  },
  "language_info": {
   "codemirror_mode": {
    "name": "ipython",
    "version": 3
   },
   "file_extension": ".py",
   "mimetype": "text/x-python",
   "name": "python",
   "nbconvert_exporter": "python",
   "pygments_lexer": "ipython3",
   "version": "3.8.8"
  }
 },
 "nbformat": 4,
 "nbformat_minor": 5
}
