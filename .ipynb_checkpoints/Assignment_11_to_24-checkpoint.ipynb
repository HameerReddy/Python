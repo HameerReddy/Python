{
 "cells": [
  {
   "cell_type": "code",
   "execution_count": 2,
   "id": "46f2a0cc",
   "metadata": {},
   "outputs": [
    {
     "name": "stdout",
     "output_type": "stream",
     "text": [
      "Kinds of mobiles available in the store are as follows: \n",
      " \t1. Android\n",
      " \t2. Windows\n",
      "\t3. Mac\n",
      " \t4. All other tabs\n",
      "Enter the option: \n",
      " \t1-> For Android device.\n",
      " \t2-> For Windows device\n",
      " \t3-> For Mac device\n",
      " \t4-> For all other devices\n",
      "Please enter an option from the above list:a\n",
      "Sorry. We are not providing service for the given selection.\n"
     ]
    }
   ],
   "source": [
    "# Class assignment\n",
    "\"\"\"\n",
    "Print a Menu\n",
    "Kinds of mobiles available in the store\n",
    "    1. Android\n",
    "    2. Windows\n",
    "    2. Mac\n",
    "    4. All tabs\n",
    "Enter an option: 1-> goto second floor; 2-> goto first floor; 3-> goto third floor; 4-> select in the ground floor;\n",
    "if they enter any other number or char: We are not providing service for the selection\n",
    "\"\"\"\n",
    "print(\"Kinds of mobiles available in the store are as follows: \\n \\t1. Android\\n \\t2. Windows\\n\\t3. Mac\\n \\t4. All other tabs\\nEnter the option: \\n \\t1-> For Android device.\\n \\t2-> For Windows device\\n \\t3-> For Mac device\\n \\t4-> For all other devices\")\n",
    "s= input(\"Please enter an option from the above list:\")\n",
    "if s in [\"1\", \"2\", \"3\", \"4\"]:\n",
    "    if s == \"1\":\n",
    "        print(\"Please goto first floor.\")\n",
    "    elif s == \"2\":\n",
    "        print(\"Please goto second floor.\")\n",
    "    elif s == \"3\":\n",
    "        print(\"Please goto third floor.\")\n",
    "    elif s == \"4\":\n",
    "        print(\"Please goto ground floor.\")\n",
    "else:\n",
    "    print(\"Sorry. We are not providing service for the given selection.\")\n"
   ]
  },
  {
   "cell_type": "code",
   "execution_count": 44,
   "id": "62719881",
   "metadata": {},
   "outputs": [
    {
     "name": "stdout",
     "output_type": "stream",
     "text": [
      "Enter the base of the expression: 2\n",
      "Enter the exponent of the expression: 3\n",
      "2\\u00b3 <class 'str'>\n",
      "2³ <class 'str'>\n"
     ]
    }
   ],
   "source": [
    "# 11. take base and exponent value from the user and print like in mathematics:\n",
    "# example: base=2, exponent=3: 23\n",
    "# Use: 2\\u00b3\n",
    "base = (input(\"Enter the base of the expression: \"))\n",
    "exponent = (input(\"Enter the exponent of the expression: \"))\n",
    "#print(f\"{base}\\N{superscript exponent}\")\n",
    "#print(\"x\\u00b5 + y\\u00b2 = 2\")\n",
    "s1= base+\"\\\\\"+\"u00b\"+exponent\n",
    "\n",
    "#s=\"%d\\u00b%d\"%(base)\n",
    "print(s1, type(s1))\n",
    "s2=\"2\\u00b3\"\n",
    "print(s2, type(s2))"
   ]
  },
  {
   "cell_type": "code",
   "execution_count": 35,
   "id": "e8d0c152",
   "metadata": {},
   "outputs": [
    {
     "data": {
      "text/plain": [
       "'2³'"
      ]
     },
     "execution_count": 35,
     "metadata": {},
     "output_type": "execute_result"
    }
   ],
   "source": [
    "\n",
    "f'2\\N{SUPERSCRIPT THREE}'"
   ]
  },
  {
   "cell_type": "code",
   "execution_count": 37,
   "id": "5ca3df0e",
   "metadata": {},
   "outputs": [
    {
     "ename": "SyntaxError",
     "evalue": "invalid syntax (<fstring>, line 1)",
     "output_type": "error",
     "traceback": [
      "\u001b[1;36m  File \u001b[1;32m\"<fstring>\"\u001b[1;36m, line \u001b[1;32m1\u001b[0m\n\u001b[1;33m    (SUPERSCRIPT 3)\u001b[0m\n\u001b[1;37m                 ^\u001b[0m\n\u001b[1;31mSyntaxError\u001b[0m\u001b[1;31m:\u001b[0m invalid syntax\n"
     ]
    }
   ],
   "source": [
    "f'2_{SUPERSCRIPT 3}'"
   ]
  },
  {
   "cell_type": "code",
   "execution_count": 7,
   "id": "73cba595",
   "metadata": {},
   "outputs": [
    {
     "name": "stdout",
     "output_type": "stream",
     "text": [
      "enter the number of types for the groceries: 5\n",
      "enter the cost of item 1: 6\n",
      "enter the cost of item 2: 4\n",
      "enter the cost of item 3: 5\n",
      "enter the cost of item 4: 3\n",
      "enter the cost of item 5: 2\n",
      "The costs of the groceries are:  [6.0, 4.0, 5.0, 3.0, 2.0]\n",
      "Total cost is 20.0.\n",
      "Average cost is 4.0.\n",
      "Minimum cost is 2.0.\n",
      "Maximum cost is 6.0.\n"
     ]
    }
   ],
   "source": [
    "# 12. Take some groceries cost prices and print total cost and average cost,\n",
    "# what is the max cost, what is the minimum cost.\n",
    "\n",
    "num = int(input(\"enter the number of types for the groceries: \"))\n",
    "cost = list()\n",
    "total_cost = float()\n",
    "for i in range(num):\n",
    "    cost.append(float(input(f\"enter the cost of item {i+1}: \")))\n",
    "    total_cost += cost[i]\n",
    "\n",
    "avg_cost = total_cost/num\n",
    "print(\"The costs of the groceries are: \", cost)\n",
    "print(f\"Total cost is {total_cost}.\")\n",
    "print(f\"Average cost is {avg_cost}.\")\n",
    "print(f\"Minimum cost is {min(cost)}.\")\n",
    "print(f\"Maximum cost is {max(cost)}.\")"
   ]
  },
  {
   "cell_type": "code",
   "execution_count": 4,
   "id": "55b94bd2",
   "metadata": {},
   "outputs": [
    {
     "name": "stdout",
     "output_type": "stream",
     "text": [
      "Enter a number:10\n",
      "Variable is Ten\n",
      "Variable is Ten\n",
      "Variable is: Ten\n",
      "Variable is: Ten\n",
      "Variable is: Not Ten\n",
      "Variable is: Not Ten\n"
     ]
    }
   ],
   "source": [
    "\"\"\"13. Assign “ten” value to variable it is 10 otherwise assign “Not ten”\n",
    "       Note: write two versions of program\n",
    "\tVersion1: use and operator\n",
    "\tVersion2: use or operator \n",
    "    \"\"\"\n",
    "num = int(input(\"Enter a number:\"))\n",
    "if num == 10:\n",
    "    var = \"Ten\" or \"Not Ten\"\n",
    "else: \n",
    "    var = \"Not Ten\" or \"Ten\"\n",
    "\n",
    "print(\"Variable is\", var)\n",
    "        \n",
    "if num != 10:\n",
    "    var = \"Ten\" and \"Not Ten\"\n",
    "else: \n",
    "    var = \"Not Ten\" and \"Ten\"\n",
    "\n",
    "print(\"Variable is\", var)\n",
    "\n",
    "\n",
    "var = \"Not Ten\" and \"Ten\"\n",
    "print(\"Variable is:\",var)\n",
    "var = \"Ten\" or \"Not Ten\"\n",
    "print(\"Variable is:\",var)\n",
    "var = \"Ten\" and \"Not Ten\"\n",
    "print(\"Variable is:\",var)\n",
    "var = \"Not Ten\" or \"Ten\"\n",
    "print(\"Variable is:\",var)"
   ]
  },
  {
   "cell_type": "code",
   "execution_count": 11,
   "id": "5c7c0336",
   "metadata": {},
   "outputs": [
    {
     "name": "stdout",
     "output_type": "stream",
     "text": [
      "enter the number of people: 150\n",
      "enter the number of busses avalable: 3\n",
      "enter the number of seats avalable in a bus: 30\n",
      "enter how many people can be adjusted in each bus: 5\n",
      "Sufficient busses are not available.\n",
      "We require 2 additional busses.\n"
     ]
    }
   ],
   "source": [
    "\"\"\"\n",
    "13.\tTake the input from the user for(Total number of people, total number of \n",
    "buses, Number of seats for bus, adjust factor). Based on four inputs\n",
    "Decide whether there is sufficient buses or not and give solution for \n",
    "how many extra buses required.\n",
    "\"\"\"\n",
    "no_of_people=int(input(\"enter the number of people: \"))\n",
    "no_of_bus=int(input(\"enter the number of busses avalable: \"))\n",
    "no_of_seats=int(input(\"enter the number of seats avalable in a bus: \"))\n",
    "adj_fact=float(input(\"enter how many people can be adjusted in each bus: \"))\n",
    "seats = no_of_seats + adj_fact\n",
    "total_seats = seats * no_of_bus\n",
    "if total_seats >= no_of_people:\n",
    "    print(\"The available busses are sufficient. No new busses required\")\n",
    "\n",
    "if total_seats < no_of_people:\n",
    "    print(\"Sufficient busses are not available.\")\n",
    "    extr_people = no_of_people - total_seats\n",
    "    c=extr_people/seats\n",
    "    import math as math\n",
    "    c=math.ceil(c)\n",
    "    print(f\"We require {c} additional busses.\")\n",
    "    \n",
    "    "
   ]
  },
  {
   "cell_type": "code",
   "execution_count": 19,
   "id": "bcac14a7",
   "metadata": {},
   "outputs": [
    {
     "name": "stdout",
     "output_type": "stream",
     "text": [
      "Enter a number:11\n",
      "ODD Number\n"
     ]
    }
   ],
   "source": [
    "\"\"\"14.Take number from the user decide whether it is even or odd.\"\"\"\n",
    "num = int(input(\"Enter a number:\"))\n",
    "print(\"EVEN Number\") if (num%2) == 0 else print(\"ODD Number\")\n"
   ]
  },
  {
   "cell_type": "code",
   "execution_count": 24,
   "id": "ecb655ed",
   "metadata": {},
   "outputs": [
    {
     "name": "stdout",
     "output_type": "stream",
     "text": [
      "Enter a number: a\n",
      "Enter only a numerical value!!\n"
     ]
    }
   ],
   "source": [
    "'''15.take number from the user and \n",
    "decide whether it is positive number or negative number'''\n",
    "try: \n",
    "    num = float(input(\"Enter a number: \"))\n",
    "    if num < 0:\n",
    "        print(\"The enterd number is a NEGATIVE NUMBER\")\n",
    "    else:\n",
    "        print(\"The enterd number is a POSITIVE NUMBER\")\n",
    "except ValueError:\n",
    "    print(\"Enter only a numerical value!!\")\n",
    "\n",
    "#print(f'The entered number is {num}.')"
   ]
  },
  {
   "cell_type": "code",
   "execution_count": 31,
   "id": "a8b95aa0",
   "metadata": {},
   "outputs": [
    {
     "name": "stdout",
     "output_type": "stream",
     "text": [
      "Enter something: hameer\n",
      "The lenth of the entered string is 6.\n"
     ]
    }
   ],
   "source": [
    "'''16.take a string from the user print the length. \n",
    "if the user not given anything then show an error message'''\n",
    "s = input(\"Enter something: \")\n",
    "if len(s) == 0:\n",
    "    print(\"Hey, you have not entered anything..!! \\nPlease next time enter something..!!\")\n",
    "else:\n",
    "    print(f\"The lenth of the entered string is {len(s)}.\")\n"
   ]
  },
  {
   "cell_type": "code",
   "execution_count": 47,
   "id": "ec770892",
   "metadata": {},
   "outputs": [
    {
     "name": "stdout",
     "output_type": "stream",
     "text": [
      "Enter the first number: 1\n",
      "Enter the second number: 2\n",
      "To perform an operation, select an option from the menu shown below: \n",
      "\t1. addition\n",
      "\t2. subtraction\n",
      "\t3. multiplication\n",
      "\t4. division\n",
      "\t5. quit i.e. to stop the program \n",
      "7\n",
      "Entered operation is not a valid option..!!!\n"
     ]
    }
   ],
   "source": [
    "'''17.code to perform mathematical operations. \n",
    "take two numbers from the user and show the below menu'''\n",
    "n1 = float(input(\"Enter the first number: \"))\n",
    "n2 = float(input(\"Enter the second number: \"))\n",
    "opr = input(f\"To perform an operation, select an option from the menu shown below: \\n\\t1. addition\\n\\t2. subtraction\\n\\t3. multiplication\\n\\t4. division\\n\\t5. quit i.e. to stop the program \\n\")\n",
    "if opr == \"1\":\n",
    "    print(f\"The result is {n1 + n2}\")\n",
    "elif opr == \"2\":\n",
    "    print(f\"The result is {n1 - n2}\")\n",
    "elif opr == \"3\":\n",
    "    print(f\"The result is {n1 * n2}\")\n",
    "elif opr == \"4\":\n",
    "    if n2 != 0:\n",
    "        print(f\"The result is {n1 / n2}\")\n",
    "    else: \n",
    "        print(\"Entered value for the second number doesnot support division.\")\n",
    "\n",
    "elif opr == \"5\":\n",
    "    print(\"Program is stopped!!!\")\n",
    "    \n",
    "else:\n",
    "    print(\"Entered operation is not a valid option..!!!\")"
   ]
  },
  {
   "cell_type": "code",
   "execution_count": 56,
   "id": "3389997a",
   "metadata": {},
   "outputs": [
    {
     "name": "stdout",
     "output_type": "stream",
     "text": [
      "Select the option to which category a person belong to in the following list.\n",
      "\t1. Kid's\n",
      "\t2. Men's\n",
      "\t3. Women's\n",
      "3\n",
      "You are a 'GREAT LADY'\n"
     ]
    }
   ],
   "source": [
    "'''18. show the menu:\n",
    "    1. kids\n",
    "    2. Men's\n",
    "    3. Women's\n",
    "Show the corresponding message based on the selection.\n",
    "Option: 1: you are a kid\n",
    "        2: you are a gentlemen\n",
    "        3: you are a good women\n",
    "\n",
    " Mention error message if the option value >3.\n",
    "'''\n",
    "opr = input(f\"Select the option to which category a person belong to in the following list.\\n\\t1. Kid's\\n\\t2. Men's\\n\\t3. Women's\\n\")\n",
    "\n",
    "if opr == \"1\":\n",
    "    print(\"You are a 'PRETTY KID'\")\n",
    "elif opr == \"2\":\n",
    "    print(\"You are a 'GENTLEMEN'\")\n",
    "elif opr == \"3\":\n",
    "    print(\"You are a 'GREAT LADY'\")\n",
    "else:\n",
    "    print(\"Entered operation is not a valid option..!!!\")"
   ]
  },
  {
   "cell_type": "code",
   "execution_count": 61,
   "id": "de6fa5e6",
   "metadata": {},
   "outputs": [
    {
     "name": "stdout",
     "output_type": "stream",
     "text": [
      "Enter the substring you want to check: pure\n",
      "The substring 'pure' is in the following string: \n",
      "'python is a pure object oriented programing language'\n"
     ]
    }
   ],
   "source": [
    "''' 19. write a program to chcek given substring is there in actual string or not?\n",
    "example: act=\"python is a pure object oriented programing language\"\n",
    "check whether “pure” is there in act or not.\n",
    "Note: Use in operator\n",
    "'''\n",
    "opr = input(\"Enter the substring you want to check: \")\n",
    "act = \"python is a pure object oriented programing language\"\n",
    "if opr in act:\n",
    "    print(f\"The substring '{opr}' is in the following string: \\n'{act}'\")\n",
    "else:\n",
    "    print(f\"The substring '{opr}' is not in the following string: \\n'{act}'\")"
   ]
  },
  {
   "cell_type": "code",
   "execution_count": 65,
   "id": "a5a85233",
   "metadata": {},
   "outputs": [
    {
     "name": "stdout",
     "output_type": "stream",
     "text": [
      "Enter the first number: 3.5\n",
      "Enter the second number: 4.9\n",
      "Enter the third number: 3.2\n",
      "The 'second number' is BIG\n"
     ]
    }
   ],
   "source": [
    "''' 20. Take three numbers from the user and decide which is big\n",
    "'''\n",
    "n1 = float(input(\"Enter the first number: \"))\n",
    "n2 = float(input(\"Enter the second number: \"))\n",
    "n3 = float(input(\"Enter the third number: \"))\n",
    "if n1>n2 and n1>n3:\n",
    "    print(\"The 'first number' is BIG\")\n",
    "elif n2>n3:\n",
    "    print(\"The 'second number' is BIG\")\n",
    "else:\n",
    "    print(\"The 'third number' is BIG\")"
   ]
  },
  {
   "cell_type": "code",
   "execution_count": 73,
   "id": "a58ba87a",
   "metadata": {},
   "outputs": [
    {
     "name": "stdout",
     "output_type": "stream",
     "text": [
      "Enter your age (in years): 22\n",
      "Enter your gender (male or female): female\n",
      "As per indian laws, you are eligible for marriage\n"
     ]
    }
   ],
   "source": [
    "''' 21. Take age and gender from the user and decide whether he is eligible for \n",
    "    marriage in India or not.\n",
    "    Age criteria: men age>22, women>18\n",
    "'''\n",
    "age = int(input(\"Enter your age (in years): \"))\n",
    "gender = input(\"Enter your gender (male or female): \")\n",
    "if gender == \"male\":\n",
    "    if age >= 22:\n",
    "        print(\"As per indian laws, you are eligible for marriage\")\n",
    "    else: \n",
    "        print(\"As per indian laws, you are NOT eligible for marriage\")\n",
    "elif gender == \"female\":\n",
    "    if age >= 18:\n",
    "        print(\"As per indian laws, you are eligible for marriage\")\n",
    "    else: \n",
    "        print(\"As per indian laws, you are NOT eligible for marriage\")\n",
    "else:\n",
    "    print(\"Please check your entries again and re-enter the details\")"
   ]
  },
  {
   "cell_type": "code",
   "execution_count": 93,
   "id": "7ce13d9d",
   "metadata": {},
   "outputs": [
    {
     "name": "stdout",
     "output_type": "stream",
     "text": [
      "Enter your age (in years): 65\n",
      "Enter your gender (male or female): female\n",
      "As per indian laws, you can watch movies in theaters.\n",
      "As per indian laws, you can vote.\n",
      "As per indian laws, you can get married.\n",
      "As per indian laws, you are not eligible for government jobs.\n",
      "As per indian laws, you are not eligible for driving licence.\n"
     ]
    }
   ],
   "source": [
    "''' 22. Take an age  and gender from the user: and mention that what he/she can do in india.\n",
    "conditions\n",
    "1. Theatre: 5 for men 7 for women\n",
    "2. Voting system: 18 for men and women\n",
    "3. Marriage in india: 23 for men and for women >21\n",
    "4. For govt jobs: (min:18, max:32)  for men and (min:18, max:34) for  women\n",
    "5. For driving licence: (min:18, max:60) for men and women\n",
    "Eligibility:\n",
    "            1. theatre\n",
    "            2.  Voting system\n",
    "            3.  Marriage in india\n",
    "            4.  For govt obs\n",
    "            5. For driving licence:\n",
    "Enter an option:\n",
    "    Gender:\n",
    "        1. men\n",
    "        2. women\n",
    "    Enter an option:\n",
    "    Enter an age of person:\n",
    "'''\n",
    "\n",
    "age = int(input(\"Enter your age (in years): \"))\n",
    "gender = input(\"Enter your gender (male or female): \")\n",
    "if gender == \"male\":\n",
    "    list1 = [age<5, age>=18, age>=23, age>=18 and age<=32, age>=18 and age<=60]\n",
    "    if list1[0]:\n",
    "        print(\"As per indian laws, you are not eligible for theater.\")\n",
    "    else:\n",
    "        print(\"As per indian laws, you can watch movies in theaters.\")\n",
    "    \n",
    "    if list1[1]:\n",
    "        print(\"As per indian laws, you can vote.\")\n",
    "    else:\n",
    "        print(\"As per indian laws, you can not vote.\")\n",
    "    \n",
    "    if list1[2]:\n",
    "        print(\"As per indian laws, you can get married.\")\n",
    "    else:\n",
    "        print(\"As per indian laws, you can not marry.\")\n",
    "    \n",
    "    if list1[3]:\n",
    "        print(\"As per indian laws, you are eligible for government jobs.\")\n",
    "    else:\n",
    "        print(\"As per indian laws, you are not eligible for government jobs.\")\n",
    "    \n",
    "    if list1[4]:\n",
    "        print(\"As per indian laws, you are eligible for driving licence.\")\n",
    "    else:\n",
    "        print(\"As per indian laws, you are not eligible for driving licence.\")\n",
    "\n",
    "elif gender == \"female\":\n",
    "    list2 = [age<7, age>=18, age>=21, age>=18 and age<=34, age>=18 and age<=60]\n",
    "    if list2[0]:\n",
    "        print(\"As per indian laws, you are not eligible for theater.\")\n",
    "    else:\n",
    "        print(\"As per indian laws, you can watch movies in theaters.\")\n",
    "    \n",
    "    if list2[1]:\n",
    "        print(\"As per indian laws, you can vote.\")\n",
    "    else:\n",
    "        print(\"As per indian laws, you can not vote.\")\n",
    "    \n",
    "    if list2[2]:\n",
    "        print(\"As per indian laws, you can get married.\")\n",
    "    else:\n",
    "        print(\"As per indian laws, you can not marry.\")\n",
    "    \n",
    "    if list2[3]:\n",
    "        print(\"As per indian laws, you are eligible for government jobs.\")\n",
    "    else:\n",
    "        print(\"As per indian laws, you are not eligible for government jobs.\")\n",
    "    \n",
    "    if list2[4]:\n",
    "        print(\"As per indian laws, you are eligible for driving licence.\")\n",
    "    else:\n",
    "        print(\"As per indian laws, you are not eligible for driving licence.\")\n",
    "\n",
    "\n",
    "else:\n",
    "    print(\"Please check your entries again and re-enter the details\")"
   ]
  },
  {
   "cell_type": "code",
   "execution_count": 88,
   "id": "845dc098",
   "metadata": {},
   "outputs": [
    {
     "name": "stdout",
     "output_type": "stream",
     "text": [
      "[True, True, False]\n"
     ]
    }
   ],
   "source": [
    "list1 = [10>7, 10<18, 10>18 and 10<23]\n",
    "print(list1)"
   ]
  },
  {
   "cell_type": "code",
   "execution_count": 101,
   "id": "47fca857",
   "metadata": {},
   "outputs": [
    {
     "name": "stdout",
     "output_type": "stream",
     "text": [
      "Enter someone's age (in years): 80\n",
      "The enquired someone is an 'old codger'\n"
     ]
    }
   ],
   "source": [
    "''' 24.Given an age, figure out whether someone is a \n",
    "    baby, \n",
    "    toddler, \n",
    "    child, \n",
    "    teenager, \n",
    "    adult or old codger.\n",
    "'''\n",
    "age = int(input(\"Enter someone's age (in years): \"))\n",
    "if age <= 0:\n",
    "    print(\"The enquired someone is not yet born.\")\n",
    "elif age>0 and age <= 1:\n",
    "    print(\"The enquired someone is a 'baby'\")\n",
    "elif age>1 and age<=3:\n",
    "    print(\"The enquired someone is a 'toddler'\")\n",
    "elif age>3 and age<=12:\n",
    "    print(\"The enquired someone is a 'child'\")\n",
    "elif age>12 and age<=19:\n",
    "    print(\"The enquired someone is a 'teenager'\")\n",
    "elif age>19 and age<=70:\n",
    "    print(\"The enquired someone is an 'adult'\")\n",
    "else:\n",
    "    print(\"The enquired someone is an 'old codger'\")"
   ]
  },
  {
   "cell_type": "code",
   "execution_count": 106,
   "id": "3f6db1f2",
   "metadata": {},
   "outputs": [
    {
     "name": "stdout",
     "output_type": "stream",
     "text": [
      "Enter the value of 'a': 6\n",
      "Enter the value of 'b': 2\n",
      "'a' is devisible by 'b'\n"
     ]
    }
   ],
   "source": [
    "''' 25.Take two number a,b from the user and check whether a is divisible by b or not\n",
    "'''\n",
    "a = int(input(\"Enter the value of 'a': \"))\n",
    "b = int(input(\"Enter the value of 'b': \"))\n",
    "if a%b == 0:\n",
    "    print(\"'a' is devisible by 'b'\")\n",
    "else:\n",
    "    print(\"'a' is not devisible by 'b'\")"
   ]
  },
  {
   "cell_type": "code",
   "execution_count": 110,
   "id": "fd124801",
   "metadata": {},
   "outputs": [
    {
     "name": "stdout",
     "output_type": "stream",
     "text": [
      "range(97, 122)\n",
      "range(65, 90)\n",
      "range(48, 49)\n"
     ]
    }
   ],
   "source": [
    "print(range(ord(\"a\"),ord(\"z\")))\n",
    "print(range(ord(\"A\"),ord(\"Z\")))\n",
    "print(range(ord(\"0\"),ord(\"1\")))\n"
   ]
  },
  {
   "cell_type": "code",
   "execution_count": 132,
   "id": "ca2974b3",
   "metadata": {},
   "outputs": [
    {
     "name": "stdout",
     "output_type": "stream",
     "text": [
      "Enter a letter: @\n"
     ]
    },
    {
     "ename": "ValueError",
     "evalue": "invalid literal for int() with base 10: '@'",
     "output_type": "error",
     "traceback": [
      "\u001b[1;31m---------------------------------------------------------------------------\u001b[0m",
      "\u001b[1;31mValueError\u001b[0m                                Traceback (most recent call last)",
      "\u001b[1;32m<ipython-input-132-0a21fb3ca456>\u001b[0m in \u001b[0;36m<module>\u001b[1;34m\u001b[0m\n\u001b[0;32m      7\u001b[0m \u001b[1;32melif\u001b[0m \u001b[0mord\u001b[0m\u001b[1;33m(\u001b[0m\u001b[0ma\u001b[0m\u001b[1;33m)\u001b[0m \u001b[1;32min\u001b[0m \u001b[0mrange\u001b[0m\u001b[1;33m(\u001b[0m\u001b[0mord\u001b[0m\u001b[1;33m(\u001b[0m\u001b[1;34m\"A\"\u001b[0m\u001b[1;33m)\u001b[0m\u001b[1;33m,\u001b[0m\u001b[0mord\u001b[0m\u001b[1;33m(\u001b[0m\u001b[1;34m\"Z\"\u001b[0m\u001b[1;33m)\u001b[0m\u001b[1;33m)\u001b[0m\u001b[1;33m:\u001b[0m\u001b[1;33m\u001b[0m\u001b[1;33m\u001b[0m\u001b[0m\n\u001b[0;32m      8\u001b[0m     \u001b[0mprint\u001b[0m\u001b[1;33m(\u001b[0m\u001b[1;34m\"'a' is capital letter\"\u001b[0m\u001b[1;33m)\u001b[0m\u001b[1;33m\u001b[0m\u001b[1;33m\u001b[0m\u001b[0m\n\u001b[1;32m----> 9\u001b[1;33m \u001b[1;32melif\u001b[0m \u001b[0mint\u001b[0m\u001b[1;33m(\u001b[0m\u001b[0ma\u001b[0m\u001b[1;33m)\u001b[0m \u001b[1;32min\u001b[0m \u001b[0mrange\u001b[0m\u001b[1;33m(\u001b[0m\u001b[1;36m0\u001b[0m\u001b[1;33m,\u001b[0m\u001b[1;36m10\u001b[0m\u001b[1;33m)\u001b[0m\u001b[1;33m:\u001b[0m\u001b[1;33m\u001b[0m\u001b[1;33m\u001b[0m\u001b[0m\n\u001b[0m\u001b[0;32m     10\u001b[0m     \u001b[0mprint\u001b[0m\u001b[1;33m(\u001b[0m\u001b[1;34m\"'a' is number\"\u001b[0m\u001b[1;33m)\u001b[0m\u001b[1;33m\u001b[0m\u001b[1;33m\u001b[0m\u001b[0m\n\u001b[0;32m     11\u001b[0m \u001b[1;32melse\u001b[0m\u001b[1;33m:\u001b[0m\u001b[1;33m\u001b[0m\u001b[1;33m\u001b[0m\u001b[0m\n",
      "\u001b[1;31mValueError\u001b[0m: invalid literal for int() with base 10: '@'"
     ]
    }
   ],
   "source": [
    "''' 26. Take a letter from the user and print that letter belongs to which category \n",
    "    i.e. is it a small letter or capital letter or number or special symbol\n",
    "'''\n",
    "a = input(\"Enter a letter: \")\n",
    "if ord(a) in range(ord(\"a\"),ord(\"z\")):\n",
    "    print(\"'a' is small letter\")\n",
    "elif ord(a) in range(ord(\"A\"),ord(\"Z\")):\n",
    "    print(\"'a' is capital letter\")\n",
    "elif int(a) in range(0,10):\n",
    "    print(\"'a' is number\")\n",
    "else:\n",
    "    print(\"'a' is special symbol\")"
   ]
  },
  {
   "cell_type": "code",
   "execution_count": 188,
   "id": "2f75a181",
   "metadata": {},
   "outputs": [
    {
     "name": "stdout",
     "output_type": "stream",
     "text": [
      "Enter a Number: 23\n",
      "The entered number is a prime number..!!\n"
     ]
    }
   ],
   "source": [
    "''' 25. take a number from the user and check whether it is prime?\n",
    "'''\n",
    "a = int(input(\"Enter a Number: \"))\n",
    "if a in [1, 2]:\n",
    "        print(\"The entered number is a prime number..!!\")\n",
    "else:\n",
    "    count = 0\n",
    "    for i in range(2, a):\n",
    "        if a % i == 0:\n",
    "            print(\"The entered number is not a prime number..!!\")\n",
    "            break\n",
    "        else:\n",
    "            count += 1\n",
    "        \n",
    "        \n",
    "if (a-count) == 2:\n",
    "    print(\"The entered number is a prime number..!!\")\n"
   ]
  },
  {
   "cell_type": "code",
   "execution_count": null,
   "id": "6ed2ddb2",
   "metadata": {},
   "outputs": [],
   "source": []
  }
 ],
 "metadata": {
  "kernelspec": {
   "display_name": "Python 3",
   "language": "python",
   "name": "python3"
  },
  "language_info": {
   "codemirror_mode": {
    "name": "ipython",
    "version": 3
   },
   "file_extension": ".py",
   "mimetype": "text/x-python",
   "name": "python",
   "nbconvert_exporter": "python",
   "pygments_lexer": "ipython3",
   "version": "3.8.8"
  }
 },
 "nbformat": 4,
 "nbformat_minor": 5
}
