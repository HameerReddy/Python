{
 "cells": [
  {
   "cell_type": "code",
   "execution_count": 13,
   "id": "f1928a7e",
   "metadata": {},
   "outputs": [
    {
     "name": "stdout",
     "output_type": "stream",
     "text": [
      "enter a Name: Ayaansh Reddy\n",
      "enter the age in years only: 5\n",
      "enter the height: 3.5\n",
      "The details of the person are:- Name: Ayaansh Reddy , Age: 5 years, Height: 3.5 feet\n",
      "The details of the person are:- Name:Ayaansh Reddy, Age:5years, Height:3.5 feet\n"
     ]
    }
   ],
   "source": [
    "name= input(\"enter a Name: \")\n",
    "age= int(input(\"enter the age in years only: \"))\n",
    "height= float(input(\"enter the height: \"))\n",
    "#det= {\"Name:\", name, \"Age:\", age, \"Height:\", height}\n",
    "#print(det)\n",
    "print(\"The details of the person are:- Name:\",name,\", Age:\",age,\"years, Height:\",height,\"feet\")\n",
    "\n",
    "print(\"The details of the person are:- Name:\", end = '')\n",
    "print(name,end = '')\n",
    "print(\", Age:\",end = '')\n",
    "print(age,end = '')\n",
    "print(\"years, Height:\",end = '')\n",
    "print(height,\"feet\")\n",
    "\n"
   ]
  },
  {
   "cell_type": "code",
   "execution_count": null,
   "id": "2024bb51",
   "metadata": {},
   "outputs": [],
   "source": []
  }
 ],
 "metadata": {
  "kernelspec": {
   "display_name": "Python 3",
   "language": "python",
   "name": "python3"
  },
  "language_info": {
   "codemirror_mode": {
    "name": "ipython",
    "version": 3
   },
   "file_extension": ".py",
   "mimetype": "text/x-python",
   "name": "python",
   "nbconvert_exporter": "python",
   "pygments_lexer": "ipython3",
   "version": "3.8.8"
  }
 },
 "nbformat": 4,
 "nbformat_minor": 5
}
