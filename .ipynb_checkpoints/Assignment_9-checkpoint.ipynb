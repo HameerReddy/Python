{
 "cells": [
  {
   "cell_type": "code",
   "execution_count": 10,
   "id": "d58e3ff3",
   "metadata": {},
   "outputs": [
    {
     "name": "stdout",
     "output_type": "stream",
     "text": [
      "enter a Name: Ayaansh Reddy\n",
      "enter age in years only: 5\n",
      "enter height in feets: 3.5\n",
      "enter weight in Kgs: 16\n",
      "Name: Ayaansh Reddy , Age: 5 years, Height: 3.5 feet, Weight: 16.0\n",
      "Name:Ayaansh Reddy, Age:5 years, Height:3.500000 feet, Weight:16.000000\n"
     ]
    }
   ],
   "source": [
    "name= input(\"enter a Name: \")\n",
    "age= int(input(\"enter age in years only: \"))\n",
    "height= float(input(\"enter height in feets: \"))\n",
    "weight= float(input(\"enter weight in Kgs: \"))\n",
    "print(\"Name:\",name,\", Age:\",age,\"years, Height:\",height,\"feet, Weight:\",weight)\n",
    "#print(\"Name:%s\",%name,\", Age:%d\",%age,\"years, Height:%f\",%height,\"feet, Weight:%f\", %weight)\n",
    "print(\"Name:%s, Age:%d years, Height:%f feet, Weight:%f\" %(name, age, height, weight))\n"
   ]
  },
  {
   "cell_type": "code",
   "execution_count": 12,
   "id": "037a9f1d",
   "metadata": {},
   "outputs": [
    {
     "name": "stdout",
     "output_type": "stream",
     "text": [
      "Name:Ayaansh Reddy, Age:5 years, Height:3.500000 feet, Weight:16.000000\n"
     ]
    }
   ],
   "source": [
    "print(\"Name:%s, Age:%d years, Height:%f feet, Weight:%f\" %(name, age, height, weight))\n"
   ]
  },
  {
   "cell_type": "code",
   "execution_count": null,
   "id": "d1c70383",
   "metadata": {},
   "outputs": [],
   "source": []
  }
 ],
 "metadata": {
  "kernelspec": {
   "display_name": "Python 3",
   "language": "python",
   "name": "python3"
  },
  "language_info": {
   "codemirror_mode": {
    "name": "ipython",
    "version": 3
   },
   "file_extension": ".py",
   "mimetype": "text/x-python",
   "name": "python",
   "nbconvert_exporter": "python",
   "pygments_lexer": "ipython3",
   "version": "3.8.8"
  }
 },
 "nbformat": 4,
 "nbformat_minor": 5
}
