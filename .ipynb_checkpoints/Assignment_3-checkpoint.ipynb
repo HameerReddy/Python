{
 "cells": [
  {
   "cell_type": "code",
   "execution_count": 1,
   "id": "b59c3361",
   "metadata": {},
   "outputs": [
    {
     "name": "stdout",
     "output_type": "stream",
     "text": [
      "enter the temperature in degree celcius: 50\n",
      "Entered temperature value in degree fahrenheit is:  122.0\n"
     ]
    }
   ],
   "source": [
    "def temp_conve_C_to_F(a):\n",
    "    c=(a*(9/5))+32\n",
    "    return c\n",
    "\n",
    "\n",
    "temp_in_C=float(input(\"enter the temperature in degree celcius: \"))\n",
    "temp_in_F=temp_conve_C_to_F(temp_in_C)\n",
    "print(\"Entered temperature value in degree fahrenheit is: \", temp_in_F)"
   ]
  },
  {
   "cell_type": "code",
   "execution_count": 2,
   "id": "6e8ee693",
   "metadata": {},
   "outputs": [
    {
     "name": "stdout",
     "output_type": "stream",
     "text": [
      "enter the temperature in degree celcius: 0\n",
      "Entered temperature value in degree fahrenheit is:  32.0\n"
     ]
    }
   ],
   "source": [
    "def temp_conve_C_to_F(a):\n",
    "    c=(a*(9/5))+32\n",
    "    return c\n",
    "\n",
    "\n",
    "temp_in_C=float(input(\"enter the temperature in degree celcius: \"))\n",
    "temp_in_F=temp_conve_C_to_F(temp_in_C)\n",
    "print(\"Entered temperature value in degree fahrenheit is: \", temp_in_F)"
   ]
  },
  {
   "cell_type": "code",
   "execution_count": 3,
   "id": "d1d083f3",
   "metadata": {},
   "outputs": [
    {
     "name": "stdout",
     "output_type": "stream",
     "text": [
      "enter the temperature in degree celcius: -32\n",
      "Entered temperature value in degree fahrenheit is:  -25.6\n"
     ]
    }
   ],
   "source": [
    "def temp_conve_C_to_F(a):\n",
    "    c=(a*(9/5))+32\n",
    "    return c\n",
    "\n",
    "\n",
    "temp_in_C=float(input(\"enter the temperature in degree celcius: \"))\n",
    "temp_in_F=temp_conve_C_to_F(temp_in_C)\n",
    "print(\"Entered temperature value in degree fahrenheit is: \", temp_in_F)"
   ]
  },
  {
   "cell_type": "code",
   "execution_count": 6,
   "id": "16117ddd",
   "metadata": {},
   "outputs": [
    {
     "name": "stdout",
     "output_type": "stream",
     "text": [
      "enter the temperature in degree celcius: -17.77777777777778\n",
      "Entered temperature value in degree fahrenheit is:  0.0\n"
     ]
    }
   ],
   "source": [
    "def temp_conve_C_to_F(a):\n",
    "    c=(a*(9/5))+32\n",
    "    return c\n",
    "\n",
    "\n",
    "temp_in_C=float(input(\"enter the temperature in degree celcius: \"))\n",
    "temp_in_F=temp_conve_C_to_F(temp_in_C)\n",
    "print(\"Entered temperature value in degree fahrenheit is: \", temp_in_F)"
   ]
  },
  {
   "cell_type": "code",
   "execution_count": null,
   "id": "a3983e95",
   "metadata": {},
   "outputs": [],
   "source": []
  }
 ],
 "metadata": {
  "kernelspec": {
   "display_name": "Python 3",
   "language": "python",
   "name": "python3"
  },
  "language_info": {
   "codemirror_mode": {
    "name": "ipython",
    "version": 3
   },
   "file_extension": ".py",
   "mimetype": "text/x-python",
   "name": "python",
   "nbconvert_exporter": "python",
   "pygments_lexer": "ipython3",
   "version": "3.8.8"
  }
 },
 "nbformat": 4,
 "nbformat_minor": 5
}
