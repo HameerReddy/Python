{
 "cells": [
  {
   "cell_type": "code",
   "execution_count": 1,
   "id": "4d359f99",
   "metadata": {},
   "outputs": [
    {
     "name": "stdout",
     "output_type": "stream",
     "text": [
      "python <class 'str'> ['__add__', '__class__', '__contains__', '__delattr__', '__dir__', '__doc__', '__eq__', '__format__', '__ge__', '__getattribute__', '__getitem__', '__getnewargs__', '__gt__', '__hash__', '__init__', '__init_subclass__', '__iter__', '__le__', '__len__', '__lt__', '__mod__', '__mul__', '__ne__', '__new__', '__reduce__', '__reduce_ex__', '__repr__', '__rmod__', '__rmul__', '__setattr__', '__sizeof__', '__str__', '__subclasshook__', 'capitalize', 'casefold', 'center', 'count', 'encode', 'endswith', 'expandtabs', 'find', 'format', 'format_map', 'index', 'isalnum', 'isalpha', 'isascii', 'isdecimal', 'isdigit', 'isidentifier', 'islower', 'isnumeric', 'isprintable', 'isspace', 'istitle', 'isupper', 'join', 'ljust', 'lower', 'lstrip', 'maketrans', 'partition', 'replace', 'rfind', 'rindex', 'rjust', 'rpartition', 'rsplit', 'rstrip', 'split', 'splitlines', 'startswith', 'strip', 'swapcase', 'title', 'translate', 'upper', 'zfill']\n"
     ]
    }
   ],
   "source": [
    "s=\"python\"\n",
    "print(s, type(s), dir(s))"
   ]
  },
  {
   "cell_type": "code",
   "execution_count": 3,
   "id": "782b953d",
   "metadata": {},
   "outputs": [
    {
     "name": "stdout",
     "output_type": "stream",
     "text": [
      "durga\n",
      "software\n",
      "solutions\n"
     ]
    }
   ],
   "source": [
    "s='''durga\n",
    "software\n",
    "solutions'''\n",
    "print(s)"
   ]
  },
  {
   "cell_type": "code",
   "execution_count": 4,
   "id": "617e0886",
   "metadata": {},
   "outputs": [
    {
     "name": "stdout",
     "output_type": "stream",
     "text": [
      "This is ' single quote symbol\n"
     ]
    }
   ],
   "source": [
    "s='This is \\' single quote symbol'\n",
    "print(s)"
   ]
  },
  {
   "cell_type": "code",
   "execution_count": 7,
   "id": "ab3f7ce6",
   "metadata": {},
   "outputs": [
    {
     "name": "stdout",
     "output_type": "stream",
     "text": [
      "Enter a string: HameerSinghKeesari\n",
      "string char is H, its forward index is 0, and its backward index is: -18\n",
      "string char is a, its forward index is 1, and its backward index is: -17\n",
      "string char is m, its forward index is 2, and its backward index is: -16\n",
      "string char is e, its forward index is 3, and its backward index is: -15\n",
      "string char is e, its forward index is 4, and its backward index is: -14\n",
      "string char is r, its forward index is 5, and its backward index is: -13\n",
      "string char is S, its forward index is 6, and its backward index is: -12\n",
      "string char is i, its forward index is 7, and its backward index is: -11\n",
      "string char is n, its forward index is 8, and its backward index is: -10\n",
      "string char is g, its forward index is 9, and its backward index is: -9\n",
      "string char is h, its forward index is 10, and its backward index is: -8\n",
      "string char is K, its forward index is 11, and its backward index is: -7\n",
      "string char is e, its forward index is 12, and its backward index is: -6\n",
      "string char is e, its forward index is 13, and its backward index is: -5\n",
      "string char is s, its forward index is 14, and its backward index is: -4\n",
      "string char is a, its forward index is 15, and its backward index is: -3\n",
      "string char is r, its forward index is 16, and its backward index is: -2\n",
      "string char is i, its forward index is 17, and its backward index is: -1\n"
     ]
    }
   ],
   "source": [
    "s = input(\"Enter a string: \")\n",
    "counter = 0\n",
    "count = -len(s)\n",
    "for i in s:\n",
    "    print(f\"string char is {i}, its forward index is {counter}, and its backward index is: {count}\")\n",
    "    counter += 1\n",
    "    count += 1"
   ]
  },
  {
   "cell_type": "code",
   "execution_count": 8,
   "id": "b8c5f56e",
   "metadata": {},
   "outputs": [
    {
     "name": "stdout",
     "output_type": "stream",
     "text": [
      "durgasoft\n",
      "durgadurga\n"
     ]
    }
   ],
   "source": [
    "print(\"durga\"+\"soft\") #durgasoft\n",
    "print(\"durga\"*2) #durgadurga"
   ]
  },
  {
   "cell_type": "code",
   "execution_count": 9,
   "id": "dbbf7599",
   "metadata": {},
   "outputs": [
    {
     "name": "stdout",
     "output_type": "stream",
     "text": [
      "durgasoft\n",
      "durgadurgadurgadurga\n"
     ]
    }
   ],
   "source": [
    "print(\"durga\"+\"soft\") #durgasoft\n",
    "print(\"durga\"*4) #durgadurga"
   ]
  },
  {
   "cell_type": "code",
   "execution_count": 11,
   "id": "3e52667b",
   "metadata": {},
   "outputs": [
    {
     "name": "stdout",
     "output_type": "stream",
     "text": [
      "Forward direction\n",
      "L e a r n i n g   P y t h o n   i s   v e r y   e a s y   ! ! ! \n",
      "Backward direction\n",
      "! ! !   y s a e   y r e v   s i   n o h t y P   g n i n r a e L "
     ]
    }
   ],
   "source": [
    "s=\"Learning Python is very easy !!!\"\n",
    "n=len(s)\n",
    "i=0\n",
    "print(\"Forward direction\")\n",
    "while i<n:\n",
    "    print(s[i],end=' ')\n",
    "    i +=1\n",
    "print(\"\\nBackward direction\")\n",
    "i=-1\n",
    "while i>=-n:\n",
    "    print(s[i],end=' ')\n",
    "    i=i-1"
   ]
  },
  {
   "cell_type": "code",
   "execution_count": 12,
   "id": "cad3147d",
   "metadata": {},
   "outputs": [
    {
     "name": "stdout",
     "output_type": "stream",
     "text": [
      "False\n",
      "True\n",
      "True\n"
     ]
    }
   ],
   "source": [
    "s = \"durga\"\n",
    "print(\"D\" in s)\n",
    "print(\"d\" in s)\n",
    "print(\"g\" in s)\n"
   ]
  },
  {
   "cell_type": "code",
   "execution_count": 15,
   "id": "c153d6e6",
   "metadata": {},
   "outputs": [
    {
     "name": "stdout",
     "output_type": "stream",
     "text": [
      "Enter a string:durgasoftwaresolutions\n",
      "Enter a sub string:durga\n",
      "The sub string is in the source string...!!!\n"
     ]
    }
   ],
   "source": [
    "s = input(\"Enter a string:\")\n",
    "sub = input(\"Enter a sub string:\")\n",
    "if sub in s:\n",
    "    print(\"The sub string is in the source string...!!!\")\n",
    "else:\n",
    "    print(\"The sub string is not in the source string..!!!\")"
   ]
  },
  {
   "cell_type": "code",
   "execution_count": 16,
   "id": "3e2824e4",
   "metadata": {},
   "outputs": [
    {
     "name": "stdout",
     "output_type": "stream",
     "text": [
      "Enter a string:durga software solutions\n",
      "Enter a sub string:durga\n",
      "The sub string is in the source string...!!!\n"
     ]
    }
   ],
   "source": [
    "s = input(\"Enter a string:\")\n",
    "sub = input(\"Enter a sub string:\")\n",
    "if sub in s:\n",
    "    print(\"The sub string is in the source string...!!!\")\n",
    "else:\n",
    "    print(\"The sub string is not in the source string..!!!\")"
   ]
  },
  {
   "cell_type": "code",
   "execution_count": 17,
   "id": "67b021ca",
   "metadata": {},
   "outputs": [
    {
     "name": "stdout",
     "output_type": "stream",
     "text": [
      "Enter a string:durga software solutions\n",
      "Enter a sub string: \n",
      "The sub string is in the source string...!!!\n"
     ]
    }
   ],
   "source": [
    "s = input(\"Enter a string:\")\n",
    "sub = input(\"Enter a sub string:\")\n",
    "if sub in s:\n",
    "    print(\"The sub string is in the source string...!!!\")\n",
    "else:\n",
    "    print(\"The sub string is not in the source string..!!!\")"
   ]
  },
  {
   "cell_type": "code",
   "execution_count": 18,
   "id": "383d7aff",
   "metadata": {},
   "outputs": [
    {
     "name": "stdout",
     "output_type": "stream",
     "text": [
      "Enter a string:durga software solutions\n",
      "Enter a sub string:ga software\n",
      "The sub string is in the source string...!!!\n"
     ]
    }
   ],
   "source": [
    "s = input(\"Enter a string:\")\n",
    "sub = input(\"Enter a sub string:\")\n",
    "if sub in s:\n",
    "    print(\"The sub string is in the source string...!!!\")\n",
    "else:\n",
    "    print(\"The sub string is not in the source string..!!!\")\n",
    "    "
   ]
  },
  {
   "cell_type": "code",
   "execution_count": 19,
   "id": "ec91ae1b",
   "metadata": {},
   "outputs": [
    {
     "name": "stdout",
     "output_type": "stream",
     "text": [
      "Enter a string:durga software solutions\n",
      "Enter a sub string:hameer\n",
      "The sub string is not in the source string..!!!\n"
     ]
    }
   ],
   "source": [
    "s = input(\"Enter a string:\")\n",
    "sub = input(\"Enter a sub string:\")\n",
    "if sub in s:\n",
    "    print(\"The sub string is in the source string...!!!\")\n",
    "else:\n",
    "    print(\"The sub string is not in the source string..!!!\")"
   ]
  },
  {
   "cell_type": "code",
   "execution_count": 23,
   "id": "d37c97b7",
   "metadata": {},
   "outputs": [
    {
     "name": "stdout",
     "output_type": "stream",
     "text": [
      "Enter first string: hameer\n",
      "Enter second string: ham\n",
      "first string is bigger than second string...!!\n"
     ]
    }
   ],
   "source": [
    "s1 = input(\"Enter first string: \")\n",
    "s2 = input(\"Enter second string: \")\n",
    "if s1 == s2:\n",
    "    print(\"Both strings are equal...!!\")\n",
    "elif s1 >= s2:\n",
    "    print(\"first string is bigger than second string...!!\")\n",
    "elif s2 >= s1:\n",
    "    print(\"first string is smaller than second string...!!\")"
   ]
  },
  {
   "cell_type": "code",
   "execution_count": 24,
   "id": "ec57b3fc",
   "metadata": {},
   "outputs": [
    {
     "name": "stdout",
     "output_type": "stream",
     "text": [
      "Enter first string: hameer\n",
      "Enter second string: hashmi\n",
      "first string is smaller than second string...!!\n"
     ]
    }
   ],
   "source": [
    "s1 = input(\"Enter first string: \")\n",
    "s2 = input(\"Enter second string: \")\n",
    "if s1 == s2:\n",
    "    print(\"Both strings are equal...!!\")\n",
    "elif s1 >= s2:\n",
    "    print(\"first string is bigger than second string...!!\")\n",
    "elif s2 >= s1:\n",
    "    print(\"first string is smaller than second string...!!\")"
   ]
  },
  {
   "cell_type": "code",
   "execution_count": 25,
   "id": "d183950a",
   "metadata": {},
   "outputs": [
    {
     "name": "stdout",
     "output_type": "stream",
     "text": [
      "Enter first string: hameer\n",
      "Enter second string: nimmi\n",
      "first string is smaller than second string...!!\n"
     ]
    }
   ],
   "source": [
    "s1 = input(\"Enter first string: \")\n",
    "s2 = input(\"Enter second string: \")\n",
    "if s1 == s2:\n",
    "    print(\"Both strings are equal...!!\")\n",
    "elif s1 >= s2:\n",
    "    print(\"first string is bigger than second string...!!\")\n",
    "elif s2 >= s1:\n",
    "    print(\"first string is smaller than second string...!!\")"
   ]
  },
  {
   "cell_type": "code",
   "execution_count": 26,
   "id": "13d48110",
   "metadata": {},
   "outputs": [
    {
     "name": "stdout",
     "output_type": "stream",
     "text": [
      "Enter first string: hameer\n",
      "Enter second string: ayaansh\n",
      "first string is bigger than second string...!!\n"
     ]
    }
   ],
   "source": [
    "s1 = input(\"Enter first string: \")\n",
    "s2 = input(\"Enter second string: \")\n",
    "if s1 == s2:\n",
    "    print(\"Both strings are equal...!!\")\n",
    "elif s1 >= s2:\n",
    "    print(\"first string is bigger than second string...!!\")\n",
    "elif s2 >= s1:\n",
    "    print(\"first string is smaller than second string...!!\")"
   ]
  },
  {
   "cell_type": "code",
   "execution_count": 27,
   "id": "53858c18",
   "metadata": {},
   "outputs": [
    {
     "name": "stdout",
     "output_type": "stream",
     "text": [
      "['__add__', '__class__', '__contains__', '__delattr__', '__dir__', '__doc__', '__eq__', '__format__', '__ge__', '__getattribute__', '__getitem__', '__getnewargs__', '__gt__', '__hash__', '__init__', '__init_subclass__', '__iter__', '__le__', '__len__', '__lt__', '__mod__', '__mul__', '__ne__', '__new__', '__reduce__', '__reduce_ex__', '__repr__', '__rmod__', '__rmul__', '__setattr__', '__sizeof__', '__str__', '__subclasshook__', 'capitalize', 'casefold', 'center', 'count', 'encode', 'endswith', 'expandtabs', 'find', 'format', 'format_map', 'index', 'isalnum', 'isalpha', 'isascii', 'isdecimal', 'isdigit', 'isidentifier', 'islower', 'isnumeric', 'isprintable', 'isspace', 'istitle', 'isupper', 'join', 'ljust', 'lower', 'lstrip', 'maketrans', 'partition', 'replace', 'rfind', 'rindex', 'rjust', 'rpartition', 'rsplit', 'rstrip', 'split', 'splitlines', 'startswith', 'strip', 'swapcase', 'title', 'translate', 'upper', 'zfill']\n"
     ]
    }
   ],
   "source": [
    "s=\"python\"\n",
    "print(dir(s))"
   ]
  },
  {
   "cell_type": "code",
   "execution_count": 38,
   "id": "870c1d0c",
   "metadata": {},
   "outputs": [
    {
     "name": "stdout",
     "output_type": "stream",
     "text": [
      "s.rstrip() is: ('    4 spaces before and 5 spaces after the string', 49)\n",
      "s.lstrip() is: ('4 spaces before and 5 spaces after the string     ', 50)\n",
      "s.strip() is: ('4 spaces before and 5 spaces after the string', 45)\n"
     ]
    }
   ],
   "source": [
    "# strip, lstrip, & rstrip\n",
    "s = \"    4 spaces before and 5 spaces after the string     \"\n",
    "print(f\"s.rstrip() is: {s.rstrip(), len(s.rstrip())}\\ns.lstrip() is: {s.lstrip(),len(s.lstrip())}\\ns.strip() is: {s.strip(),len(s.strip())}\")"
   ]
  },
  {
   "cell_type": "code",
   "execution_count": 31,
   "id": "e25b236b",
   "metadata": {},
   "outputs": [],
   "source": [
    "s.rstrip?"
   ]
  },
  {
   "cell_type": "code",
   "execution_count": 61,
   "id": "d6c0b196",
   "metadata": {},
   "outputs": [
    {
     "name": "stdout",
     "output_type": "stream",
     "text": [
      "s.find('hello') is: 5\n",
      "s.find('h') is: 0\n",
      "s.find('i..') is: 1\n",
      "s.find('.. ') is: 2\n",
      "s.find(' ho') is: 12\n",
      "s.find(' h') is: 4\n",
      "s.find('AMMI') is: -1\n"
     ]
    }
   ],
   "source": [
    "# find, index, rfind, rindex\n",
    "s = \"hi.. hello.. how are you???\"\n",
    "print(f\"s.find('hello') is: {s.find('hello')}\")\n",
    "print(f\"s.find('h') is: {s.find('h')}\")\n",
    "print(f\"s.find('i..') is: {s.find('i..')}\")\n",
    "print(f\"s.find('.. ') is: {s.find('.. ')}\")\n",
    "print(f\"s.find(' ho') is: {s.find(' ho')}\")\n",
    "print(f\"s.find(' h') is: {s.find(' h')}\")\n",
    "print(f\"s.find('AMMI') is: {s.find('AMMI')}\")"
   ]
  },
  {
   "cell_type": "code",
   "execution_count": 65,
   "id": "daa4476c",
   "metadata": {},
   "outputs": [
    {
     "name": "stdout",
     "output_type": "stream",
     "text": [
      "s.find('hello') is: 5\n",
      "s.find('h') is: 5\n",
      "s.find('i..') is: -1\n",
      "s.find('.. ') is: 10\n",
      "s.find(' ho') is: 12\n",
      "s.find(' h') is: 12\n",
      "s.find('AMMI') is: -1\n"
     ]
    }
   ],
   "source": [
    "# find, index, rfind, rindex\n",
    "s = \"hi.. hello.. how are you???\"\n",
    "print(f\"s.find('hello') is: {s.find('hello',5,27)}\")\n",
    "print(f\"s.find('h') is: {s.find('h',5,27)}\")\n",
    "print(f\"s.find('i..') is: {s.find('i..',5,27)}\")\n",
    "print(f\"s.find('.. ') is: {s.find('.. ',5,27)}\")\n",
    "print(f\"s.find(' ho') is: {s.find(' ho',5,27)}\")\n",
    "print(f\"s.find(' h') is: {s.find(' h',5,27)}\")\n",
    "print(f\"s.find('AMMI') is: {s.find('AMMI',5,27)}\")"
   ]
  },
  {
   "cell_type": "code",
   "execution_count": 64,
   "id": "0951af03",
   "metadata": {},
   "outputs": [
    {
     "data": {
      "text/plain": [
       "27"
      ]
     },
     "execution_count": 64,
     "metadata": {},
     "output_type": "execute_result"
    }
   ],
   "source": [
    "len(s)"
   ]
  },
  {
   "cell_type": "code",
   "execution_count": 66,
   "id": "1f593209",
   "metadata": {},
   "outputs": [
    {
     "name": "stdout",
     "output_type": "stream",
     "text": [
      "s.index('hello') is: 5\n",
      "s.index('h') is: 0\n",
      "s.index('i..') is: 1\n",
      "s.index('.. ') is: 2\n",
      "s.index(' ho') is: 12\n",
      "s.index(' h') is: 4\n"
     ]
    },
    {
     "ename": "ValueError",
     "evalue": "substring not found",
     "output_type": "error",
     "traceback": [
      "\u001b[1;31m---------------------------------------------------------------------------\u001b[0m",
      "\u001b[1;31mValueError\u001b[0m                                Traceback (most recent call last)",
      "\u001b[1;32m<ipython-input-66-358c671209b5>\u001b[0m in \u001b[0;36m<module>\u001b[1;34m\u001b[0m\n\u001b[0;32m      7\u001b[0m \u001b[0mprint\u001b[0m\u001b[1;33m(\u001b[0m\u001b[1;34mf\"s.index(' ho') is: {s.index(' ho')}\"\u001b[0m\u001b[1;33m)\u001b[0m\u001b[1;33m\u001b[0m\u001b[1;33m\u001b[0m\u001b[0m\n\u001b[0;32m      8\u001b[0m \u001b[0mprint\u001b[0m\u001b[1;33m(\u001b[0m\u001b[1;34mf\"s.index(' h') is: {s.index(' h')}\"\u001b[0m\u001b[1;33m)\u001b[0m\u001b[1;33m\u001b[0m\u001b[1;33m\u001b[0m\u001b[0m\n\u001b[1;32m----> 9\u001b[1;33m \u001b[0mprint\u001b[0m\u001b[1;33m(\u001b[0m\u001b[1;34mf\"s.index('AMMI') is: {s.index('AMMI')}\"\u001b[0m\u001b[1;33m)\u001b[0m\u001b[1;33m\u001b[0m\u001b[1;33m\u001b[0m\u001b[0m\n\u001b[0m",
      "\u001b[1;31mValueError\u001b[0m: substring not found"
     ]
    }
   ],
   "source": [
    "# find, index, rfind, rindex\n",
    "s = \"hi.. hello.. how are you???\"\n",
    "print(f\"s.index('hello') is: {s.index('hello')}\")\n",
    "print(f\"s.index('h') is: {s.index('h')}\")\n",
    "print(f\"s.index('i..') is: {s.index('i..')}\")\n",
    "print(f\"s.index('.. ') is: {s.index('.. ')}\")\n",
    "print(f\"s.index(' ho') is: {s.index(' ho')}\")\n",
    "print(f\"s.index(' h') is: {s.index(' h')}\")\n",
    "print(f\"s.index('AMMI') is: {s.index('AMMI')}\")"
   ]
  },
  {
   "cell_type": "code",
   "execution_count": 68,
   "id": "f2bf6b83",
   "metadata": {},
   "outputs": [
    {
     "name": "stdout",
     "output_type": "stream",
     "text": [
      "s.index('hello') is: 5\n",
      "s.index('h') is: 5\n",
      "s.index('.. ') is: 10\n",
      "s.index(' ho') is: 12\n",
      "s.index(' h') is: 12\n"
     ]
    },
    {
     "ename": "ValueError",
     "evalue": "substring not found",
     "output_type": "error",
     "traceback": [
      "\u001b[1;31m---------------------------------------------------------------------------\u001b[0m",
      "\u001b[1;31mValueError\u001b[0m                                Traceback (most recent call last)",
      "\u001b[1;32m<ipython-input-68-2b55340c38aa>\u001b[0m in \u001b[0;36m<module>\u001b[1;34m\u001b[0m\n\u001b[0;32m      7\u001b[0m \u001b[0mprint\u001b[0m\u001b[1;33m(\u001b[0m\u001b[1;34mf\"s.index(' ho') is: {s.index(' ho',5,27)}\"\u001b[0m\u001b[1;33m)\u001b[0m\u001b[1;33m\u001b[0m\u001b[1;33m\u001b[0m\u001b[0m\n\u001b[0;32m      8\u001b[0m \u001b[0mprint\u001b[0m\u001b[1;33m(\u001b[0m\u001b[1;34mf\"s.index(' h') is: {s.index(' h',5,27)}\"\u001b[0m\u001b[1;33m)\u001b[0m\u001b[1;33m\u001b[0m\u001b[1;33m\u001b[0m\u001b[0m\n\u001b[1;32m----> 9\u001b[1;33m \u001b[0mprint\u001b[0m\u001b[1;33m(\u001b[0m\u001b[1;34mf\"s.index('AMMI') is: {s.index('AMMI',5,27)}\"\u001b[0m\u001b[1;33m)\u001b[0m\u001b[1;33m\u001b[0m\u001b[1;33m\u001b[0m\u001b[0m\n\u001b[0m",
      "\u001b[1;31mValueError\u001b[0m: substring not found"
     ]
    }
   ],
   "source": [
    "# find, index, rfind, rindex\n",
    "s = \"hi.. hello.. how are you???\"\n",
    "print(f\"s.index('hello') is: {s.index('hello',5,27)}\")\n",
    "print(f\"s.index('h') is: {s.index('h',5,27)}\")\n",
    "#print(f\"s.index('i..') is: {s.index('i..',5,27)}\") ## It shows Error\n",
    "print(f\"s.index('.. ') is: {s.index('.. ',5,27)}\")\n",
    "print(f\"s.index(' ho') is: {s.index(' ho',5,27)}\")\n",
    "print(f\"s.index(' h') is: {s.index(' h',5,27)}\")\n",
    "print(f\"s.index('AMMI') is: {s.index('AMMI',5,27)}\") ## It shows Error"
   ]
  },
  {
   "cell_type": "code",
   "execution_count": 73,
   "id": "9740c452",
   "metadata": {},
   "outputs": [
    {
     "name": "stdout",
     "output_type": "stream",
     "text": [
      "Enter main string:asdasdasdasdasdasdasdasdasdasd\n",
      "Enter sub string:s\n",
      "Found at position 1\n",
      "Found at position 4\n",
      "Found at position 7\n",
      "Found at position 10\n",
      "Found at position 13\n",
      "Found at position 16\n",
      "Found at position 19\n",
      "Found at position 22\n",
      "Found at position 25\n",
      "Found at position 28\n"
     ]
    }
   ],
   "source": [
    "s=input(\"Enter main string:\")\n",
    "subs=input(\"Enter sub string:\")\n",
    "flag=False\n",
    "pos=-1\n",
    "n=len(s)\n",
    "while True:\n",
    "    pos=s.find(subs,pos+1,n)\n",
    "    if pos==-1:\n",
    "        break\n",
    "    print(\"Found at position\",pos)\n",
    "    flag=True\n",
    "if flag==False:\n",
    "    print(\"Not Found\")"
   ]
  },
  {
   "cell_type": "code",
   "execution_count": 83,
   "id": "712f4d27",
   "metadata": {},
   "outputs": [
    {
     "name": "stdout",
     "output_type": "stream",
     "text": [
      "Enter main string:aaasssdsddfdffd\n",
      "Enter sub string:ad\n",
      "Not Found\n"
     ]
    }
   ],
   "source": [
    "s=input(\"Enter main string:\")\n",
    "subs=input(\"Enter sub string:\")\n",
    "flag=False\n",
    "pos=-1\n",
    "n=len(s)\n",
    "while True:\n",
    "    pos=s.find(subs,pos+1,n)\n",
    "    if pos==-1:\n",
    "        break\n",
    "    print(\"Found at position\",pos)\n",
    "    flag=True\n",
    "if flag==False:\n",
    "    print(\"Not Found\")"
   ]
  },
  {
   "cell_type": "code",
   "execution_count": 79,
   "id": "5b49f94f",
   "metadata": {},
   "outputs": [
    {
     "name": "stdout",
     "output_type": "stream",
     "text": [
      "s.rfind('hello') is: 5\n",
      "s.rfind('h') is: 13\n",
      "s.rfind('i..') is: 1\n",
      "s.rfind('.. ') is: 10\n",
      "s.rfind(' ho') is: 12\n",
      "s.rfind(' h') is: 12\n",
      "s.rfind('AMMI') is: -1\n"
     ]
    }
   ],
   "source": [
    "# find, index, rfind, rindex\n",
    "'''\n",
    "S.rfind(sub[, start[, end]]) -> int\n",
    "Return the highest index in S where substring sub is found,\n",
    "such that sub is contained within S[start:end].  Optional\n",
    "arguments start and end are interpreted as in slice notation.\n",
    "'''\n",
    "s = \"hi.. hello.. how are you???\"\n",
    "print(f\"s.rfind('hello') is: {s.rfind('hello')}\")\n",
    "print(f\"s.rfind('h') is: {s.rfind('h')}\")\n",
    "print(f\"s.rfind('i..') is: {s.rfind('i..')}\")\n",
    "print(f\"s.rfind('.. ') is: {s.rfind('.. ')}\")\n",
    "print(f\"s.rfind(' ho') is: {s.rfind(' ho')}\")\n",
    "print(f\"s.rfind(' h') is: {s.rfind(' h')}\")\n",
    "print(f\"s.rfind('AMMI') is: {s.rfind('AMMI')}\")"
   ]
  },
  {
   "cell_type": "code",
   "execution_count": 78,
   "id": "ae14a6f8",
   "metadata": {},
   "outputs": [
    {
     "name": "stdout",
     "output_type": "stream",
     "text": [
      "s.find('hello') is: 5\n",
      "s.find('h') is: 0\n",
      "s.find('i..') is: 1\n",
      "s.find('.. ') is: 2\n",
      "s.find(' ho') is: 12\n",
      "s.find(' h') is: 4\n",
      "s.find('AMMI') is: -1\n"
     ]
    }
   ],
   "source": [
    "# find, index, rfind, rindex\n",
    "s = \"hi.. hello.. how are you???\"\n",
    "print(f\"s.find('hello') is: {s.find('hello')}\")\n",
    "print(f\"s.find('h') is: {s.find('h')}\")\n",
    "print(f\"s.find('i..') is: {s.find('i..')}\")\n",
    "print(f\"s.find('.. ') is: {s.find('.. ')}\")\n",
    "print(f\"s.find(' ho') is: {s.find(' ho')}\")\n",
    "print(f\"s.find(' h') is: {s.find(' h')}\")\n",
    "print(f\"s.find('AMMI') is: {s.find('AMMI')}\")"
   ]
  },
  {
   "cell_type": "code",
   "execution_count": 77,
   "id": "ce4147f7",
   "metadata": {},
   "outputs": [],
   "source": [
    "s.rfind?"
   ]
  },
  {
   "cell_type": "code",
   "execution_count": 80,
   "id": "07bcd037",
   "metadata": {},
   "outputs": [
    {
     "name": "stdout",
     "output_type": "stream",
     "text": [
      "s.rindex('hello') is: 5\n",
      "s.rindex('h') is: 13\n",
      "s.rindex('i..') is: 1\n",
      "s.rindex('.. ') is: 10\n",
      "s.rindex(' ho') is: 12\n",
      "s.rindex(' h') is: 12\n"
     ]
    },
    {
     "ename": "ValueError",
     "evalue": "substring not found",
     "output_type": "error",
     "traceback": [
      "\u001b[1;31m---------------------------------------------------------------------------\u001b[0m",
      "\u001b[1;31mValueError\u001b[0m                                Traceback (most recent call last)",
      "\u001b[1;32m<ipython-input-80-dac4da0ea9cd>\u001b[0m in \u001b[0;36m<module>\u001b[1;34m\u001b[0m\n\u001b[0;32m      7\u001b[0m \u001b[0mprint\u001b[0m\u001b[1;33m(\u001b[0m\u001b[1;34mf\"s.rindex(' ho') is: {s.rindex(' ho')}\"\u001b[0m\u001b[1;33m)\u001b[0m\u001b[1;33m\u001b[0m\u001b[1;33m\u001b[0m\u001b[0m\n\u001b[0;32m      8\u001b[0m \u001b[0mprint\u001b[0m\u001b[1;33m(\u001b[0m\u001b[1;34mf\"s.rindex(' h') is: {s.rindex(' h')}\"\u001b[0m\u001b[1;33m)\u001b[0m\u001b[1;33m\u001b[0m\u001b[1;33m\u001b[0m\u001b[0m\n\u001b[1;32m----> 9\u001b[1;33m \u001b[0mprint\u001b[0m\u001b[1;33m(\u001b[0m\u001b[1;34mf\"s.rindex('AMMI') is: {s.rindex('AMMI')}\"\u001b[0m\u001b[1;33m)\u001b[0m\u001b[1;33m\u001b[0m\u001b[1;33m\u001b[0m\u001b[0m\n\u001b[0m",
      "\u001b[1;31mValueError\u001b[0m: substring not found"
     ]
    }
   ],
   "source": [
    "# find, index, rfind, rindex\n",
    "'''\n",
    "S.rindex(sub[, start[, end]]) -> int\n",
    "Return the highest index in S where substring sub is found,\n",
    "such that sub is contained within S[start:end].  Optional\n",
    "arguments start and end are interpreted as in slice notation.\n",
    "'''\n",
    "s = \"hi.. hello.. how are you???\"\n",
    "print(f\"s.rindex('hello') is: {s.rindex('hello')}\")\n",
    "print(f\"s.rindex('h') is: {s.rindex('h')}\")\n",
    "print(f\"s.rindex('i..') is: {s.rindex('i..')}\")\n",
    "print(f\"s.rindex('.. ') is: {s.rindex('.. ')}\")\n",
    "print(f\"s.rindex(' ho') is: {s.rindex(' ho')}\")\n",
    "print(f\"s.rindex(' h') is: {s.rindex(' h')}\")\n",
    "print(f\"s.rindex('AMMI') is: {s.rindex('AMMI')}\")"
   ]
  },
  {
   "cell_type": "code",
   "execution_count": 81,
   "id": "cf3f98d5",
   "metadata": {},
   "outputs": [],
   "source": [
    "s.rindex?"
   ]
  },
  {
   "cell_type": "code",
   "execution_count": 86,
   "id": "2ebed5b7",
   "metadata": {},
   "outputs": [
    {
     "name": "stdout",
     "output_type": "stream",
     "text": [
      "s.count('hello') is: 1\n",
      "s.count('h') is: 3\n",
      "s.count('i..') is: 1\n",
      "s.count('.. ') is: 2\n",
      "s.count(' ho') is: 1\n",
      "s.count(' h') is: 2\n",
      "s.count('AMMI') is: 0\n"
     ]
    }
   ],
   "source": [
    "s = \"hi.. hello.. how are you???\"\n",
    "# print(f\"s.count() is: {s.count()}\") #TypeError: count() takes at least 1 argument (0 given)\n",
    "print(f\"s.count('hello') is: {s.count('hello')}\")\n",
    "print(f\"s.count('h') is: {s.count('h')}\")\n",
    "print(f\"s.count('i..') is: {s.count('i..')}\")\n",
    "print(f\"s.count('.. ') is: {s.count('.. ')}\")\n",
    "print(f\"s.count(' ho') is: {s.count(' ho')}\")\n",
    "print(f\"s.count(' h') is: {s.count(' h')}\")\n",
    "print(f\"s.count('AMMI') is: {s.count('AMMI')}\")"
   ]
  },
  {
   "cell_type": "code",
   "execution_count": 87,
   "id": "a7bf9905",
   "metadata": {},
   "outputs": [
    {
     "name": "stdout",
     "output_type": "stream",
     "text": [
      "s.count('hello') is: 1\n",
      "s.count('h') is: 2\n",
      "s.count('i..') is: 0\n",
      "s.count('.. ') is: 1\n",
      "s.count(' ho') is: 1\n",
      "s.count(' h') is: 1\n",
      "s.count('AMMI') is: 0\n"
     ]
    }
   ],
   "source": [
    "s = \"hi.. hello.. how are you???\"\n",
    "# print(f\"s.count() is: {s.count()}\") #TypeError: count() takes at least 1 argument (0 given)\n",
    "print(f\"s.count('hello') is: {s.count('hello',5,27)}\")\n",
    "print(f\"s.count('h') is: {s.count('h',5,27)}\")\n",
    "print(f\"s.count('i..') is: {s.count('i..',5,27)}\")\n",
    "print(f\"s.count('.. ') is: {s.count('.. ',5,27)}\")\n",
    "print(f\"s.count(' ho') is: {s.count(' ho',5,27)}\")\n",
    "print(f\"s.count(' h') is: {s.count(' h',5,27)}\")\n",
    "print(f\"s.count('AMMI') is: {s.count('AMMI',5,27)}\")"
   ]
  },
  {
   "cell_type": "code",
   "execution_count": 88,
   "id": "793d10fb",
   "metadata": {},
   "outputs": [
    {
     "data": {
      "text/plain": [
       "'Hi.. hello.. how are you???'"
      ]
     },
     "execution_count": 88,
     "metadata": {},
     "output_type": "execute_result"
    }
   ],
   "source": [
    "s = \"hi.. hello.. how are you???\"\n",
    "s.replace(\"hi\", \"Hi\")"
   ]
  },
  {
   "cell_type": "code",
   "execution_count": 89,
   "id": "94dec90e",
   "metadata": {},
   "outputs": [
    {
     "data": {
      "text/plain": [
       "'Hi.. Hello.. How are you???'"
      ]
     },
     "execution_count": 89,
     "metadata": {},
     "output_type": "execute_result"
    }
   ],
   "source": [
    "s = \"hi.. hello.. how are you???\"\n",
    "s.replace(\"h\", \"H\")"
   ]
  },
  {
   "cell_type": "code",
   "execution_count": 94,
   "id": "f9cb9a1d",
   "metadata": {},
   "outputs": [
    {
     "name": "stdout",
     "output_type": "stream",
     "text": [
      "s=hi.. hello.. how are you??? and its id is 2755326969696\n",
      "s1=Hi.. Hello.. How are you??? and its id is 2755326969216\n"
     ]
    }
   ],
   "source": [
    "s = \"hi.. hello.. how are you???\"\n",
    "s1=s.replace(\"h\", \"H\")\n",
    "print(f\"s={s} and its id is {id(s)}\")\n",
    "print(f\"s1={s1} and its id is {id(s1)}\")"
   ]
  },
  {
   "cell_type": "code",
   "execution_count": 100,
   "id": "20cb865d",
   "metadata": {},
   "outputs": [
    {
     "name": "stdout",
     "output_type": "stream",
     "text": [
      "S befor is: hi.. hello.. how are you???, \n",
      "s after is: ['hi..', 'hello..', 'how', 'are', 'you???']\n"
     ]
    }
   ],
   "source": [
    "s = \"hi.. hello.. how are you???\"\n",
    "s1=s.split()\n",
    "print(f\"S befor is: {s}, \\ns after is: {s1}\")"
   ]
  },
  {
   "cell_type": "code",
   "execution_count": 101,
   "id": "33b9dd8a",
   "metadata": {},
   "outputs": [
    {
     "name": "stdout",
     "output_type": "stream",
     "text": [
      "S befor is: hi.. hello.. how are you???, \n",
      "s after is: ['', 'i.. ', 'ello.. ', 'ow are you???']\n"
     ]
    }
   ],
   "source": [
    "s = \"hi.. hello.. how are you???\"\n",
    "s1=s.split(\"h\")\n",
    "print(f\"S befor is: {s}, \\ns after is: {s1}\")"
   ]
  },
  {
   "cell_type": "code",
   "execution_count": 102,
   "id": "53596d30",
   "metadata": {},
   "outputs": [
    {
     "name": "stdout",
     "output_type": "stream",
     "text": [
      "S befor is: hi.. hello.. how are you???, \n",
      "s after is: ['hi', '', ' hello', '', ' how are you???']\n"
     ]
    }
   ],
   "source": [
    "s = \"hi.. hello.. how are you???\"\n",
    "s1=s.split(\".\")\n",
    "print(f\"S befor is: {s}, \\ns after is: {s1}\")"
   ]
  },
  {
   "cell_type": "code",
   "execution_count": 103,
   "id": "857109f0",
   "metadata": {},
   "outputs": [
    {
     "name": "stdout",
     "output_type": "stream",
     "text": [
      "S befor is: hi. hello. how are you???, \n",
      "s after is: ['hi', ' hello', ' how are you???']\n"
     ]
    }
   ],
   "source": [
    "s = \"hi. hello. how are you???\"\n",
    "s1=s.split(\".\")\n",
    "print(f\"S befor is: {s}, \\ns after is: {s1}\")"
   ]
  },
  {
   "cell_type": "code",
   "execution_count": 104,
   "id": "b4f8150e",
   "metadata": {},
   "outputs": [
    {
     "name": "stdout",
     "output_type": "stream",
     "text": [
      "S befor is: hi.. hello.. how are you???, \n",
      "s after is: ['hi.. h', 'llo.. how ar', ' you???']\n"
     ]
    }
   ],
   "source": [
    "s = \"hi.. hello.. how are you???\"\n",
    "s1=s.split(\"e\")\n",
    "print(f\"S befor is: {s}, \\ns after is: {s1}\")"
   ]
  },
  {
   "cell_type": "code",
   "execution_count": 105,
   "id": "4edccaad",
   "metadata": {},
   "outputs": [
    {
     "name": "stdout",
     "output_type": "stream",
     "text": [
      "S befor is: hi..! hello..! how are you???!, \n",
      "s after is: ['hi..', ' hello..', ' how are you???', '']\n"
     ]
    }
   ],
   "source": [
    "s = \"hi..! hello..! how are you???!\"\n",
    "s1=s.split(\"!\")\n",
    "print(f\"S befor is: {s}, \\ns after is: {s1}\")"
   ]
  },
  {
   "cell_type": "code",
   "execution_count": 108,
   "id": "42b2d934",
   "metadata": {},
   "outputs": [
    {
     "name": "stdout",
     "output_type": "stream",
     "text": [
      "hi..!Hi.. Hello.. How are you???hello..!Hi.. Hello.. How are you???how are you???!\n"
     ]
    }
   ],
   "source": [
    "s = (\"hi..!\",\"hello..!\",\"how are you???!\")\n",
    "s1=_.join(s)\n",
    "print(s1)"
   ]
  },
  {
   "cell_type": "code",
   "execution_count": 109,
   "id": "91a3943c",
   "metadata": {},
   "outputs": [
    {
     "name": "stdout",
     "output_type": "stream",
     "text": [
      "sunny-bunny-chinny\n"
     ]
    }
   ],
   "source": [
    "t=('sunny','bunny','chinny')\n",
    "s='-'.join(t)\n",
    "print(s)"
   ]
  },
  {
   "cell_type": "code",
   "execution_count": 115,
   "id": "ed2be5b6",
   "metadata": {},
   "outputs": [
    {
     "name": "stdout",
     "output_type": "stream",
     "text": [
      "hi..!_hello..!_how are you???\n"
     ]
    }
   ],
   "source": [
    "del s, s1\n",
    "s = (\"hi..!\",\"hello..!\",\"how are you???\")\n",
    "s1=\"_\".join(s)\n",
    "print(s1)"
   ]
  },
  {
   "cell_type": "code",
   "execution_count": 116,
   "id": "039f4ab4",
   "metadata": {},
   "outputs": [
    {
     "name": "stdout",
     "output_type": "stream",
     "text": [
      "hi..!^hello..!^how are you???\n"
     ]
    }
   ],
   "source": [
    "s = (\"hi..!\",\"hello..!\",\"how are you???\")\n",
    "s1=\"^\".join(s)\n",
    "print(s1)"
   ]
  },
  {
   "cell_type": "code",
   "execution_count": 117,
   "id": "cbb38bdd",
   "metadata": {},
   "outputs": [
    {
     "name": "stdout",
     "output_type": "stream",
     "text": [
      "hyderabad,singapore,london,dubai\n"
     ]
    }
   ],
   "source": [
    "l=['hyderabad','singapore','london','dubai']\n",
    "s=','.join(l)\n",
    "print(s)"
   ]
  },
  {
   "cell_type": "code",
   "execution_count": 118,
   "id": "b3f0b814",
   "metadata": {},
   "outputs": [
    {
     "name": "stdout",
     "output_type": "stream",
     "text": [
      "hyderabad, singapore, london, dubai\n"
     ]
    }
   ],
   "source": [
    "l=['hyderabad','singapore','london','dubai']\n",
    "s=', '.join(l)\n",
    "print(s)"
   ]
  },
  {
   "cell_type": "code",
   "execution_count": 126,
   "id": "29576b4a",
   "metadata": {},
   "outputs": [
    {
     "name": "stdout",
     "output_type": "stream",
     "text": [
      "S befor is: hi.. hello.. how are you???, \n",
      "S after is: HI.. HELLO.. HOW ARE YOU???\n",
      "S1 befor is: HI.. HELLO.. HOW ARE YOU???, \n",
      "S1 after is: hi.. hello.. how are you???\n",
      "S2 befor is: hi.. hello.. how are you???, \n",
      "S2 after is: HI.. HELLO.. HOW ARE YOU???\n"
     ]
    }
   ],
   "source": [
    "# upper, lower, swapcase, title, and capitalize\n",
    "s = \"hi.. hello.. how are you???\"\n",
    "s1=s.upper()\n",
    "print(f\"S befor is: {s}, \\nS after is: {s1}\")\n",
    "s2=s1.lower()\n",
    "print(f\"S1 befor is: {s1}, \\nS1 after is: {s2}\")\n",
    "s3=s2.swapcase()\n",
    "print(f\"S2 befor is: {s2}, \\nS2 after is: {s3}\")"
   ]
  },
  {
   "cell_type": "code",
   "execution_count": 127,
   "id": "8253cc8c",
   "metadata": {},
   "outputs": [
    {
     "name": "stdout",
     "output_type": "stream",
     "text": [
      "S befor is: Hi.. hELLo.. hOw Are yoU???, \n",
      "S after is: hI.. HellO.. HoW aRE YOu???\n",
      "S1 befor is: hI.. HellO.. HoW aRE YOu???, \n",
      "S1 after is: Hi.. hELLo.. hOw Are yoU???\n"
     ]
    }
   ],
   "source": [
    "# upper, lower, swapcase, title, and capitalize\n",
    "# swapcase Switches capital to small and small to capitals.\n",
    "s = \"Hi.. hELLo.. hOw Are yoU???\"\n",
    "s1=s.swapcase()\n",
    "print(f\"S befor is: {s}, \\nS after is: {s1}\")\n",
    "s2=s1.swapcase()\n",
    "print(f\"S1 befor is: {s1}, \\nS1 after is: {s2}\")"
   ]
  },
  {
   "cell_type": "code",
   "execution_count": 128,
   "id": "5c324f24",
   "metadata": {},
   "outputs": [
    {
     "name": "stdout",
     "output_type": "stream",
     "text": [
      "S befor is: Hi.. hELLo.. hOw Are yoU???, \n",
      "S after is: Hi.. Hello.. How Are You???\n",
      "S1 befor is: Hi.. Hello.. How Are You???, \n",
      "S1 after is: Hi.. Hello.. How Are You???\n"
     ]
    }
   ],
   "source": [
    "# upper, lower, swapcase, title, and capitalize\n",
    "# title is capitilizing each word in a Sentance \n",
    "s = \"Hi.. hELLo.. hOw Are yoU???\"\n",
    "s1=s.title()\n",
    "print(f\"S befor is: {s}, \\nS after is: {s1}\")\n",
    "s2=s1.title()\n",
    "print(f\"S1 befor is: {s1}, \\nS1 after is: {s2}\")"
   ]
  },
  {
   "cell_type": "code",
   "execution_count": 129,
   "id": "fcb2ef3a",
   "metadata": {},
   "outputs": [
    {
     "name": "stdout",
     "output_type": "stream",
     "text": [
      "S befor is: Hi.. hELLo.. hOw Are yoU???, \n",
      "S after is: Hi.. hello.. how are you???\n",
      "S1 befor is: Hi.. hello.. how are you???, \n",
      "S1 after is: Hi.. hello.. how are you???\n"
     ]
    }
   ],
   "source": [
    "# upper, lower, swapcase, title, and capitalize\n",
    "# CAPITALIZE is Sentance case\n",
    "s = \"Hi.. hELLo.. hOw Are yoU???\"\n",
    "s1=s.capitalize()\n",
    "print(f\"S befor is: {s}, \\nS after is: {s1}\")\n",
    "s2=s1.capitalize()\n",
    "print(f\"S1 befor is: {s1}, \\nS1 after is: {s2}\")"
   ]
  },
  {
   "cell_type": "code",
   "execution_count": 136,
   "id": "76428676",
   "metadata": {},
   "outputs": [
    {
     "name": "stdout",
     "output_type": "stream",
     "text": [
      "s.startswith('Hi'): True, ---&&--- s.endswith('you???'): True\n",
      "s.startswith('Hi'): True, ---&&--- s.endswith('Hi'): False\n",
      "s.startswith('you???'): False, ---&&--- s.endswith('you???'): True\n",
      "s.startswith('hello'): False, ---&&--- s.endswith('hello'): False\n"
     ]
    }
   ],
   "source": [
    "# startswith and endswith\n",
    "s = \"Hi.. hello.. how are you???\"\n",
    "print(f\"s.startswith('Hi'): {s.startswith('Hi')}, ---&&--- s.endswith('you???'): {s.endswith('you???')}\")\n",
    "print(f\"s.startswith('Hi'): {s.startswith('Hi')}, ---&&--- s.endswith('Hi'): {s.endswith('Hi')}\")\n",
    "print(f\"s.startswith('you???'): {s.startswith('you???')}, ---&&--- s.endswith('you???'): {s.endswith('you???')}\")\n",
    "print(f\"s.startswith('hello'): {s.startswith('hello')}, ---&&--- s.endswith('hello'): {s.endswith('hello')}\")\n"
   ]
  },
  {
   "cell_type": "code",
   "execution_count": 139,
   "id": "138a8046",
   "metadata": {},
   "outputs": [
    {
     "name": "stdout",
     "output_type": "stream",
     "text": [
      "'ABcd12#$'.isalnum(): False, ---&&--- '1234566789'.isalnum(): True\n",
      "'ABcd12#$'.isalnum(): False, ---&&--- 'abcdEFGH'.isalnum(): True\n"
     ]
    }
   ],
   "source": [
    "# isalnum\n",
    "print(f\"'ABcd12#$'.isalnum(): {'ABcd12#$'.isalnum()}, ---&&--- '1234566789'.isalnum(): {'1234566789'.isalnum()}\")\n",
    "print(f\"'ABcd12#$'.isalnum(): {'ABcd12#$'.isalnum()}, ---&&--- 'abcdEFGH'.isalnum(): {'abcdEFGH'.isalnum()}\")"
   ]
  },
  {
   "cell_type": "code",
   "execution_count": 141,
   "id": "5abf5829",
   "metadata": {},
   "outputs": [
    {
     "name": "stdout",
     "output_type": "stream",
     "text": [
      "'ABcd12#$'.isalpha(): False, ---&&--- 'abcdEFGH'.isalpha(): True\n",
      "'ABcd12#$'.isalpha(): False, ---&&--- '1234566789'.isalpha(): False\n"
     ]
    }
   ],
   "source": [
    "# isalpha\n",
    "print(f\"'ABcd12#$'.isalpha(): {'ABcd12#$'.isalpha()}, ---&&--- 'abcdEFGH'.isalpha(): {'abcdEFGH'.isalpha()}\")\n",
    "print(f\"'ABcd12#$'.isalpha(): {'ABcd12#$'.isalpha()}, ---&&--- '1234566789'.isalpha(): {'1234566789'.isalpha()}\")\n"
   ]
  },
  {
   "cell_type": "code",
   "execution_count": 142,
   "id": "8f488d8d",
   "metadata": {},
   "outputs": [
    {
     "name": "stdout",
     "output_type": "stream",
     "text": [
      "'ABcd12#$'.isdigit(): False, ---&&--- '1234566789'.isdigit(): True\n",
      "'ABcd12#$'.isdigit(): False, ---&&--- 'abcdEFGH'.isdigit(): False\n"
     ]
    }
   ],
   "source": [
    "# isdigit\n",
    "print(f\"'ABcd12#$'.isdigit(): {'ABcd12#$'.isdigit()}, ---&&--- '1234566789'.isdigit(): {'1234566789'.isdigit()}\")\n",
    "print(f\"'ABcd12#$'.isdigit(): {'ABcd12#$'.isdigit()}, ---&&--- 'abcdEFGH'.isdigit(): {'abcdEFGH'.isdigit()}\")"
   ]
  },
  {
   "cell_type": "code",
   "execution_count": 144,
   "id": "8e1361c5",
   "metadata": {},
   "outputs": [
    {
     "name": "stdout",
     "output_type": "stream",
     "text": [
      "'ABcd12#$'.islower(): False, ---&&--- '1234566789'.islower(): False\n",
      "'ABcd12#$'.islower(): False, ---&&--- 'abcdEFGH'.islower(): False\n",
      "'ABcd12#$'.islower(): False, ---&&--- 'abcd'.islower(): True\n",
      "'ABcd12#$'.islower(): False, ---&&--- 'EFGH'.islower(): False\n"
     ]
    }
   ],
   "source": [
    "# islower\n",
    "print(f\"'ABcd12#$'.islower(): {'ABcd12#$'.islower()}, ---&&--- '1234566789'.islower(): {'1234566789'.islower()}\")\n",
    "print(f\"'ABcd12#$'.islower(): {'ABcd12#$'.islower()}, ---&&--- 'abcdEFGH'.islower(): {'abcdEFGH'.islower()}\")\n",
    "print(f\"'ABcd12#$'.islower(): {'ABcd12#$'.islower()}, ---&&--- 'abcd'.islower(): {'abcd'.islower()}\")\n",
    "print(f\"'ABcd12#$'.islower(): {'ABcd12#$'.islower()}, ---&&--- 'EFGH'.islower(): {'EFGH'.islower()}\")"
   ]
  },
  {
   "cell_type": "code",
   "execution_count": 145,
   "id": "2017766e",
   "metadata": {},
   "outputs": [
    {
     "name": "stdout",
     "output_type": "stream",
     "text": [
      "'ABcd12#$'.isupper(): False, ---&&--- '1234566789'.isupper(): False\n",
      "'ABcd12#$'.isupper(): False, ---&&--- 'abcdEFGH'.isupper(): False\n",
      "'ABcd12#$'.isupper(): False, ---&&--- 'abcd'.isupper(): False\n",
      "'ABcd12#$'.isupper(): False, ---&&--- 'EFGH'.isupper(): True\n"
     ]
    }
   ],
   "source": [
    "# isupper\n",
    "print(f\"'ABcd12#$'.isupper(): {'ABcd12#$'.isupper()}, ---&&--- '1234566789'.isupper(): {'1234566789'.isupper()}\")\n",
    "print(f\"'ABcd12#$'.isupper(): {'ABcd12#$'.isupper()}, ---&&--- 'abcdEFGH'.isupper(): {'abcdEFGH'.isupper()}\")\n",
    "print(f\"'ABcd12#$'.isupper(): {'ABcd12#$'.isupper()}, ---&&--- 'abcd'.isupper(): {'abcd'.isupper()}\")\n",
    "print(f\"'ABcd12#$'.isupper(): {'ABcd12#$'.isupper()}, ---&&--- 'EFGH'.isupper(): {'EFGH'.isupper()}\")"
   ]
  },
  {
   "cell_type": "code",
   "execution_count": 146,
   "id": "2eeb6d8e",
   "metadata": {},
   "outputs": [
    {
     "name": "stdout",
     "output_type": "stream",
     "text": [
      "'Hi.. hello.. how are you???'.istitle(): False\n",
      "'Hi.. hELLo.. hOw Are yoU???'.istitle(): False\n",
      "'Hi.. Hello.. How Are You???'.istitle(): True\n",
      "'HI.. HELLO.. HOW ARE YOU???'.istitle(): False\n",
      "'hi.. hello.. how are you???'.istitle(): False\n"
     ]
    }
   ],
   "source": [
    "# istitle\n",
    "print(f\"'Hi.. hello.. how are you???'.istitle(): {'Hi.. hello.. how are you???'.istitle()}\")\n",
    "print(f\"'Hi.. hELLo.. hOw Are yoU???'.istitle(): {'Hi.. hELLo.. hOw Are yoU???'.istitle()}\")\n",
    "print(f\"'Hi.. Hello.. How Are You???'.istitle(): {'Hi.. Hello.. How Are You???'.istitle()}\")\n",
    "print(f\"'HI.. HELLO.. HOW ARE YOU???'.istitle(): {'HI.. HELLO.. HOW ARE YOU???'.istitle()}\")\n",
    "print(f\"'hi.. hello.. how are you???'.istitle(): {'hi.. hello.. how are you???'.istitle()}\")"
   ]
  },
  {
   "cell_type": "code",
   "execution_count": 148,
   "id": "a2b7cf42",
   "metadata": {},
   "outputs": [
    {
     "name": "stdout",
     "output_type": "stream",
     "text": [
      "'Hi.. hello.. how are you???'.isspace(): False\n",
      "'Hi.. hELLo.. hOw Are yoU???'.isspace(): False\n",
      "'Hi.. Hello.. How Are You???'.isspace(): False\n",
      "'HI.. HELLO.. HOW ARE YOU???'.isspace(): False\n",
      "'hi.. hello.. how are you???'.isspace(): False\n",
      "'        '.isspace(): True\n"
     ]
    }
   ],
   "source": [
    "# isspace\n",
    "print(f\"'Hi.. hello.. how are you???'.isspace(): {'Hi.. hello.. how are you???'.isspace()}\")\n",
    "print(f\"'Hi.. hELLo.. hOw Are yoU???'.isspace(): {'Hi.. hELLo.. hOw Are yoU???'.isspace()}\")\n",
    "print(f\"'Hi.. Hello.. How Are You???'.isspace(): {'Hi.. Hello.. How Are You???'.isspace()}\")\n",
    "print(f\"'HI.. HELLO.. HOW ARE YOU???'.isspace(): {'HI.. HELLO.. HOW ARE YOU???'.isspace()}\")\n",
    "print(f\"'hi.. hello.. how are you???'.isspace(): {'hi.. hello.. how are you???'.isspace()}\")\n",
    "print(f\"'        '.isspace(): {'        '.isspace()}\")"
   ]
  },
  {
   "cell_type": "code",
   "execution_count": 150,
   "id": "0c1a9dd9",
   "metadata": {},
   "outputs": [
    {
     "name": "stdout",
     "output_type": "stream",
     "text": [
      "Enter any character:7\n",
      "Alpha Numeric Character\n",
      "it is a digit\n"
     ]
    }
   ],
   "source": [
    "s=input(\"Enter any character:\")\n",
    "if s.isalnum():\n",
    "    print(\"Alpha Numeric Character\")\n",
    "    if s.isalpha():\n",
    "        print(\"Alphabet character\")\n",
    "        if s.islower():\n",
    "            print(\"Lower case alphabet character\")\n",
    "        else:\n",
    "            print(\"Upper case alphabet character\")\n",
    "    else:\n",
    "        print(\"it is a digit\")\n",
    "elif s.isspace():\n",
    "    print(\"It is space character\")\n",
    "else:\n",
    "    print(\"Non Space Special Character\")"
   ]
  },
  {
   "cell_type": "code",
   "execution_count": 151,
   "id": "01ef3fc8",
   "metadata": {},
   "outputs": [
    {
     "name": "stdout",
     "output_type": "stream",
     "text": [
      "Enter any character:AB\n",
      "Alpha Numeric Character\n",
      "Alphabet character\n",
      "Upper case alphabet character\n"
     ]
    }
   ],
   "source": [
    "s=input(\"Enter any character:\")\n",
    "if s.isalnum():\n",
    "    print(\"Alpha Numeric Character\")\n",
    "    if s.isalpha():\n",
    "        print(\"Alphabet character\")\n",
    "        if s.islower():\n",
    "            print(\"Lower case alphabet character\")\n",
    "        else:\n",
    "            print(\"Upper case alphabet character\")\n",
    "    else:\n",
    "        print(\"it is a digit\")\n",
    "elif s.isspace():\n",
    "    print(\"It is space character\")\n",
    "else:\n",
    "    print(\"Non Space Special Character\")"
   ]
  },
  {
   "cell_type": "code",
   "execution_count": 154,
   "id": "00a610a6",
   "metadata": {},
   "outputs": [
    {
     "name": "stdout",
     "output_type": "stream",
     "text": [
      "Enter any character:$\n",
      "Non Space Special Character\n"
     ]
    }
   ],
   "source": [
    "s=input(\"Enter any character:\")\n",
    "if s.isalnum():\n",
    "    print(\"Alpha Numeric Character\")\n",
    "    if s.isalpha():\n",
    "        print(\"Alphabet character\")\n",
    "        if s.islower():\n",
    "            print(\"Lower case alphabet character\")\n",
    "        elif s.isupper():\n",
    "            print(\"Upper case alphabet character\")\n",
    "        else:\n",
    "            print(\"it contains both Lower and Upper case alphabet characters\")\n",
    "    else:\n",
    "        print(\"it is a digit\")\n",
    "elif s.isspace():\n",
    "    print(\"It is space character\")\n",
    "else:\n",
    "    print(\"Non Space Special Character\")"
   ]
  },
  {
   "cell_type": "code",
   "execution_count": 156,
   "id": "52b7a784",
   "metadata": {},
   "outputs": [
    {
     "name": "stdout",
     "output_type": "stream",
     "text": [
      "durga's salary is 10000 and his age is 48\n",
      "durga's salary is 10000 and his age is 48\n",
      "durga's salary is 10000 and his age is 48\n"
     ]
    }
   ],
   "source": [
    "# .format() & {}\n",
    "name='durga'\n",
    "salary=10000\n",
    "age=48\n",
    "print(\"{}'s salary is {} and his age is {}\".format(name,salary,age))\n",
    "print(\"{0}'s salary is {1} and his age is {2}\".format(name,salary,age))\n",
    "print(\"{x}'s salary is {y} and his age is {z}\".format(z=age,y=salary,x=name))"
   ]
  },
  {
   "cell_type": "code",
   "execution_count": 158,
   "id": "1ff13ea6",
   "metadata": {},
   "outputs": [
    {
     "name": "stdout",
     "output_type": "stream",
     "text": [
      "['__add__', '__class__', '__contains__', '__delattr__', '__dir__', '__doc__', '__eq__', '__format__', '__ge__', '__getattribute__', '__getitem__', '__getnewargs__', '__gt__', '__hash__', '__init__', '__init_subclass__', '__iter__', '__le__', '__len__', '__lt__', '__mod__', '__mul__', '__ne__', '__new__', '__reduce__', '__reduce_ex__', '__repr__', '__rmod__', '__rmul__', '__setattr__', '__sizeof__', '__str__', '__subclasshook__', 'capitalize', 'casefold', 'center', 'count', 'encode', 'endswith', 'expandtabs', 'find', 'format', 'format_map', 'index', 'isalnum', 'isalpha', 'isascii', 'isdecimal', 'isdigit', 'isidentifier', 'islower', 'isnumeric', 'isprintable', 'isspace', 'istitle', 'isupper', 'join', 'ljust', 'lower', 'lstrip', 'maketrans', 'partition', 'replace', 'rfind', 'rindex', 'rjust', 'rpartition', 'rsplit', 'rstrip', 'split', 'splitlines', 'startswith', 'strip', 'swapcase', 'title', 'translate', 'upper', 'zfill']\n"
     ]
    }
   ],
   "source": [
    "print(dir(s))"
   ]
  },
  {
   "cell_type": "code",
   "execution_count": 159,
   "id": "91a09ca4",
   "metadata": {},
   "outputs": [
    {
     "name": "stdout",
     "output_type": "stream",
     "text": [
      "S befor is: Hi.. hELLo.. hOw Are yoU???, \n",
      "S after is: Hi.. hello.. how are you???\n"
     ]
    }
   ],
   "source": [
    "s = \"Hi.. hELLo.. hOw Are yoU???\"\n",
    "s1=s.capitalize()\n",
    "print(f\"S befor is: {s}, \\nS after is: {s1}\")"
   ]
  },
  {
   "cell_type": "code",
   "execution_count": 165,
   "id": "9e4de7d3",
   "metadata": {},
   "outputs": [
    {
     "name": "stdout",
     "output_type": "stream",
     "text": [
      "S befor is: Hi.. hELLo.. hOw Are yoU???, \n",
      "S after is: hi.. hello.. how are you???\n",
      "S befor is: HI.. HELLO.. HOW ARE YOU???, \n",
      "S after is: hi.. hello.. how are you???\n"
     ]
    }
   ],
   "source": [
    "s = \"Hi.. hELLo.. hOw Are yoU???\"\n",
    "s1=s.casefold()\n",
    "print(f\"S befor is: {s}, \\nS after is: {s1}\")\n",
    "s = \"HI.. HELLO.. HOW ARE YOU???\"\n",
    "s1=s.casefold()\n",
    "print(f\"S befor is: {s}, \\nS after is: {s1}\")"
   ]
  },
  {
   "cell_type": "code",
   "execution_count": 171,
   "id": "34561d71",
   "metadata": {},
   "outputs": [],
   "source": [
    "s.casefold?\n",
    "s.center?"
   ]
  },
  {
   "cell_type": "code",
   "execution_count": 172,
   "id": "bf0af4c0",
   "metadata": {},
   "outputs": [
    {
     "name": "stdout",
     "output_type": "stream",
     "text": [
      "S befor is: Hi.. hELLo.. hOw Are yoU???, \n",
      "S after is: Hi.. hELLo.. hOw Are yoU???\n"
     ]
    }
   ],
   "source": [
    "s = \"Hi.. hELLo.. hOw Are yoU???\"\n",
    "s1=s.center(3)\n",
    "print(f\"S befor is: {s}, \\nS after is: {s1}\")"
   ]
  },
  {
   "cell_type": "code",
   "execution_count": 170,
   "id": "d028b838",
   "metadata": {},
   "outputs": [
    {
     "name": "stdout",
     "output_type": "stream",
     "text": [
      "Hi.. hELLo.. hOw Are yoU???\n"
     ]
    }
   ],
   "source": [
    "print(s1)"
   ]
  },
  {
   "cell_type": "code",
   "execution_count": 174,
   "id": "471b8870",
   "metadata": {},
   "outputs": [
    {
     "name": "stdout",
     "output_type": "stream",
     "text": [
      "S befor is: Hi.. hELLo.. hOw Are yoU???, \n",
      "S after is: b'Hi.. hELLo.. hOw Are yoU???'\n"
     ]
    },
    {
     "ename": "AttributeError",
     "evalue": "'bytes' object has no attribute 'encode'",
     "output_type": "error",
     "traceback": [
      "\u001b[1;31m---------------------------------------------------------------------------\u001b[0m",
      "\u001b[1;31mAttributeError\u001b[0m                            Traceback (most recent call last)",
      "\u001b[1;32m<ipython-input-174-8c0c182492cd>\u001b[0m in \u001b[0;36m<module>\u001b[1;34m\u001b[0m\n\u001b[0;32m      2\u001b[0m \u001b[0ms1\u001b[0m\u001b[1;33m=\u001b[0m\u001b[0ms\u001b[0m\u001b[1;33m.\u001b[0m\u001b[0mencode\u001b[0m\u001b[1;33m(\u001b[0m\u001b[1;33m)\u001b[0m\u001b[1;33m\u001b[0m\u001b[1;33m\u001b[0m\u001b[0m\n\u001b[0;32m      3\u001b[0m \u001b[0mprint\u001b[0m\u001b[1;33m(\u001b[0m\u001b[1;34mf\"S befor is: {s}, \\nS after is: {s1}\"\u001b[0m\u001b[1;33m)\u001b[0m\u001b[1;33m\u001b[0m\u001b[1;33m\u001b[0m\u001b[0m\n\u001b[1;32m----> 4\u001b[1;33m \u001b[0ms2\u001b[0m\u001b[1;33m=\u001b[0m\u001b[0ms1\u001b[0m\u001b[1;33m.\u001b[0m\u001b[0mencode\u001b[0m\u001b[1;33m(\u001b[0m\u001b[1;33m)\u001b[0m\u001b[1;33m\u001b[0m\u001b[1;33m\u001b[0m\u001b[0m\n\u001b[0m\u001b[0;32m      5\u001b[0m \u001b[0mprint\u001b[0m\u001b[1;33m(\u001b[0m\u001b[1;34mf\"S1 befor is: {s1}, \\nS1 after is: {s2}\"\u001b[0m\u001b[1;33m)\u001b[0m\u001b[1;33m\u001b[0m\u001b[1;33m\u001b[0m\u001b[0m\n",
      "\u001b[1;31mAttributeError\u001b[0m: 'bytes' object has no attribute 'encode'"
     ]
    }
   ],
   "source": [
    "s = \"Hi.. hELLo.. hOw Are yoU???\"\n",
    "s1=s.encode()\n",
    "print(f\"S befor is: {s}, \\nS after is: {s1}\")\n",
    "s2=s1.encode()\n",
    "print(f\"S1 befor is: {s1}, \\nS1 after is: {s2}\")"
   ]
  },
  {
   "cell_type": "code",
   "execution_count": 179,
   "id": "6385dd29",
   "metadata": {},
   "outputs": [
    {
     "name": "stdout",
     "output_type": "stream",
     "text": [
      "S befor is: Hi.. \thELLo.. \t\thOw Are yoU???, \n",
      "S after is: Hi..    hELLo..                 hOw Are yoU???\n"
     ]
    }
   ],
   "source": [
    "s = \"Hi.. \\thELLo.. \\t\\thOw Are yoU???\"\n",
    "s1=s.expandtabs()\n",
    "print(f\"S befor is: {s}, \\nS after is: {s1}\")"
   ]
  },
  {
   "cell_type": "code",
   "execution_count": 178,
   "id": "a986baf5",
   "metadata": {},
   "outputs": [],
   "source": [
    "s.expandtabs?"
   ]
  },
  {
   "cell_type": "code",
   "execution_count": 181,
   "id": "6951842d",
   "metadata": {},
   "outputs": [],
   "source": [
    "s.format_map?"
   ]
  },
  {
   "cell_type": "code",
   "execution_count": 184,
   "id": "b84cc0b7",
   "metadata": {},
   "outputs": [
    {
     "name": "stdout",
     "output_type": "stream",
     "text": [
      "S befor is: Hi..  hELLo.. hOw Are yoU???, \n",
      "S after is: Hi..  hELLo.. hOw Are yoU???\n"
     ]
    }
   ],
   "source": [
    "s = \"Hi..  hELLo.. hOw Are yoU???\"\n",
    "s1=s.format_map({'OR'})\n",
    "print(f\"S befor is: {s}, \\nS after is: {s1}\")"
   ]
  },
  {
   "cell_type": "code",
   "execution_count": 188,
   "id": "fe8d60f6",
   "metadata": {},
   "outputs": [
    {
     "name": "stdout",
     "output_type": "stream",
     "text": [
      "'sdf'.isdecimal(): False\n",
      "'123'.isdecimal(): True\n",
      "'123.45'.isdecimal(): False\n",
      "'@#$'.isdecimal(): False\n"
     ]
    }
   ],
   "source": [
    "#isdecimal\n",
    "print(f\"'sdf'.isdecimal(): {'sdf'.isdecimal()}\")\n",
    "print(f\"'123'.isdecimal(): {'123'.isdecimal()}\")\n",
    "print(f\"'123.45'.isdecimal(): {'123.45'.isdecimal()}\")\n",
    "print(f\"'@#$'.isdecimal(): {'@#$'.isdecimal()}\")"
   ]
  },
  {
   "cell_type": "code",
   "execution_count": 189,
   "id": "1d28e451",
   "metadata": {},
   "outputs": [],
   "source": [
    "s.partition?"
   ]
  },
  {
   "cell_type": "code",
   "execution_count": 191,
   "id": "560bf67c",
   "metadata": {},
   "outputs": [
    {
     "name": "stdout",
     "output_type": "stream",
     "text": [
      "S befor is: Hi..  hELLo.. hOw Are yoU???, \n",
      "S after is: ('Hi..', ' ', ' hELLo.. hOw Are yoU???')\n"
     ]
    }
   ],
   "source": [
    "s = \"Hi..  hELLo.. hOw Are yoU???\"\n",
    "s1=s.partition(\" \")\n",
    "print(f\"S befor is: {s}, \\nS after is: {s1}\")"
   ]
  },
  {
   "cell_type": "code",
   "execution_count": 192,
   "id": "4f6f3095",
   "metadata": {},
   "outputs": [
    {
     "name": "stdout",
     "output_type": "stream",
     "text": [
      "S befor is: Hi..  hELLo.. hOw Are yoU???, \n",
      "S after is: ('', 'H', 'i..  hELLo.. hOw Are yoU???')\n"
     ]
    }
   ],
   "source": [
    "s = \"Hi..  hELLo.. hOw Are yoU???\"\n",
    "s1=s.partition(\"H\")\n",
    "print(f\"S befor is: {s}, \\nS after is: {s1}\")"
   ]
  },
  {
   "cell_type": "code",
   "execution_count": 193,
   "id": "48126384",
   "metadata": {},
   "outputs": [
    {
     "name": "stdout",
     "output_type": "stream",
     "text": [
      "S befor is: Hi..  hELLo.. hOw Are yoU???, \n",
      "S after is: ('Hi..  ', 'h', 'ELLo.. hOw Are yoU???')\n"
     ]
    }
   ],
   "source": [
    "s = \"Hi..  hELLo.. hOw Are yoU???\"\n",
    "s1=s.partition(\"h\")\n",
    "print(f\"S befor is: {s}, \\nS after is: {s1}\")"
   ]
  },
  {
   "cell_type": "code",
   "execution_count": 194,
   "id": "0755d695",
   "metadata": {},
   "outputs": [
    {
     "name": "stdout",
     "output_type": "stream",
     "text": [
      "S befor is: Hi..  hELLo.. hOw Are yoU???, \n",
      "S after is: ('Hi..  ', 'hELLo', '.. hOw Are yoU???')\n"
     ]
    }
   ],
   "source": [
    "s = \"Hi..  hELLo.. hOw Are yoU???\"\n",
    "s1=s.partition(\"hELLo\")\n",
    "print(f\"S befor is: {s}, \\nS after is: {s1}\")"
   ]
  },
  {
   "cell_type": "code",
   "execution_count": 196,
   "id": "10da6f65",
   "metadata": {},
   "outputs": [],
   "source": [
    "s.rsplit?"
   ]
  },
  {
   "cell_type": "code",
   "execution_count": 198,
   "id": "5f0a9d33",
   "metadata": {},
   "outputs": [
    {
     "name": "stdout",
     "output_type": "stream",
     "text": [
      "S befor is: Hi..  hELLo.. hOw Are yoU???, \n",
      "S after is: ['Hi..', 'hELLo..', 'hOw', 'Are', 'yoU???']\n"
     ]
    }
   ],
   "source": [
    "s = \"Hi..  hELLo.. hOw Are yoU???\"\n",
    "s1=s.rsplit()\n",
    "print(f\"S befor is: {s}, \\nS after is: {s1}\")"
   ]
  },
  {
   "cell_type": "code",
   "execution_count": 201,
   "id": "b8ef728f",
   "metadata": {},
   "outputs": [
    {
     "name": "stdout",
     "output_type": "stream",
     "text": [
      "Enter a sentance: hi.. hello.. how are you??\n",
      "The reversed sentance is 'you?? are how hello.. hi.. '\n"
     ]
    }
   ],
   "source": [
    "#Program to reverse order of words.\n",
    "s = input(\"Enter a sentance: \")\n",
    "new = \"\"\n",
    "for i in s.split(\" \"):\n",
    "    new = i + \" \" + new \n",
    "print(f\"The reversed sentance is '{new}'\")"
   ]
  },
  {
   "cell_type": "code",
   "execution_count": 202,
   "id": "2c92eae6",
   "metadata": {},
   "outputs": [
    {
     "name": "stdout",
     "output_type": "stream",
     "text": [
      "Enter a sentance: Learning Python is very Easy\n",
      "The reversed sentance is 'Easy very is Python Learning '\n"
     ]
    }
   ],
   "source": [
    "#Program to reverse order of words.\n",
    "s = input(\"Enter a sentance: \")\n",
    "new = \"\"\n",
    "for i in s.split(\" \"):\n",
    "    new = i + \" \" + new \n",
    "print(f\"The reversed sentance is '{new}'\")"
   ]
  },
  {
   "cell_type": "code",
   "execution_count": 204,
   "id": "f0a8aad0",
   "metadata": {},
   "outputs": [
    {
     "name": "stdout",
     "output_type": "stream",
     "text": [
      "Enter a sentance: hi.. hello.. how are you??\n",
      "The reversed sentance is ' ..ih ..olleh woh era ??uoy'\n"
     ]
    }
   ],
   "source": [
    "#Program to reverse internal content of each word\n",
    "s = input(\"Enter a sentance: \")\n",
    "new = \"\"\n",
    "for i in s.split(\" \"):\n",
    "    i1 = \"\"\n",
    "    for j in i:\n",
    "        i1 = j + i1\n",
    "    new = new + \" \" + i1 \n",
    "print(f\"The reversed sentance is '{new}'\")"
   ]
  },
  {
   "cell_type": "code",
   "execution_count": 205,
   "id": "1b6afc6a",
   "metadata": {
    "scrolled": true
   },
   "outputs": [
    {
     "name": "stdout",
     "output_type": "stream",
     "text": [
      "Enter a sentance: Durga Software Solutions\n",
      "The reversed sentance is ' agruD erawtfoS snoituloS'\n"
     ]
    }
   ],
   "source": [
    "#Program to reverse internal content of each word\n",
    "s = input(\"Enter a sentance: \")\n",
    "new = \"\"\n",
    "for i in s.split(\" \"):\n",
    "    i1 = \"\"\n",
    "    for j in i:\n",
    "        i1 = j + i1\n",
    "    new = new + \" \" + i1 \n",
    "print(f\"The reversed sentance is '{new}'\")"
   ]
  },
  {
   "cell_type": "code",
   "execution_count": 207,
   "id": "c2bf4403",
   "metadata": {
    "scrolled": true
   },
   "outputs": [
    {
     "name": "stdout",
     "output_type": "stream",
     "text": [
      "Enter a sentance: hi.. hello.. how are you??\n",
      "The characters at even positions are: 'h. el. o r o?'\n",
      "The characters at odd positions are: 'i.hlo.hwaeyu?'\n"
     ]
    }
   ],
   "source": [
    "# Write a program to print characters at odd position and even position for the given String?\n",
    "s = input(\"Enter a sentance: \")\n",
    "print(f\"The characters at even positions are: '{s[0::2]}'\")\n",
    "print(f\"The characters at odd positions are: '{s[1::2]}'\")"
   ]
  },
  {
   "cell_type": "code",
   "execution_count": 208,
   "id": "465ddd2a",
   "metadata": {
    "scrolled": true
   },
   "outputs": [
    {
     "name": "stdout",
     "output_type": "stream",
     "text": [
      "Enter a sentance: 0123456789\n",
      "The characters at even positions are: '02468'\n",
      "The characters at odd positions are: '13579'\n"
     ]
    }
   ],
   "source": [
    "# Write a program to print characters at odd position and even position for the given String?\n",
    "s = input(\"Enter a sentance: \")\n",
    "print(f\"The characters at even positions are: '{s[0::2]}'\")\n",
    "print(f\"The characters at odd positions are: '{s[1::2]}'\")"
   ]
  },
  {
   "cell_type": "code",
   "execution_count": 209,
   "id": "47966af6",
   "metadata": {},
   "outputs": [
    {
     "name": "stdout",
     "output_type": "stream",
     "text": [
      "Enter first string: hameer\n",
      "Enter second string: hashmi\n",
      "New string is: hhaamsehemri\n"
     ]
    }
   ],
   "source": [
    "\"\"\"Q5. Program to merge characters of 2 strings into a single string \n",
    "    by taking characters alternatively.\"\"\"\n",
    "'''ASUMING BOTH STRINGS HAVE SAME LENGTH'''\n",
    "s1 = input(\"Enter first string: \")\n",
    "s2 = input(\"Enter second string: \")\n",
    "new = \"\"\n",
    "for i in range(len(s1)):\n",
    "    new = new + s1[i] + s2[i]\n",
    "print(f\"New string is: {new}\")"
   ]
  },
  {
   "cell_type": "code",
   "execution_count": 214,
   "id": "96a93d0e",
   "metadata": {},
   "outputs": [
    {
     "name": "stdout",
     "output_type": "stream",
     "text": [
      "Enter first string: hameer\n",
      "Enter second string: 12345678\n",
      "8\n",
      "New string is: h1a2m3e4e5r678\n"
     ]
    }
   ],
   "source": [
    "\"\"\"Q5. Program to merge characters of 2 strings into a single string \n",
    "    by taking characters alternatively.\"\"\"\n",
    "\n",
    "s1 = input(\"Enter first string: \")\n",
    "s2 = input(\"Enter second string: \")\n",
    "new = \"\"\n",
    "i = 0\n",
    "while True:\n",
    "    if i < len(s1):\n",
    "        new = new + s1[i] \n",
    "    if i < len(s2):\n",
    "        new = new + s2[i]\n",
    "    i += 1\n",
    "    if (i>= len(s1)) and (i>= len(s2)):\n",
    "        print(i)\n",
    "        break\n",
    "\n",
    "print(f\"New string is: {new}\")"
   ]
  },
  {
   "cell_type": "code",
   "execution_count": 1,
   "id": "ad5dea10",
   "metadata": {},
   "outputs": [
    {
     "name": "stdout",
     "output_type": "stream",
     "text": [
      "                                    Hi..  hELLo.. hOw Are yoU???                                    \n",
      "                                                                        Hi..  hELLo.. hOw Are yoU???\n",
      "Hi..  hELLo.. hOw Are yoU???                                                                        \n"
     ]
    }
   ],
   "source": [
    "# center, ljust, rjust\n",
    "s = \"Hi..  hELLo.. hOw Are yoU???\"\n",
    "print(s.center(100))\n",
    "print(s.rjust(100))\n",
    "print(s.ljust(100))\n",
    "#print(f\"S befor is: {s}, \\nS after is: {s1}\")"
   ]
  },
  {
   "cell_type": "code",
   "execution_count": 3,
   "id": "8d146535",
   "metadata": {},
   "outputs": [
    {
     "name": "stdout",
     "output_type": "stream",
     "text": [
      "$$$$$$$$$$$$$$$$$$$$$$$$$$$$$$$$$$$$Hi..  hELLo.. hOw Are yoU???$$$$$$$$$$$$$$$$$$$$$$$$$$$$$$$$$$$$\n",
      "&&&&&&&&&&&&&&&&&&&&&&&&&&&&&&&&&&&&&&&&&&&&&&&&&&&&&&&&&&&&&&&&&&&&&&&&Hi..  hELLo.. hOw Are yoU???\n",
      "Hi..  hELLo.. hOw Are yoU???************************************************************************\n"
     ]
    }
   ],
   "source": [
    "# center, ljust, rjust\n",
    "s = \"Hi..  hELLo.. hOw Are yoU???\"\n",
    "print(s.center(100,\"$\"))\n",
    "print(s.rjust(100,\"&\"))\n",
    "print(s.ljust(100,\"*\"))\n",
    "#print(f\"S befor is: {s}, \\nS after is: {s1}\")"
   ]
  },
  {
   "cell_type": "code",
   "execution_count": 5,
   "id": "3108e573",
   "metadata": {},
   "outputs": [
    {
     "name": "stdout",
     "output_type": "stream",
     "text": [
      "S length: 28\n",
      "Hi..  hELLo.. hOw Are yoU???\n",
      "Hi..  hELLo.. hOw Are yoU???\n",
      "Hi..  hELLo.. hOw Are yoU???\n"
     ]
    }
   ],
   "source": [
    "# center, ljust, rjust\n",
    "s = \"Hi..  hELLo.. hOw Are yoU???\"\n",
    "print(\"S length:\", len(s))\n",
    "print(s.center(10,\"$\"))\n",
    "print(s.rjust(10,\"&\"))\n",
    "print(s.ljust(10,\"*\"))"
   ]
  },
  {
   "cell_type": "code",
   "execution_count": 7,
   "id": "7c8b13d7",
   "metadata": {},
   "outputs": [
    {
     "name": "stdout",
     "output_type": "stream",
     "text": [
      "True\n",
      "True\n",
      "True\n"
     ]
    }
   ],
   "source": [
    "s = \"1234\"\n",
    "print(s.isnumeric())\n",
    "print(s.isdigit())\n",
    "print(s.isdecimal())"
   ]
  },
  {
   "cell_type": "code",
   "execution_count": 8,
   "id": "c8b1e799",
   "metadata": {},
   "outputs": [
    {
     "name": "stdout",
     "output_type": "stream",
     "text": [
      "False\n",
      "False\n",
      "False\n"
     ]
    }
   ],
   "source": [
    "s = \"12.34\"\n",
    "print(s.isnumeric())\n",
    "print(s.isdigit())\n",
    "print(s.isdecimal())"
   ]
  },
  {
   "cell_type": "code",
   "execution_count": 9,
   "id": "61b3ce6d",
   "metadata": {},
   "outputs": [
    {
     "name": "stdout",
     "output_type": "stream",
     "text": [
      "2³\n"
     ]
    }
   ],
   "source": [
    "s = \"2\\u00b3\"\n",
    "print(s)"
   ]
  },
  {
   "cell_type": "code",
   "execution_count": 11,
   "id": "a998c7e1",
   "metadata": {},
   "outputs": [
    {
     "name": "stdout",
     "output_type": "stream",
     "text": [
      "True\n",
      "True\n",
      "False\n"
     ]
    }
   ],
   "source": [
    "s=\"2³\"\n",
    "print(s.isnumeric())\n",
    "print(s.isdigit())\n",
    "print(s.isdecimal())"
   ]
  },
  {
   "cell_type": "code",
   "execution_count": 13,
   "id": "229f1ebc",
   "metadata": {},
   "outputs": [
    {
     "name": "stdout",
     "output_type": "stream",
     "text": [
      "True\n",
      "True\n",
      "True\n"
     ]
    }
   ],
   "source": [
    "s=\"१२\"\n",
    "print(s.isnumeric())\n",
    "print(s.isdigit())\n",
    "print(s.isdecimal())"
   ]
  },
  {
   "cell_type": "code",
   "execution_count": 15,
   "id": "d227e492",
   "metadata": {},
   "outputs": [
    {
     "name": "stdout",
     "output_type": "stream",
     "text": [
      "True\n",
      "False\n",
      "False\n"
     ]
    }
   ],
   "source": [
    "s=\"四\"\n",
    "print(s.isnumeric())\n",
    "print(s.isdigit())\n",
    "print(s.isdecimal())"
   ]
  },
  {
   "cell_type": "code",
   "execution_count": 16,
   "id": "3ecf295c",
   "metadata": {},
   "outputs": [
    {
     "name": "stdout",
     "output_type": "stream",
     "text": [
      "False\n",
      "22235\n"
     ]
    }
   ],
   "source": [
    "s=\"四\"\n",
    "print(s.isascii())\n",
    "print(ord(s))"
   ]
  },
  {
   "cell_type": "code",
   "execution_count": 18,
   "id": "2087a6dc",
   "metadata": {},
   "outputs": [
    {
     "name": "stdout",
     "output_type": "stream",
     "text": [
      "False\n"
     ]
    }
   ],
   "source": [
    "s=\"నిఘంటుశోధన\"\n",
    "print(s.isascii())\n",
    "#print(ord(s))"
   ]
  },
  {
   "cell_type": "code",
   "execution_count": 19,
   "id": "81e56eaa",
   "metadata": {},
   "outputs": [
    {
     "name": "stdout",
     "output_type": "stream",
     "text": [
      "True\n"
     ]
    }
   ],
   "source": [
    "s = \"Python Program\"\n",
    "print(s.istitle())"
   ]
  },
  {
   "cell_type": "code",
   "execution_count": 20,
   "id": "40ebafec",
   "metadata": {},
   "outputs": [
    {
     "name": "stdout",
     "output_type": "stream",
     "text": [
      "False\n"
     ]
    }
   ],
   "source": [
    "s = \"Py2thon Pr#ogram\"\n",
    "print(s.istitle())"
   ]
  },
  {
   "cell_type": "code",
   "execution_count": 21,
   "id": "0ce3ffe0",
   "metadata": {},
   "outputs": [
    {
     "name": "stdout",
     "output_type": "stream",
     "text": [
      "True\n"
     ]
    }
   ],
   "source": [
    "s = \"Py2Thon Pr#Ogram\"\n",
    "print(s.istitle())"
   ]
  },
  {
   "cell_type": "code",
   "execution_count": 22,
   "id": "8d89e440",
   "metadata": {},
   "outputs": [
    {
     "name": "stdout",
     "output_type": "stream",
     "text": [
      "True\n"
     ]
    }
   ],
   "source": [
    "s = \"       \"\n",
    "print(s.isspace())"
   ]
  },
  {
   "cell_type": "code",
   "execution_count": 23,
   "id": "33f65c85",
   "metadata": {},
   "outputs": [
    {
     "name": "stdout",
     "output_type": "stream",
     "text": [
      "True\n"
     ]
    }
   ],
   "source": [
    "s = \"\\n\\t\"\n",
    "print(s.isspace())"
   ]
  },
  {
   "cell_type": "code",
   "execution_count": 24,
   "id": "ba9b58a0",
   "metadata": {},
   "outputs": [
    {
     "name": "stdout",
     "output_type": "stream",
     "text": [
      "0\n",
      "0\n",
      "44\n",
      "44\n"
     ]
    }
   ],
   "source": [
    "s = \"apple;orange;apple;grape;apple;banana;mango;apple\"\n",
    "print(s.find(\"apple\"))\n",
    "print(s.index(\"apple\"))\n",
    "print(s.rfind(\"apple\"))\n",
    "print(s.rindex(\"apple\"))"
   ]
  },
  {
   "cell_type": "code",
   "execution_count": 29,
   "id": "b5dfa9b8",
   "metadata": {},
   "outputs": [
    {
     "name": "stdout",
     "output_type": "stream",
     "text": [
      "13\n",
      "13\n",
      "44\n",
      "44\n"
     ]
    }
   ],
   "source": [
    "s = \"apple;orange;apple;grape;apple;banana;mango;apple\"\n",
    "print(s.find(\"apple\",2))\n",
    "print(s.index(\"apple\",2))\n",
    "print(s.rfind(\"apple\",3))\n",
    "print(s.rindex(\"apple\",2))"
   ]
  },
  {
   "cell_type": "code",
   "execution_count": 30,
   "id": "34524221",
   "metadata": {},
   "outputs": [
    {
     "name": "stdout",
     "output_type": "stream",
     "text": [
      "6\n",
      "6\n"
     ]
    }
   ],
   "source": [
    "s = \"apple;orange;apple;grape;apple;banana;mango;apple\"\n",
    "print(s.find(\"orange\",2))\n",
    "print(s.index(\"orange\",2))"
   ]
  },
  {
   "cell_type": "code",
   "execution_count": 31,
   "id": "12fba3b8",
   "metadata": {},
   "outputs": [
    {
     "name": "stdout",
     "output_type": "stream",
     "text": [
      "6\n",
      "6\n"
     ]
    }
   ],
   "source": [
    "s = \"apple;orange;apple;grape;apple;banana;mango;apple\"\n",
    "print(s.find(\"orange\",2))\n",
    "print(s.index(\"orange\",2))"
   ]
  },
  {
   "cell_type": "code",
   "execution_count": null,
   "id": "e67bb457",
   "metadata": {},
   "outputs": [],
   "source": [
    "# check the impact of empty argumwnt for all string function."
   ]
  }
 ],
 "metadata": {
  "kernelspec": {
   "display_name": "Python 3",
   "language": "python",
   "name": "python3"
  },
  "language_info": {
   "codemirror_mode": {
    "name": "ipython",
    "version": 3
   },
   "file_extension": ".py",
   "mimetype": "text/x-python",
   "name": "python",
   "nbconvert_exporter": "python",
   "pygments_lexer": "ipython3",
   "version": "3.8.8"
  }
 },
 "nbformat": 4,
 "nbformat_minor": 5
}
