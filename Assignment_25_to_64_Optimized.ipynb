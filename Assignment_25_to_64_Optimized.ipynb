{
 "cells": [
  {
   "cell_type": "code",
   "execution_count": 6,
   "id": "2f968877",
   "metadata": {},
   "outputs": [
    {
     "name": "stdout",
     "output_type": "stream",
     "text": [
      "Enter a Number: 29\n",
      "The entered number is a prime number..!!\n"
     ]
    }
   ],
   "source": [
    "''' 25. take a number from the user and check whether it is prime?\n",
    "'''\n",
    "a = int(input(\"Enter a Number: \"))\n",
    "if a in [1, 2]:\n",
    "        print(\"The entered number is a prime number..!!\")\n",
    "else:\n",
    "    for i in range(2, a):\n",
    "        if a % i == 0:\n",
    "            print(\"The entered number is not a prime number..!!\")\n",
    "            break\n",
    "    else:   \n",
    "        print(\"The entered number is a prime number..!!\")\n"
   ]
  },
  {
   "cell_type": "code",
   "execution_count": 12,
   "id": "393d432d",
   "metadata": {},
   "outputs": [
    {
     "name": "stdout",
     "output_type": "stream",
     "text": [
      "Enter a string: 3343445567587456453451355143525623453\n",
      "The entered string consists only digits..!!\n"
     ]
    }
   ],
   "source": [
    "''' 26. take a string from the user and check contains only digits or not?\n",
    "'''\n",
    "a = input(\"Enter a string: \")\n",
    "digit_range = range(ord(\"0\"), ord(\"9\")+1)\n",
    "for i in a:\n",
    "    if ord(i) not in digit_range:\n",
    "        print(\"The entered string consists other than digits also..!!\")\n",
    "        break\n",
    "else:\n",
    "    print(\"The entered string consists only digits..!!\")"
   ]
  },
  {
   "cell_type": "code",
   "execution_count": 35,
   "id": "a47766eb",
   "metadata": {},
   "outputs": [
    {
     "name": "stdout",
     "output_type": "stream",
     "text": [
      "Enter a string: sdfKJ123&^%&^\n",
      "The entered string consists other than alphabets also..!!\n"
     ]
    }
   ],
   "source": [
    "''' 27. take a string from the user and check contains only  alphabets or not?\n",
    "'''\n",
    "a = input(\"Enter a string: \")\n",
    "C_alphabet_range = range(ord(\"A\"), ord(\"Z\")+1)\n",
    "S_alphabet_range = range(ord(\"a\"), ord(\"z\")+1)\n",
    "for i in a:\n",
    "    if ord(i) not in S_alphabet_range and ord(i) not in C_alphabet_range:\n",
    "        print(\"The entered string consists other than alphabets also..!!\")\n",
    "        break\n",
    "else:\n",
    "    print(\"The entered string consists only alphabets..!!\")"
   ]
  },
  {
   "cell_type": "code",
   "execution_count": 45,
   "id": "b1aabd45",
   "metadata": {},
   "outputs": [
    {
     "name": "stdout",
     "output_type": "stream",
     "text": [
      "Enter a string: !@#$%^&*()_+|\"?><:{}\n",
      "The entered string consists only special charactars..!!\n"
     ]
    }
   ],
   "source": [
    "''' 28. take a string from the user and check contains only  special chars or not?\n",
    "'''\n",
    "a = input(\"Enter a string: \")\n",
    "C_alphabet_range = range(ord(\"A\"), ord(\"Z\")+1)\n",
    "S_alphabet_range = range(ord(\"a\"), ord(\"z\")+1)\n",
    "digit_range = range(ord(\"0\"), ord(\"9\")+1)\n",
    "for i in a:\n",
    "    c_ord = ord(i)\n",
    "    if c_ord in S_alphabet_range: \n",
    "        print(\"The entered string consists other than special charactars also..!!\")\n",
    "        break\n",
    "    elif c_ord in C_alphabet_range:\n",
    "        print(\"The entered string consists other than special charactars also..!!\")\n",
    "        break\n",
    "    elif c_ord in digit_range:\n",
    "        print(\"The entered string consists other than special charactars also..!!\")\n",
    "        break\n",
    "else:\n",
    "    print(\"The entered string consists only special charactars..!!\")"
   ]
  },
  {
   "cell_type": "code",
   "execution_count": 50,
   "id": "24b0d16a",
   "metadata": {},
   "outputs": [
    {
     "name": "stdout",
     "output_type": "stream",
     "text": [
      "Enter a string: ABCDGS\n",
      "The entered string consists only capital letters..!!\n"
     ]
    }
   ],
   "source": [
    "''' 29.take a string from the user and check contains only capital letters or not?\n",
    "'''\n",
    "a = input(\"Enter a string: \")\n",
    "C_alphabet_range = range(ord(\"A\"), ord(\"Z\")+1)\n",
    "for i in a:\n",
    "    if ord(i) not in C_alphabet_range:\n",
    "        print(\"The entered string consists other than capital letters also..!!\")\n",
    "        break\n",
    "\n",
    "else:\n",
    "    print(\"The entered string consists only capital letters..!!\")"
   ]
  },
  {
   "cell_type": "code",
   "execution_count": 53,
   "id": "2e89fbc9",
   "metadata": {},
   "outputs": [
    {
     "name": "stdout",
     "output_type": "stream",
     "text": [
      "Enter a string: iasdkb$#W%$765\n",
      "The entered string consists other than small letters also..!!\n"
     ]
    }
   ],
   "source": [
    "''' 30.take a string from the user and check contains only  small letters or not?\n",
    "'''\n",
    "a = input(\"Enter a string: \")\n",
    "S_alphabet_range = range(ord(\"a\"), ord(\"z\")+1)\n",
    "for i in a:\n",
    "    if ord(i) not in S_alphabet_range:\n",
    "        print(\"The entered string consists other than small letters also..!!\")\n",
    "        break\n",
    "else:\n",
    "    print(\"The entered string consists only small letters..!!\")"
   ]
  },
  {
   "cell_type": "code",
   "execution_count": 58,
   "id": "f3323a88",
   "metadata": {},
   "outputs": [
    {
     "name": "stdout",
     "output_type": "stream",
     "text": [
      "['apple', 'orange', 'apple', 'grape', 'apple', 'orange', 'apple', 'apple', 'apple', 'grape', 'grape', 'grape', 'orange']\n",
      "\n",
      "Enter a string from the printed list: orange\n",
      "the updated list is: \n",
      " ['apple', 'orange', 'apple', 'grape', 'apple', 'orange', 'apple', 'apple', 'apple', 'grape', 'grape', 'grape', 'ORANGE']\n"
     ]
    }
   ],
   "source": [
    "''' \n",
    "31. WAP to replace last n occurrence of given string. \n",
    "    For example:”apple,orange,apple,grape,orange,apple,apple,orange”\n",
    "    source: “apple”\n",
    "    last occurrences: 2\n",
    "    replace with: APPLE\n",
    "    output:”apple,orange,apple,grape,orange,APPLE,APPLE,orange”\n",
    "'''\n",
    "list1 = [\"apple\",\"orange\",\"apple\",\"grape\",\"apple\",\"orange\",\"apple\",\"apple\",\"apple\",\"grape\",\"grape\",\"grape\",\"orange\"]\n",
    "print(list1)\n",
    "a = input(\"\\nEnter a string from the printed list: \")\n",
    "a1 = \"\"\n",
    "for i in a:\n",
    "    a1 = a1 + chr(ord(i)-32)\n",
    "#len1 = len(list1)\n",
    "#print(len1)\n",
    "counter = len(list1)\n",
    "i=-1;\n",
    "prev = list1[-1]\n",
    "while(counter>0):\n",
    "    current = list1[i]\n",
    "    if list1[i] == a:\n",
    "        prev = list1[i]\n",
    "        list1[i] = a1\n",
    "\n",
    "    if not (current == prev) and (prev==a):\n",
    "        break\n",
    "\n",
    "    i += -1\n",
    "    counter -= 1\n",
    "\n",
    "print(\"the updated list is: \\n\", list1)\n"
   ]
  },
  {
   "cell_type": "code",
   "execution_count": 60,
   "id": "abbf6f25",
   "metadata": {},
   "outputs": [
    {
     "name": "stdout",
     "output_type": "stream",
     "text": [
      "Enter a Number: 23.45\n",
      "The entered string consists only real numbers..!!\n"
     ]
    }
   ],
   "source": [
    "''' \n",
    "32. WAP to check given string contains numbers or not. \n",
    "    it should consider float numbers also.\n",
    "'''\n",
    "a = input(\"Enter a Number: \")\n",
    "count = 0\n",
    "for i in a:\n",
    "    if not ((i>=\"0\" and i<=\"9\") or i==\".\"):\n",
    "        print(\"The entered string consists other than real numbers also..!!\")\n",
    "        break\n",
    "else:\n",
    "    print(\"The entered string consists only real numbers..!!\")"
   ]
  },
  {
   "cell_type": "code",
   "execution_count": 41,
   "id": "f22dfcec",
   "metadata": {},
   "outputs": [
    {
     "name": "stdout",
     "output_type": "stream",
     "text": [
      "Enter a sentance: Hi hello How are you?\n",
      "hi hello how are you?\n"
     ]
    }
   ],
   "source": [
    "''' \n",
    "33. Convert the total string into lower case. Without using lower() function.\n",
    "'''\n",
    "a = input(\"Enter a sentance: \")\n",
    "newString = \"\"\n",
    "for i in a:\n",
    "    for j in i:\n",
    "        if not (j>=\"A\" and j<=\"Z\"):\n",
    "            newString = newString + j\n",
    "        else:\n",
    "            b = chr(ord(j)+32)\n",
    "            newString = newString + b\n",
    "        \n",
    "    \n",
    "\n",
    "print(newString)"
   ]
  },
  {
   "cell_type": "code",
   "execution_count": 42,
   "id": "5a9f7f04",
   "metadata": {},
   "outputs": [
    {
     "name": "stdout",
     "output_type": "stream",
     "text": [
      "Enter a sentance: Hi hello How are you?\n",
      "HI HELLO HOW ARE YOU?\n"
     ]
    }
   ],
   "source": [
    "''' \n",
    "34. Convert the total string in to upper case. Without using upper() function.\n",
    "'''\n",
    "a = input(\"Enter a sentance: \")\n",
    "newString = \"\"\n",
    "for i in a:\n",
    "    for j in i:\n",
    "        if not (j>=\"a\" and j<=\"z\"):\n",
    "            newString = newString + j\n",
    "        else:\n",
    "            b = chr(ord(j) - 32)\n",
    "            newString = newString + b\n",
    "        \n",
    "    \n",
    "\n",
    "print(newString)"
   ]
  },
  {
   "cell_type": "code",
   "execution_count": 63,
   "id": "006048c2",
   "metadata": {},
   "outputs": [
    {
     "name": "stdout",
     "output_type": "stream",
     "text": [
      "{'1': 'windows', '2': 'Linux', '3': 'Mac', '4': 'quit'}\n",
      "Enter an option from the printed list: 2\n",
      "You have selected Linux\n",
      "Enter an option from the printed list: 3\n",
      "You have selected Mac\n",
      "Enter an option from the printed list: 4\n",
      "You have selected to quit the program.\n"
     ]
    }
   ],
   "source": [
    "''' \n",
    "35. Show the below menu to the user until user select quit and \n",
    "display corresponding os message\n",
    "Menu:\n",
    "1. windows\n",
    "2. Linux\n",
    "3. Mac\n",
    "4. quit\n",
    "'''\n",
    "Dict1 = {\"1\":\"windows\",\"2\":\"Linux\",\"3\":\"Mac\",\"4\":\"quit\"}\n",
    "print(Dict1)\n",
    "a = input(\"Enter an option from the printed list: \")\n",
    "while True:\n",
    "    \n",
    "    if not a == \"4\":\n",
    "        print(f\"You have selected {Dict1[a]}\")\n",
    "        a = input(\"Enter an option from the printed list: \")\n",
    "    else:\n",
    "        print(f\"You have selected to {Dict1[a]} the program.\")\n",
    "        break\n",
    "\n",
    "    "
   ]
  },
  {
   "cell_type": "code",
   "execution_count": 64,
   "id": "4a6cb19d",
   "metadata": {},
   "outputs": [
    {
     "name": "stdout",
     "output_type": "stream",
     "text": [
      "Enter a string: hi hameer how are you???\n",
      "The entered string have no digits..!!\n"
     ]
    }
   ],
   "source": [
    "''' 36. take a string from the user and check contains at least one digit or not?\n",
    "'''\n",
    "a = input(\"Enter a string: \")\n",
    "for i in a:\n",
    "    if (i>=\"0\" and i<=\"9\"):\n",
    "        print(\"The entered string consists atleast one digit..!!\")\n",
    "        break\n",
    "else:\n",
    "    print(\"The entered string have no digits..!!\")"
   ]
  },
  {
   "cell_type": "code",
   "execution_count": 65,
   "id": "3df8c29c",
   "metadata": {},
   "outputs": [
    {
     "name": "stdout",
     "output_type": "stream",
     "text": [
      "Enter a string: 1313423sdf@!$$\n",
      "The entered string consists atleast one alphabet..!!\n"
     ]
    }
   ],
   "source": [
    "''' 37. take a string from the user and check contains at least one alphabets or not?\n",
    "'''\n",
    "a = input(\"Enter a string: \")\n",
    "for i in a:\n",
    "    if ((i>=\"a\" and i<=\"z\") or (i>=\"A\" and i<=\"Z\")):\n",
    "        print(\"The entered string consists atleast one alphabet..!!\")\n",
    "        break\n",
    "else:\n",
    "    print(\"The entered string have no alphabets..!!\")"
   ]
  },
  {
   "cell_type": "code",
   "execution_count": 68,
   "id": "861947b7",
   "metadata": {},
   "outputs": [
    {
     "name": "stdout",
     "output_type": "stream",
     "text": [
      "Enter a string: TFUFHVJHBkajsbdjkbadj///.,\n",
      "The entered string consists atleast one special char..!!\n"
     ]
    }
   ],
   "source": [
    "''' 38. take a string from the user and check contains at least one special chars or not?\n",
    "'''\n",
    "a = input(\"Enter a string: \")\n",
    "for i in a:\n",
    "    if not (((i>=\"a\" and i<=\"z\") or (i>=\"A\" and i<=\"Z\")) or (i>=\"0\" and i<=\"9\")):\n",
    "        print(\"The entered string consists atleast one special char..!!\")\n",
    "        break\n",
    "else:\n",
    "    print(\"The entered string have no special chars..!!\")"
   ]
  },
  {
   "cell_type": "code",
   "execution_count": 70,
   "id": "59948724",
   "metadata": {},
   "outputs": [
    {
     "name": "stdout",
     "output_type": "stream",
     "text": [
      "Enter a string: Hi Hello how are you\n",
      "The entered string consists atleast one capital letter..!!\n"
     ]
    }
   ],
   "source": [
    "''' 39. take a string from the user and check contains at least one capital letter or not?\n",
    "'''\n",
    "a = input(\"Enter a string: \")\n",
    "for i in a:\n",
    "    if (i>=\"A\" and i<=\"Z\"):\n",
    "        print(\"The entered string consists atleast one capital letter..!!\")\n",
    "        break\n",
    "else:\n",
    "    print(\"The entered string have no capital letters..!!\")"
   ]
  },
  {
   "cell_type": "code",
   "execution_count": 71,
   "id": "b29ed34a",
   "metadata": {},
   "outputs": [
    {
     "name": "stdout",
     "output_type": "stream",
     "text": [
      "Enter a string: Hi Hello how are you\n",
      "The entered string consists atleast one small letter..!!\n"
     ]
    }
   ],
   "source": [
    "''' 40. take a string from the user and check contains at least one small letter or not?\n",
    "'''\n",
    "a = input(\"Enter a string: \")\n",
    "for i in a:\n",
    "    if (i>=\"a\" and i<=\"b\"):\n",
    "        print(\"The entered string consists atleast one small letter..!!\")\n",
    "        break\n",
    "else:\n",
    "    print(\"The entered string have no small letters..!!\")"
   ]
  },
  {
   "cell_type": "code",
   "execution_count": 72,
   "id": "2267cbd8",
   "metadata": {},
   "outputs": [
    {
     "name": "stdout",
     "output_type": "stream",
     "text": [
      "The first 100 odd numbers are as follows: \n",
      "1\n",
      "3\n",
      "5\n",
      "7\n",
      "9\n",
      "11\n",
      "13\n",
      "15\n",
      "17\n",
      "19\n",
      "21\n",
      "23\n",
      "25\n",
      "27\n",
      "29\n",
      "31\n",
      "33\n",
      "35\n",
      "37\n",
      "39\n",
      "41\n",
      "43\n",
      "45\n",
      "47\n",
      "49\n",
      "51\n",
      "53\n",
      "55\n",
      "57\n",
      "59\n",
      "61\n",
      "63\n",
      "65\n",
      "67\n",
      "69\n",
      "71\n",
      "73\n",
      "75\n",
      "77\n",
      "79\n",
      "81\n",
      "83\n",
      "85\n",
      "87\n",
      "89\n",
      "91\n",
      "93\n",
      "95\n",
      "97\n",
      "99\n"
     ]
    }
   ],
   "source": [
    "\"\"\"41. Print the first 100 odd numbers\n",
    "\"\"\"\n",
    "print(\"The first 100 odd numbers are as follows: \")\n",
    "counter = 0\n",
    "while (counter<100):\n",
    "    counter += 1\n",
    "    if counter == 1:\n",
    "        print(counter)\n",
    "    else:\n",
    "        if counter%2 != 0:\n",
    "            print(counter)"
   ]
  },
  {
   "cell_type": "code",
   "execution_count": 74,
   "id": "47c4b343",
   "metadata": {},
   "outputs": [
    {
     "name": "stdout",
     "output_type": "stream",
     "text": [
      "Enter a number: 555\n",
      "The factors of the entered number are [1, 3, 5, 15, 37, 111, 185, 555]\n"
     ]
    }
   ],
   "source": [
    "\"\"\"42. Determine the factors of a number entered  by the user\n",
    "\"\"\"\n",
    "num = int(input(\"Enter a number: \"))\n",
    "factors = []\n",
    "for i in range(num):\n",
    "    i = i+1\n",
    "    if num%i == 0:\n",
    "        factors.append(i)\n",
    "print(f\"The factors of the entered number are {factors}\")"
   ]
  },
  {
   "cell_type": "code",
   "execution_count": 92,
   "id": "c7159d5f",
   "metadata": {},
   "outputs": [
    {
     "name": "stdout",
     "output_type": "stream",
     "text": [
      "enter number in the range [1, 100]:1\n",
      "Entered number is lower than guessed\n",
      "If you want to continue enter the next number otherwise press 'ENTER' 1\n",
      "Entered number is lower than guessed\n",
      "If you want to continue enter the next number otherwise press 'ENTER' 1\n",
      "Entered number is lower than guessed\n",
      "If you want to continue enter the next number otherwise press 'ENTER' 1\n",
      "Entered number is lower than guessed\n",
      "If you want to continue enter the next number otherwise press 'ENTER' 1\n",
      "Entered number is lower than guessed\n",
      "If you want to continue enter the next number otherwise press 'ENTER' 1\n",
      "Entered number is lower than guessed\n",
      "If you want to continue enter the next number otherwise press 'ENTER' 1\n",
      "Entered number is lower than guessed\n",
      "If you want to continue enter the next number otherwise press 'ENTER' 1\n",
      "Entered number is lower than guessed\n",
      "If you want to continue enter the next number otherwise press 'ENTER' 1\n",
      "Entered number is lower than guessed\n",
      "If you want to continue enter the next number otherwise press 'ENTER' 1\n",
      "Entered number is lower than guessed\n",
      "If you want to continue enter the next number otherwise press 'ENTER' 1\n",
      "Entered number is same as guessed\n",
      "YOU WON.....!!!!!\n"
     ]
    }
   ],
   "source": [
    "\"\"\"43. Play a number guessing game (User enters a guess, you print YES or Higher or Lower). \n",
    "This should continue until and until user gives a correct number or want to quit in the middle.\n",
    "\"\"\"\n",
    "import random\n",
    "number = int(input(\"enter number in the range [1, 100]:\"))\n",
    "while True:\n",
    "    random_number = random.randint(1,100)\n",
    "    if random_number < number:\n",
    "        print(\"Entered number is higher than guessed\")\n",
    "    elif random_number > number:\n",
    "        print(\"Entered number is lower than guessed\")\n",
    "    elif random_number == number:\n",
    "        print(\"Entered number is same as guessed\")\n",
    "        print(\"YOU WON.....!!!!!\")\n",
    "        break\n",
    "    number1 = input(\"If you want to continue enter the next number otherwise press 'ENTER' \")\n",
    "    if number1 == \"\":\n",
    "        print(\"YOU QUIT...!! MEANS YOU LOST.....!!!!!\")\n",
    "        break\n",
    "    number = int(number1)"
   ]
  },
  {
   "cell_type": "code",
   "execution_count": 95,
   "id": "0ea9c05d",
   "metadata": {},
   "outputs": [
    {
     "name": "stdout",
     "output_type": "stream",
     "text": [
      "Enter the first number: 2\n",
      "Enter the second number: 0\n",
      "'a' is not divisible by 'b'\n"
     ]
    }
   ],
   "source": [
    "\"\"\"44. Take two numbers from the user a,b check whether a is divisible by b or not?\n",
    "\"\"\"\n",
    "a = int(input(\"Enter the first number: \"))\n",
    "b = int(input(\"Enter the second number: \"))\n",
    "if b == 0:\n",
    "    print(\"'a' is not divisible by 'b'\")\n",
    "elif a%b == 0:\n",
    "    print(\"'a' is divisible by 'b'\")\n",
    "else:\n",
    "    print(\"'a' is not divisible by 'b'\")\n"
   ]
  },
  {
   "cell_type": "code",
   "execution_count": 96,
   "id": "8adc1432",
   "metadata": {},
   "outputs": [
    {
     "name": "stdout",
     "output_type": "stream",
     "text": [
      "The sum of the multiples of 3 or 5 below 1000 are 233168.\n"
     ]
    }
   ],
   "source": [
    "\"\"\"45. Find the sum of all the multiples of 3 or 5 below 1000\n",
    "\"\"\"\n",
    "sum1 = 0\n",
    "for i in range(1, 1000):\n",
    "    if (i%3 == 0) or (i%5 == 0):\n",
    "        sum1 += i\n",
    "\n",
    "print(f\"The sum of the multiples of 3 or 5 below 1000 are {sum1}.\")"
   ]
  },
  {
   "cell_type": "code",
   "execution_count": 97,
   "id": "b38a7267",
   "metadata": {},
   "outputs": [
    {
     "name": "stdout",
     "output_type": "stream",
     "text": [
      "Enter the first number: 0\n",
      "Enter the second number: 3\n",
      "3.0 is the bigger number than 0.0\n"
     ]
    }
   ],
   "source": [
    "\"\"\"46. Write a program to find out big of two numbers\n",
    "\"\"\"\n",
    "num1=float(input(\"Enter the first number: \"))\n",
    "num2=float(input(\"Enter the second number: \"))\n",
    "if num1 > num2:\n",
    "    print(f\"{num1} is the bigger number than {num2}\")\n",
    "elif num2>num1:\n",
    "    print(f\"{num2} is the bigger number than {num1}\")\n",
    "else:\n",
    "    print(\"The two numbers entered are same\")\n",
    "\n"
   ]
  },
  {
   "cell_type": "code",
   "execution_count": 98,
   "id": "a8e5e353",
   "metadata": {},
   "outputs": [
    {
     "name": "stdout",
     "output_type": "stream",
     "text": [
      "This is a programme to find the biggest number out of the entered numbers.\n",
      "Please, enter the first number: 3\n",
      "Enter the next number or 'PRESS ENTER' to find out the maximum number from the entered list: 4\n",
      "Enter the next number or 'PRESS ENTER' to find out the maximum number from the entered list: 4\n",
      "Enter the next number or 'PRESS ENTER' to find out the maximum number from the entered list: 5\n",
      "Enter the next number or 'PRESS ENTER' to find out the maximum number from the entered list: 2\n",
      "Enter the next number or 'PRESS ENTER' to find out the maximum number from the entered list: 7\n",
      "Enter the next number or 'PRESS ENTER' to find out the maximum number from the entered list: 8\n",
      "Enter the next number or 'PRESS ENTER' to find out the maximum number from the entered list: 3\n",
      "Enter the next number or 'PRESS ENTER' to find out the maximum number from the entered list: 5\n",
      "Enter the next number or 'PRESS ENTER' to find out the maximum number from the entered list: 2\n",
      "Enter the next number or 'PRESS ENTER' to find out the maximum number from the entered list: 7\n",
      "Enter the next number or 'PRESS ENTER' to find out the maximum number from the entered list: 9\n",
      "Enter the next number or 'PRESS ENTER' to find out the maximum number from the entered list: \n",
      "The entered numbers list is as follows: \n",
      " [3.0, 4.0, 4.0, 5.0, 2.0, 7.0, 8.0, 3.0, 5.0, 2.0, 7.0, 9.0]\n",
      "Maximum number out of the entered numbers is 9.0\n"
     ]
    }
   ],
   "source": [
    "\"\"\"47. Write a program to find out biggest number in the given numbers.\n",
    "\"\"\"\n",
    "print(\"This is a programme to find the biggest number out of the entered numbers.\")\n",
    "num1=float(input(\"Please, enter the first number: \"))\n",
    "list1 = [num1]\n",
    "while True:\n",
    "    num1=input(\"Enter the next number or 'PRESS ENTER' to find out the maximum number from the entered list: \")\n",
    "    if num1 == \"\":\n",
    "        break\n",
    "    else:\n",
    "        #list1.append(float(num1))\n",
    "        list1 = list1 + [float(num1)]\n",
    "\n",
    "print(\"The entered numbers list is as follows: \\n\", list1)\n",
    "print(f\"Maximum number out of the entered numbers is {max(list1)}\")\n"
   ]
  },
  {
   "cell_type": "code",
   "execution_count": 101,
   "id": "ecc110a3",
   "metadata": {},
   "outputs": [
    {
     "name": "stdout",
     "output_type": "stream",
     "text": [
      "['apple', 'orange', 'banana', 'mango', 'apple', 'grape', 'apple', 'orange', 'apple', 'apple', 'apple', 'grape', 'grape', 'grape', 'orange', 'mango']\n",
      "\n",
      "Enter a string from the printed list to find out its 3rd occurrence: citrus\n",
      "The entered string: 'citrus' is not available in the list..!!\n"
     ]
    }
   ],
   "source": [
    "''' 48. find out the index of third occurrence of given substring\n",
    "'''\n",
    "list1 = [\"apple\",\"orange\",\"banana\",\"mango\",\"apple\",\"grape\",\"apple\",\"orange\",\"apple\",\"apple\",\"apple\",\"grape\",\"grape\",\"grape\",\"orange\",\"mango\"]\n",
    "print(list1)\n",
    "a = input(\"\\nEnter a string from the printed list to find out its 3rd occurrence: \")\n",
    "counter = 0\n",
    "i= 0;\n",
    "while True:\n",
    "    if (i) == len(list1):\n",
    "        #print(i)\n",
    "        #print(counter)\n",
    "        if counter == 0:\n",
    "            print(f\"The entered string: '{a}' is not available in the list..!!\")\n",
    "        elif counter < 3 and counter > 0:\n",
    "            print(f\"The third occurrance of the entered string '{a}' is not available in the list..!!\")\n",
    "        break\n",
    "    elif list1[i] == a:\n",
    "        counter += 1\n",
    "        if counter == 3:\n",
    "            print(f\"The index of the third occurrence of '{a}' is {i}\")\n",
    "            print(f\"list[{i}] is {list1[i]}\")\n",
    "            break\n",
    "    i += 1\n",
    "    #print(i)\n"
   ]
  },
  {
   "cell_type": "code",
   "execution_count": 103,
   "id": "d1e84dbf",
   "metadata": {},
   "outputs": [
    {
     "name": "stdout",
     "output_type": "stream",
     "text": [
      "{'grape', 'orange', 'mango', 'apple', 'banana'}\n",
      "Enter the occurrence number you want:6\n",
      "\n",
      "Enter a string from the printed list to find out its occurrence number 6: grape\n",
      "The index of 6 occurrence of 'grape' is 33\n",
      "list[33] is grape\n"
     ]
    }
   ],
   "source": [
    "''' 49. find out the index nth occurrence of given substring\n",
    "'''\n",
    "list1 = [\"apple\",\"orange\",\"banana\",\"mango\",\"apple\",\"grape\",\"orange\",\"banana\",\"mango\",\"orange\",\"banana\",\"orange\",\"banana\",\"mango\",\"apple\",\"grape\",\"mango\",\"apple\",\"orange\",\"banana\",\"mango\",\"apple\",\"grape\",\"grape\",\"apple\",\"grape\",\"apple\",\"orange\",\"banana\",\"orange\",\"banana\",\"mango\",\"apple\",\"grape\",\"mango\",\"apple\",\"grape\",\"orange\",\"orange\",\"banana\",\"mango\",\"apple\",\"grape\",\"apple\",\"apple\",\"apple\",\"grape\",\"orange\",\"banana\",\"mango\",\"apple\",\"grape\",\"grape\",\"grape\",\"orange\",\"mango\"]\n",
    "set1 = set(list1)\n",
    "print(set1)\n",
    "n = int(input(\"Enter the occurrence number you want:\"))\n",
    "a = input(f\"\\nEnter a string from the printed list to find out its occurrence number {n}: \")\n",
    "counter = 0\n",
    "i= 0;\n",
    "while True:\n",
    "    if (i) == len(list1):\n",
    "        #print(i)\n",
    "        #print(counter)\n",
    "        if counter == 0:\n",
    "            print(f\"The entered string: '{a}' is not available in the list..!!\")\n",
    "        elif counter < n and counter > 0:\n",
    "            print(f\"The {n} occurrance of the entered string '{a}' is not available in the list..!!\")\n",
    "        break\n",
    "    elif list1[i] == a:\n",
    "        counter += 1\n",
    "        if counter == n:\n",
    "            print(f\"The index of {n} occurrence of '{a}' is {i}\")\n",
    "            print(f\"list[{i}] is {list1[i]}\")\n",
    "            break\n",
    "    i += 1\n",
    "    #print(i)\n"
   ]
  },
  {
   "cell_type": "code",
   "execution_count": 104,
   "id": "80644efc",
   "metadata": {},
   "outputs": [
    {
     "name": "stdout",
     "output_type": "stream",
     "text": [
      "{'grape', 'orange', 'mango', 'apple', 'banana'}\n",
      "{0: 'apple'}\n",
      "{1: 'orange'}\n",
      "{2: 'banana'}\n",
      "{3: 'mango'}\n",
      "{4: 'apple'}\n",
      "{5: 'grape'}\n",
      "{6: 'orange'}\n",
      "{7: 'banana'}\n",
      "{8: 'mango'}\n",
      "{9: 'orange'}\n",
      "{10: 'banana'}\n",
      "{11: 'orange'}\n",
      "{12: 'banana'}\n",
      "{13: 'mango'}\n",
      "{14: 'apple'}\n",
      "{15: 'grape'}\n",
      "{16: 'mango'}\n",
      "{17: 'apple'}\n",
      "{18: 'orange'}\n",
      "{19: 'banana'}\n",
      "{20: 'mango'}\n",
      "{21: 'apple'}\n",
      "{22: 'grape'}\n",
      "{23: 'grape'}\n",
      "{24: 'apple'}\n",
      "{25: 'grape'}\n",
      "{26: 'apple'}\n",
      "{27: 'orange'}\n",
      "{28: 'banana'}\n",
      "{29: 'orange'}\n",
      "{30: 'banana'}\n",
      "{31: 'mango'}\n",
      "{32: 'apple'}\n",
      "{33: 'grape'}\n",
      "{34: 'mango'}\n",
      "{35: 'apple'}\n",
      "{36: 'grape'}\n",
      "{37: 'orange'}\n",
      "{38: 'orange'}\n",
      "{39: 'banana'}\n",
      "{40: 'mango'}\n",
      "{41: 'apple'}\n",
      "{42: 'grape'}\n",
      "{43: 'apple'}\n",
      "{44: 'apple'}\n",
      "{45: 'apple'}\n",
      "{46: 'grape'}\n",
      "{47: 'orange'}\n",
      "{48: 'banana'}\n",
      "{49: 'mango'}\n",
      "{50: 'apple'}\n",
      "{51: 'grape'}\n",
      "{52: 'grape'}\n",
      "{53: 'grape'}\n",
      "{54: 'orange'}\n",
      "{55: 'mango'}\n"
     ]
    }
   ],
   "source": [
    "list1 = [\"apple\",\"orange\",\"banana\",\"mango\",\"apple\",\"grape\",\"orange\",\"banana\",\"mango\",\"orange\",\"banana\",\"orange\",\"banana\",\"mango\",\"apple\",\"grape\",\"mango\",\"apple\",\"orange\",\"banana\",\"mango\",\"apple\",\"grape\",\"grape\",\"apple\",\"grape\",\"apple\",\"orange\",\"banana\",\"orange\",\"banana\",\"mango\",\"apple\",\"grape\",\"mango\",\"apple\",\"grape\",\"orange\",\"orange\",\"banana\",\"mango\",\"apple\",\"grape\",\"apple\",\"apple\",\"apple\",\"grape\",\"orange\",\"banana\",\"mango\",\"apple\",\"grape\",\"grape\",\"grape\",\"orange\",\"mango\"]\n",
    "set1 = set(list1)\n",
    "print(set1)\n",
    "for i in range(len(list1)):\n",
    "    dict1 = {i : list1[i]}\n",
    "    print(dict1)"
   ]
  },
  {
   "cell_type": "code",
   "execution_count": 108,
   "id": "f98d7aa3",
   "metadata": {},
   "outputs": [
    {
     "name": "stdout",
     "output_type": "stream",
     "text": [
      "Enter a number or 'PRESS ENTER' if you are finished entering:1\n",
      "Enter a number or 'PRESS ENTER' if you are finished entering:2\n",
      "Enter a number or 'PRESS ENTER' if you are finished entering:11\n",
      "You have entered a number with more than one digit. Enter a single digit number.\n",
      "Enter a number or 'PRESS ENTER' if you are finished entering:22\n",
      "You have entered a number with more than one digit. Enter a single digit number.\n",
      "Enter a number or 'PRESS ENTER' if you are finished entering:\n",
      "Entered list is as follows: \n",
      "[1, 2]\n",
      "Number of elements entered is 2\n",
      "The minimum value entered is 1\n",
      "The maximum value entered is 2\n",
      "The sum of the entered values is 3\n",
      "The average value of the entered values is 1.5\n"
     ]
    }
   ],
   "source": [
    "''' 50. Take some single digit numbers from the user and findout min, maximum, sum, average\n",
    "'''\n",
    "list1 = []\n",
    "sum1 = 0\n",
    "while True:\n",
    "    num1 = input(\"Enter a number or 'PRESS ENTER' if you are finished entering:\")\n",
    "    if num1 == \"\":\n",
    "        break\n",
    "    elif len(num1)>1:\n",
    "        print(\"You have entered a number with more than one digit. Enter a single digit number.\")\n",
    "    else:\n",
    "        list1.append(int(num1))\n",
    "        sum1 += int(num1)\n",
    "print(f\"Entered list is as follows: \\n{list1}\")\n",
    "print(f\"Number of elements entered is {len(list1)}\")\n",
    "print(f\"The minimum value entered is {min(list1)}\")\n",
    "print(f\"The maximum value entered is {max(list1)}\")\n",
    "print(f\"The sum of the entered values is {sum1}\")\n",
    "print(f\"The average value of the entered values is {round(sum1/len(list1), 2)}\")"
   ]
  },
  {
   "cell_type": "code",
   "execution_count": 129,
   "id": "7b535dc8",
   "metadata": {},
   "outputs": [
    {
     "name": "stdout",
     "output_type": "stream",
     "text": [
      "Enter a number: 10\n",
      "The entered number is: 000010\n"
     ]
    }
   ],
   "source": [
    "''' 51. print the number in proper mathematical Number format considering 6 digits.\n",
    "             WAP> 10 -> 000010\n",
    "             100 ->  000100\n",
    "             1000 ->  001000\n",
    "             2345678  ->  2345678\n",
    "    if the number has more than six digits print as it is.\n",
    "'''\n",
    "num1 = input(\"Enter a number: \")\n",
    "#num = \"000000\"\n",
    "l = len(num1)\n",
    "if l>5:\n",
    "    print(\"The entered number is:\",num1)\n",
    "else:\n",
    "    num = str(num1)\n",
    "    for i in range(6-l):\n",
    "        num =\"0\" + num\n",
    "    print(\"The entered number is:\",num)"
   ]
  },
  {
   "cell_type": "code",
   "execution_count": 127,
   "id": "94d3b426",
   "metadata": {},
   "outputs": [
    {
     "name": "stdout",
     "output_type": "stream",
     "text": [
      "emp1\n",
      "emp2\n",
      "emp3\n",
      "emp4\n"
     ]
    }
   ],
   "source": [
    "''' 52. names  =\"emp1,emp2,emp3,emp4\" iterate through the employee names.\n",
    "'''\n",
    "names  =\"emp1,emp2,emp3,emp4\"\n",
    "names1 = names.split(\",\") \n",
    "for i in names1:\n",
    "    print(i)"
   ]
  },
  {
   "cell_type": "code",
   "execution_count": 124,
   "id": "53a71534",
   "metadata": {},
   "outputs": [
    {
     "data": {
      "text/plain": [
       "' 53. Take actual string, source string, destination string. \\n    replce first nth occurrences of source string with destination string of actual string.\\n'"
      ]
     },
     "execution_count": 124,
     "metadata": {},
     "output_type": "execute_result"
    }
   ],
   "source": [
    "''' 53. Take actual string, source string, destination string. \n",
    "    replce first nth occurrences of source string with destination string of actual string.\n",
    "'''\n",
    "\n",
    "\n",
    "\n",
    "\n",
    "\n",
    "\n",
    "\n",
    "\n",
    "\n"
   ]
  },
  {
   "cell_type": "code",
   "execution_count": 158,
   "id": "71d4e686",
   "metadata": {},
   "outputs": [
    {
     "name": "stdout",
     "output_type": "stream",
     "text": [
      "Enter 1st number: 2.3\n",
      "Enter 2nd number: 4.5\n",
      "Enter \n",
      "\t1 for addition\n",
      "\t2 for multiplication\n",
      "\t3 for division\n",
      "\t4 for square root\n",
      "\t5 for power\n",
      "\t6 for subtraction\n",
      "Enter an option form the above menu: 4\n",
      "The square root of 2.3 is: 1.51657508881031\n",
      "The square root of 4.5 is: 2.1213203435596424\n"
     ]
    }
   ],
   "source": [
    "''' 54. Take two numbers from the user and do below menu driven operations\n",
    "    1. addition\n",
    "    2. multiples\n",
    "    3.division\n",
    "    4.sqrt\n",
    "    5. pow    a**b\n",
    "    6.subtraction\n",
    "    After selection do the corresponding operation.\n",
    "Note: user may give int, or float numbers. You should check whether it is proper digits or not. \n",
    "    I.e the user given string should be in the position to convert to float. \n",
    "    Otherwise show the “inproper string given” Error.\n",
    "'''\n",
    "a = input(\"Enter 1st number: \")\n",
    "b = input(\"Enter 2nd number: \")\n",
    "if type(float(a)) is not float:\n",
    "    print(float(a))\n",
    "    print(\"improper string given in first number\")\n",
    "elif type(float(b)) is not float:\n",
    "    print(\"improper string given in second number\") \n",
    "else:\n",
    "    print(f\"Enter \\n\\t1 for addition\\n\\t2 for multiplication\\n\\t3 for division\\n\\t4 for square root\\n\\t5 for power\\n\\t6 for subtraction\")\n",
    "    opr = input(\"Enter an option form the above menu: \")\n",
    "    a = float(a)\n",
    "    b = float(b)\n",
    "    if opr == \"1\":\n",
    "        res = a + b\n",
    "        print(\"The result is: \", res)\n",
    "    elif opr == \"2\":\n",
    "        res = a * b\n",
    "        print(\"The result is: \", res)\n",
    "    elif opr == \"3\":\n",
    "        if b!=0:\n",
    "            res = a / b\n",
    "            print(\"The result is: \", res)\n",
    "        else: \n",
    "            print(\"Second number is ZERO. ZeroDivision Error!!!\")\n",
    "    elif opr == \"4\":\n",
    "        res = a ** (1/2)\n",
    "        print(f\"The square root of {a} is: {res}\")\n",
    "        res = b ** (1/2)\n",
    "        print(f\"The square root of {b} is: {res}\")\n",
    "    elif opr == \"5\":\n",
    "        res = a ** b\n",
    "        print(\"The result is: \", res)\n",
    "    elif opr == \"6\":\n",
    "        res = a - b\n",
    "        print(\"The result is: \", res)\n",
    "    else:\n",
    "        print(\"Appropriate operation is not selected.....!!!!\")"
   ]
  },
  {
   "cell_type": "code",
   "execution_count": 160,
   "id": "618abec2",
   "metadata": {},
   "outputs": [
    {
     "name": "stdout",
     "output_type": "stream",
     "text": [
      "2.3\n",
      "2.3 <class 'float'>\n"
     ]
    },
    {
     "data": {
      "text/plain": [
       "False"
      ]
     },
     "execution_count": 160,
     "metadata": {},
     "output_type": "execute_result"
    }
   ],
   "source": [
    "print(a)\n",
    "print(float(a),type(float(a)))\n",
    "float(a) is float"
   ]
  },
  {
   "cell_type": "code",
   "execution_count": 161,
   "id": "2807624e",
   "metadata": {},
   "outputs": [
    {
     "data": {
      "text/plain": [
       "True"
      ]
     },
     "execution_count": 161,
     "metadata": {},
     "output_type": "execute_result"
    }
   ],
   "source": [
    "False or True"
   ]
  },
  {
   "cell_type": "code",
   "execution_count": 162,
   "id": "6ca44e0c",
   "metadata": {},
   "outputs": [
    {
     "data": {
      "text/plain": [
       "False"
      ]
     },
     "execution_count": 162,
     "metadata": {},
     "output_type": "execute_result"
    }
   ],
   "source": [
    "not (True or False)"
   ]
  },
  {
   "cell_type": "code",
   "execution_count": 136,
   "id": "e39d06fa",
   "metadata": {},
   "outputs": [
    {
     "data": {
      "text/plain": [
       "False"
      ]
     },
     "execution_count": 136,
     "metadata": {},
     "output_type": "execute_result"
    }
   ],
   "source": [
    "not (not True or not False)"
   ]
  },
  {
   "cell_type": "code",
   "execution_count": 137,
   "id": "a35f54cf",
   "metadata": {},
   "outputs": [
    {
     "data": {
      "text/plain": [
       "True"
      ]
     },
     "execution_count": 137,
     "metadata": {},
     "output_type": "execute_result"
    }
   ],
   "source": [
    "not (not True and not False)"
   ]
  },
  {
   "cell_type": "code",
   "execution_count": 163,
   "id": "caef1118",
   "metadata": {},
   "outputs": [
    {
     "name": "stdout",
     "output_type": "stream",
     "text": [
      "Enter the first number:3\n",
      "Enter the next number or 'PRESS ENTER' if you are finished entering:2\n",
      "Enter the next number or 'PRESS ENTER' if you are finished entering:5\n",
      "Enter the next number or 'PRESS ENTER' if you are finished entering:6\n",
      "Enter the next number or 'PRESS ENTER' if you are finished entering:21\n",
      "Enter the next number or 'PRESS ENTER' if you are finished entering:1\n",
      "Enter the next number or 'PRESS ENTER' if you are finished entering:3\n",
      "Enter the next number or 'PRESS ENTER' if you are finished entering:45\n",
      "Enter the next number or 'PRESS ENTER' if you are finished entering:\n",
      "Entered list is as follows: \n",
      "[3, 2, 5, 6, 21, 1, 3, 45]\n",
      "Number of elements entered is 8\n",
      "The minimum value entered is 1\n",
      "The maximum value entered is 45\n",
      "The sum of the entered values is 86\n",
      "The average value of the entered values is 10.75\n"
     ]
    }
   ],
   "source": [
    "''' 55. Take numbers from the user and find out min, maximum, sum, average\n",
    "'''\n",
    "num1 = int(input(\"Enter the first number:\"))\n",
    "list1 = [num1]\n",
    "sum1 = num1\n",
    "while True:\n",
    "    num1 = input(\"Enter the next number or 'PRESS ENTER' if you are finished entering:\")\n",
    "    if num1 == \"\":\n",
    "        break\n",
    "    else:\n",
    "        list1.append(int(num1))\n",
    "        sum1 += int(num1)\n",
    "\n",
    "\n",
    "print(f\"Entered list is as follows: \\n{list1}\")\n",
    "print(f\"Number of elements entered is {len(list1)}\")\n",
    "print(f\"The minimum value entered is {min(list1)}\")\n",
    "print(f\"The maximum value entered is {max(list1)}\")\n",
    "print(f\"The sum of the entered values is {sum1}\")\n",
    "print(f\"The average value of the entered values is {round(sum1/len(list1), 2)}\")\n"
   ]
  },
  {
   "cell_type": "code",
   "execution_count": 196,
   "id": "954e8b86",
   "metadata": {},
   "outputs": [
    {
     "name": "stdout",
     "output_type": "stream",
     "text": [
      "Number of 'EVEN' numbers are: 11\n",
      "Number of 'ODD' numbers are: 12\n",
      "Number of 'POSITIVE' numbers are: 18\n",
      "Number of 'NEGATIVE' numbers are: 5\n",
      "Number of 'PRIME' numbers are: 8\n",
      "[1, 2, 3, 5, 7, -11, 13, -23]\n",
      "Number of 'ARMSTRONG' numbers are: 2\n",
      "[1, 153]\n",
      "Number of 'PALINDROME' numbers are: 11\n",
      "['1', '2', '3', '5', '7', '8', '9', '11', '22', '22', '4']\n"
     ]
    }
   ],
   "source": [
    "''' 56. l=[1,2,3,5,7,-8,9,10,-11,12,13,20,-22,-23,-24,25,26,27,20,21,22,4,153] \n",
    "    find out how many even numbers are there and \n",
    "    how many odd numbers are there and \n",
    "    how many positive numbers are there and \n",
    "    how many negative numbers are there and \n",
    "    how many prime numbers are there and \n",
    "    how many perfect numbers are there and \n",
    "    how many Armstrong numbers are there and \n",
    "    how many palindrome numbers are there.\n",
    "'''\n",
    "l=[1,2,3,5,7,-8,9,10,-11,12,13,20,-22,-23,-24,25,26,27,20,21,22,4,153] \n",
    "c_even = 0\n",
    "c_odd = 0\n",
    "c_positive = 0\n",
    "c_negative = 0\n",
    "c_prime = 0\n",
    "c_armstrong = 0\n",
    "c_palindrome = 0\n",
    "for i in l:\n",
    "    if i % 2 == 0:\n",
    "        c_even += 1\n",
    "    else: \n",
    "        c_odd += 1\n",
    "    if i >= 0:\n",
    "        c_positive += 1\n",
    "    else:\n",
    "        c_negative += 1\n",
    "print(f\"Number of 'EVEN' numbers are: {c_even}\")\n",
    "print(f\"Number of 'ODD' numbers are: {c_odd}\")\n",
    "print(f\"Number of 'POSITIVE' numbers are: {c_positive}\")\n",
    "print(f\"Number of 'NEGATIVE' numbers are: {c_negative}\")\n",
    "#[1,2,3,5,7,-8,9,10,-11,12,13,20,-22,-23,-24,25,26,27,20,21,22,4] \n",
    "prime_list = []\n",
    "for i in l:\n",
    "    if i in [1, 2]:\n",
    "        c_prime += 1\n",
    "        prime_list = prime_list + [i]\n",
    "    else: \n",
    "        for j in range(2,abs(i)):\n",
    "            #print(\"j=\",j)\n",
    "            #print(\"i=\", i, \"j=\", j, i%j)\n",
    "            if i % j == 0:\n",
    "                #print(\"i=\", i, \"j=\", j, i%j)\n",
    "                break\n",
    "        else:\n",
    "            c_prime += 1\n",
    "            prime_list = prime_list + [i]\n",
    "        #print(c_prime)\n",
    "    #for j in i\n",
    "print(f\"Number of 'PRIME' numbers are: {c_prime}\")\n",
    "print(prime_list)\n",
    "arm_list = []\n",
    "for i in l:\n",
    "    cub = 0\n",
    "    for j in str(abs(i)):\n",
    "        cub += int(j) ** 3\n",
    "    if cub == i:\n",
    "        c_armstrong += 1\n",
    "        arm_list = arm_list +[i]\n",
    "print(f\"Number of 'ARMSTRONG' numbers are: {c_armstrong}\")\n",
    "print(arm_list)\n",
    "palim_list = []\n",
    "for i in l:\n",
    "    i = str(abs(i))\n",
    "    k = \"\"\n",
    "    for j in i:\n",
    "        k = j + k\n",
    "    #print(\"k=\", k)\n",
    "    if i == k:\n",
    "        c_palindrome += 1\n",
    "        palim_list = palim_list + [i]\n",
    "print(f\"Number of 'PALINDROME' numbers are: {c_palindrome}\")\n",
    "print(palim_list)\n"
   ]
  },
  {
   "cell_type": "code",
   "execution_count": 199,
   "id": "0f1a004b",
   "metadata": {},
   "outputs": [
    {
     "name": "stdout",
     "output_type": "stream",
     "text": [
      "Enter a string: aA1!\n",
      "Number of 'DIGITS' numbers are: 1\n",
      "Number of 'SPECIAL SYMBOLS' numbers are: 1\n",
      "Number of 'SMALL LETTERS' numbers are: 1\n",
      "Number of 'CAPS LETTERS' numbers are: 1\n"
     ]
    }
   ],
   "source": [
    "''' 57. Take a string from the user and find out \n",
    "    how many digits are there, \n",
    "    how many special symbols are there, \n",
    "    how many small letters are there, \n",
    "    how many caps are there.\n",
    "'''\n",
    "l=input(\"Enter a string: \") \n",
    "c_digits = 0\n",
    "c_special = 0\n",
    "c_small = 0\n",
    "c_caps = 0\n",
    "C_alphabet_range = range(ord(\"A\"), ord(\"Z\")+1)\n",
    "S_alphabet_range = range(ord(\"a\"), ord(\"z\")+1)\n",
    "digit_range = range(ord(\"0\"), ord(\"9\")+1)\n",
    "for i in l:\n",
    "    i = ord(i)\n",
    "    if i in digit_range:\n",
    "        c_digits += 1\n",
    "    elif i in S_alphabet_range:\n",
    "        c_small += 1\n",
    "    elif i in C_alphabet_range:\n",
    "        c_caps += 1\n",
    "    else: \n",
    "        c_special += 1\n",
    "print(f\"Number of 'DIGITS' numbers are: {c_digits}\")\n",
    "print(f\"Number of 'SPECIAL SYMBOLS' numbers are: {c_special}\")\n",
    "print(f\"Number of 'SMALL LETTERS' numbers are: {c_small}\")\n",
    "print(f\"Number of 'CAPS LETTERS' numbers are: {c_caps}\")"
   ]
  },
  {
   "cell_type": "code",
   "execution_count": 202,
   "id": "610f3143",
   "metadata": {},
   "outputs": [
    {
     "name": "stdout",
     "output_type": "stream",
     "text": [
      "Enter a string: aaabbbxxxcccdddjjjeeeooossskkkdddllleehhsssnnaa\n",
      "What character count you want? Please enter it: d\n",
      "The number of occurances of d are 6\n"
     ]
    }
   ],
   "source": [
    "''' 58. Take a char from the user and \n",
    "    find out how many number of occurrences are there in given string\n",
    "'''\n",
    "s = input(\"Enter a string: \") \n",
    "c = input(\"What character count you want? Please enter it: \")\n",
    "count1 = 0\n",
    "for i in s:\n",
    "    if i == c:\n",
    "        count1 += 1\n",
    "print(f\"The number of occurances of {c} are {count1}\")"
   ]
  },
  {
   "cell_type": "code",
   "execution_count": 209,
   "id": "af364526",
   "metadata": {},
   "outputs": [
    {
     "name": "stdout",
     "output_type": "stream",
     "text": [
      "select an element from the following set : \n",
      "{'grape', 'orange', 'mango', 'apple', 'banana'}\n",
      "Enter the selected element: grape\n",
      "The number of occurances of the element grape is 12\n"
     ]
    }
   ],
   "source": [
    "''' 59. Take a element from the user and \n",
    "    find out how many times the  element occurred in given list\n",
    "'''\n",
    "list1 = [\"apple\",\"orange\",\"banana\",\"mango\",\"apple\",\"grape\",\"orange\",\"banana\",\"mango\",\"orange\",\"banana\",\"orange\",\"banana\",\"mango\",\"apple\",\"grape\",\"mango\",\"apple\",\"orange\",\"banana\",\"mango\",\"apple\",\"grape\",\"grape\",\"apple\",\"grape\",\"apple\",\"orange\",\"banana\",\"orange\",\"banana\",\"mango\",\"apple\",\"grape\",\"mango\",\"apple\",\"grape\",\"orange\",\"orange\",\"banana\",\"mango\",\"apple\",\"grape\",\"apple\",\"apple\",\"apple\",\"grape\",\"orange\",\"banana\",\"mango\",\"apple\",\"grape\",\"grape\",\"grape\",\"orange\",\"mango\"]\n",
    "set1 = set(list1)\n",
    "print(f\"select an element from the following set : \\n{set1}\")\n",
    "s = input(\"Enter the selected element: \")\n",
    "count1 = 0\n",
    "for i in list1:\n",
    "    if s == i:\n",
    "        count1 += 1\n",
    "print(f\"The number of occurances of the element {s} is {count1}\")"
   ]
  },
  {
   "cell_type": "code",
   "execution_count": 216,
   "id": "0f050902",
   "metadata": {},
   "outputs": [
    {
     "name": "stdout",
     "output_type": "stream",
     "text": [
      "select an element from the following set : \n",
      "{0, 1, 2, 3, 4, 5, 6, 324, 8, 9, 67, 34, 7, 78, 87, 56, 57}\n",
      "Enter the selected element: 6\n",
      "The number of occurances of the element 6 is 7\n"
     ]
    }
   ],
   "source": [
    "''' 60. Take an element from the user and \n",
    "    find out how many number of occurrences are there in given tuple\n",
    "    '''\n",
    "#tuple1 = (\"apple\",\"orange\",\"banana\",\"mango\",\"apple\",\"grape\",\"orange\",\"banana\",\"mango\",\"orange\",\"banana\",\"orange\",\"banana\",\"mango\",\"apple\",\"grape\",\"mango\",\"apple\",\"orange\",\"banana\",\"mango\",\"apple\",\"grape\",\"grape\",\"apple\",\"grape\",\"apple\",\"orange\",\"banana\",\"orange\",\"banana\",\"mango\",\"apple\",\"grape\",\"mango\",\"apple\",\"grape\",\"orange\",\"orange\",\"banana\",\"mango\",\"apple\",\"grape\",\"apple\",\"apple\",\"apple\",\"grape\",\"orange\",\"banana\",\"mango\",\"apple\",\"grape\",\"grape\",\"grape\",\"orange\",\"mango\")\n",
    "tuple1 = (1,2,3,2,3,5,2,4,5,6,3,5,6,5,87,8,5,6,324,5,6,57,8,78,9,56,67,9,34,2,6,78,9,0,1,2,3,4,4,5,6,6,7,8,8,9,9)\n",
    "set1 = set(tuple1)\n",
    "print(f\"select an element from the following set : \\n{set1}\")\n",
    "s = input(\"Enter the selected element: \")\n",
    "count1 = 0\n",
    "for i in tuple1:\n",
    "    if int(s) == i:\n",
    "        count1 += 1\n",
    "print(f\"The number of occurances of the element {s} is {count1}\")"
   ]
  },
  {
   "cell_type": "code",
   "execution_count": 302,
   "id": "a3043ad0",
   "metadata": {},
   "outputs": [
    {
     "name": "stdout",
     "output_type": "stream",
     "text": [
      "Enter a string: 12345&^&asdfg*&12\n",
      "The original string is: 12345&^&asdfg*&12\n",
      "The reversed string is: 21gfd&^&sa543*&21\n"
     ]
    }
   ],
   "source": [
    "''' 61. Reverse the string without effecting the special symbols. \n",
    "    It involves three variations. Write code for three variations.\n",
    "'''\n",
    "s = input(\"Enter a string: \")\n",
    "#s = \"12345&^&asdfg*&12\"\n",
    "n = len(s)\n",
    "i = 0\n",
    "j = n-1\n",
    "a = list(s)\n",
    "while i < j:\n",
    "    if (not (\"A\" <= a[i] <= \"Z\") and not (\"a\" <= a[i] <= \"z\")) and not (\"0\" <= a[i] <= \"9\"):\n",
    "        i += 1\n",
    "    elif (not (\"A\" <= a[j] <= \"Z\") and not (\"a\" <= a[j] <= \"z\")) and not (\"0\" <= a[j] <= \"9\"):\n",
    "        j -= 1\n",
    "    else:\n",
    "        temp = a[j]\n",
    "        a[j] = a[i]\n",
    "        a[i] = temp\n",
    "        i += 1\n",
    "        j -= 1\n",
    "new = \"\"\n",
    "for i in range(n):\n",
    "    new = new + str(a[i])\n",
    "print(f\"The original string is: {s}\")\n",
    "print(f\"The reversed string is: {new}\")\n",
    "#print(a)"
   ]
  },
  {
   "cell_type": "code",
   "execution_count": 35,
   "id": "b7f9cddf",
   "metadata": {},
   "outputs": [
    {
     "name": "stdout",
     "output_type": "stream",
     "text": [
      "Enter a string: abc123,#$45def6%$^789$%^dkj123&^^\n",
      "The original string is: abc123,#$45def6%$^789$%^dkj123&^^\n",
      "The reversed string is: &^^321jkd$%^987%$^6fed54,#$321cba\n"
     ]
    }
   ],
   "source": [
    "''' 62. Input: abc123,#$45def6%$^789$%^ \n",
    "        output: $%^987%$^6fed54,#$321cba\n",
    "'''\n",
    "s = input(\"Enter a string: \")\n",
    "#s = \"abc123,#$45def6%$^789$%^\"\n",
    "sub = \"\"\n",
    "sub1 = \"\"\n",
    "res = \"\"\n",
    "for i in s:\n",
    "    if (not (\"A\" <= i <= \"Z\") and not (\"a\" <= i <= \"z\")) and not (\"0\" <= i <= \"9\"):\n",
    "        res = sub[::-1] + res\n",
    "        sub1 = sub1 + i\n",
    "        sub = \"\"\n",
    "    else: \n",
    "        res = sub1[::1] + res\n",
    "        sub = sub + i\n",
    "        sub1 = \"\"\n",
    "res = sub1[::1] + sub[::-1] + res\n",
    "print(f\"The original string is: {s}\")\n",
    "print(f\"The reversed string is: {res}\")\n"
   ]
  },
  {
   "cell_type": "code",
   "execution_count": 36,
   "id": "fcefbfe6",
   "metadata": {},
   "outputs": [
    {
     "name": "stdout",
     "output_type": "stream",
     "text": [
      "(FIRST CODE) The original string is: abc123,#$45def6%$^789$%^\n",
      "(FIRST CODE) The reversed string is: $%^987%$^6fed54,#$321cba\n",
      "The original string is: abc123,#$45def6%$^789$%^\n",
      "The reversed string is: 9876fe,#$d54321%$^cba$%^\n"
     ]
    }
   ],
   "source": [
    "''' 63. Input: abc123,#$45def6%$^789$%^, \n",
    "        output: 9876fe,#$d54321%$^cba$%^\n",
    "'''\n",
    "#s = input(\"Enter a string: \")\n",
    "s = \"abc123,#$45def6%$^789$%^\"\n",
    "sub = \"\"\n",
    "sub1 = \"\"\n",
    "res = \"\"\n",
    "for i in s:\n",
    "    if (not (\"A\" <= i <= \"Z\") and not (\"a\" <= i <= \"z\")) and not (\"0\" <= i <= \"9\"):\n",
    "        res = sub[::-1] + res  \n",
    "        sub1 = sub1 + i\n",
    "        sub = \"\"\n",
    "    else: \n",
    "        res = sub1[::1] + res\n",
    "        sub = sub + i\n",
    "        sub1 = \"\"\n",
    "res = sub1[::1] + sub[::-1] + res \n",
    "print(f\"(FIRST CODE) The original string is: {s}\")\n",
    "print(f\"(FIRST CODE) The reversed string is: {res}\")\n",
    "\n",
    "\n",
    "#s = input(\"Enter a string: \")\n",
    "s = \"abc123,#$45def6%$^789$%^\"\n",
    "n = len(s)\n",
    "i = 0\n",
    "j = n-1\n",
    "a = list(s)\n",
    "while i < j:\n",
    "    if (not (\"A\" <= a[i] <= \"Z\") and not (\"a\" <= a[i] <= \"z\")) and not (\"0\" <= a[i] <= \"9\"):\n",
    "        i += 1\n",
    "    elif (not (\"A\" <= a[j] <= \"Z\") and not (\"a\" <= a[j] <= \"z\")) and not (\"0\" <= a[j] <= \"9\"):\n",
    "        j -= 1\n",
    "    else:\n",
    "        temp = a[j]\n",
    "        a[j] = a[i]\n",
    "        a[i] = temp\n",
    "        i += 1\n",
    "        j -= 1\n",
    "new = \"\"\n",
    "for i in range(n):\n",
    "    new = new + str(a[i])\n",
    "print(f\"The original string is: {s}\")\n",
    "print(f\"The reversed string is: {new}\")\n",
    "#print(a)"
   ]
  },
  {
   "cell_type": "code",
   "execution_count": 7,
   "id": "fc31ddb8",
   "metadata": {},
   "outputs": [
    {
     "name": "stdout",
     "output_type": "stream",
     "text": [
      "Enter a string: 123,#$456%$^789$%^asdd*&Tasdj\n",
      "The original string is: 123,#$456%$^789$%^asdd*&Tasdj\n",
      "The reversed string is: 321,#$654%$^987$%^ddsa*&jdsaT\n"
     ]
    }
   ],
   "source": [
    "''' 64. Input: \"123,#$456%$^789$%^\", \n",
    "        Output: 321,#$654%$^987$%^\n",
    "'''\n",
    "s = input(\"Enter a string: \")\n",
    "sub = \"\"\n",
    "res = \"\"\n",
    "for i in s:\n",
    "    if (not (\"A\" <= i <= \"Z\") and not (\"a\" <= i <= \"z\")) and not (\"0\" <= i <= \"9\"):\n",
    "        res = res + sub[::-1] + i\n",
    "        sub = \"\"\n",
    "    else: \n",
    "        sub = sub + i\n",
    "res = res + sub[::-1]\n",
    "print(f\"The original string is: {s}\")\n",
    "print(f\"The reversed string is: {res}\")\n"
   ]
  },
  {
   "cell_type": "code",
   "execution_count": null,
   "id": "a3a50e2e",
   "metadata": {},
   "outputs": [],
   "source": []
  },
  {
   "cell_type": "code",
   "execution_count": null,
   "id": "bad01a52",
   "metadata": {},
   "outputs": [],
   "source": []
  }
 ],
 "metadata": {
  "kernelspec": {
   "display_name": "Python 3",
   "language": "python",
   "name": "python3"
  },
  "language_info": {
   "codemirror_mode": {
    "name": "ipython",
    "version": 3
   },
   "file_extension": ".py",
   "mimetype": "text/x-python",
   "name": "python",
   "nbconvert_exporter": "python",
   "pygments_lexer": "ipython3",
   "version": "3.8.8"
  }
 },
 "nbformat": 4,
 "nbformat_minor": 5
}
